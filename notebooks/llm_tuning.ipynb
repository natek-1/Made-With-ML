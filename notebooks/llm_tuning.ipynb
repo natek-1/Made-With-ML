{
 "cells": [
  {
   "cell_type": "code",
   "execution_count": 1,
   "id": "3e07dcf9",
   "metadata": {},
   "outputs": [],
   "source": [
    "import ray"
   ]
  },
  {
   "cell_type": "code",
   "execution_count": 2,
   "id": "ad6913f4",
   "metadata": {},
   "outputs": [
    {
     "name": "stderr",
     "output_type": "stream",
     "text": [
      "2025-09-14 15:05:03,559\tINFO worker.py:1843 -- Started a local Ray instance. View the dashboard at \u001b[1m\u001b[32m127.0.0.1:8265 \u001b[39m\u001b[22m\n"
     ]
    },
    {
     "data": {
      "application/vnd.jupyter.widget-view+json": {
       "model_id": "593063c079524af3a0f7dbf6183cc6a0",
       "version_major": 2,
       "version_minor": 0
      },
      "text/html": [
       "<div class=\"lm-Widget p-Widget lm-Panel p-Panel jp-Cell-outputWrapper\">\n",
       "    <div style=\"margin-left: 50px;display: flex;flex-direction: row;align-items: center\">\n",
       "        <div class=\"jp-RenderedHTMLCommon\" style=\"display: flex; flex-direction: row;\">\n",
       "  <svg viewBox=\"0 0 567 224\" fill=\"none\" xmlns=\"http://www.w3.org/2000/svg\" style=\"height: 3em;\">\n",
       "    <g clip-path=\"url(#clip0_4338_178347)\">\n",
       "        <path d=\"M341.29 165.561H355.29L330.13 129.051C345.63 123.991 354.21 112.051 354.21 94.2307C354.21 71.3707 338.72 58.1807 311.88 58.1807H271V165.561H283.27V131.661H311.8C314.25 131.661 316.71 131.501 319.01 131.351L341.25 165.561H341.29ZM283.29 119.851V70.0007H311.82C331.3 70.0007 342.34 78.2907 342.34 94.5507C342.34 111.271 331.34 119.861 311.82 119.861L283.29 119.851ZM451.4 138.411L463.4 165.561H476.74L428.74 58.1807H416L367.83 165.561H380.83L392.83 138.411H451.4ZM446.19 126.601H398L422 72.1407L446.24 126.601H446.19ZM526.11 128.741L566.91 58.1807H554.35L519.99 114.181L485.17 58.1807H472.44L514.01 129.181V165.541H526.13V128.741H526.11Z\" fill=\"var(--jp-ui-font-color0)\"/>\n",
       "        <path d=\"M82.35 104.44C84.0187 97.8827 87.8248 92.0678 93.1671 87.9146C98.5094 83.7614 105.083 81.5067 111.85 81.5067C118.617 81.5067 125.191 83.7614 130.533 87.9146C135.875 92.0678 139.681 97.8827 141.35 104.44H163.75C164.476 101.562 165.622 98.8057 167.15 96.2605L127.45 56.5605C121.071 60.3522 113.526 61.6823 106.235 60.3005C98.9443 58.9187 92.4094 54.9203 87.8602 49.0574C83.3109 43.1946 81.0609 35.8714 81.5332 28.4656C82.0056 21.0599 85.1679 14.0819 90.4252 8.8446C95.6824 3.60726 102.672 0.471508 110.08 0.0272655C117.487 -0.416977 124.802 1.86091 130.647 6.4324C136.493 11.0039 140.467 17.5539 141.821 24.8501C143.175 32.1463 141.816 39.6859 138 46.0505L177.69 85.7505C182.31 82.9877 187.58 81.4995 192.962 81.4375C198.345 81.3755 203.648 82.742 208.33 85.3976C213.012 88.0532 216.907 91.9029 219.616 96.5544C222.326 101.206 223.753 106.492 223.753 111.875C223.753 117.258 222.326 122.545 219.616 127.197C216.907 131.848 213.012 135.698 208.33 138.353C203.648 141.009 198.345 142.375 192.962 142.313C187.58 142.251 182.31 140.763 177.69 138L138 177.7C141.808 184.071 143.155 191.614 141.79 198.91C140.424 206.205 136.44 212.75 130.585 217.313C124.731 221.875 117.412 224.141 110.004 223.683C102.596 223.226 95.6103 220.077 90.3621 214.828C85.1139 209.58 81.9647 202.595 81.5072 195.187C81.0497 187.779 83.3154 180.459 87.878 174.605C92.4405 168.751 98.9853 164.766 106.281 163.401C113.576 162.035 121.119 163.383 127.49 167.19L167.19 127.49C165.664 124.941 164.518 122.182 163.79 119.3H141.39C139.721 125.858 135.915 131.673 130.573 135.826C125.231 139.98 118.657 142.234 111.89 142.234C105.123 142.234 98.5494 139.98 93.2071 135.826C87.8648 131.673 84.0587 125.858 82.39 119.3H60C58.1878 126.495 53.8086 132.78 47.6863 136.971C41.5641 141.163 34.1211 142.972 26.7579 142.059C19.3947 141.146 12.6191 137.574 7.70605 132.014C2.79302 126.454 0.0813599 119.29 0.0813599 111.87C0.0813599 104.451 2.79302 97.2871 7.70605 91.7272C12.6191 86.1673 19.3947 82.5947 26.7579 81.6817C34.1211 80.7686 41.5641 82.5781 47.6863 86.7696C53.8086 90.9611 58.1878 97.2456 60 104.44H82.35ZM100.86 204.32C103.407 206.868 106.759 208.453 110.345 208.806C113.93 209.159 117.527 208.258 120.522 206.256C123.517 204.254 125.725 201.276 126.771 197.828C127.816 194.38 127.633 190.677 126.253 187.349C124.874 184.021 122.383 181.274 119.205 179.577C116.027 177.88 112.359 177.337 108.826 178.042C105.293 178.746 102.113 180.654 99.8291 183.44C97.5451 186.226 96.2979 189.718 96.3 193.32C96.2985 195.364 96.7006 197.388 97.4831 199.275C98.2656 201.163 99.4132 202.877 100.86 204.32ZM204.32 122.88C206.868 120.333 208.453 116.981 208.806 113.396C209.159 109.811 208.258 106.214 206.256 103.219C204.254 100.223 201.275 98.0151 197.827 96.97C194.38 95.9249 190.676 96.1077 187.348 97.4873C184.02 98.8669 181.274 101.358 179.577 104.536C177.879 107.714 177.337 111.382 178.041 114.915C178.746 118.448 180.653 121.627 183.439 123.911C186.226 126.195 189.717 127.443 193.32 127.44C195.364 127.443 197.388 127.042 199.275 126.259C201.163 125.476 202.878 124.328 204.32 122.88ZM122.88 19.4205C120.333 16.8729 116.981 15.2876 113.395 14.9347C109.81 14.5817 106.213 15.483 103.218 17.4849C100.223 19.4868 98.0146 22.4654 96.9696 25.9131C95.9245 29.3608 96.1073 33.0642 97.4869 36.3922C98.8665 39.7202 101.358 42.4668 104.535 44.1639C107.713 45.861 111.381 46.4036 114.914 45.6992C118.447 44.9949 121.627 43.0871 123.911 40.301C126.195 37.515 127.442 34.0231 127.44 30.4205C127.44 28.3772 127.038 26.3539 126.255 24.4664C125.473 22.5788 124.326 20.8642 122.88 19.4205ZM19.42 100.86C16.8725 103.408 15.2872 106.76 14.9342 110.345C14.5813 113.93 15.4826 117.527 17.4844 120.522C19.4863 123.518 22.4649 125.726 25.9127 126.771C29.3604 127.816 33.0638 127.633 36.3918 126.254C39.7198 124.874 42.4664 122.383 44.1635 119.205C45.8606 116.027 46.4032 112.359 45.6988 108.826C44.9944 105.293 43.0866 102.114 40.3006 99.8296C37.5145 97.5455 34.0227 96.2983 30.42 96.3005C26.2938 96.3018 22.337 97.9421 19.42 100.86ZM100.86 100.86C98.3125 103.408 96.7272 106.76 96.3742 110.345C96.0213 113.93 96.9226 117.527 98.9244 120.522C100.926 123.518 103.905 125.726 107.353 126.771C110.8 127.816 114.504 127.633 117.832 126.254C121.16 124.874 123.906 122.383 125.604 119.205C127.301 116.027 127.843 112.359 127.139 108.826C126.434 105.293 124.527 102.114 121.741 99.8296C118.955 97.5455 115.463 96.2983 111.86 96.3005C109.817 96.299 107.793 96.701 105.905 97.4835C104.018 98.2661 102.303 99.4136 100.86 100.86Z\" fill=\"#00AEEF\"/>\n",
       "    </g>\n",
       "    <defs>\n",
       "        <clipPath id=\"clip0_4338_178347\">\n",
       "            <rect width=\"566.93\" height=\"223.75\" fill=\"white\"/>\n",
       "        </clipPath>\n",
       "    </defs>\n",
       "  </svg>\n",
       "</div>\n",
       "\n",
       "        <table class=\"jp-RenderedHTMLCommon\" style=\"border-collapse: collapse;color: var(--jp-ui-font-color1);font-size: var(--jp-ui-font-size1);\">\n",
       "    <tr>\n",
       "        <td style=\"text-align: left\"><b>Python version:</b></td>\n",
       "        <td style=\"text-align: left\"><b>3.10.12</b></td>\n",
       "    </tr>\n",
       "    <tr>\n",
       "        <td style=\"text-align: left\"><b>Ray version:</b></td>\n",
       "        <td style=\"text-align: left\"><b>2.44.1</b></td>\n",
       "    </tr>\n",
       "    <tr>\n",
       "    <td style=\"text-align: left\"><b>Dashboard:</b></td>\n",
       "    <td style=\"text-align: left\"><b><a href=\"http://127.0.0.1:8265\" target=\"_blank\">http://127.0.0.1:8265</a></b></td>\n",
       "</tr>\n",
       "\n",
       "</table>\n",
       "\n",
       "    </div>\n",
       "</div>\n"
      ],
      "text/plain": [
       "RayContext(dashboard_url='127.0.0.1:8265', python_version='3.10.12', ray_version='2.44.1', ray_commit='daca7b2b1a950dc7f731e34e74c76ae383794ffe')"
      ]
     },
     "execution_count": 2,
     "metadata": {},
     "output_type": "execute_result"
    },
    {
     "name": "stderr",
     "output_type": "stream",
     "text": [
      "\u001b[36m(reduce pid=1657662)\u001b[0m Error calculating size for column 'title': cannot call `vectorize` on size 0 inputs unless `otypes` is set\n",
      "\u001b[36m(reduce pid=1657662)\u001b[0m Error calculating size for column 'description': cannot call `vectorize` on size 0 inputs unless `otypes` is set\n",
      "\u001b[36m(reduce pid=1657662)\u001b[0m Error calculating size for column 'tag': cannot call `vectorize` on size 0 inputs unless `otypes` is set\n",
      "\u001b[36m(reduce pid=1657662)\u001b[0m Error calculating size for column 'title': cannot call `vectorize` on size 0 inputs unless `otypes` is set\n",
      "\u001b[36m(reduce pid=1657662)\u001b[0m Error calculating size for column 'description': cannot call `vectorize` on size 0 inputs unless `otypes` is set\n",
      "\u001b[36m(reduce pid=1657662)\u001b[0m Error calculating size for column 'tag': cannot call `vectorize` on size 0 inputs unless `otypes` is set\n",
      "\u001b[36m(reduce pid=1657679)\u001b[0m Error calculating size for column 'title': cannot call `vectorize` on size 0 inputs unless `otypes` is set\n",
      "\u001b[36m(reduce pid=1657679)\u001b[0m Error calculating size for column 'description': cannot call `vectorize` on size 0 inputs unless `otypes` is set\n",
      "\u001b[36m(reduce pid=1657679)\u001b[0m Error calculating size for column 'tag': cannot call `vectorize` on size 0 inputs unless `otypes` is set\n",
      "\u001b[36m(reduce pid=1657646)\u001b[0m Error calculating size for column 'title': cannot call `vectorize` on size 0 inputs unless `otypes` is set\n",
      "\u001b[36m(reduce pid=1657646)\u001b[0m Error calculating size for column 'description': cannot call `vectorize` on size 0 inputs unless `otypes` is set\n",
      "\u001b[36m(reduce pid=1657646)\u001b[0m Error calculating size for column 'tag': cannot call `vectorize` on size 0 inputs unless `otypes` is set\n",
      "\u001b[36m(reduce pid=1657644)\u001b[0m Error calculating size for column 'title': cannot call `vectorize` on size 0 inputs unless `otypes` is set\n",
      "\u001b[36m(reduce pid=1657644)\u001b[0m Error calculating size for column 'description': cannot call `vectorize` on size 0 inputs unless `otypes` is set\n",
      "\u001b[36m(reduce pid=1657644)\u001b[0m Error calculating size for column 'tag': cannot call `vectorize` on size 0 inputs unless `otypes` is set\n",
      "\u001b[36m(reduce pid=1657644)\u001b[0m Error calculating size for column 'title': cannot call `vectorize` on size 0 inputs unless `otypes` is set\n",
      "\u001b[36m(reduce pid=1657644)\u001b[0m Error calculating size for column 'description': cannot call `vectorize` on size 0 inputs unless `otypes` is set\n",
      "\u001b[36m(reduce pid=1657644)\u001b[0m Error calculating size for column 'tag': cannot call `vectorize` on size 0 inputs unless `otypes` is set\n",
      "\u001b[36m(reduce pid=1657685)\u001b[0m Error calculating size for column 'title': cannot call `vectorize` on size 0 inputs unless `otypes` is set\n",
      "\u001b[36m(reduce pid=1657685)\u001b[0m Error calculating size for column 'description': cannot call `vectorize` on size 0 inputs unless `otypes` is set\n",
      "\u001b[36m(reduce pid=1657685)\u001b[0m Error calculating size for column 'tag': cannot call `vectorize` on size 0 inputs unless `otypes` is set\n",
      "\u001b[36m(reduce pid=1657685)\u001b[0m Error calculating size for column 'title': cannot call `vectorize` on size 0 inputs unless `otypes` is set\n",
      "\u001b[36m(reduce pid=1657685)\u001b[0m Error calculating size for column 'description': cannot call `vectorize` on size 0 inputs unless `otypes` is set\n",
      "\u001b[36m(reduce pid=1657685)\u001b[0m Error calculating size for column 'tag': cannot call `vectorize` on size 0 inputs unless `otypes` is set\n",
      "\u001b[36m(reduce pid=1657640)\u001b[0m Error calculating size for column 'title': cannot call `vectorize` on size 0 inputs unless `otypes` is set\u001b[32m [repeated 7x across cluster]\u001b[0m\n",
      "\u001b[36m(reduce pid=1657640)\u001b[0m Error calculating size for column 'description': cannot call `vectorize` on size 0 inputs unless `otypes` is set\u001b[32m [repeated 7x across cluster]\u001b[0m\n",
      "\u001b[36m(reduce pid=1657640)\u001b[0m Error calculating size for column 'tag': cannot call `vectorize` on size 0 inputs unless `otypes` is set\u001b[32m [repeated 7x across cluster]\u001b[0m\n",
      "\u001b[36m(TorchTrainer pid=1667252)\u001b[0m Started distributed worker processes: \n",
      "\u001b[36m(TorchTrainer pid=1667252)\u001b[0m - (node_id=f3921b3c45aced467fcfa48fb86069ae0ebfbcbff2998a62fd19a34e, ip=172.27.14.77, pid=1667414) world_rank=0, local_rank=0, node_rank=0\n",
      "\u001b[36m(RayTrainWorker pid=1667414)\u001b[0m Setting up process group for: env:// [rank=0, world_size=1]\n",
      "\u001b[36m(RayTrainWorker pid=1667414)\u001b[0m /mnt/hpc/work/ngkuissi/Made-With-ML/venv/lib/python3.10/site-packages/huggingface_hub/file_download.py:945: FutureWarning: `resume_download` is deprecated and will be removed in version 1.0.0. Downloads always resume when possible. If you want to force a new download, use `force_download=True`.\n",
      "\u001b[36m(RayTrainWorker pid=1667414)\u001b[0m   warnings.warn(\n",
      "\u001b[36m(RayTrainWorker pid=1667414)\u001b[0m Some weights of the model checkpoint at allenai/scibert_scivocab_uncased were not used when initializing BertModel: ['cls.predictions.decoder.bias', 'cls.predictions.transform.dense.weight', 'cls.predictions.transform.dense.bias', 'cls.predictions.transform.LayerNorm.bias', 'cls.predictions.bias', 'cls.seq_relationship.bias', 'cls.predictions.decoder.weight', 'cls.seq_relationship.weight', 'cls.predictions.transform.LayerNorm.weight']\n",
      "\u001b[36m(RayTrainWorker pid=1667414)\u001b[0m - This IS expected if you are initializing BertModel from the checkpoint of a model trained on another task or with another architecture (e.g. initializing a BertForSequenceClassification model from a BertForPreTraining model).\n",
      "\u001b[36m(RayTrainWorker pid=1667414)\u001b[0m - This IS NOT expected if you are initializing BertModel from the checkpoint of a model that you expect to be exactly identical (initializing a BertForSequenceClassification model from a BertForSequenceClassification model).\n",
      "\u001b[36m(RayTrainWorker pid=1667414)\u001b[0m Moving model to device: cuda:0\n",
      "\u001b[36m(SplitCoordinator pid=1667582)\u001b[0m Starting execution of Dataset. Full logs are in /tmp/ray/session_2025-09-14_15-05-00_735286_1657229/logs/ray-data\n",
      "\u001b[36m(SplitCoordinator pid=1667582)\u001b[0m Execution plan of Dataset: InputDataBuffer[Input] -> OutputSplitter[split(1, equal=True)]\n",
      "\u001b[36m(RayTrainWorker pid=1667414)\u001b[0m /tmp/ipykernel_1657229/700331434.py:7: UserWarning: Creating a tensor from a list of numpy.ndarrays is extremely slow. Please consider converting the list to a single numpy.ndarray with numpy.array() before converting to a tensor. (Triggered internally at ../torch/csrc/utils/tensor_new.cpp:245.)\n",
      "\u001b[36m(RayTrainWorker pid=1667414)\u001b[0m Checkpoint successfully created at: Checkpoint(filesystem=local, path=/work/ngkuissi/ray_results/llm/TorchTrainer_e8dd0_00000_0_2025-09-14_15-06-25/checkpoint_000000)\n",
      "\u001b[36m(RayTrainWorker pid=1667414)\u001b[0m Checkpoint successfully created at: Checkpoint(filesystem=local, path=/work/ngkuissi/ray_results/llm/TorchTrainer_e8dd0_00000_0_2025-09-14_15-06-25/checkpoint_000001)\n",
      "\u001b[36m(SplitCoordinator pid=1667581)\u001b[0m Starting execution of Dataset. Full logs are in /tmp/ray/session_2025-09-14_15-05-00_735286_1657229/logs/ray-data\u001b[32m [repeated 3x across cluster]\u001b[0m\n",
      "\u001b[36m(SplitCoordinator pid=1667581)\u001b[0m Execution plan of Dataset: InputDataBuffer[Input] -> OutputSplitter[split(1, equal=True)]\u001b[32m [repeated 3x across cluster]\u001b[0m\n",
      "\u001b[36m(RayTrainWorker pid=1667414)\u001b[0m Checkpoint successfully created at: Checkpoint(filesystem=local, path=/work/ngkuissi/ray_results/llm/TorchTrainer_e8dd0_00000_0_2025-09-14_15-06-25/checkpoint_000002)\n",
      "\u001b[36m(RayTrainWorker pid=1667414)\u001b[0m Checkpoint successfully created at: Checkpoint(filesystem=local, path=/work/ngkuissi/ray_results/llm/TorchTrainer_e8dd0_00000_0_2025-09-14_15-06-25/checkpoint_000003)\n",
      "\u001b[36m(SplitCoordinator pid=1667581)\u001b[0m Starting execution of Dataset. Full logs are in /tmp/ray/session_2025-09-14_15-05-00_735286_1657229/logs/ray-data\u001b[32m [repeated 4x across cluster]\u001b[0m\n",
      "\u001b[36m(SplitCoordinator pid=1667581)\u001b[0m Execution plan of Dataset: InputDataBuffer[Input] -> OutputSplitter[split(1, equal=True)]\u001b[32m [repeated 4x across cluster]\u001b[0m\n",
      "\u001b[36m(RayTrainWorker pid=1667414)\u001b[0m Checkpoint successfully created at: Checkpoint(filesystem=local, path=/work/ngkuissi/ray_results/llm/TorchTrainer_e8dd0_00000_0_2025-09-14_15-06-25/checkpoint_000004)\n",
      "\u001b[36m(RayTrainWorker pid=1667414)\u001b[0m Checkpoint successfully created at: Checkpoint(filesystem=local, path=/work/ngkuissi/ray_results/llm/TorchTrainer_e8dd0_00000_0_2025-09-14_15-06-25/checkpoint_000005)\n",
      "\u001b[36m(SplitCoordinator pid=1667581)\u001b[0m Starting execution of Dataset. Full logs are in /tmp/ray/session_2025-09-14_15-05-00_735286_1657229/logs/ray-data\u001b[32m [repeated 4x across cluster]\u001b[0m\n",
      "\u001b[36m(SplitCoordinator pid=1667581)\u001b[0m Execution plan of Dataset: InputDataBuffer[Input] -> OutputSplitter[split(1, equal=True)]\u001b[32m [repeated 4x across cluster]\u001b[0m\n",
      "\u001b[36m(RayTrainWorker pid=1667414)\u001b[0m Checkpoint successfully created at: Checkpoint(filesystem=local, path=/work/ngkuissi/ray_results/llm/TorchTrainer_e8dd0_00000_0_2025-09-14_15-06-25/checkpoint_000006)\n",
      "\u001b[36m(SplitCoordinator pid=1667581)\u001b[0m Starting execution of Dataset. Full logs are in /tmp/ray/session_2025-09-14_15-05-00_735286_1657229/logs/ray-data\u001b[32m [repeated 4x across cluster]\u001b[0m\n",
      "\u001b[36m(SplitCoordinator pid=1667581)\u001b[0m Execution plan of Dataset: InputDataBuffer[Input] -> OutputSplitter[split(1, equal=True)]\u001b[32m [repeated 4x across cluster]\u001b[0m\n",
      "\u001b[36m(RayTrainWorker pid=1667414)\u001b[0m Checkpoint successfully created at: Checkpoint(filesystem=local, path=/work/ngkuissi/ray_results/llm/TorchTrainer_e8dd0_00000_0_2025-09-14_15-06-25/checkpoint_000007)\n",
      "\u001b[36m(RayTrainWorker pid=1667414)\u001b[0m Checkpoint successfully created at: Checkpoint(filesystem=local, path=/work/ngkuissi/ray_results/llm/TorchTrainer_e8dd0_00000_0_2025-09-14_15-06-25/checkpoint_000008)\n",
      "\u001b[36m(SplitCoordinator pid=1667581)\u001b[0m Starting execution of Dataset. Full logs are in /tmp/ray/session_2025-09-14_15-05-00_735286_1657229/logs/ray-data\u001b[32m [repeated 2x across cluster]\u001b[0m\n",
      "\u001b[36m(SplitCoordinator pid=1667581)\u001b[0m Execution plan of Dataset: InputDataBuffer[Input] -> OutputSplitter[split(1, equal=True)]\u001b[32m [repeated 2x across cluster]\u001b[0m\n",
      "\u001b[36m(RayTrainWorker pid=1667414)\u001b[0m Checkpoint successfully created at: Checkpoint(filesystem=local, path=/work/ngkuissi/ray_results/llm/TorchTrainer_e8dd0_00000_0_2025-09-14_15-06-25/checkpoint_000009)\n",
      "\u001b[36m(reduce pid=1657700)\u001b[0m Error calculating size for column 'title': cannot call `vectorize` on size 0 inputs unless `otypes` is set\n",
      "\u001b[36m(reduce pid=1657700)\u001b[0m Error calculating size for column 'description': cannot call `vectorize` on size 0 inputs unless `otypes` is set\n",
      "\u001b[36m(reduce pid=1657700)\u001b[0m Error calculating size for column 'tag': cannot call `vectorize` on size 0 inputs unless `otypes` is set\n",
      "\u001b[36m(reduce pid=1657699)\u001b[0m Error calculating size for column 'title': cannot call `vectorize` on size 0 inputs unless `otypes` is set\n",
      "\u001b[36m(reduce pid=1657699)\u001b[0m Error calculating size for column 'description': cannot call `vectorize` on size 0 inputs unless `otypes` is set\n",
      "\u001b[36m(reduce pid=1657699)\u001b[0m Error calculating size for column 'tag': cannot call `vectorize` on size 0 inputs unless `otypes` is set\n",
      "\u001b[36m(reduce pid=1698127)\u001b[0m Error calculating size for column 'title': cannot call `vectorize` on size 0 inputs unless `otypes` is set\u001b[32m [repeated 8x across cluster]\u001b[0m\n",
      "\u001b[36m(reduce pid=1698127)\u001b[0m Error calculating size for column 'description': cannot call `vectorize` on size 0 inputs unless `otypes` is set\u001b[32m [repeated 8x across cluster]\u001b[0m\n",
      "\u001b[36m(reduce pid=1698127)\u001b[0m Error calculating size for column 'tag': cannot call `vectorize` on size 0 inputs unless `otypes` is set\u001b[32m [repeated 8x across cluster]\u001b[0m\n",
      "\u001b[36m(TrainTrainable pid=1706071)\u001b[0m /mnt/hpc/work/ngkuissi/Made-With-ML/venv/lib/python3.10/site-packages/mlflow/utils/requirements_utils.py:12: UserWarning: pkg_resources is deprecated as an API. See https://setuptools.pypa.io/en/latest/pkg_resources.html. The pkg_resources package is slated for removal as early as 2025-11-30. Refrain from using this package or pin to Setuptools<81.\n",
      "\u001b[36m(TrainTrainable pid=1706071)\u001b[0m   import pkg_resources\n",
      "\u001b[36m(TorchTrainer pid=1706071)\u001b[0m /mnt/hpc/work/ngkuissi/Made-With-ML/venv/lib/python3.10/site-packages/ray/train/base_trainer.py:582: RayDeprecationWarning: `ray.train.RunConfig(callbacks: List[ray.tune.Callback])` is deprecated. Ray Train no longer accepts Ray Tune callbacks, since the Ray Train execution backend is being separated from Ray Tune. See this issue for more context and migration options: https://github.com/ray-project/ray/issues/49454. Disable these warnings by setting the environment variable: RAY_TRAIN_ENABLE_V2_MIGRATION_WARNINGS=0\n",
      "\u001b[36m(TorchTrainer pid=1706071)\u001b[0m   _log_deprecation_warning(CALLBACKS_DEPRECATION_MESSAGE)\n",
      "\u001b[36m(TorchTrainer pid=1706071)\u001b[0m Started distributed worker processes: \n",
      "\u001b[36m(TorchTrainer pid=1706071)\u001b[0m - (node_id=f3921b3c45aced467fcfa48fb86069ae0ebfbcbff2998a62fd19a34e, ip=172.27.14.77, pid=1706231) world_rank=0, local_rank=0, node_rank=0\n",
      "\u001b[36m(RayTrainWorker pid=1706231)\u001b[0m Setting up process group for: env:// [rank=0, world_size=1]\n",
      "\u001b[36m(RayTrainWorker pid=1706231)\u001b[0m /mnt/hpc/work/ngkuissi/Made-With-ML/venv/lib/python3.10/site-packages/huggingface_hub/file_download.py:945: FutureWarning: `resume_download` is deprecated and will be removed in version 1.0.0. Downloads always resume when possible. If you want to force a new download, use `force_download=True`.\n",
      "\u001b[36m(RayTrainWorker pid=1706231)\u001b[0m   warnings.warn(\n",
      "\u001b[36m(RayTrainWorker pid=1706231)\u001b[0m Some weights of the model checkpoint at allenai/scibert_scivocab_uncased were not used when initializing BertModel: ['cls.seq_relationship.bias', 'cls.predictions.transform.LayerNorm.bias', 'cls.predictions.transform.LayerNorm.weight', 'cls.predictions.bias', 'cls.predictions.decoder.bias', 'cls.predictions.transform.dense.bias', 'cls.predictions.transform.dense.weight', 'cls.seq_relationship.weight', 'cls.predictions.decoder.weight']\n",
      "\u001b[36m(RayTrainWorker pid=1706231)\u001b[0m - This IS expected if you are initializing BertModel from the checkpoint of a model trained on another task or with another architecture (e.g. initializing a BertForSequenceClassification model from a BertForPreTraining model).\n",
      "\u001b[36m(RayTrainWorker pid=1706231)\u001b[0m - This IS NOT expected if you are initializing BertModel from the checkpoint of a model that you expect to be exactly identical (initializing a BertForSequenceClassification model from a BertForSequenceClassification model).\n",
      "\u001b[36m(RayTrainWorker pid=1706231)\u001b[0m Moving model to device: cuda:0\n",
      "\u001b[36m(SplitCoordinator pid=1706393)\u001b[0m Starting execution of Dataset. Full logs are in /tmp/ray/session_2025-09-14_15-05-00_735286_1657229/logs/ray-data\n",
      "\u001b[36m(SplitCoordinator pid=1706393)\u001b[0m Execution plan of Dataset: InputDataBuffer[Input] -> OutputSplitter[split(1, equal=True)]\n",
      "\u001b[36m(RayTrainWorker pid=1706231)\u001b[0m /tmp/ipykernel_1657229/700331434.py:7: UserWarning: Creating a tensor from a list of numpy.ndarrays is extremely slow. Please consider converting the list to a single numpy.ndarray with numpy.array() before converting to a tensor. (Triggered internally at ../torch/csrc/utils/tensor_new.cpp:245.)\n",
      "\u001b[36m(RayTrainWorker pid=1706231)\u001b[0m Checkpoint successfully created at: Checkpoint(filesystem=local, path=/work/ngkuissi/ray_results/TorchTrainer_2025-09-14_15-45-04/TorchTrainer_4f6eb_00000_0_2025-09-14_15-45-04/checkpoint_000000)\n",
      "\u001b[36m(RayTrainWorker pid=1706231)\u001b[0m Checkpoint successfully created at: Checkpoint(filesystem=local, path=/work/ngkuissi/ray_results/TorchTrainer_2025-09-14_15-45-04/TorchTrainer_4f6eb_00000_0_2025-09-14_15-45-04/checkpoint_000001)\n",
      "\u001b[36m(SplitCoordinator pid=1706392)\u001b[0m Starting execution of Dataset. Full logs are in /tmp/ray/session_2025-09-14_15-05-00_735286_1657229/logs/ray-data\u001b[32m [repeated 3x across cluster]\u001b[0m\n",
      "\u001b[36m(SplitCoordinator pid=1706392)\u001b[0m Execution plan of Dataset: InputDataBuffer[Input] -> OutputSplitter[split(1, equal=True)]\u001b[32m [repeated 3x across cluster]\u001b[0m\n",
      "\u001b[36m(RayTrainWorker pid=1706231)\u001b[0m Checkpoint successfully created at: Checkpoint(filesystem=local, path=/work/ngkuissi/ray_results/TorchTrainer_2025-09-14_15-45-04/TorchTrainer_4f6eb_00000_0_2025-09-14_15-45-04/checkpoint_000002)\n",
      "\u001b[36m(RayTrainWorker pid=1706231)\u001b[0m Checkpoint successfully created at: Checkpoint(filesystem=local, path=/work/ngkuissi/ray_results/TorchTrainer_2025-09-14_15-45-04/TorchTrainer_4f6eb_00000_0_2025-09-14_15-45-04/checkpoint_000003)\n",
      "\u001b[36m(SplitCoordinator pid=1706392)\u001b[0m Starting execution of Dataset. Full logs are in /tmp/ray/session_2025-09-14_15-05-00_735286_1657229/logs/ray-data\u001b[32m [repeated 4x across cluster]\u001b[0m\n",
      "\u001b[36m(SplitCoordinator pid=1706392)\u001b[0m Execution plan of Dataset: InputDataBuffer[Input] -> OutputSplitter[split(1, equal=True)]\u001b[32m [repeated 4x across cluster]\u001b[0m\n",
      "\u001b[36m(RayTrainWorker pid=1706231)\u001b[0m Checkpoint successfully created at: Checkpoint(filesystem=local, path=/work/ngkuissi/ray_results/TorchTrainer_2025-09-14_15-45-04/TorchTrainer_4f6eb_00000_0_2025-09-14_15-45-04/checkpoint_000004)\n",
      "\u001b[36m(RayTrainWorker pid=1706231)\u001b[0m Checkpoint successfully created at: Checkpoint(filesystem=local, path=/work/ngkuissi/ray_results/TorchTrainer_2025-09-14_15-45-04/TorchTrainer_4f6eb_00000_0_2025-09-14_15-45-04/checkpoint_000005)\n",
      "\u001b[36m(SplitCoordinator pid=1706392)\u001b[0m Starting execution of Dataset. Full logs are in /tmp/ray/session_2025-09-14_15-05-00_735286_1657229/logs/ray-data\u001b[32m [repeated 4x across cluster]\u001b[0m\n",
      "\u001b[36m(SplitCoordinator pid=1706392)\u001b[0m Execution plan of Dataset: InputDataBuffer[Input] -> OutputSplitter[split(1, equal=True)]\u001b[32m [repeated 4x across cluster]\u001b[0m\n",
      "\u001b[36m(RayTrainWorker pid=1706231)\u001b[0m Checkpoint successfully created at: Checkpoint(filesystem=local, path=/work/ngkuissi/ray_results/TorchTrainer_2025-09-14_15-45-04/TorchTrainer_4f6eb_00000_0_2025-09-14_15-45-04/checkpoint_000006)\n",
      "\u001b[36m(SplitCoordinator pid=1706392)\u001b[0m Starting execution of Dataset. Full logs are in /tmp/ray/session_2025-09-14_15-05-00_735286_1657229/logs/ray-data\u001b[32m [repeated 4x across cluster]\u001b[0m\n",
      "\u001b[36m(SplitCoordinator pid=1706392)\u001b[0m Execution plan of Dataset: InputDataBuffer[Input] -> OutputSplitter[split(1, equal=True)]\u001b[32m [repeated 4x across cluster]\u001b[0m\n",
      "\u001b[36m(RayTrainWorker pid=1706231)\u001b[0m Checkpoint successfully created at: Checkpoint(filesystem=local, path=/work/ngkuissi/ray_results/TorchTrainer_2025-09-14_15-45-04/TorchTrainer_4f6eb_00000_0_2025-09-14_15-45-04/checkpoint_000007)\n",
      "\u001b[36m(RayTrainWorker pid=1706231)\u001b[0m Checkpoint successfully created at: Checkpoint(filesystem=local, path=/work/ngkuissi/ray_results/TorchTrainer_2025-09-14_15-45-04/TorchTrainer_4f6eb_00000_0_2025-09-14_15-45-04/checkpoint_000008)\n",
      "\u001b[36m(SplitCoordinator pid=1706392)\u001b[0m Starting execution of Dataset. Full logs are in /tmp/ray/session_2025-09-14_15-05-00_735286_1657229/logs/ray-data\u001b[32m [repeated 2x across cluster]\u001b[0m\n",
      "\u001b[36m(SplitCoordinator pid=1706392)\u001b[0m Execution plan of Dataset: InputDataBuffer[Input] -> OutputSplitter[split(1, equal=True)]\u001b[32m [repeated 2x across cluster]\u001b[0m\n",
      "\u001b[36m(RayTrainWorker pid=1706231)\u001b[0m Checkpoint successfully created at: Checkpoint(filesystem=local, path=/work/ngkuissi/ray_results/TorchTrainer_2025-09-14_15-45-04/TorchTrainer_4f6eb_00000_0_2025-09-14_15-45-04/checkpoint_000009)\n"
     ]
    }
   ],
   "source": [
    "if ray.is_initialized():\n",
    "    ray.shutdown()\n",
    "ray.init()"
   ]
  },
  {
   "cell_type": "code",
   "execution_count": 3,
   "id": "ab6a5005",
   "metadata": {},
   "outputs": [
    {
     "data": {
      "text/plain": [
       "{'node:__internal_head__': 1.0,\n",
       " 'node:172.27.14.77': 1.0,\n",
       " 'CPU': 96.0,\n",
       " 'object_store_memory': 200000000000.0,\n",
       " 'accelerator_type:RTX': 1.0,\n",
       " 'memory': 876914446336.0,\n",
       " 'GPU': 1.0}"
      ]
     },
     "execution_count": 3,
     "metadata": {},
     "output_type": "execute_result"
    }
   ],
   "source": [
    "ray.cluster_resources()"
   ]
  },
  {
   "cell_type": "markdown",
   "id": "622985e6",
   "metadata": {},
   "source": [
    "## Finetunning our own llm"
   ]
  },
  {
   "cell_type": "code",
   "execution_count": 4,
   "id": "c6a9f6dc",
   "metadata": {},
   "outputs": [],
   "source": [
    "import os\n",
    "import random\n",
    "import torch\n",
    "import numpy as np\n",
    "import ray\n",
    "from ray.data.preprocessor import Preprocessor"
   ]
  },
  {
   "cell_type": "code",
   "execution_count": 5,
   "id": "cba1528d",
   "metadata": {},
   "outputs": [],
   "source": [
    "def set_seed(seed=42):\n",
    "    \"\"\"Set seeds for reproducibility.\"\"\"\n",
    "    np.random.seed(seed)\n",
    "    random.seed(seed)\n",
    "    torch.manual_seed(seed)\n",
    "    torch.cuda.manual_seed(seed)\n",
    "    #eval(\"setattr(torch.backends.cudnn, 'deterministic', True)\")\n",
    "    #eval(\"setattr(torch.backends.cudnn, 'benchmark', False)\")\n",
    "    os.environ['PYTHONHASHSEED'] = str(seed)"
   ]
  },
  {
   "cell_type": "code",
   "execution_count": 6,
   "id": "3ceea06c",
   "metadata": {},
   "outputs": [],
   "source": [
    "set_seed()"
   ]
  },
  {
   "cell_type": "code",
   "execution_count": 7,
   "id": "09569994",
   "metadata": {},
   "outputs": [],
   "source": [
    "DATASET_LOC = \"https://raw.githubusercontent.com/GokuMohandas/Made-With-ML/main/datasets/dataset.csv\""
   ]
  },
  {
   "cell_type": "code",
   "execution_count": 8,
   "id": "fdbc1311",
   "metadata": {},
   "outputs": [],
   "source": [
    "def load_data(num_samples=None, loc=DATASET_LOC):\n",
    "    ds = ray.data.read_csv(loc)\n",
    "    ds = ds.random_shuffle(seed=1234)\n",
    "    ds = ray.data.from_items(ds.take(num_samples)) if num_samples else ds\n",
    "    return ds"
   ]
  },
  {
   "cell_type": "markdown",
   "id": "597bb254",
   "metadata": {},
   "source": [
    "<div style=\"border-left: 4px solid #00c896; background-color:rgb(23, 22, 22); padding: 1em; border-radius: 8px; margin: 1em 0;\">\n",
    "  <p style=\"margin: 0; font-weight: bold; color: #059669;\">💡 Tip</p>\n",
    "  <p style=\"margin: 0;\">\n",
    "    When working with very large datasets, it's a good idea to limit the number of samples in our dataset so that we can execute our code quickly and iterate on bugs, etc.  \n",
    "    This is why we have a <code>num_samples</code> input argument in our <code>load_data</code> function (<code>None</code> = no limit, all samples).\n",
    "  </p>\n",
    "</div>\n"
   ]
  },
  {
   "cell_type": "markdown",
   "id": "cb906b86",
   "metadata": {},
   "source": [
    "## Helpful functions"
   ]
  },
  {
   "cell_type": "code",
   "execution_count": 9,
   "id": "ad3c5248",
   "metadata": {},
   "outputs": [],
   "source": [
    "import numpy as np\n",
    "from transformers import BertTokenizer\n",
    "import re\n",
    "import nltk\n",
    "from nltk.corpus import stopwords"
   ]
  },
  {
   "cell_type": "code",
   "execution_count": 10,
   "id": "682f5a4b",
   "metadata": {},
   "outputs": [
    {
     "name": "stderr",
     "output_type": "stream",
     "text": [
      "[nltk_data] Downloading package stopwords to\n",
      "[nltk_data]     /work/ngkuissi/nltk_data...\n",
      "[nltk_data]   Package stopwords is already up-to-date!\n"
     ]
    }
   ],
   "source": [
    "nltk.download(\"stopwords\")\n",
    "STOPWORDS = stopwords.words(\"english\")"
   ]
  },
  {
   "cell_type": "code",
   "execution_count": 11,
   "id": "b504086e",
   "metadata": {},
   "outputs": [
    {
     "name": "stderr",
     "output_type": "stream",
     "text": [
      "/mnt/hpc/work/ngkuissi/Made-With-ML/venv/lib/python3.10/site-packages/huggingface_hub/file_download.py:945: FutureWarning: `resume_download` is deprecated and will be removed in version 1.0.0. Downloads always resume when possible. If you want to force a new download, use `force_download=True`.\n",
      "  warnings.warn(\n"
     ]
    }
   ],
   "source": [
    "tokenizer = BertTokenizer.from_pretrained(\"allenai/scibert_scivocab_uncased\", return_dict=False)"
   ]
  },
  {
   "cell_type": "code",
   "execution_count": 12,
   "id": "80382565",
   "metadata": {},
   "outputs": [],
   "source": [
    "def tokenize(batch, tokenizer=tokenizer):\n",
    "    encoded_inputs = tokenizer(batch['text'].tolist(), return_tensors=\"np\", padding=\"longest\")\n",
    "    return dict(ids=encoded_inputs['input_ids'], mask=encoded_inputs['attention_mask'],\n",
    "                target=np.array(batch['tag']))"
   ]
  },
  {
   "cell_type": "code",
   "execution_count": 13,
   "id": "86a7e322",
   "metadata": {},
   "outputs": [],
   "source": [
    "def clean_text(text, stopwords=STOPWORDS):\n",
    "    \"\"\"Clean raw text string.\"\"\"\n",
    "    text = text.lower()\n",
    "    \n",
    "    # remove stopwords\n",
    "    pattern = re.compile(r'\\b(' + r\"|\".join(stopwords) + r\")\\b\\s*\")\n",
    "    text = pattern.sub(\"\", text)\n",
    "    \n",
    "    text = re.sub(r\"([!\\\"'#$%&()*\\+,-./:;<=>?@\\\\\\[\\]^_`{|}~])\", r\" \\1 \", text)  # add spacing\n",
    "    text = re.sub(\"[^A-Za-z0-9]+\", \" \", text)  # remove non alphanumeric chars\n",
    "    text = re.sub(\" +\", \" \", text)  # remove multiple spaces\n",
    "    text = text.strip()  # strip white space at the ends\n",
    "    text = re.sub(r\"http\\S+\", \"\", text)  #  remove links\n",
    "    \n",
    "    return text\n",
    "    "
   ]
  },
  {
   "cell_type": "code",
   "execution_count": 14,
   "id": "d574e465",
   "metadata": {},
   "outputs": [],
   "source": [
    "def preprocess(df, class_to_index):\n",
    "    \"\"\"Preprocess the data.\"\"\"\n",
    "    df[\"text\"] = df.title + \" \" + df.description  # feature engineering\n",
    "    df[\"text\"] = df.text.apply(clean_text)  # clean text\n",
    "    df = df.drop(columns=[\"id\", \"created_on\", \"title\", \"description\"], errors=\"ignore\")  # clean dataframe\n",
    "    df = df[[\"text\", \"tag\"]]  # rearrange columns\n",
    "    df[\"tag\"] = df[\"tag\"].map(class_to_index)  # label encoding\n",
    "    outputs = tokenize(df)\n",
    "    return outputs"
   ]
  },
  {
   "cell_type": "code",
   "execution_count": 15,
   "id": "dce71d63",
   "metadata": {},
   "outputs": [],
   "source": [
    "class CustomPreprocessor(Preprocessor):\n",
    "    \n",
    "    def _fit(self, ds):\n",
    "        tags = ds.unique(column=\"tag\")\n",
    "        self.class_to_index = {tag: i for i, tag in enumerate(tags)}\n",
    "        self.index_to_class = {v:k for k, v in self.class_to_index.items()}\n",
    "    \n",
    "    def _transform_pandas(self, batch):\n",
    "        return preprocess(batch, class_to_index=self.class_to_index)"
   ]
  },
  {
   "cell_type": "code",
   "execution_count": 16,
   "id": "dae7ea27",
   "metadata": {},
   "outputs": [],
   "source": [
    "def decode(indices, index_to_class):\n",
    "    return [index_to_class[idx] for idx in indices]"
   ]
  },
  {
   "cell_type": "markdown",
   "id": "1fa7c32f",
   "metadata": {},
   "source": [
    "## Model"
   ]
  },
  {
   "cell_type": "code",
   "execution_count": 17,
   "id": "382a2830",
   "metadata": {},
   "outputs": [],
   "source": [
    "import torch.nn as nn\n",
    "import torch.nn.functional as F\n",
    "from transformers import BertModel"
   ]
  },
  {
   "cell_type": "code",
   "execution_count": 18,
   "id": "785e8e4e",
   "metadata": {},
   "outputs": [
    {
     "name": "stderr",
     "output_type": "stream",
     "text": [
      "Some weights of the model checkpoint at allenai/scibert_scivocab_uncased were not used when initializing BertModel: ['cls.predictions.transform.LayerNorm.bias', 'cls.predictions.transform.dense.weight', 'cls.predictions.decoder.weight', 'cls.predictions.transform.dense.bias', 'cls.predictions.transform.LayerNorm.weight', 'cls.seq_relationship.weight', 'cls.seq_relationship.bias', 'cls.predictions.decoder.bias', 'cls.predictions.bias']\n",
      "- This IS expected if you are initializing BertModel from the checkpoint of a model trained on another task or with another architecture (e.g. initializing a BertForSequenceClassification model from a BertForPreTraining model).\n",
      "- This IS NOT expected if you are initializing BertModel from the checkpoint of a model that you expect to be exactly identical (initializing a BertForSequenceClassification model from a BertForSequenceClassification model).\n"
     ]
    }
   ],
   "source": [
    "llm = BertModel.from_pretrained(\"allenai/scibert_scivocab_uncased\", return_dict=False)\n",
    "embedding_dim = llm.config.hidden_size"
   ]
  },
  {
   "cell_type": "code",
   "execution_count": 19,
   "id": "28885a92",
   "metadata": {},
   "outputs": [],
   "source": [
    "text = \"Transfer learning with transformers for text classification.\"\n",
    "batch = tokenizer([text], return_tensors=\"pt\", padding=\"longest\")\n",
    "seq, pool = llm(input_ids=batch['input_ids'], attention_mask=batch['attention_mask'])"
   ]
  },
  {
   "cell_type": "code",
   "execution_count": 20,
   "id": "34e6b64c",
   "metadata": {},
   "outputs": [
    {
     "data": {
      "text/plain": [
       "torch.Size([1, 10, 768])"
      ]
     },
     "execution_count": 20,
     "metadata": {},
     "output_type": "execute_result"
    }
   ],
   "source": [
    "seq.shape"
   ]
  },
  {
   "cell_type": "code",
   "execution_count": 21,
   "id": "68b8a671",
   "metadata": {},
   "outputs": [
    {
     "data": {
      "text/plain": [
       "torch.Size([1, 768])"
      ]
     },
     "execution_count": 21,
     "metadata": {},
     "output_type": "execute_result"
    }
   ],
   "source": [
    "pool.shape"
   ]
  },
  {
   "cell_type": "code",
   "execution_count": 22,
   "id": "36c3aefc",
   "metadata": {},
   "outputs": [],
   "source": [
    "class FinetunnedLLM(nn.Module):\n",
    "    \n",
    "    def __init__(self, llm, dropout_p, embedding_dim, num_classes):\n",
    "        super(FinetunnedLLM, self).__init__()\n",
    "        self.llm = llm\n",
    "        self.dropout = nn.Dropout(dropout_p)\n",
    "        self.classifier = nn.Linear(embedding_dim, num_classes)\n",
    "    \n",
    "    def forward(self, batch):\n",
    "        ids, mask = batch['ids'], batch['mask']\n",
    "        _, pool = self.llm(input_ids=ids, attention_mask = mask)\n",
    "        \n",
    "        return self.classifier(self.dropout(pool))\n",
    "\n",
    "    @torch.inference_mode\n",
    "    def predict(self, batch):\n",
    "        self.eval()\n",
    "        z = self(batch)\n",
    "        return torch.argmax(z, dim=-1).cpu().numpy()\n",
    "\n",
    "    @torch.inference_mode\n",
    "    def predict_prob(self, batch):\n",
    "        self.eval()\n",
    "        z = self(batch)\n",
    "        y_probs = F.softmax(z, dim=-1).cpu().numpy()\n",
    "        return y_probs"
   ]
  },
  {
   "cell_type": "code",
   "execution_count": 23,
   "id": "8a1e89cf",
   "metadata": {},
   "outputs": [],
   "source": [
    "model = FinetunnedLLM(llm, 0.5, embedding_dim, 4)"
   ]
  },
  {
   "cell_type": "markdown",
   "id": "5b215440",
   "metadata": {},
   "source": [
    "## Data setup"
   ]
  },
  {
   "cell_type": "code",
   "execution_count": 24,
   "id": "87e59ca4",
   "metadata": {},
   "outputs": [],
   "source": [
    "ray.data.DatasetContext.get_current().execution_options.preserve_order = True\n",
    "ds = ray.data.read_csv(DATASET_LOC)\n",
    "ds = ds.random_shuffle(seed=1234)"
   ]
  },
  {
   "cell_type": "code",
   "execution_count": 25,
   "id": "f32fcf2b",
   "metadata": {},
   "outputs": [
    {
     "name": "stderr",
     "output_type": "stream",
     "text": [
      "/mnt/hpc/work/ngkuissi/Made-With-ML/venv/lib/python3.10/site-packages/mlflow/utils/requirements_utils.py:12: UserWarning: pkg_resources is deprecated as an API. See https://setuptools.pypa.io/en/latest/pkg_resources.html. The pkg_resources package is slated for removal as early as 2025-11-30. Refrain from using this package or pin to Setuptools<81.\n",
      "  import pkg_resources\n"
     ]
    }
   ],
   "source": [
    "import sys\n",
    "sys.path.append(\"..\")\n",
    "from madewithml.data import stratify_split"
   ]
  },
  {
   "cell_type": "code",
   "execution_count": 26,
   "id": "85d16440",
   "metadata": {},
   "outputs": [],
   "source": [
    "test_size = 0.2\n",
    "train_ds, val_ds = stratify_split(ds, stratify=\"tag\", test_size=test_size)"
   ]
  },
  {
   "cell_type": "code",
   "execution_count": 27,
   "id": "398e78b8",
   "metadata": {},
   "outputs": [
    {
     "name": "stderr",
     "output_type": "stream",
     "text": [
      "2025-09-14 15:05:20,524\tINFO dataset.py:2796 -- Tip: Use `take_batch()` instead of `take() / show()` to return records in pandas or numpy batch format.\n",
      "2025-09-14 15:05:20,529\tINFO streaming_executor.py:108 -- Starting execution of Dataset. Full logs are in /tmp/ray/session_2025-09-14_15-05-00_735286_1657229/logs/ray-data\n",
      "2025-09-14 15:05:20,530\tINFO streaming_executor.py:109 -- Execution plan of Dataset: InputDataBuffer[Input] -> TaskPoolMapOperator[ReadCSV] -> AllToAllOperator[RandomShuffle] -> AllToAllOperator[Sort] -> AllToAllOperator[MapBatches(_add_split)->MapBatches(_filter_split)->RandomShuffle] -> AllToAllOperator[Aggregate] -> LimitOperator[limit=1]\n"
     ]
    },
    {
     "data": {
      "application/vnd.jupyter.widget-view+json": {
       "model_id": "fec9fba134ef489391403f86304f2551",
       "version_major": 2,
       "version_minor": 0
      },
      "text/plain": [
       "Running 0: 0.00 row [00:00, ? row/s]"
      ]
     },
     "metadata": {},
     "output_type": "display_data"
    },
    {
     "data": {
      "application/vnd.jupyter.widget-view+json": {
       "model_id": "81803a0cd65a4bf98785df4eb00d88fa",
       "version_major": 2,
       "version_minor": 0
      },
      "text/plain": [
       "- ReadCSV->SplitBlocks(192) 1: 0.00 row [00:00, ? row/s]"
      ]
     },
     "metadata": {},
     "output_type": "display_data"
    },
    {
     "data": {
      "application/vnd.jupyter.widget-view+json": {
       "model_id": "8a6de8d87f9b48e8a198465d17108d85",
       "version_major": 2,
       "version_minor": 0
      },
      "text/plain": [
       "- RandomShuffle 2: 0.00 row [00:00, ? row/s]"
      ]
     },
     "metadata": {},
     "output_type": "display_data"
    },
    {
     "data": {
      "application/vnd.jupyter.widget-view+json": {
       "model_id": "ccea64f54b184c0a915a8b6efc0a0d86",
       "version_major": 2,
       "version_minor": 0
      },
      "text/plain": [
       "Shuffle Map 3:   0%|                                                                                          …"
      ]
     },
     "metadata": {},
     "output_type": "display_data"
    },
    {
     "data": {
      "application/vnd.jupyter.widget-view+json": {
       "model_id": "7f74dd4cd4e14338b180606e0409b70a",
       "version_major": 2,
       "version_minor": 0
      },
      "text/plain": [
       "Shuffle Reduce 4:   0%|                                                                                       …"
      ]
     },
     "metadata": {},
     "output_type": "display_data"
    },
    {
     "data": {
      "application/vnd.jupyter.widget-view+json": {
       "model_id": "66bc7b47ae604bffa2ac19c8b2ab3246",
       "version_major": 2,
       "version_minor": 0
      },
      "text/plain": [
       "- Sort 5: 0.00 row [00:00, ? row/s]"
      ]
     },
     "metadata": {},
     "output_type": "display_data"
    },
    {
     "data": {
      "application/vnd.jupyter.widget-view+json": {
       "model_id": "98449ae1fc8245f9b886df23242d2336",
       "version_major": 2,
       "version_minor": 0
      },
      "text/plain": [
       "Sort Sample 6:   0%|                                                                                          …"
      ]
     },
     "metadata": {},
     "output_type": "display_data"
    },
    {
     "data": {
      "application/vnd.jupyter.widget-view+json": {
       "model_id": "356cbcf829974946a36b26726721b0dc",
       "version_major": 2,
       "version_minor": 0
      },
      "text/plain": [
       "Shuffle Map 7:   0%|                                                                                          …"
      ]
     },
     "metadata": {},
     "output_type": "display_data"
    },
    {
     "data": {
      "application/vnd.jupyter.widget-view+json": {
       "model_id": "276f89c7d25d44d19bdfbf404ba16cc3",
       "version_major": 2,
       "version_minor": 0
      },
      "text/plain": [
       "Shuffle Reduce 8:   0%|                                                                                       …"
      ]
     },
     "metadata": {},
     "output_type": "display_data"
    },
    {
     "data": {
      "application/vnd.jupyter.widget-view+json": {
       "model_id": "08076c0038d6497a86dff83451db465e",
       "version_major": 2,
       "version_minor": 0
      },
      "text/plain": [
       "- MapBatches(_add_split)->MapBatches(_filter_split)->RandomShuffle 9: 0.00 row [00:00, ? row/s]"
      ]
     },
     "metadata": {},
     "output_type": "display_data"
    },
    {
     "data": {
      "application/vnd.jupyter.widget-view+json": {
       "model_id": "fb57fa5ed5d14fd1b27f756f15d2789b",
       "version_major": 2,
       "version_minor": 0
      },
      "text/plain": [
       "Shuffle Map 10:   0%|                                                                                         …"
      ]
     },
     "metadata": {},
     "output_type": "display_data"
    },
    {
     "data": {
      "application/vnd.jupyter.widget-view+json": {
       "model_id": "8c8163972a5245c5b48824c2007057c7",
       "version_major": 2,
       "version_minor": 0
      },
      "text/plain": [
       "Shuffle Reduce 11:   0%|                                                                                      …"
      ]
     },
     "metadata": {},
     "output_type": "display_data"
    },
    {
     "data": {
      "application/vnd.jupyter.widget-view+json": {
       "model_id": "c19d232f5099472cac023e0f135be836",
       "version_major": 2,
       "version_minor": 0
      },
      "text/plain": [
       "- Aggregate 12: 0.00 row [00:00, ? row/s]"
      ]
     },
     "metadata": {},
     "output_type": "display_data"
    },
    {
     "data": {
      "application/vnd.jupyter.widget-view+json": {
       "model_id": "d879363aaf174f1dace7f802e07e3c6e",
       "version_major": 2,
       "version_minor": 0
      },
      "text/plain": [
       "Sort Sample 13:   0%|                                                                                         …"
      ]
     },
     "metadata": {},
     "output_type": "display_data"
    },
    {
     "data": {
      "application/vnd.jupyter.widget-view+json": {
       "model_id": "c85df42b0f544f718c77b26da4398cf2",
       "version_major": 2,
       "version_minor": 0
      },
      "text/plain": [
       "Shuffle Map 14:   0%|                                                                                         …"
      ]
     },
     "metadata": {},
     "output_type": "display_data"
    },
    {
     "data": {
      "application/vnd.jupyter.widget-view+json": {
       "model_id": "baa78aef71bb420fb28036605ff9ee86",
       "version_major": 2,
       "version_minor": 0
      },
      "text/plain": [
       "Shuffle Reduce 15:   0%|                                                                                      …"
      ]
     },
     "metadata": {},
     "output_type": "display_data"
    },
    {
     "data": {
      "application/vnd.jupyter.widget-view+json": {
       "model_id": "eab014826cc64565b677b879bd52de86",
       "version_major": 2,
       "version_minor": 0
      },
      "text/plain": [
       "- limit=1 16: 0.00 row [00:00, ? row/s]"
      ]
     },
     "metadata": {},
     "output_type": "display_data"
    },
    {
     "name": "stderr",
     "output_type": "stream",
     "text": [
      "2025-09-14 15:05:20,806\tWARNING progress_bar.py:120 -- Truncating long operator name to 100 characters. To disable this behavior, set `ray.data.DataContext.get_current().DEFAULT_ENABLE_PROGRESS_BAR_NAME_TRUNCATION = False`.\n"
     ]
    }
   ],
   "source": [
    "tags = train_ds.unique(column=\"tag\")\n",
    "class_to_index = {tag: i for i, tag in enumerate(tags)}"
   ]
  },
  {
   "cell_type": "code",
   "execution_count": 28,
   "id": "4fed0b82",
   "metadata": {},
   "outputs": [],
   "source": [
    "sample_ds = train_ds.map_batches(\n",
    "    preprocess,\n",
    "    fn_kwargs={\"class_to_index\": class_to_index},\n",
    "    batch_format=\"pandas\"\n",
    ")"
   ]
  },
  {
   "cell_type": "markdown",
   "id": "f4eae6cc",
   "metadata": {},
   "source": [
    "## Batching"
   ]
  },
  {
   "cell_type": "code",
   "execution_count": 29,
   "id": "e7cd6356",
   "metadata": {},
   "outputs": [
    {
     "name": "stdout",
     "output_type": "stream",
     "text": [
      "Created a temporary directory at /tmp/tmpevnbdfei\n",
      "Writing /tmp/tmpevnbdfei/_remote_module_non_scriptable.py\n"
     ]
    }
   ],
   "source": [
    "from ray.train.torch import get_device"
   ]
  },
  {
   "cell_type": "code",
   "execution_count": 30,
   "id": "8240a82e",
   "metadata": {},
   "outputs": [],
   "source": [
    "device = \"cuda\" if torch.cuda.is_available() else \"cpu\""
   ]
  },
  {
   "cell_type": "code",
   "execution_count": 31,
   "id": "35142d9a",
   "metadata": {},
   "outputs": [],
   "source": [
    "def pad_array(arr, dtype=np.int32):\n",
    "    max_len = max([len(row) for row in arr])\n",
    "    padded_arr = np.zeros((arr.shape[0], max_len), dtype=dtype)\n",
    "    for i, row in enumerate(arr):\n",
    "        padded_arr[i, :len(row)]= row\n",
    "    return padded_arr"
   ]
  },
  {
   "cell_type": "code",
   "execution_count": 32,
   "id": "ebfc85e3",
   "metadata": {},
   "outputs": [],
   "source": [
    "def collate_fn(batch, device=device):\n",
    "    batch[\"ids\"] = pad_array(batch[\"ids\"])\n",
    "    batch[\"mask\"] = pad_array(batch[\"mask\"])\n",
    "    dtypes = {\"ids\": torch.int32, \"mask\": torch.int32, \"target\": torch.int64}\n",
    "    tensor_batch = {}\n",
    "    for key, arr in batch.items():\n",
    "        tensor_batch[key] = torch.as_tensor(list(arr), dtype=dtypes[key], device=device)\n",
    "    return tensor_batch\n",
    "    "
   ]
  },
  {
   "cell_type": "code",
   "execution_count": 36,
   "id": "c9e2129b",
   "metadata": {},
   "outputs": [
    {
     "name": "stderr",
     "output_type": "stream",
     "text": [
      "2025-09-14 15:05:42,828\tINFO streaming_executor.py:108 -- Starting execution of Dataset. Full logs are in /tmp/ray/session_2025-09-14_15-05-00_735286_1657229/logs/ray-data\n",
      "2025-09-14 15:05:42,828\tINFO streaming_executor.py:109 -- Execution plan of Dataset: InputDataBuffer[Input] -> TaskPoolMapOperator[ReadCSV] -> AllToAllOperator[RandomShuffle] -> AllToAllOperator[Sort] -> AllToAllOperator[MapBatches(_add_split)->MapBatches(_filter_split)->RandomShuffle] -> TaskPoolMapOperator[MapBatches(preprocess)] -> LimitOperator[limit=128]\n"
     ]
    },
    {
     "data": {
      "application/vnd.jupyter.widget-view+json": {
       "model_id": "76c5e1d7ae2a46afa922a90916288880",
       "version_major": 2,
       "version_minor": 0
      },
      "text/plain": [
       "Running 0: 0.00 row [00:00, ? row/s]"
      ]
     },
     "metadata": {},
     "output_type": "display_data"
    },
    {
     "data": {
      "application/vnd.jupyter.widget-view+json": {
       "model_id": "dac298c205bd47bd839cd4ecf6f221e5",
       "version_major": 2,
       "version_minor": 0
      },
      "text/plain": [
       "- ReadCSV->SplitBlocks(192) 1: 0.00 row [00:00, ? row/s]"
      ]
     },
     "metadata": {},
     "output_type": "display_data"
    },
    {
     "data": {
      "application/vnd.jupyter.widget-view+json": {
       "model_id": "fa5c29485eb546939594ca610d48c3b3",
       "version_major": 2,
       "version_minor": 0
      },
      "text/plain": [
       "- RandomShuffle 2: 0.00 row [00:00, ? row/s]"
      ]
     },
     "metadata": {},
     "output_type": "display_data"
    },
    {
     "data": {
      "application/vnd.jupyter.widget-view+json": {
       "model_id": "45f0c7474fc34ac0b0ede28b5955db36",
       "version_major": 2,
       "version_minor": 0
      },
      "text/plain": [
       "Shuffle Map 3:   0%|                                                                                          …"
      ]
     },
     "metadata": {},
     "output_type": "display_data"
    },
    {
     "data": {
      "application/vnd.jupyter.widget-view+json": {
       "model_id": "cf289bc64beb495d85cf91b03bc16827",
       "version_major": 2,
       "version_minor": 0
      },
      "text/plain": [
       "Shuffle Reduce 4:   0%|                                                                                       …"
      ]
     },
     "metadata": {},
     "output_type": "display_data"
    },
    {
     "data": {
      "application/vnd.jupyter.widget-view+json": {
       "model_id": "e5044fd5984c4ee38ca6e4dd9238026e",
       "version_major": 2,
       "version_minor": 0
      },
      "text/plain": [
       "- Sort 5: 0.00 row [00:00, ? row/s]"
      ]
     },
     "metadata": {},
     "output_type": "display_data"
    },
    {
     "data": {
      "application/vnd.jupyter.widget-view+json": {
       "model_id": "3b0180dba102403ea5329a48b55f7805",
       "version_major": 2,
       "version_minor": 0
      },
      "text/plain": [
       "Sort Sample 6:   0%|                                                                                          …"
      ]
     },
     "metadata": {},
     "output_type": "display_data"
    },
    {
     "data": {
      "application/vnd.jupyter.widget-view+json": {
       "model_id": "45f87f2d93304553999c6c1c30cce830",
       "version_major": 2,
       "version_minor": 0
      },
      "text/plain": [
       "Shuffle Map 7:   0%|                                                                                          …"
      ]
     },
     "metadata": {},
     "output_type": "display_data"
    },
    {
     "data": {
      "application/vnd.jupyter.widget-view+json": {
       "model_id": "b746d086d3b54f11b47b31b902f185c3",
       "version_major": 2,
       "version_minor": 0
      },
      "text/plain": [
       "Shuffle Reduce 8:   0%|                                                                                       …"
      ]
     },
     "metadata": {},
     "output_type": "display_data"
    },
    {
     "data": {
      "application/vnd.jupyter.widget-view+json": {
       "model_id": "971566c91f4a452283db01b5bc460c3b",
       "version_major": 2,
       "version_minor": 0
      },
      "text/plain": [
       "- MapBatches(_add_split)->MapBatches(_filter_split)->RandomShuffle 9: 0.00 row [00:00, ? row/s]"
      ]
     },
     "metadata": {},
     "output_type": "display_data"
    },
    {
     "data": {
      "application/vnd.jupyter.widget-view+json": {
       "model_id": "e7d1483e1cc24a61b98771b21cc0443e",
       "version_major": 2,
       "version_minor": 0
      },
      "text/plain": [
       "Shuffle Map 10:   0%|                                                                                         …"
      ]
     },
     "metadata": {},
     "output_type": "display_data"
    },
    {
     "data": {
      "application/vnd.jupyter.widget-view+json": {
       "model_id": "1040e32acc9e4fe297a5af3589d2dbb3",
       "version_major": 2,
       "version_minor": 0
      },
      "text/plain": [
       "Shuffle Reduce 11:   0%|                                                                                      …"
      ]
     },
     "metadata": {},
     "output_type": "display_data"
    },
    {
     "data": {
      "application/vnd.jupyter.widget-view+json": {
       "model_id": "013f9ad0cd614edea829cf6a0876e131",
       "version_major": 2,
       "version_minor": 0
      },
      "text/plain": [
       "- MapBatches(preprocess) 12: 0.00 row [00:00, ? row/s]"
      ]
     },
     "metadata": {},
     "output_type": "display_data"
    },
    {
     "data": {
      "application/vnd.jupyter.widget-view+json": {
       "model_id": "ca3a94cacc6440938ed740d02e851080",
       "version_major": 2,
       "version_minor": 0
      },
      "text/plain": [
       "- limit=128 13: 0.00 row [00:00, ? row/s]"
      ]
     },
     "metadata": {},
     "output_type": "display_data"
    }
   ],
   "source": [
    "sample_batch = sample_ds.take_batch(128)"
   ]
  },
  {
   "cell_type": "code",
   "execution_count": 37,
   "id": "0cecbe56",
   "metadata": {},
   "outputs": [
    {
     "data": {
      "text/plain": [
       "{'ids': tensor([[  102,  1438,  4706,  ...,     0,     0,     0],\n",
       "         [  102,  2389, 29477,  ...,     0,     0,     0],\n",
       "         [  102, 24638, 15781,  ...,     0,     0,     0],\n",
       "         ...,\n",
       "         [  102,  1613, 15037,  ...,     0,     0,     0],\n",
       "         [  102,  1572,  8039,  ...,     0,     0,     0],\n",
       "         [  102,   856,  3997,  ...,     0,     0,     0]], device='cuda:0',\n",
       "        dtype=torch.int32),\n",
       " 'mask': tensor([[1, 1, 1,  ..., 0, 0, 0],\n",
       "         [1, 1, 1,  ..., 0, 0, 0],\n",
       "         [1, 1, 1,  ..., 0, 0, 0],\n",
       "         ...,\n",
       "         [1, 1, 1,  ..., 0, 0, 0],\n",
       "         [1, 1, 1,  ..., 0, 0, 0],\n",
       "         [1, 1, 1,  ..., 0, 0, 0]], device='cuda:0', dtype=torch.int32),\n",
       " 'target': tensor([1, 2, 3, 2, 0, 0, 0, 2, 2, 1, 0, 1, 2, 2, 1, 2, 3, 2, 0, 0, 3, 2, 2, 0,\n",
       "         0, 2, 2, 2, 2, 3, 2, 2, 0, 0, 1, 0, 0, 3, 3, 2, 2, 0, 0, 2, 2, 0, 0, 1,\n",
       "         0, 0, 3, 2, 2, 0, 0, 2, 2, 1, 3, 0, 0, 3, 0, 0, 2, 2, 0, 0, 1, 0, 0, 3,\n",
       "         2, 2, 0, 0, 2, 2, 3, 2, 2, 0, 0, 2, 2, 1, 3, 2, 2, 3, 0, 0, 2, 2, 0, 0,\n",
       "         2, 2, 3, 2, 2, 0, 0, 3, 2, 2, 0, 0, 0, 0, 2, 2, 3, 3, 0, 0, 3, 3, 2, 2,\n",
       "         0, 0, 1, 0, 0, 2, 2, 1], device='cuda:0')}"
      ]
     },
     "execution_count": 37,
     "metadata": {},
     "output_type": "execute_result"
    }
   ],
   "source": [
    "collate_fn(sample_batch)"
   ]
  },
  {
   "cell_type": "markdown",
   "id": "3eb67c53",
   "metadata": {},
   "source": [
    "## Utilities"
   ]
  },
  {
   "cell_type": "code",
   "execution_count": 38,
   "id": "9fbcc65a",
   "metadata": {},
   "outputs": [],
   "source": [
    "from ray.air import session\n",
    "from ray.air.config import CheckpointConfig, DatasetConfig, RunConfig, ScalingConfig\n",
    "from ray.train.torch import prepare_model\n",
    "from ray.train.torch import TorchCheckpoint, TorchTrainer\n",
    "import torch.nn.functional as F"
   ]
  },
  {
   "cell_type": "code",
   "execution_count": 39,
   "id": "e03353ab",
   "metadata": {},
   "outputs": [],
   "source": [
    "def train_step(ds, model, batch_size, num_classes, loss_fn, optimizer):\n",
    "    model.train()\n",
    "    loss = 0.0\n",
    "    ds_generator = ds.iter_torch_batches(batch_size=batch_size, collate_fn=collate_fn)\n",
    "    for i, batch in enumerate(ds_generator):\n",
    "        optimizer.zero_grad()\n",
    "        z = model(batch)\n",
    "        targets = batch['target']\n",
    "        e_loss = loss_fn(z.view(-1, z.shape[-1]), targets)\n",
    "        e_loss.backward()\n",
    "        optimizer.step()\n",
    "        loss += (e_loss.detach().item() - loss) / (i + 1)\n",
    "    return loss"
   ]
  },
  {
   "cell_type": "code",
   "execution_count": 40,
   "id": "15acda71",
   "metadata": {},
   "outputs": [],
   "source": [
    "def eval_step(ds, batch_size, model, num_classes, loss_fn):\n",
    "    model.eval()\n",
    "    loss = 0.0\n",
    "    y_trues, y_preds = [], []\n",
    "    ds_generator = ds.iter_torch_batches(batch_size=batch_size, collate_fn=collate_fn)\n",
    "    \n",
    "    with torch.inference_mode():\n",
    "        for i, batch in enumerate(ds_generator):\n",
    "            z = model(batch)\n",
    "            targets = batch['target']\n",
    "            e_loss = loss_fn(z.view(-1, z.shape[-1]), targets).item()\n",
    "            loss += (e_loss - loss) / (i + 1)\n",
    "            y_trues.extend(batch['target'].cpu().numpy())\n",
    "            y_preds.extend(torch.argmax(z, dim=-1).cpu().numpy())\n",
    "            \n",
    "    return loss, np.vstack(y_trues), np.vstack(y_preds)\n",
    "            "
   ]
  },
  {
   "cell_type": "code",
   "execution_count": 41,
   "id": "30978532",
   "metadata": {},
   "outputs": [],
   "source": [
    "def train_loop_per_worker(config):\n",
    "    dropout = config['dropout_p']\n",
    "    lr = config['lr']\n",
    "    lr_factor = config['lr_factor']\n",
    "    lr_patience = config['lr_patience']\n",
    "    num_epochs = config['num_epochs']\n",
    "    batch_size = config['batch_size']\n",
    "    num_classes = config['num_classes']\n",
    "    device = config['device']\n",
    "    \n",
    "    #set_seed()\n",
    "    train_ds = session.get_dataset_shard(\"train\")\n",
    "    val_ds = session.get_dataset_shard(\"val\")\n",
    "    \n",
    "    llm = BertModel.from_pretrained(\"allenai/scibert_scivocab_uncased\", return_dict=False).cuda()\n",
    "    model = FinetunnedLLM(llm, dropout, llm.config.hidden_size, num_classes)\n",
    "    model = prepare_model(model)\n",
    "    \n",
    "    loss_fn = nn.CrossEntropyLoss()\n",
    "    optimizer = torch.optim.Adam(model.parameters(), lr=lr)\n",
    "    scheduler = torch.optim.lr_scheduler.ReduceLROnPlateau(optimizer, mode=\"min\", factor=lr_factor, patience=lr_patience)\n",
    "    \n",
    "    batch_size_per_worker = batch_size // session.get_world_size()\n",
    "    for epoch in range(num_epochs):\n",
    "        train_loss = train_step(train_ds, model, batch_size_per_worker, num_classes, loss_fn, optimizer)\n",
    "        val_loss, _, _ = eval_step(val_ds, batch_size_per_worker, model, num_classes, loss_fn)\n",
    "        scheduler.step(val_loss)\n",
    "        \n",
    "        metrics = dict(epoch=epoch, lr=optimizer.param_groups[0][\"lr\"], train_loss=train_loss, val_loss=val_loss)\n",
    "        checkpoint = TorchCheckpoint.from_state_dict(model.state_dict())\n",
    "        session.report(metrics, checkpoint=checkpoint)\n",
    "    "
   ]
  },
  {
   "cell_type": "code",
   "execution_count": 42,
   "id": "c0d3e304",
   "metadata": {},
   "outputs": [],
   "source": [
    "train_loop_config = {\n",
    "    \"dropout_p\": 0.5,\n",
    "    \"lr\": 1e-4,\n",
    "    \"lr_factor\": 0.8,\n",
    "    \"lr_patience\": 3,\n",
    "    \"num_epochs\": 10,\n",
    "    \"batch_size\": 128,\n",
    "    \"num_classes\": 4,\n",
    "    \"device\": device\n",
    "}"
   ]
  },
  {
   "cell_type": "code",
   "execution_count": 43,
   "id": "56a53bce",
   "metadata": {},
   "outputs": [],
   "source": [
    "num_workers = 1\n",
    "resources_per_worker = {\"CPU\": 10, \"GPU\": 1}"
   ]
  },
  {
   "cell_type": "code",
   "execution_count": 44,
   "id": "7786f31f",
   "metadata": {},
   "outputs": [],
   "source": [
    "from ray.train import ScalingConfig\n",
    "\n",
    "scaling_config = ScalingConfig(\n",
    "    num_workers=num_workers,\n",
    "    use_gpu=bool(resources_per_worker.get(\"GPU\", 0)),\n",
    "    resources_per_worker=resources_per_worker,\n",
    ")"
   ]
  },
  {
   "cell_type": "code",
   "execution_count": 45,
   "id": "6b7f6c13",
   "metadata": {},
   "outputs": [],
   "source": [
    "checkpoint_config = CheckpointConfig(num_to_keep=1, checkpoint_score_attribute=\"val_loss\", checkpoint_score_order=\"min\")"
   ]
  },
  {
   "cell_type": "code",
   "execution_count": 46,
   "id": "ef2db3e8",
   "metadata": {},
   "outputs": [],
   "source": [
    "run_config = RunConfig(name=\"llm\", storage_path=\"~/ray_results\", checkpoint_config=checkpoint_config)"
   ]
  },
  {
   "cell_type": "markdown",
   "id": "e0e43399",
   "metadata": {},
   "source": [
    "## Training"
   ]
  },
  {
   "cell_type": "code",
   "execution_count": 47,
   "id": "75966038",
   "metadata": {},
   "outputs": [],
   "source": [
    "ds = load_data()\n",
    "train_ds, val_ds = stratify_split(ds, stratify=\"tag\", test_size=test_size)"
   ]
  },
  {
   "cell_type": "code",
   "execution_count": 48,
   "id": "7dc29f65",
   "metadata": {},
   "outputs": [
    {
     "name": "stderr",
     "output_type": "stream",
     "text": [
      "2025-09-14 15:06:03,115\tINFO streaming_executor.py:108 -- Starting execution of Dataset. Full logs are in /tmp/ray/session_2025-09-14_15-05-00_735286_1657229/logs/ray-data\n",
      "2025-09-14 15:06:03,116\tINFO streaming_executor.py:109 -- Execution plan of Dataset: InputDataBuffer[Input] -> TaskPoolMapOperator[ReadCSV] -> AllToAllOperator[RandomShuffle] -> AllToAllOperator[Sort] -> AllToAllOperator[MapBatches(_add_split)->MapBatches(_filter_split)->RandomShuffle] -> AllToAllOperator[Aggregate] -> LimitOperator[limit=1]\n"
     ]
    },
    {
     "data": {
      "application/vnd.jupyter.widget-view+json": {
       "model_id": "a883079f23ef48f4a849b5776d0a81f7",
       "version_major": 2,
       "version_minor": 0
      },
      "text/plain": [
       "Running 0: 0.00 row [00:00, ? row/s]"
      ]
     },
     "metadata": {},
     "output_type": "display_data"
    },
    {
     "data": {
      "application/vnd.jupyter.widget-view+json": {
       "model_id": "875adb010c6946b3b14436f6a817f472",
       "version_major": 2,
       "version_minor": 0
      },
      "text/plain": [
       "- ReadCSV->SplitBlocks(192) 1: 0.00 row [00:00, ? row/s]"
      ]
     },
     "metadata": {},
     "output_type": "display_data"
    },
    {
     "data": {
      "application/vnd.jupyter.widget-view+json": {
       "model_id": "fb4d481735184d7790e508a0966b66c6",
       "version_major": 2,
       "version_minor": 0
      },
      "text/plain": [
       "- RandomShuffle 2: 0.00 row [00:00, ? row/s]"
      ]
     },
     "metadata": {},
     "output_type": "display_data"
    },
    {
     "data": {
      "application/vnd.jupyter.widget-view+json": {
       "model_id": "506af80d5fa040078ba859baf2103292",
       "version_major": 2,
       "version_minor": 0
      },
      "text/plain": [
       "Shuffle Map 3:   0%|                                                                                          …"
      ]
     },
     "metadata": {},
     "output_type": "display_data"
    },
    {
     "data": {
      "application/vnd.jupyter.widget-view+json": {
       "model_id": "a3f5639966fa45e0882d99e1d8bb5b77",
       "version_major": 2,
       "version_minor": 0
      },
      "text/plain": [
       "Shuffle Reduce 4:   0%|                                                                                       …"
      ]
     },
     "metadata": {},
     "output_type": "display_data"
    },
    {
     "data": {
      "application/vnd.jupyter.widget-view+json": {
       "model_id": "ed06a8b5515e4722bc877cab638b6690",
       "version_major": 2,
       "version_minor": 0
      },
      "text/plain": [
       "- Sort 5: 0.00 row [00:00, ? row/s]"
      ]
     },
     "metadata": {},
     "output_type": "display_data"
    },
    {
     "data": {
      "application/vnd.jupyter.widget-view+json": {
       "model_id": "bb93e04cd26c426d9b5fe9cd3b19510b",
       "version_major": 2,
       "version_minor": 0
      },
      "text/plain": [
       "Sort Sample 6:   0%|                                                                                          …"
      ]
     },
     "metadata": {},
     "output_type": "display_data"
    },
    {
     "data": {
      "application/vnd.jupyter.widget-view+json": {
       "model_id": "f43ca20352f94b1bad8903a1fb7d01d6",
       "version_major": 2,
       "version_minor": 0
      },
      "text/plain": [
       "Shuffle Map 7:   0%|                                                                                          …"
      ]
     },
     "metadata": {},
     "output_type": "display_data"
    },
    {
     "data": {
      "application/vnd.jupyter.widget-view+json": {
       "model_id": "bedf4396fe4e4f39b47e8495d4136f12",
       "version_major": 2,
       "version_minor": 0
      },
      "text/plain": [
       "Shuffle Reduce 8:   0%|                                                                                       …"
      ]
     },
     "metadata": {},
     "output_type": "display_data"
    },
    {
     "data": {
      "application/vnd.jupyter.widget-view+json": {
       "model_id": "f23c330397d14de69fc3896c910847bf",
       "version_major": 2,
       "version_minor": 0
      },
      "text/plain": [
       "- MapBatches(_add_split)->MapBatches(_filter_split)->RandomShuffle 9: 0.00 row [00:00, ? row/s]"
      ]
     },
     "metadata": {},
     "output_type": "display_data"
    },
    {
     "data": {
      "application/vnd.jupyter.widget-view+json": {
       "model_id": "d53a8771f5c24415809c179313bca0ce",
       "version_major": 2,
       "version_minor": 0
      },
      "text/plain": [
       "Shuffle Map 10:   0%|                                                                                         …"
      ]
     },
     "metadata": {},
     "output_type": "display_data"
    },
    {
     "data": {
      "application/vnd.jupyter.widget-view+json": {
       "model_id": "087c4a62afbb4e24b50bc480ac9c6140",
       "version_major": 2,
       "version_minor": 0
      },
      "text/plain": [
       "Shuffle Reduce 11:   0%|                                                                                      …"
      ]
     },
     "metadata": {},
     "output_type": "display_data"
    },
    {
     "data": {
      "application/vnd.jupyter.widget-view+json": {
       "model_id": "61cf1590298d4c3b9a7739b4151caee5",
       "version_major": 2,
       "version_minor": 0
      },
      "text/plain": [
       "- Aggregate 12: 0.00 row [00:00, ? row/s]"
      ]
     },
     "metadata": {},
     "output_type": "display_data"
    },
    {
     "data": {
      "application/vnd.jupyter.widget-view+json": {
       "model_id": "657409c20a5940d2a6b14fde669c93e9",
       "version_major": 2,
       "version_minor": 0
      },
      "text/plain": [
       "Sort Sample 13:   0%|                                                                                         …"
      ]
     },
     "metadata": {},
     "output_type": "display_data"
    },
    {
     "data": {
      "application/vnd.jupyter.widget-view+json": {
       "model_id": "229944a0317c465591e141680220e58a",
       "version_major": 2,
       "version_minor": 0
      },
      "text/plain": [
       "Shuffle Map 14:   0%|                                                                                         …"
      ]
     },
     "metadata": {},
     "output_type": "display_data"
    },
    {
     "data": {
      "application/vnd.jupyter.widget-view+json": {
       "model_id": "d46168442034420da04f0d9f64089ddc",
       "version_major": 2,
       "version_minor": 0
      },
      "text/plain": [
       "Shuffle Reduce 15:   0%|                                                                                      …"
      ]
     },
     "metadata": {},
     "output_type": "display_data"
    },
    {
     "data": {
      "application/vnd.jupyter.widget-view+json": {
       "model_id": "a3919d1da75f4120a6c49541ed35ffae",
       "version_major": 2,
       "version_minor": 0
      },
      "text/plain": [
       "- limit=1 16: 0.00 row [00:00, ? row/s]"
      ]
     },
     "metadata": {},
     "output_type": "display_data"
    }
   ],
   "source": [
    "preprocessor = CustomPreprocessor()\n",
    "train_ds = preprocessor.fit_transform(train_ds)\n",
    "val_ds = preprocessor.transform(val_ds)"
   ]
  },
  {
   "cell_type": "code",
   "execution_count": 49,
   "id": "067ce3cd",
   "metadata": {},
   "outputs": [
    {
     "name": "stderr",
     "output_type": "stream",
     "text": [
      "2025-09-14 15:06:08,418\tINFO streaming_executor.py:108 -- Starting execution of Dataset. Full logs are in /tmp/ray/session_2025-09-14_15-05-00_735286_1657229/logs/ray-data\n",
      "2025-09-14 15:06:08,418\tINFO streaming_executor.py:109 -- Execution plan of Dataset: InputDataBuffer[Input] -> TaskPoolMapOperator[ReadCSV] -> AllToAllOperator[RandomShuffle] -> AllToAllOperator[Sort] -> AllToAllOperator[MapBatches(_add_split)->MapBatches(_filter_split)->RandomShuffle] -> TaskPoolMapOperator[CustomPreprocessor]\n"
     ]
    },
    {
     "data": {
      "application/vnd.jupyter.widget-view+json": {
       "model_id": "ba9320fc915347fe89cdcc8bbf085511",
       "version_major": 2,
       "version_minor": 0
      },
      "text/plain": [
       "Running 0: 0.00 row [00:00, ? row/s]"
      ]
     },
     "metadata": {},
     "output_type": "display_data"
    },
    {
     "data": {
      "application/vnd.jupyter.widget-view+json": {
       "model_id": "b8a3a77116fa45d7acfa7a4f4fc91bfd",
       "version_major": 2,
       "version_minor": 0
      },
      "text/plain": [
       "- ReadCSV->SplitBlocks(192) 1: 0.00 row [00:00, ? row/s]"
      ]
     },
     "metadata": {},
     "output_type": "display_data"
    },
    {
     "data": {
      "application/vnd.jupyter.widget-view+json": {
       "model_id": "ce5ceedb17ec4f85995de19ab1c34c21",
       "version_major": 2,
       "version_minor": 0
      },
      "text/plain": [
       "- RandomShuffle 2: 0.00 row [00:00, ? row/s]"
      ]
     },
     "metadata": {},
     "output_type": "display_data"
    },
    {
     "data": {
      "application/vnd.jupyter.widget-view+json": {
       "model_id": "11acb96ef57f4a879fc1c6216c717bdc",
       "version_major": 2,
       "version_minor": 0
      },
      "text/plain": [
       "Shuffle Map 3:   0%|                                                                                          …"
      ]
     },
     "metadata": {},
     "output_type": "display_data"
    },
    {
     "data": {
      "application/vnd.jupyter.widget-view+json": {
       "model_id": "b4e73efe19364b359dc22d7652234b8d",
       "version_major": 2,
       "version_minor": 0
      },
      "text/plain": [
       "Shuffle Reduce 4:   0%|                                                                                       …"
      ]
     },
     "metadata": {},
     "output_type": "display_data"
    },
    {
     "data": {
      "application/vnd.jupyter.widget-view+json": {
       "model_id": "581e177a5f6840c8b9eeaf6d8be186e3",
       "version_major": 2,
       "version_minor": 0
      },
      "text/plain": [
       "- Sort 5: 0.00 row [00:00, ? row/s]"
      ]
     },
     "metadata": {},
     "output_type": "display_data"
    },
    {
     "data": {
      "application/vnd.jupyter.widget-view+json": {
       "model_id": "e0a9e597c411440091ffb0ea77371073",
       "version_major": 2,
       "version_minor": 0
      },
      "text/plain": [
       "Sort Sample 6:   0%|                                                                                          …"
      ]
     },
     "metadata": {},
     "output_type": "display_data"
    },
    {
     "data": {
      "application/vnd.jupyter.widget-view+json": {
       "model_id": "dcb813fc1a7f46c18213b33e3ed9e9b1",
       "version_major": 2,
       "version_minor": 0
      },
      "text/plain": [
       "Shuffle Map 7:   0%|                                                                                          …"
      ]
     },
     "metadata": {},
     "output_type": "display_data"
    },
    {
     "data": {
      "application/vnd.jupyter.widget-view+json": {
       "model_id": "efeab425069c4d7ea7b88fda19d6cf96",
       "version_major": 2,
       "version_minor": 0
      },
      "text/plain": [
       "Shuffle Reduce 8:   0%|                                                                                       …"
      ]
     },
     "metadata": {},
     "output_type": "display_data"
    },
    {
     "data": {
      "application/vnd.jupyter.widget-view+json": {
       "model_id": "4f24383c445e4efd992808b612596f81",
       "version_major": 2,
       "version_minor": 0
      },
      "text/plain": [
       "- MapBatches(_add_split)->MapBatches(_filter_split)->RandomShuffle 9: 0.00 row [00:00, ? row/s]"
      ]
     },
     "metadata": {},
     "output_type": "display_data"
    },
    {
     "data": {
      "application/vnd.jupyter.widget-view+json": {
       "model_id": "568150237b8e462db8e86c58340545cf",
       "version_major": 2,
       "version_minor": 0
      },
      "text/plain": [
       "Shuffle Map 10:   0%|                                                                                         …"
      ]
     },
     "metadata": {},
     "output_type": "display_data"
    },
    {
     "data": {
      "application/vnd.jupyter.widget-view+json": {
       "model_id": "c0fd7a6df3d44317b1407a1570965f45",
       "version_major": 2,
       "version_minor": 0
      },
      "text/plain": [
       "Shuffle Reduce 11:   0%|                                                                                      …"
      ]
     },
     "metadata": {},
     "output_type": "display_data"
    },
    {
     "data": {
      "application/vnd.jupyter.widget-view+json": {
       "model_id": "8814e2a222c04bbcb899473ee33ee63d",
       "version_major": 2,
       "version_minor": 0
      },
      "text/plain": [
       "- CustomPreprocessor 12: 0.00 row [00:00, ? row/s]"
      ]
     },
     "metadata": {},
     "output_type": "display_data"
    },
    {
     "name": "stderr",
     "output_type": "stream",
     "text": [
      "2025-09-14 15:06:15,113\tINFO streaming_executor.py:108 -- Starting execution of Dataset. Full logs are in /tmp/ray/session_2025-09-14_15-05-00_735286_1657229/logs/ray-data\n",
      "2025-09-14 15:06:15,113\tINFO streaming_executor.py:109 -- Execution plan of Dataset: InputDataBuffer[Input] -> TaskPoolMapOperator[ReadCSV] -> AllToAllOperator[RandomShuffle] -> AllToAllOperator[Sort] -> AllToAllOperator[MapBatches(_add_split)->MapBatches(_filter_split)->RandomShuffle] -> TaskPoolMapOperator[CustomPreprocessor]\n"
     ]
    },
    {
     "data": {
      "application/vnd.jupyter.widget-view+json": {
       "model_id": "008a02c11e96406f95ac68956f23d143",
       "version_major": 2,
       "version_minor": 0
      },
      "text/plain": [
       "Running 0: 0.00 row [00:00, ? row/s]"
      ]
     },
     "metadata": {},
     "output_type": "display_data"
    },
    {
     "data": {
      "application/vnd.jupyter.widget-view+json": {
       "model_id": "14045330511840f189e70fc5ec0ced64",
       "version_major": 2,
       "version_minor": 0
      },
      "text/plain": [
       "- ReadCSV->SplitBlocks(192) 1: 0.00 row [00:00, ? row/s]"
      ]
     },
     "metadata": {},
     "output_type": "display_data"
    },
    {
     "data": {
      "application/vnd.jupyter.widget-view+json": {
       "model_id": "1ac73cd63cd04960b999c3851a0fd7e7",
       "version_major": 2,
       "version_minor": 0
      },
      "text/plain": [
       "- RandomShuffle 2: 0.00 row [00:00, ? row/s]"
      ]
     },
     "metadata": {},
     "output_type": "display_data"
    },
    {
     "data": {
      "application/vnd.jupyter.widget-view+json": {
       "model_id": "54238e9f2f044de897b2bee416ff5db6",
       "version_major": 2,
       "version_minor": 0
      },
      "text/plain": [
       "Shuffle Map 3:   0%|                                                                                          …"
      ]
     },
     "metadata": {},
     "output_type": "display_data"
    },
    {
     "data": {
      "application/vnd.jupyter.widget-view+json": {
       "model_id": "e166024e1d624ba186eb5af269e13d10",
       "version_major": 2,
       "version_minor": 0
      },
      "text/plain": [
       "Shuffle Reduce 4:   0%|                                                                                       …"
      ]
     },
     "metadata": {},
     "output_type": "display_data"
    },
    {
     "data": {
      "application/vnd.jupyter.widget-view+json": {
       "model_id": "f8ced34fee5743249b7b65dbb7d6fc06",
       "version_major": 2,
       "version_minor": 0
      },
      "text/plain": [
       "- Sort 5: 0.00 row [00:00, ? row/s]"
      ]
     },
     "metadata": {},
     "output_type": "display_data"
    },
    {
     "data": {
      "application/vnd.jupyter.widget-view+json": {
       "model_id": "865c2d98b89a40efa9eb3b1c204600d9",
       "version_major": 2,
       "version_minor": 0
      },
      "text/plain": [
       "Sort Sample 6:   0%|                                                                                          …"
      ]
     },
     "metadata": {},
     "output_type": "display_data"
    },
    {
     "data": {
      "application/vnd.jupyter.widget-view+json": {
       "model_id": "4d27d6505abd49718f62ee3ade8c60ab",
       "version_major": 2,
       "version_minor": 0
      },
      "text/plain": [
       "Shuffle Map 7:   0%|                                                                                          …"
      ]
     },
     "metadata": {},
     "output_type": "display_data"
    },
    {
     "data": {
      "application/vnd.jupyter.widget-view+json": {
       "model_id": "8d70e24b267143b180a9b57c900ff8f9",
       "version_major": 2,
       "version_minor": 0
      },
      "text/plain": [
       "Shuffle Reduce 8:   0%|                                                                                       …"
      ]
     },
     "metadata": {},
     "output_type": "display_data"
    },
    {
     "data": {
      "application/vnd.jupyter.widget-view+json": {
       "model_id": "1a6581320b8e459ca336c473d40b732e",
       "version_major": 2,
       "version_minor": 0
      },
      "text/plain": [
       "- MapBatches(_add_split)->MapBatches(_filter_split)->RandomShuffle 9: 0.00 row [00:00, ? row/s]"
      ]
     },
     "metadata": {},
     "output_type": "display_data"
    },
    {
     "data": {
      "application/vnd.jupyter.widget-view+json": {
       "model_id": "a802756c56ae4276af3396ad4f303f06",
       "version_major": 2,
       "version_minor": 0
      },
      "text/plain": [
       "Shuffle Map 10:   0%|                                                                                         …"
      ]
     },
     "metadata": {},
     "output_type": "display_data"
    },
    {
     "data": {
      "application/vnd.jupyter.widget-view+json": {
       "model_id": "74ac71f4ca1e452e99e986360e36faff",
       "version_major": 2,
       "version_minor": 0
      },
      "text/plain": [
       "Shuffle Reduce 11:   0%|                                                                                      …"
      ]
     },
     "metadata": {},
     "output_type": "display_data"
    },
    {
     "data": {
      "application/vnd.jupyter.widget-view+json": {
       "model_id": "bb7ea78d93fe4794a34277d30cf5eaf0",
       "version_major": 2,
       "version_minor": 0
      },
      "text/plain": [
       "- CustomPreprocessor 12: 0.00 row [00:00, ? row/s]"
      ]
     },
     "metadata": {},
     "output_type": "display_data"
    }
   ],
   "source": [
    "train_ds = train_ds.materialize()\n",
    "val_ds = val_ds.materialize()"
   ]
  },
  {
   "cell_type": "code",
   "execution_count": 50,
   "id": "fdffef6a",
   "metadata": {},
   "outputs": [],
   "source": [
    "from ray.train import DataConfig"
   ]
  },
  {
   "cell_type": "code",
   "execution_count": 51,
   "id": "83d291de",
   "metadata": {},
   "outputs": [],
   "source": [
    "dataset_config = DataConfig([\"train\", \"val\"])"
   ]
  },
  {
   "cell_type": "code",
   "execution_count": 52,
   "id": "df11a869",
   "metadata": {},
   "outputs": [],
   "source": [
    "trainer = TorchTrainer(\n",
    "    train_loop_per_worker=train_loop_per_worker,\n",
    "    train_loop_config=train_loop_config,\n",
    "    scaling_config=scaling_config,\n",
    "    run_config= run_config,\n",
    "    datasets= {\"train\": train_ds, \"val\": val_ds},\n",
    "    dataset_config=dataset_config,\n",
    "    #preprocessor=preprocessor   \n",
    ")"
   ]
  },
  {
   "cell_type": "code",
   "execution_count": 53,
   "id": "0e34d12c",
   "metadata": {},
   "outputs": [
    {
     "name": "stderr",
     "output_type": "stream",
     "text": [
      "2025-09-14 15:06:25,113\tINFO tune.py:616 -- [output] This uses the legacy output and progress reporter, as Jupyter notebooks are not supported by the new engine, yet. For more information, please see https://github.com/ray-project/ray/issues/36949\n"
     ]
    },
    {
     "name": "stdout",
     "output_type": "stream",
     "text": [
      "== Status ==\n",
      "Current time: 2025-09-14 15:06:25 (running for 00:00:00.11)\n",
      "Using FIFO scheduling algorithm.\n",
      "Logical resource usage: 11.0/96 CPUs, 1.0/1 GPUs (0.0/1.0 accelerator_type:RTX)\n",
      "Result logdir: /tmp/ray/session_2025-09-14_15-05-00_735286_1657229/artifacts/2025-09-14_15-06-25/llm/driver_artifacts\n",
      "Number of trials: 1/1 (1 PENDING)\n",
      "\n",
      "\n",
      "== Status ==\n",
      "Current time: 2025-09-14 15:06:30 (running for 00:00:05.13)\n",
      "Using FIFO scheduling algorithm.\n",
      "Logical resource usage: 11.0/96 CPUs, 1.0/1 GPUs (0.0/1.0 accelerator_type:RTX)\n",
      "Result logdir: /tmp/ray/session_2025-09-14_15-05-00_735286_1657229/artifacts/2025-09-14_15-06-25/llm/driver_artifacts\n",
      "Number of trials: 1/1 (1 PENDING)\n",
      "\n",
      "\n",
      "== Status ==\n",
      "Current time: 2025-09-14 15:06:35 (running for 00:00:10.16)\n",
      "Using FIFO scheduling algorithm.\n",
      "Logical resource usage: 11.0/96 CPUs, 1.0/1 GPUs (0.0/1.0 accelerator_type:RTX)\n",
      "Result logdir: /tmp/ray/session_2025-09-14_15-05-00_735286_1657229/artifacts/2025-09-14_15-06-25/llm/driver_artifacts\n",
      "Number of trials: 1/1 (1 RUNNING)\n",
      "\n",
      "\n"
     ]
    },
    {
     "data": {
      "application/vnd.jupyter.widget-view+json": {
       "model_id": "0a485c6912104b0fa0b2d967cb707998",
       "version_major": 2,
       "version_minor": 0
      },
      "text/plain": [
       "(pid=1667582) Running 0: 0.00 row [00:00, ? row/s]"
      ]
     },
     "metadata": {},
     "output_type": "display_data"
    },
    {
     "data": {
      "application/vnd.jupyter.widget-view+json": {
       "model_id": "bf6c17ee998440a0a08e64423a42887e",
       "version_major": 2,
       "version_minor": 0
      },
      "text/plain": [
       "(pid=1667582) - split(1, equal=True) 1: 0.00 row [00:00, ? row/s]"
      ]
     },
     "metadata": {},
     "output_type": "display_data"
    },
    {
     "name": "stdout",
     "output_type": "stream",
     "text": [
      "== Status ==\n",
      "Current time: 2025-09-14 15:06:40 (running for 00:00:15.18)\n",
      "Using FIFO scheduling algorithm.\n",
      "Logical resource usage: 11.0/96 CPUs, 1.0/1 GPUs (0.0/1.0 accelerator_type:RTX)\n",
      "Result logdir: /tmp/ray/session_2025-09-14_15-05-00_735286_1657229/artifacts/2025-09-14_15-06-25/llm/driver_artifacts\n",
      "Number of trials: 1/1 (1 RUNNING)\n",
      "\n",
      "\n"
     ]
    },
    {
     "data": {
      "application/vnd.jupyter.widget-view+json": {
       "model_id": "73e86fc4ee7e48379f0c317ae672d9a2",
       "version_major": 2,
       "version_minor": 0
      },
      "text/plain": [
       "(pid=1667581) Running 0: 0.00 row [00:00, ? row/s]"
      ]
     },
     "metadata": {},
     "output_type": "display_data"
    },
    {
     "data": {
      "application/vnd.jupyter.widget-view+json": {
       "model_id": "78024a51609045c795d39cfcb63cc569",
       "version_major": 2,
       "version_minor": 0
      },
      "text/plain": [
       "(pid=1667581) - split(1, equal=True) 1: 0.00 row [00:00, ? row/s]"
      ]
     },
     "metadata": {},
     "output_type": "display_data"
    },
    {
     "data": {
      "application/vnd.jupyter.widget-view+json": {
       "model_id": "062b853be86d46019bcbfbd16d5b24ed",
       "version_major": 2,
       "version_minor": 0
      },
      "text/plain": [
       "(pid=1667582) Running 0: 0.00 row [00:00, ? row/s]"
      ]
     },
     "metadata": {},
     "output_type": "display_data"
    },
    {
     "data": {
      "application/vnd.jupyter.widget-view+json": {
       "model_id": "5d8f9efe39654b9e97c649498eaff59b",
       "version_major": 2,
       "version_minor": 0
      },
      "text/plain": [
       "(pid=1667582) - split(1, equal=True) 1: 0.00 row [00:00, ? row/s]"
      ]
     },
     "metadata": {},
     "output_type": "display_data"
    },
    {
     "data": {
      "application/vnd.jupyter.widget-view+json": {
       "model_id": "b072bdf7864d4a659bcafa4588535390",
       "version_major": 2,
       "version_minor": 0
      },
      "text/plain": [
       "(pid=1667581) Running 0: 0.00 row [00:00, ? row/s]"
      ]
     },
     "metadata": {},
     "output_type": "display_data"
    },
    {
     "data": {
      "application/vnd.jupyter.widget-view+json": {
       "model_id": "4ae22d954f0c4af09f7d8614f023cec9",
       "version_major": 2,
       "version_minor": 0
      },
      "text/plain": [
       "(pid=1667581) - split(1, equal=True) 1: 0.00 row [00:00, ? row/s]"
      ]
     },
     "metadata": {},
     "output_type": "display_data"
    },
    {
     "name": "stdout",
     "output_type": "stream",
     "text": [
      "== Status ==\n",
      "Current time: 2025-09-14 15:06:45 (running for 00:00:20.27)\n",
      "Using FIFO scheduling algorithm.\n",
      "Logical resource usage: 11.0/96 CPUs, 1.0/1 GPUs (0.0/1.0 accelerator_type:RTX)\n",
      "Result logdir: /tmp/ray/session_2025-09-14_15-05-00_735286_1657229/artifacts/2025-09-14_15-06-25/llm/driver_artifacts\n",
      "Number of trials: 1/1 (1 RUNNING)\n",
      "\n",
      "\n"
     ]
    },
    {
     "data": {
      "application/vnd.jupyter.widget-view+json": {
       "model_id": "f82c8d359b164eb38906910fda3cd1bc",
       "version_major": 2,
       "version_minor": 0
      },
      "text/plain": [
       "(pid=1667582) Running 0: 0.00 row [00:00, ? row/s]"
      ]
     },
     "metadata": {},
     "output_type": "display_data"
    },
    {
     "data": {
      "application/vnd.jupyter.widget-view+json": {
       "model_id": "d05eb1f2e58c4582ad877e575bb6d716",
       "version_major": 2,
       "version_minor": 0
      },
      "text/plain": [
       "(pid=1667582) - split(1, equal=True) 1: 0.00 row [00:00, ? row/s]"
      ]
     },
     "metadata": {},
     "output_type": "display_data"
    },
    {
     "name": "stderr",
     "output_type": "stream",
     "text": [
      "2025-09-14 15:06:46,691\tWARNING experiment_state.py:206 -- Experiment state snapshotting has been triggered multiple times in the last 5.0 seconds and may become a bottleneck. A snapshot is forced if `CheckpointConfig(num_to_keep)` is set, and a trial has checkpointed >= `num_to_keep` times since the last snapshot.\n",
      "You may want to consider increasing the `CheckpointConfig(num_to_keep)` or decreasing the frequency of saving checkpoints.\n",
      "You can suppress this warning by setting the environment variable TUNE_WARN_EXCESSIVE_EXPERIMENT_CHECKPOINT_SYNC_THRESHOLD_S to a smaller value than the current threshold (5.0). Set it to 0 to completely suppress this warning.\n"
     ]
    },
    {
     "data": {
      "application/vnd.jupyter.widget-view+json": {
       "model_id": "3a96ea1b57c6429cbcef9d689d7cbc25",
       "version_major": 2,
       "version_minor": 0
      },
      "text/plain": [
       "(pid=1667581) Running 0: 0.00 row [00:00, ? row/s]"
      ]
     },
     "metadata": {},
     "output_type": "display_data"
    },
    {
     "data": {
      "application/vnd.jupyter.widget-view+json": {
       "model_id": "6f821ded02104b08803927b2c23341c9",
       "version_major": 2,
       "version_minor": 0
      },
      "text/plain": [
       "(pid=1667581) - split(1, equal=True) 1: 0.00 row [00:00, ? row/s]"
      ]
     },
     "metadata": {},
     "output_type": "display_data"
    },
    {
     "data": {
      "application/vnd.jupyter.widget-view+json": {
       "model_id": "0eb690cf6f8943409012d1491534189c",
       "version_major": 2,
       "version_minor": 0
      },
      "text/plain": [
       "(pid=1667582) Running 0: 0.00 row [00:00, ? row/s]"
      ]
     },
     "metadata": {},
     "output_type": "display_data"
    },
    {
     "data": {
      "application/vnd.jupyter.widget-view+json": {
       "model_id": "afc79403990a40929162c31e31966a77",
       "version_major": 2,
       "version_minor": 0
      },
      "text/plain": [
       "(pid=1667582) - split(1, equal=True) 1: 0.00 row [00:00, ? row/s]"
      ]
     },
     "metadata": {},
     "output_type": "display_data"
    },
    {
     "name": "stderr",
     "output_type": "stream",
     "text": [
      "2025-09-14 15:06:49,951\tWARNING experiment_state.py:206 -- Experiment state snapshotting has been triggered multiple times in the last 5.0 seconds and may become a bottleneck. A snapshot is forced if `CheckpointConfig(num_to_keep)` is set, and a trial has checkpointed >= `num_to_keep` times since the last snapshot.\n",
      "You may want to consider increasing the `CheckpointConfig(num_to_keep)` or decreasing the frequency of saving checkpoints.\n",
      "You can suppress this warning by setting the environment variable TUNE_WARN_EXCESSIVE_EXPERIMENT_CHECKPOINT_SYNC_THRESHOLD_S to a smaller value than the current threshold (5.0). Set it to 0 to completely suppress this warning.\n"
     ]
    },
    {
     "name": "stdout",
     "output_type": "stream",
     "text": [
      "== Status ==\n",
      "Current time: 2025-09-14 15:06:50 (running for 00:00:25.28)\n",
      "Using FIFO scheduling algorithm.\n",
      "Logical resource usage: 11.0/96 CPUs, 1.0/1 GPUs (0.0/1.0 accelerator_type:RTX)\n",
      "Result logdir: /tmp/ray/session_2025-09-14_15-05-00_735286_1657229/artifacts/2025-09-14_15-06-25/llm/driver_artifacts\n",
      "Number of trials: 1/1 (1 RUNNING)\n",
      "\n",
      "\n"
     ]
    },
    {
     "data": {
      "application/vnd.jupyter.widget-view+json": {
       "model_id": "08ca8796ae914b4988b01a6015f91eb5",
       "version_major": 2,
       "version_minor": 0
      },
      "text/plain": [
       "(pid=1667581) Running 0: 0.00 row [00:00, ? row/s]"
      ]
     },
     "metadata": {},
     "output_type": "display_data"
    },
    {
     "data": {
      "application/vnd.jupyter.widget-view+json": {
       "model_id": "5aafb82ce1ee4750b6dd02978193d197",
       "version_major": 2,
       "version_minor": 0
      },
      "text/plain": [
       "(pid=1667581) - split(1, equal=True) 1: 0.00 row [00:00, ? row/s]"
      ]
     },
     "metadata": {},
     "output_type": "display_data"
    },
    {
     "name": "stderr",
     "output_type": "stream",
     "text": [
      "2025-09-14 15:06:53,589\tWARNING experiment_state.py:206 -- Experiment state snapshotting has been triggered multiple times in the last 5.0 seconds and may become a bottleneck. A snapshot is forced if `CheckpointConfig(num_to_keep)` is set, and a trial has checkpointed >= `num_to_keep` times since the last snapshot.\n",
      "You may want to consider increasing the `CheckpointConfig(num_to_keep)` or decreasing the frequency of saving checkpoints.\n",
      "You can suppress this warning by setting the environment variable TUNE_WARN_EXCESSIVE_EXPERIMENT_CHECKPOINT_SYNC_THRESHOLD_S to a smaller value than the current threshold (5.0). Set it to 0 to completely suppress this warning.\n"
     ]
    },
    {
     "data": {
      "application/vnd.jupyter.widget-view+json": {
       "model_id": "6f5a9475d83a46bebb69e8ef43b5e04a",
       "version_major": 2,
       "version_minor": 0
      },
      "text/plain": [
       "(pid=1667582) Running 0: 0.00 row [00:00, ? row/s]"
      ]
     },
     "metadata": {},
     "output_type": "display_data"
    },
    {
     "data": {
      "application/vnd.jupyter.widget-view+json": {
       "model_id": "8f0a8768f5084bc5a0ca48765d89c95d",
       "version_major": 2,
       "version_minor": 0
      },
      "text/plain": [
       "(pid=1667582) - split(1, equal=True) 1: 0.00 row [00:00, ? row/s]"
      ]
     },
     "metadata": {},
     "output_type": "display_data"
    },
    {
     "data": {
      "application/vnd.jupyter.widget-view+json": {
       "model_id": "bed500f7e2834a1e9aadfc3beae33465",
       "version_major": 2,
       "version_minor": 0
      },
      "text/plain": [
       "(pid=1667581) Running 0: 0.00 row [00:00, ? row/s]"
      ]
     },
     "metadata": {},
     "output_type": "display_data"
    },
    {
     "data": {
      "application/vnd.jupyter.widget-view+json": {
       "model_id": "51e0ee35082e484db3431333b25eb7bc",
       "version_major": 2,
       "version_minor": 0
      },
      "text/plain": [
       "(pid=1667581) - split(1, equal=True) 1: 0.00 row [00:00, ? row/s]"
      ]
     },
     "metadata": {},
     "output_type": "display_data"
    },
    {
     "name": "stdout",
     "output_type": "stream",
     "text": [
      "== Status ==\n",
      "Current time: 2025-09-14 15:06:55 (running for 00:00:30.32)\n",
      "Using FIFO scheduling algorithm.\n",
      "Logical resource usage: 11.0/96 CPUs, 1.0/1 GPUs (0.0/1.0 accelerator_type:RTX)\n",
      "Result logdir: /tmp/ray/session_2025-09-14_15-05-00_735286_1657229/artifacts/2025-09-14_15-06-25/llm/driver_artifacts\n",
      "Number of trials: 1/1 (1 RUNNING)\n",
      "\n",
      "\n"
     ]
    },
    {
     "data": {
      "application/vnd.jupyter.widget-view+json": {
       "model_id": "8c0441c8b92041519256f4adb88afe35",
       "version_major": 2,
       "version_minor": 0
      },
      "text/plain": [
       "(pid=1667582) Running 0: 0.00 row [00:00, ? row/s]"
      ]
     },
     "metadata": {},
     "output_type": "display_data"
    },
    {
     "data": {
      "application/vnd.jupyter.widget-view+json": {
       "model_id": "2e03b67e749648eb99dc3af5b4792393",
       "version_major": 2,
       "version_minor": 0
      },
      "text/plain": [
       "(pid=1667582) - split(1, equal=True) 1: 0.00 row [00:00, ? row/s]"
      ]
     },
     "metadata": {},
     "output_type": "display_data"
    },
    {
     "name": "stderr",
     "output_type": "stream",
     "text": [
      "2025-09-14 15:06:56,670\tWARNING experiment_state.py:206 -- Experiment state snapshotting has been triggered multiple times in the last 5.0 seconds and may become a bottleneck. A snapshot is forced if `CheckpointConfig(num_to_keep)` is set, and a trial has checkpointed >= `num_to_keep` times since the last snapshot.\n",
      "You may want to consider increasing the `CheckpointConfig(num_to_keep)` or decreasing the frequency of saving checkpoints.\n",
      "You can suppress this warning by setting the environment variable TUNE_WARN_EXCESSIVE_EXPERIMENT_CHECKPOINT_SYNC_THRESHOLD_S to a smaller value than the current threshold (5.0). Set it to 0 to completely suppress this warning.\n"
     ]
    },
    {
     "data": {
      "application/vnd.jupyter.widget-view+json": {
       "model_id": "fde417caff44453eb3a596049a3d144f",
       "version_major": 2,
       "version_minor": 0
      },
      "text/plain": [
       "(pid=1667581) Running 0: 0.00 row [00:00, ? row/s]"
      ]
     },
     "metadata": {},
     "output_type": "display_data"
    },
    {
     "data": {
      "application/vnd.jupyter.widget-view+json": {
       "model_id": "3e8668dbf6e54a279b953f4f48643ee4",
       "version_major": 2,
       "version_minor": 0
      },
      "text/plain": [
       "(pid=1667581) - split(1, equal=True) 1: 0.00 row [00:00, ? row/s]"
      ]
     },
     "metadata": {},
     "output_type": "display_data"
    },
    {
     "data": {
      "application/vnd.jupyter.widget-view+json": {
       "model_id": "0a983ce716ce456a8147d42335ed9a0f",
       "version_major": 2,
       "version_minor": 0
      },
      "text/plain": [
       "(pid=1667582) Running 0: 0.00 row [00:00, ? row/s]"
      ]
     },
     "metadata": {},
     "output_type": "display_data"
    },
    {
     "data": {
      "application/vnd.jupyter.widget-view+json": {
       "model_id": "c83122e00cb44a20a3ced81addde64e8",
       "version_major": 2,
       "version_minor": 0
      },
      "text/plain": [
       "(pid=1667582) - split(1, equal=True) 1: 0.00 row [00:00, ? row/s]"
      ]
     },
     "metadata": {},
     "output_type": "display_data"
    },
    {
     "name": "stderr",
     "output_type": "stream",
     "text": [
      "2025-09-14 15:07:00,313\tWARNING experiment_state.py:206 -- Experiment state snapshotting has been triggered multiple times in the last 5.0 seconds and may become a bottleneck. A snapshot is forced if `CheckpointConfig(num_to_keep)` is set, and a trial has checkpointed >= `num_to_keep` times since the last snapshot.\n",
      "You may want to consider increasing the `CheckpointConfig(num_to_keep)` or decreasing the frequency of saving checkpoints.\n",
      "You can suppress this warning by setting the environment variable TUNE_WARN_EXCESSIVE_EXPERIMENT_CHECKPOINT_SYNC_THRESHOLD_S to a smaller value than the current threshold (5.0). Set it to 0 to completely suppress this warning.\n"
     ]
    },
    {
     "name": "stdout",
     "output_type": "stream",
     "text": [
      "== Status ==\n",
      "Current time: 2025-09-14 15:07:00 (running for 00:00:35.34)\n",
      "Using FIFO scheduling algorithm.\n",
      "Logical resource usage: 11.0/96 CPUs, 1.0/1 GPUs (0.0/1.0 accelerator_type:RTX)\n",
      "Result logdir: /tmp/ray/session_2025-09-14_15-05-00_735286_1657229/artifacts/2025-09-14_15-06-25/llm/driver_artifacts\n",
      "Number of trials: 1/1 (1 RUNNING)\n",
      "\n",
      "\n"
     ]
    },
    {
     "data": {
      "application/vnd.jupyter.widget-view+json": {
       "model_id": "835201b9493b4e0992de82e6d1c86829",
       "version_major": 2,
       "version_minor": 0
      },
      "text/plain": [
       "(pid=1667581) Running 0: 0.00 row [00:00, ? row/s]"
      ]
     },
     "metadata": {},
     "output_type": "display_data"
    },
    {
     "data": {
      "application/vnd.jupyter.widget-view+json": {
       "model_id": "1a32165b32254e9881238dec6ff04a46",
       "version_major": 2,
       "version_minor": 0
      },
      "text/plain": [
       "(pid=1667581) - split(1, equal=True) 1: 0.00 row [00:00, ? row/s]"
      ]
     },
     "metadata": {},
     "output_type": "display_data"
    },
    {
     "name": "stderr",
     "output_type": "stream",
     "text": [
      "2025-09-14 15:07:04,086\tWARNING experiment_state.py:206 -- Experiment state snapshotting has been triggered multiple times in the last 5.0 seconds and may become a bottleneck. A snapshot is forced if `CheckpointConfig(num_to_keep)` is set, and a trial has checkpointed >= `num_to_keep` times since the last snapshot.\n",
      "You may want to consider increasing the `CheckpointConfig(num_to_keep)` or decreasing the frequency of saving checkpoints.\n",
      "You can suppress this warning by setting the environment variable TUNE_WARN_EXCESSIVE_EXPERIMENT_CHECKPOINT_SYNC_THRESHOLD_S to a smaller value than the current threshold (5.0). Set it to 0 to completely suppress this warning.\n"
     ]
    },
    {
     "data": {
      "application/vnd.jupyter.widget-view+json": {
       "model_id": "edcf74098f5c4ef9a57ee831ead79be8",
       "version_major": 2,
       "version_minor": 0
      },
      "text/plain": [
       "(pid=1667582) Running 0: 0.00 row [00:00, ? row/s]"
      ]
     },
     "metadata": {},
     "output_type": "display_data"
    },
    {
     "data": {
      "application/vnd.jupyter.widget-view+json": {
       "model_id": "567413ee98454d43a91b1e43d2dd3d78",
       "version_major": 2,
       "version_minor": 0
      },
      "text/plain": [
       "(pid=1667582) - split(1, equal=True) 1: 0.00 row [00:00, ? row/s]"
      ]
     },
     "metadata": {},
     "output_type": "display_data"
    },
    {
     "data": {
      "application/vnd.jupyter.widget-view+json": {
       "model_id": "5c8d6fcfc34843ffae1e5eeebf31ab34",
       "version_major": 2,
       "version_minor": 0
      },
      "text/plain": [
       "(pid=1667581) Running 0: 0.00 row [00:00, ? row/s]"
      ]
     },
     "metadata": {},
     "output_type": "display_data"
    },
    {
     "data": {
      "application/vnd.jupyter.widget-view+json": {
       "model_id": "90b673d795594bcc96d2eab6fb578b5c",
       "version_major": 2,
       "version_minor": 0
      },
      "text/plain": [
       "(pid=1667581) - split(1, equal=True) 1: 0.00 row [00:00, ? row/s]"
      ]
     },
     "metadata": {},
     "output_type": "display_data"
    },
    {
     "name": "stdout",
     "output_type": "stream",
     "text": [
      "== Status ==\n",
      "Current time: 2025-09-14 15:07:05 (running for 00:00:40.42)\n",
      "Using FIFO scheduling algorithm.\n",
      "Logical resource usage: 11.0/96 CPUs, 1.0/1 GPUs (0.0/1.0 accelerator_type:RTX)\n",
      "Result logdir: /tmp/ray/session_2025-09-14_15-05-00_735286_1657229/artifacts/2025-09-14_15-06-25/llm/driver_artifacts\n",
      "Number of trials: 1/1 (1 RUNNING)\n",
      "\n",
      "\n"
     ]
    },
    {
     "data": {
      "application/vnd.jupyter.widget-view+json": {
       "model_id": "49ff6c7addcf4bfda6381761821922f2",
       "version_major": 2,
       "version_minor": 0
      },
      "text/plain": [
       "(pid=1667582) Running 0: 0.00 row [00:00, ? row/s]"
      ]
     },
     "metadata": {},
     "output_type": "display_data"
    },
    {
     "data": {
      "application/vnd.jupyter.widget-view+json": {
       "model_id": "52475a20dd0e4bbbb787db59d3503800",
       "version_major": 2,
       "version_minor": 0
      },
      "text/plain": [
       "(pid=1667582) - split(1, equal=True) 1: 0.00 row [00:00, ? row/s]"
      ]
     },
     "metadata": {},
     "output_type": "display_data"
    },
    {
     "name": "stderr",
     "output_type": "stream",
     "text": [
      "2025-09-14 15:07:07,717\tWARNING experiment_state.py:206 -- Experiment state snapshotting has been triggered multiple times in the last 5.0 seconds and may become a bottleneck. A snapshot is forced if `CheckpointConfig(num_to_keep)` is set, and a trial has checkpointed >= `num_to_keep` times since the last snapshot.\n",
      "You may want to consider increasing the `CheckpointConfig(num_to_keep)` or decreasing the frequency of saving checkpoints.\n",
      "You can suppress this warning by setting the environment variable TUNE_WARN_EXCESSIVE_EXPERIMENT_CHECKPOINT_SYNC_THRESHOLD_S to a smaller value than the current threshold (5.0). Set it to 0 to completely suppress this warning.\n"
     ]
    },
    {
     "data": {
      "application/vnd.jupyter.widget-view+json": {
       "model_id": "bbc6c2a612f14d5f9e17d7e722658fc7",
       "version_major": 2,
       "version_minor": 0
      },
      "text/plain": [
       "(pid=1667581) Running 0: 0.00 row [00:00, ? row/s]"
      ]
     },
     "metadata": {},
     "output_type": "display_data"
    },
    {
     "data": {
      "application/vnd.jupyter.widget-view+json": {
       "model_id": "1a0ff2769cdb4115b6b0fb6d4299f8e6",
       "version_major": 2,
       "version_minor": 0
      },
      "text/plain": [
       "(pid=1667581) - split(1, equal=True) 1: 0.00 row [00:00, ? row/s]"
      ]
     },
     "metadata": {},
     "output_type": "display_data"
    },
    {
     "name": "stdout",
     "output_type": "stream",
     "text": [
      "== Status ==\n",
      "Current time: 2025-09-14 15:07:10 (running for 00:00:45.46)\n",
      "Using FIFO scheduling algorithm.\n",
      "Logical resource usage: 11.0/96 CPUs, 1.0/1 GPUs (0.0/1.0 accelerator_type:RTX)\n",
      "Result logdir: /tmp/ray/session_2025-09-14_15-05-00_735286_1657229/artifacts/2025-09-14_15-06-25/llm/driver_artifacts\n",
      "Number of trials: 1/1 (1 RUNNING)\n",
      "\n",
      "\n"
     ]
    },
    {
     "name": "stderr",
     "output_type": "stream",
     "text": [
      "2025-09-14 15:07:10,993\tWARNING experiment_state.py:206 -- Experiment state snapshotting has been triggered multiple times in the last 5.0 seconds and may become a bottleneck. A snapshot is forced if `CheckpointConfig(num_to_keep)` is set, and a trial has checkpointed >= `num_to_keep` times since the last snapshot.\n",
      "You may want to consider increasing the `CheckpointConfig(num_to_keep)` or decreasing the frequency of saving checkpoints.\n",
      "You can suppress this warning by setting the environment variable TUNE_WARN_EXCESSIVE_EXPERIMENT_CHECKPOINT_SYNC_THRESHOLD_S to a smaller value than the current threshold (5.0). Set it to 0 to completely suppress this warning.\n"
     ]
    },
    {
     "data": {
      "application/vnd.jupyter.widget-view+json": {
       "model_id": "fabf985933414762a05f81b1c970318d",
       "version_major": 2,
       "version_minor": 0
      },
      "text/plain": [
       "(pid=1667582) Running 0: 0.00 row [00:00, ? row/s]"
      ]
     },
     "metadata": {},
     "output_type": "display_data"
    },
    {
     "data": {
      "application/vnd.jupyter.widget-view+json": {
       "model_id": "774fdfa01a6a4d589c526c997fafc9f0",
       "version_major": 2,
       "version_minor": 0
      },
      "text/plain": [
       "(pid=1667582) - split(1, equal=True) 1: 0.00 row [00:00, ? row/s]"
      ]
     },
     "metadata": {},
     "output_type": "display_data"
    },
    {
     "data": {
      "application/vnd.jupyter.widget-view+json": {
       "model_id": "1409ef6e3b0845a99fdcbcbea43d6e27",
       "version_major": 2,
       "version_minor": 0
      },
      "text/plain": [
       "(pid=1667581) Running 0: 0.00 row [00:00, ? row/s]"
      ]
     },
     "metadata": {},
     "output_type": "display_data"
    },
    {
     "data": {
      "application/vnd.jupyter.widget-view+json": {
       "model_id": "aba833ae9569445783044d244955cbca",
       "version_major": 2,
       "version_minor": 0
      },
      "text/plain": [
       "(pid=1667581) - split(1, equal=True) 1: 0.00 row [00:00, ? row/s]"
      ]
     },
     "metadata": {},
     "output_type": "display_data"
    },
    {
     "name": "stderr",
     "output_type": "stream",
     "text": [
      "2025-09-14 15:07:13,982\tWARNING experiment_state.py:206 -- Experiment state snapshotting has been triggered multiple times in the last 5.0 seconds and may become a bottleneck. A snapshot is forced if `CheckpointConfig(num_to_keep)` is set, and a trial has checkpointed >= `num_to_keep` times since the last snapshot.\n",
      "You may want to consider increasing the `CheckpointConfig(num_to_keep)` or decreasing the frequency of saving checkpoints.\n",
      "You can suppress this warning by setting the environment variable TUNE_WARN_EXCESSIVE_EXPERIMENT_CHECKPOINT_SYNC_THRESHOLD_S to a smaller value than the current threshold (5.0). Set it to 0 to completely suppress this warning.\n",
      "2025-09-14 15:07:15,160\tINFO tune.py:1009 -- Wrote the latest version of all result files and experiment state to '/work/ngkuissi/ray_results/llm' in 0.0084s.\n",
      "2025-09-14 15:07:15,162\tINFO tune.py:1041 -- Total run time: 50.05 seconds (49.88 seconds for the tuning loop).\n"
     ]
    },
    {
     "name": "stdout",
     "output_type": "stream",
     "text": [
      "== Status ==\n",
      "Current time: 2025-09-14 15:07:15 (running for 00:00:49.89)\n",
      "Using FIFO scheduling algorithm.\n",
      "Logical resource usage: 11.0/96 CPUs, 1.0/1 GPUs (0.0/1.0 accelerator_type:RTX)\n",
      "Result logdir: /tmp/ray/session_2025-09-14_15-05-00_735286_1657229/artifacts/2025-09-14_15-06-25/llm/driver_artifacts\n",
      "Number of trials: 1/1 (1 TERMINATED)\n",
      "\n",
      "\n"
     ]
    }
   ],
   "source": [
    "results = trainer.fit()"
   ]
  },
  {
   "cell_type": "code",
   "execution_count": 54,
   "id": "46d0127b",
   "metadata": {},
   "outputs": [
    {
     "data": {
      "text/plain": [
       "Index(['epoch', 'lr', 'train_loss', 'val_loss', 'timestamp',\n",
       "       'checkpoint_dir_name', 'should_checkpoint', 'done',\n",
       "       'training_iteration', 'trial_id', 'date', 'time_this_iter_s',\n",
       "       'time_total_s', 'pid', 'hostname', 'node_ip', 'time_since_restore',\n",
       "       'iterations_since_restore', 'config/train_loop_config/dropout_p',\n",
       "       'config/train_loop_config/lr', 'config/train_loop_config/lr_factor',\n",
       "       'config/train_loop_config/lr_patience',\n",
       "       'config/train_loop_config/num_epochs',\n",
       "       'config/train_loop_config/batch_size',\n",
       "       'config/train_loop_config/num_classes',\n",
       "       'config/train_loop_config/device'],\n",
       "      dtype='object')"
      ]
     },
     "execution_count": 54,
     "metadata": {},
     "output_type": "execute_result"
    }
   ],
   "source": [
    "results.metrics_dataframe.columns"
   ]
  },
  {
   "cell_type": "code",
   "execution_count": 55,
   "id": "60180f01",
   "metadata": {},
   "outputs": [
    {
     "data": {
      "text/html": [
       "<div>\n",
       "<style scoped>\n",
       "    .dataframe tbody tr th:only-of-type {\n",
       "        vertical-align: middle;\n",
       "    }\n",
       "\n",
       "    .dataframe tbody tr th {\n",
       "        vertical-align: top;\n",
       "    }\n",
       "\n",
       "    .dataframe thead th {\n",
       "        text-align: right;\n",
       "    }\n",
       "</style>\n",
       "<table border=\"1\" class=\"dataframe\">\n",
       "  <thead>\n",
       "    <tr style=\"text-align: right;\">\n",
       "      <th></th>\n",
       "      <th>epoch</th>\n",
       "      <th>train_loss</th>\n",
       "      <th>val_loss</th>\n",
       "    </tr>\n",
       "  </thead>\n",
       "  <tbody>\n",
       "    <tr>\n",
       "      <th>0</th>\n",
       "      <td>0</td>\n",
       "      <td>1.338384</td>\n",
       "      <td>1.178855</td>\n",
       "    </tr>\n",
       "    <tr>\n",
       "      <th>1</th>\n",
       "      <td>1</td>\n",
       "      <td>1.122036</td>\n",
       "      <td>0.756896</td>\n",
       "    </tr>\n",
       "    <tr>\n",
       "      <th>2</th>\n",
       "      <td>2</td>\n",
       "      <td>0.664604</td>\n",
       "      <td>0.560707</td>\n",
       "    </tr>\n",
       "    <tr>\n",
       "      <th>3</th>\n",
       "      <td>3</td>\n",
       "      <td>0.382146</td>\n",
       "      <td>0.616958</td>\n",
       "    </tr>\n",
       "    <tr>\n",
       "      <th>4</th>\n",
       "      <td>4</td>\n",
       "      <td>0.252215</td>\n",
       "      <td>0.629421</td>\n",
       "    </tr>\n",
       "    <tr>\n",
       "      <th>5</th>\n",
       "      <td>5</td>\n",
       "      <td>0.162674</td>\n",
       "      <td>0.421725</td>\n",
       "    </tr>\n",
       "    <tr>\n",
       "      <th>6</th>\n",
       "      <td>6</td>\n",
       "      <td>0.083551</td>\n",
       "      <td>0.479942</td>\n",
       "    </tr>\n",
       "    <tr>\n",
       "      <th>7</th>\n",
       "      <td>7</td>\n",
       "      <td>0.029594</td>\n",
       "      <td>0.556606</td>\n",
       "    </tr>\n",
       "    <tr>\n",
       "      <th>8</th>\n",
       "      <td>8</td>\n",
       "      <td>0.015381</td>\n",
       "      <td>0.590856</td>\n",
       "    </tr>\n",
       "    <tr>\n",
       "      <th>9</th>\n",
       "      <td>9</td>\n",
       "      <td>0.010082</td>\n",
       "      <td>0.618089</td>\n",
       "    </tr>\n",
       "  </tbody>\n",
       "</table>\n",
       "</div>"
      ],
      "text/plain": [
       "   epoch  train_loss  val_loss\n",
       "0      0    1.338384  1.178855\n",
       "1      1    1.122036  0.756896\n",
       "2      2    0.664604  0.560707\n",
       "3      3    0.382146  0.616958\n",
       "4      4    0.252215  0.629421\n",
       "5      5    0.162674  0.421725\n",
       "6      6    0.083551  0.479942\n",
       "7      7    0.029594  0.556606\n",
       "8      8    0.015381  0.590856\n",
       "9      9    0.010082  0.618089"
      ]
     },
     "execution_count": 55,
     "metadata": {},
     "output_type": "execute_result"
    }
   ],
   "source": [
    "results.metrics_dataframe[['epoch', 'train_loss', 'val_loss']]"
   ]
  },
  {
   "cell_type": "code",
   "execution_count": 56,
   "id": "fca9217d",
   "metadata": {},
   "outputs": [
    {
     "data": {
      "text/plain": [
       "[(Checkpoint(filesystem=local, path=/work/ngkuissi/ray_results/llm/TorchTrainer_e8dd0_00000_0_2025-09-14_15-06-25/checkpoint_000005),\n",
       "  {'epoch': 5,\n",
       "   'lr': 0.0001,\n",
       "   'train_loss': 0.1626741498708725,\n",
       "   'val_loss': 0.4217247813940048,\n",
       "   'timestamp': 1757876818,\n",
       "   'checkpoint_dir_name': 'checkpoint_000005',\n",
       "   'should_checkpoint': True,\n",
       "   'done': False,\n",
       "   'training_iteration': 6,\n",
       "   'trial_id': 'e8dd0_00000',\n",
       "   'date': '2025-09-14_15-07-00',\n",
       "   'time_this_iter_s': 3.517345428466797,\n",
       "   'time_total_s': 28.58060359954834,\n",
       "   'pid': 1667252,\n",
       "   'hostname': 'gpu-pt1-04',\n",
       "   'node_ip': '172.27.14.77',\n",
       "   'config': {'train_loop_config': {'dropout_p': 0.5,\n",
       "     'lr': 0.0001,\n",
       "     'lr_factor': 0.8,\n",
       "     'lr_patience': 3,\n",
       "     'num_epochs': 10,\n",
       "     'batch_size': 128,\n",
       "     'num_classes': 4,\n",
       "     'device': 'cuda'}},\n",
       "   'time_since_restore': 28.58060359954834,\n",
       "   'iterations_since_restore': 6})]"
      ]
     },
     "execution_count": 56,
     "metadata": {},
     "output_type": "execute_result"
    }
   ],
   "source": [
    "results.best_checkpoints"
   ]
  },
  {
   "cell_type": "code",
   "execution_count": 57,
   "id": "3677944f",
   "metadata": {},
   "outputs": [],
   "source": [
    "from ray.train.torch import TorchPredictor\n",
    "from sklearn.metrics import precision_recall_fscore_support"
   ]
  },
  {
   "cell_type": "code",
   "execution_count": 58,
   "id": "acd66754",
   "metadata": {},
   "outputs": [
    {
     "name": "stderr",
     "output_type": "stream",
     "text": [
      "/mnt/hpc/work/ngkuissi/Made-With-ML/venv/lib/python3.10/site-packages/huggingface_hub/file_download.py:945: FutureWarning: `resume_download` is deprecated and will be removed in version 1.0.0. Downloads always resume when possible. If you want to force a new download, use `force_download=True`.\n",
      "  warnings.warn(\n",
      "Some weights of the model checkpoint at allenai/scibert_scivocab_uncased were not used when initializing BertModel: ['cls.predictions.transform.LayerNorm.bias', 'cls.predictions.transform.dense.weight', 'cls.predictions.decoder.weight', 'cls.predictions.transform.dense.bias', 'cls.predictions.transform.LayerNorm.weight', 'cls.seq_relationship.weight', 'cls.seq_relationship.bias', 'cls.predictions.decoder.bias', 'cls.predictions.bias']\n",
      "- This IS expected if you are initializing BertModel from the checkpoint of a model trained on another task or with another architecture (e.g. initializing a BertForSequenceClassification model from a BertForPreTraining model).\n",
      "- This IS NOT expected if you are initializing BertModel from the checkpoint of a model that you expect to be exactly identical (initializing a BertForSequenceClassification model from a BertForSequenceClassification model).\n"
     ]
    }
   ],
   "source": [
    "llm = BertModel.from_pretrained(\"allenai/scibert_scivocab_uncased\", return_dict=False).cuda()\n",
    "model = FinetunnedLLM(llm, 0.5, llm.config.hidden_size, 4)"
   ]
  },
  {
   "cell_type": "code",
   "execution_count": 59,
   "id": "14c95f42",
   "metadata": {},
   "outputs": [
    {
     "data": {
      "text/plain": [
       "[(Checkpoint(filesystem=local, path=/work/ngkuissi/ray_results/llm/TorchTrainer_e8dd0_00000_0_2025-09-14_15-06-25/checkpoint_000005),\n",
       "  {'epoch': 5,\n",
       "   'lr': 0.0001,\n",
       "   'train_loss': 0.1626741498708725,\n",
       "   'val_loss': 0.4217247813940048,\n",
       "   'timestamp': 1757876818,\n",
       "   'checkpoint_dir_name': 'checkpoint_000005',\n",
       "   'should_checkpoint': True,\n",
       "   'done': False,\n",
       "   'training_iteration': 6,\n",
       "   'trial_id': 'e8dd0_00000',\n",
       "   'date': '2025-09-14_15-07-00',\n",
       "   'time_this_iter_s': 3.517345428466797,\n",
       "   'time_total_s': 28.58060359954834,\n",
       "   'pid': 1667252,\n",
       "   'hostname': 'gpu-pt1-04',\n",
       "   'node_ip': '172.27.14.77',\n",
       "   'config': {'train_loop_config': {'dropout_p': 0.5,\n",
       "     'lr': 0.0001,\n",
       "     'lr_factor': 0.8,\n",
       "     'lr_patience': 3,\n",
       "     'num_epochs': 10,\n",
       "     'batch_size': 128,\n",
       "     'num_classes': 4,\n",
       "     'device': 'cuda'}},\n",
       "   'time_since_restore': 28.58060359954834,\n",
       "   'iterations_since_restore': 6})]"
      ]
     },
     "execution_count": 59,
     "metadata": {},
     "output_type": "execute_result"
    }
   ],
   "source": [
    "results.best_checkpoints"
   ]
  },
  {
   "cell_type": "code",
   "execution_count": 60,
   "id": "1deb9e8d",
   "metadata": {},
   "outputs": [
    {
     "data": {
      "text/plain": [
       "<All keys matched successfully>"
      ]
     },
     "execution_count": 60,
     "metadata": {},
     "output_type": "execute_result"
    }
   ],
   "source": [
    "best_checkpoint = results.best_checkpoints[0][0].path + \"/model.pt\"\n",
    "state_dict = torch.load(best_checkpoint)\n",
    "model.load_state_dict(state_dict)"
   ]
  },
  {
   "cell_type": "code",
   "execution_count": 61,
   "id": "f65b6855",
   "metadata": {},
   "outputs": [
    {
     "data": {
      "text/plain": [
       "FinetunnedLLM(\n",
       "  (llm): BertModel(\n",
       "    (embeddings): BertEmbeddings(\n",
       "      (word_embeddings): Embedding(31090, 768, padding_idx=0)\n",
       "      (position_embeddings): Embedding(512, 768)\n",
       "      (token_type_embeddings): Embedding(2, 768)\n",
       "      (LayerNorm): LayerNorm((768,), eps=1e-12, elementwise_affine=True)\n",
       "      (dropout): Dropout(p=0.1, inplace=False)\n",
       "    )\n",
       "    (encoder): BertEncoder(\n",
       "      (layer): ModuleList(\n",
       "        (0-11): 12 x BertLayer(\n",
       "          (attention): BertAttention(\n",
       "            (self): BertSelfAttention(\n",
       "              (query): Linear(in_features=768, out_features=768, bias=True)\n",
       "              (key): Linear(in_features=768, out_features=768, bias=True)\n",
       "              (value): Linear(in_features=768, out_features=768, bias=True)\n",
       "              (dropout): Dropout(p=0.1, inplace=False)\n",
       "            )\n",
       "            (output): BertSelfOutput(\n",
       "              (dense): Linear(in_features=768, out_features=768, bias=True)\n",
       "              (LayerNorm): LayerNorm((768,), eps=1e-12, elementwise_affine=True)\n",
       "              (dropout): Dropout(p=0.1, inplace=False)\n",
       "            )\n",
       "          )\n",
       "          (intermediate): BertIntermediate(\n",
       "            (dense): Linear(in_features=768, out_features=3072, bias=True)\n",
       "            (intermediate_act_fn): GELUActivation()\n",
       "          )\n",
       "          (output): BertOutput(\n",
       "            (dense): Linear(in_features=3072, out_features=768, bias=True)\n",
       "            (LayerNorm): LayerNorm((768,), eps=1e-12, elementwise_affine=True)\n",
       "            (dropout): Dropout(p=0.1, inplace=False)\n",
       "          )\n",
       "        )\n",
       "      )\n",
       "    )\n",
       "    (pooler): BertPooler(\n",
       "      (dense): Linear(in_features=768, out_features=768, bias=True)\n",
       "      (activation): Tanh()\n",
       "    )\n",
       "  )\n",
       "  (dropout): Dropout(p=0.5, inplace=False)\n",
       "  (classifier): Linear(in_features=768, out_features=4, bias=True)\n",
       ")"
      ]
     },
     "execution_count": 61,
     "metadata": {},
     "output_type": "execute_result"
    }
   ],
   "source": [
    "model"
   ]
  },
  {
   "cell_type": "code",
   "execution_count": 62,
   "id": "c6dcf42e",
   "metadata": {},
   "outputs": [],
   "source": [
    "HOLDOUT_LOC = \"https://raw.githubusercontent.com/GokuMohandas/Made-With-ML/main/datasets/holdout.csv\"\n",
    "test_ds = ray.data.read_csv(HOLDOUT_LOC)\n",
    "preprocessed_ds = preprocessor.transform(test_ds)"
   ]
  },
  {
   "cell_type": "code",
   "execution_count": 63,
   "id": "c9d3c6cd",
   "metadata": {},
   "outputs": [
    {
     "name": "stderr",
     "output_type": "stream",
     "text": [
      "2025-09-14 15:07:42,716\tINFO streaming_executor.py:108 -- Starting execution of Dataset. Full logs are in /tmp/ray/session_2025-09-14_15-05-00_735286_1657229/logs/ray-data\n",
      "2025-09-14 15:07:42,717\tINFO streaming_executor.py:109 -- Execution plan of Dataset: InputDataBuffer[Input] -> TaskPoolMapOperator[ReadCSV] -> TaskPoolMapOperator[CustomPreprocessor->Project]\n"
     ]
    },
    {
     "data": {
      "application/vnd.jupyter.widget-view+json": {
       "model_id": "2ab99ee087894b83a628a4d9d7fbd3bc",
       "version_major": 2,
       "version_minor": 0
      },
      "text/plain": [
       "Running 0: 0.00 row [00:00, ? row/s]"
      ]
     },
     "metadata": {},
     "output_type": "display_data"
    },
    {
     "data": {
      "application/vnd.jupyter.widget-view+json": {
       "model_id": "2eb66555766b4407883d46565e36b75c",
       "version_major": 2,
       "version_minor": 0
      },
      "text/plain": [
       "- ReadCSV->SplitBlocks(192) 1: 0.00 row [00:00, ? row/s]"
      ]
     },
     "metadata": {},
     "output_type": "display_data"
    },
    {
     "data": {
      "application/vnd.jupyter.widget-view+json": {
       "model_id": "0d1e54710844444789270e1ff3ef3ef8",
       "version_major": 2,
       "version_minor": 0
      },
      "text/plain": [
       "- CustomPreprocessor->Project 2: 0.00 row [00:00, ? row/s]"
      ]
     },
     "metadata": {},
     "output_type": "display_data"
    }
   ],
   "source": [
    "preprocessed_ds = preprocessor.transform(test_ds)\n",
    "values = preprocessed_ds.select_columns(cols=[\"target\"]).take_all()\n",
    "y_true = np.stack([item[\"target\"] for item in values])"
   ]
  },
  {
   "cell_type": "code",
   "execution_count": 64,
   "id": "2424fe0d",
   "metadata": {},
   "outputs": [
    {
     "data": {
      "text/plain": [
       "array([2, 2, 2, 3, 0, 3, 3, 3, 3, 0, 3, 3, 0, 2, 3, 3, 0, 0, 2, 0, 2, 3,\n",
       "       2, 0, 3, 0, 0, 1, 1, 0, 0, 0, 0, 0, 0, 3, 3, 3, 3, 3, 1, 1, 0, 3,\n",
       "       3, 2, 1, 0, 3, 0, 0, 2, 2, 3, 0, 2, 0, 2, 2, 2, 2, 3, 3, 3, 3, 0,\n",
       "       0, 3, 0, 1, 3, 0, 2, 3, 3, 0, 0, 0, 0, 0, 3, 3, 0, 3, 1, 3, 3, 3,\n",
       "       3, 2, 3, 3, 0, 3, 0, 0, 2, 0, 3, 0, 3, 0, 3, 2, 3, 3, 3, 3, 3, 0,\n",
       "       3, 3, 0, 0, 0, 0, 2, 3, 0, 3, 0, 3, 0, 2, 2, 2, 0, 3, 0, 0, 0, 0,\n",
       "       3, 0, 0, 0, 3, 1, 0, 0, 0, 0, 0, 1, 0, 3, 2, 3, 0, 0, 1, 1, 0, 3,\n",
       "       3, 3, 3, 3, 3, 0, 0, 0, 3, 0, 1, 1, 0, 3, 3, 1, 0, 2, 0, 0, 0, 3,\n",
       "       3, 0, 3, 0, 3, 2, 3, 0, 0, 3, 1, 0, 1, 0, 0])"
      ]
     },
     "execution_count": 64,
     "metadata": {},
     "output_type": "execute_result"
    }
   ],
   "source": [
    "y_true"
   ]
  },
  {
   "cell_type": "code",
   "execution_count": 65,
   "id": "5d8cce3e",
   "metadata": {},
   "outputs": [],
   "source": [
    "model = model.to(\"cuda\")"
   ]
  },
  {
   "cell_type": "code",
   "execution_count": 66,
   "id": "dbe17d15",
   "metadata": {},
   "outputs": [
    {
     "name": "stderr",
     "output_type": "stream",
     "text": [
      "2025-09-14 15:07:48,473\tINFO streaming_executor.py:108 -- Starting execution of Dataset. Full logs are in /tmp/ray/session_2025-09-14_15-05-00_735286_1657229/logs/ray-data\n",
      "2025-09-14 15:07:48,473\tINFO streaming_executor.py:109 -- Execution plan of Dataset: InputDataBuffer[Input] -> TaskPoolMapOperator[ReadCSV] -> TaskPoolMapOperator[CustomPreprocessor]\n"
     ]
    },
    {
     "data": {
      "application/vnd.jupyter.widget-view+json": {
       "model_id": "0f507be2630b445d89a498cb4d65ffc6",
       "version_major": 2,
       "version_minor": 0
      },
      "text/plain": [
       "Running 0: 0.00 row [00:00, ? row/s]"
      ]
     },
     "metadata": {},
     "output_type": "display_data"
    },
    {
     "data": {
      "application/vnd.jupyter.widget-view+json": {
       "model_id": "d822c704f1d149d99afda1959d43cdbf",
       "version_major": 2,
       "version_minor": 0
      },
      "text/plain": [
       "- ReadCSV->SplitBlocks(192) 1: 0.00 row [00:00, ? row/s]"
      ]
     },
     "metadata": {},
     "output_type": "display_data"
    },
    {
     "data": {
      "application/vnd.jupyter.widget-view+json": {
       "model_id": "8f80ab03ba164f8c8332be7a1ba7d738",
       "version_major": 2,
       "version_minor": 0
      },
      "text/plain": [
       "- CustomPreprocessor 2: 0.00 row [00:00, ? row/s]"
      ]
     },
     "metadata": {},
     "output_type": "display_data"
    }
   ],
   "source": [
    "ds_generator = preprocessed_ds.iter_torch_batches(batch_size=128, collate_fn=collate_fn)\n",
    "y_pred = None\n",
    "model.eval()\n",
    "with torch.inference_mode():\n",
    "    for i, batch in enumerate(ds_generator):\n",
    "        z = model(batch)\n",
    "        if y_pred is not None:\n",
    "            y_pred = torch.concat([y_pred, torch.argmax(z, dim=-1)], dim=0)\n",
    "        else:\n",
    "            y_pred = torch.argmax(z, dim=-1)"
   ]
  },
  {
   "cell_type": "code",
   "execution_count": 67,
   "id": "cd221093",
   "metadata": {},
   "outputs": [],
   "source": [
    "y_pred = y_pred.cpu().numpy()"
   ]
  },
  {
   "cell_type": "code",
   "execution_count": 68,
   "id": "a2590066",
   "metadata": {},
   "outputs": [],
   "source": [
    "metrics = precision_recall_fscore_support(y_true, y_pred, average=\"weighted\")"
   ]
  },
  {
   "cell_type": "code",
   "execution_count": 69,
   "id": "ee5adb5a",
   "metadata": {},
   "outputs": [
    {
     "data": {
      "text/plain": [
       "{'precision': 0.934616372140792,\n",
       " 'recall': 0.9319371727748691,\n",
       " 'f1': 0.9322420348871521}"
      ]
     },
     "execution_count": 69,
     "metadata": {},
     "output_type": "execute_result"
    }
   ],
   "source": [
    "{\"precision\": metrics[0], \"recall\": metrics[1], \"f1\": metrics[2]}"
   ]
  },
  {
   "cell_type": "code",
   "execution_count": 70,
   "id": "939ac9d3",
   "metadata": {},
   "outputs": [],
   "source": [
    "def evaluate(ds, model, preprocessor=preprocessor, device=\"cuda\"):\n",
    "    # y_true\n",
    "    preprocessed_ds = preprocessor.transform(ds)\n",
    "    values = preprocessed_ds.select_columns(cols=[\"target\"]).take_all()\n",
    "    y_true = np.stack([item[\"target\"] for item in values])\n",
    "    \n",
    "    # y_pred\n",
    "    model = model.to(device)\n",
    "    ds_generator = preprocessed_ds.iter_torch_batches(batch_size=128, collate_fn=lambda x: collate_fn(x, device=device))\n",
    "    y_pred = None\n",
    "    model.eval()\n",
    "    with torch.inference_mode():\n",
    "        for i, batch in enumerate(ds_generator):\n",
    "            z = model(batch)\n",
    "            if y_pred is not None:\n",
    "                y_pred = torch.concat([y_pred, torch.argmax(z, dim=-1)], dim=0)\n",
    "            else:\n",
    "                y_pred = torch.argmax(z, dim=-1)\n",
    "    \n",
    "    y_pred = y_pred.cpu().numpy()\n",
    "    metrics = precision_recall_fscore_support(y_true, y_pred, average=\"weighted\")\n",
    "    return {\"precision\": metrics[0], \"recall\": metrics[1], \"f1\": metrics[2]}"
   ]
  },
  {
   "cell_type": "code",
   "execution_count": 71,
   "id": "f66529c3",
   "metadata": {},
   "outputs": [
    {
     "name": "stderr",
     "output_type": "stream",
     "text": [
      "2025-09-14 15:08:02,483\tINFO streaming_executor.py:108 -- Starting execution of Dataset. Full logs are in /tmp/ray/session_2025-09-14_15-05-00_735286_1657229/logs/ray-data\n",
      "2025-09-14 15:08:02,484\tINFO streaming_executor.py:109 -- Execution plan of Dataset: InputDataBuffer[Input] -> TaskPoolMapOperator[ReadCSV] -> TaskPoolMapOperator[CustomPreprocessor->Project]\n"
     ]
    },
    {
     "data": {
      "application/vnd.jupyter.widget-view+json": {
       "model_id": "e7ed1c62e080437c9d6eba1a2af0b0a7",
       "version_major": 2,
       "version_minor": 0
      },
      "text/plain": [
       "Running 0: 0.00 row [00:00, ? row/s]"
      ]
     },
     "metadata": {},
     "output_type": "display_data"
    },
    {
     "data": {
      "application/vnd.jupyter.widget-view+json": {
       "model_id": "635d03e481ae4c738c1ccaaba307a3eb",
       "version_major": 2,
       "version_minor": 0
      },
      "text/plain": [
       "- ReadCSV->SplitBlocks(192) 1: 0.00 row [00:00, ? row/s]"
      ]
     },
     "metadata": {},
     "output_type": "display_data"
    },
    {
     "data": {
      "application/vnd.jupyter.widget-view+json": {
       "model_id": "0b98b6d5821346afaf0ef7cbcc4704a2",
       "version_major": 2,
       "version_minor": 0
      },
      "text/plain": [
       "- CustomPreprocessor->Project 2: 0.00 row [00:00, ? row/s]"
      ]
     },
     "metadata": {},
     "output_type": "display_data"
    },
    {
     "name": "stderr",
     "output_type": "stream",
     "text": [
      "2025-09-14 15:08:04,698\tINFO streaming_executor.py:108 -- Starting execution of Dataset. Full logs are in /tmp/ray/session_2025-09-14_15-05-00_735286_1657229/logs/ray-data\n",
      "2025-09-14 15:08:04,698\tINFO streaming_executor.py:109 -- Execution plan of Dataset: InputDataBuffer[Input] -> TaskPoolMapOperator[ReadCSV] -> TaskPoolMapOperator[CustomPreprocessor]\n"
     ]
    },
    {
     "data": {
      "application/vnd.jupyter.widget-view+json": {
       "model_id": "cbaeb8cc60db4faba3bd1a4cac21e5d9",
       "version_major": 2,
       "version_minor": 0
      },
      "text/plain": [
       "Running 0: 0.00 row [00:00, ? row/s]"
      ]
     },
     "metadata": {},
     "output_type": "display_data"
    },
    {
     "data": {
      "application/vnd.jupyter.widget-view+json": {
       "model_id": "471306861179404bbb6a0a367f59b936",
       "version_major": 2,
       "version_minor": 0
      },
      "text/plain": [
       "- ReadCSV->SplitBlocks(192) 1: 0.00 row [00:00, ? row/s]"
      ]
     },
     "metadata": {},
     "output_type": "display_data"
    },
    {
     "data": {
      "application/vnd.jupyter.widget-view+json": {
       "model_id": "8b725ca4523a4ae19f8b9260d9a881bd",
       "version_major": 2,
       "version_minor": 0
      },
      "text/plain": [
       "- CustomPreprocessor 2: 0.00 row [00:00, ? row/s]"
      ]
     },
     "metadata": {},
     "output_type": "display_data"
    },
    {
     "data": {
      "text/plain": [
       "{'precision': 0.934616372140792,\n",
       " 'recall': 0.9319371727748691,\n",
       " 'f1': 0.9322420348871521}"
      ]
     },
     "execution_count": 71,
     "metadata": {},
     "output_type": "execute_result"
    }
   ],
   "source": [
    "evaluate(test_ds, model)"
   ]
  },
  {
   "cell_type": "markdown",
   "id": "3848b15a",
   "metadata": {},
   "source": [
    "## Inference"
   ]
  },
  {
   "cell_type": "code",
   "execution_count": 72,
   "id": "dac1ec21",
   "metadata": {},
   "outputs": [],
   "source": [
    "import pandas as pd"
   ]
  },
  {
   "cell_type": "code",
   "execution_count": 73,
   "id": "6672fa17",
   "metadata": {},
   "outputs": [
    {
     "data": {
      "text/plain": [
       "{0: 'natural-language-processing',\n",
       " 1: 'mlops',\n",
       " 2: 'other',\n",
       " 3: 'computer-vision'}"
      ]
     },
     "execution_count": 73,
     "metadata": {},
     "output_type": "execute_result"
    }
   ],
   "source": [
    "preprocessor.index_to_class"
   ]
  },
  {
   "cell_type": "code",
   "execution_count": 74,
   "id": "10f3c6a9",
   "metadata": {},
   "outputs": [],
   "source": [
    "def format_prob(prob, index_to_class):\n",
    "    d = {}\n",
    "    for i, item in enumerate(prob):\n",
    "        d[index_to_class[i]] = item\n",
    "    return d"
   ]
  },
  {
   "cell_type": "code",
   "execution_count": 75,
   "id": "5909497d",
   "metadata": {},
   "outputs": [],
   "source": [
    "def predict_prob(df, model, preprocessor=preprocessor, device=\"cuda\"):\n",
    "    \n",
    "    processed = preprocessor._transform_pandas(df)\n",
    "    processed = collate_fn(processed, device)\n",
    "    model = model.to(device)\n",
    "    output = model(processed)\n",
    "    output = output.cpu().detach()\n",
    "    y_prob = output.softmax(dim=1).numpy()\n",
    "    \n",
    "    res = []\n",
    "    for i, prob in enumerate(y_prob):\n",
    "        tag = decode([prob.argmax()], preprocessor.index_to_class)[0]\n",
    "        res.append({\"prediction\": tag, \"probabilities\": format_prob(prob, preprocessor.index_to_class)})\n",
    "    return res\n",
    "    "
   ]
  },
  {
   "cell_type": "code",
   "execution_count": 76,
   "id": "c4054758",
   "metadata": {},
   "outputs": [],
   "source": [
    "title = \"Transfer learning with transformers\"\n",
    "description = \"Using transformers for transfer learning on text classification tasks.\"\n",
    "sample_df = pd.DataFrame([{\"title\": title, \"description\": description, \"tag\": \"natural-language-processing\"}])"
   ]
  },
  {
   "cell_type": "code",
   "execution_count": 77,
   "metadata": {},
   "outputs": [
    {
     "data": {
      "text/plain": [
       "[{'prediction': 'natural-language-processing',\n",
       "  'probabilities': {'natural-language-processing': 0.9966356,\n",
       "   'mlops': 0.0011847689,\n",
       "   'other': 0.0008976348,\n",
       "   'computer-vision': 0.0012820732}}]"
      ]
     },
     "execution_count": 77,
     "metadata": {},
     "output_type": "execute_result"
    }
   ],
   "source": [
    "predict_prob(sample_df, model)"
   ]
  },
  {
   "cell_type": "markdown",
   "id": "6bb048cb",
   "metadata": {},
   "source": [
    "# MLFLOW"
   ]
  },
  {
   "cell_type": "code",
   "execution_count": 78,
   "id": "93eed85f",
   "metadata": {},
   "outputs": [],
   "source": [
    "import mlflow\n",
    "from pathlib import Path\n",
    "from ray.air.integrations.mlflow import MLflowLoggerCallback\n",
    "import time"
   ]
  },
  {
   "cell_type": "code",
   "execution_count": 79,
   "id": "0df2995f",
   "metadata": {},
   "outputs": [],
   "source": [
    "MODEL_REGISTERY = Path(\"tmp/mlflow\")\n",
    "MODEL_REGISTERY.mkdir(exist_ok=True, parents=True)"
   ]
  },
  {
   "cell_type": "code",
   "execution_count": 80,
   "id": "a4729def",
   "metadata": {},
   "outputs": [],
   "source": [
    "MLFLOW_TRACKING_URI = \"file://\" + str(MODEL_REGISTERY.absolute())\n",
    "mlflow.set_tracking_uri(MLFLOW_TRACKING_URI)"
   ]
  },
  {
   "cell_type": "code",
   "execution_count": 81,
   "id": "0dd5a8db",
   "metadata": {},
   "outputs": [
    {
     "name": "stdout",
     "output_type": "stream",
     "text": [
      "file:///mnt/hpc/work/ngkuissi/Made-With-ML/tmp/mlflow\n"
     ]
    }
   ],
   "source": [
    "print(mlflow.get_tracking_uri())"
   ]
  },
  {
   "cell_type": "code",
   "execution_count": 82,
   "id": "d81f3357",
   "metadata": {},
   "outputs": [],
   "source": [
    "experiment_name = f\"llm-{int(time.time())}\"\n",
    "mlflow_callback = MLflowLoggerCallback(\n",
    "    mlflow.get_tracking_uri(),\n",
    "    experiment_name=experiment_name,\n",
    "    save_artifact=True\n",
    ")"
   ]
  },
  {
   "cell_type": "code",
   "execution_count": 83,
   "id": "d6de4864",
   "metadata": {},
   "outputs": [],
   "source": [
    "run_config = RunConfig(\n",
    "    checkpoint_config=checkpoint_config,\n",
    "    callbacks=[mlflow_callback]\n",
    ")"
   ]
  },
  {
   "cell_type": "code",
   "execution_count": 84,
   "id": "e2c8f17b",
   "metadata": {},
   "outputs": [],
   "source": [
    "ds = load_data()\n",
    "train_ds, val_ds = stratify_split(ds, stratify=\"tag\", test_size=test_size)"
   ]
  },
  {
   "cell_type": "code",
   "execution_count": 85,
   "id": "b067746d",
   "metadata": {},
   "outputs": [
    {
     "name": "stderr",
     "output_type": "stream",
     "text": [
      "2025-09-14 15:44:07,027\tINFO streaming_executor.py:108 -- Starting execution of Dataset. Full logs are in /tmp/ray/session_2025-09-14_15-05-00_735286_1657229/logs/ray-data\n",
      "2025-09-14 15:44:07,028\tINFO streaming_executor.py:109 -- Execution plan of Dataset: InputDataBuffer[Input] -> TaskPoolMapOperator[ReadCSV] -> AllToAllOperator[RandomShuffle] -> AllToAllOperator[Sort] -> AllToAllOperator[MapBatches(_add_split)->MapBatches(_filter_split)->RandomShuffle] -> AllToAllOperator[Aggregate] -> LimitOperator[limit=1]\n"
     ]
    },
    {
     "data": {
      "application/vnd.jupyter.widget-view+json": {
       "model_id": "0216af2c342a4acfbe989392b610855d",
       "version_major": 2,
       "version_minor": 0
      },
      "text/plain": [
       "Running 0: 0.00 row [00:00, ? row/s]"
      ]
     },
     "metadata": {},
     "output_type": "display_data"
    },
    {
     "data": {
      "application/vnd.jupyter.widget-view+json": {
       "model_id": "ec2f1d3ff20447c1ab1db13c0119bac6",
       "version_major": 2,
       "version_minor": 0
      },
      "text/plain": [
       "- ReadCSV->SplitBlocks(192) 1: 0.00 row [00:00, ? row/s]"
      ]
     },
     "metadata": {},
     "output_type": "display_data"
    },
    {
     "data": {
      "application/vnd.jupyter.widget-view+json": {
       "model_id": "1cb6d327cefd488fbe7882a45f3e57a8",
       "version_major": 2,
       "version_minor": 0
      },
      "text/plain": [
       "- RandomShuffle 2: 0.00 row [00:00, ? row/s]"
      ]
     },
     "metadata": {},
     "output_type": "display_data"
    },
    {
     "data": {
      "application/vnd.jupyter.widget-view+json": {
       "model_id": "f84c1bd58fc74214a0c8ab594623f4bc",
       "version_major": 2,
       "version_minor": 0
      },
      "text/plain": [
       "Shuffle Map 3:   0%|                                                                                          …"
      ]
     },
     "metadata": {},
     "output_type": "display_data"
    },
    {
     "data": {
      "application/vnd.jupyter.widget-view+json": {
       "model_id": "b7a083276aaf451aa00d479f2af7a74f",
       "version_major": 2,
       "version_minor": 0
      },
      "text/plain": [
       "Shuffle Reduce 4:   0%|                                                                                       …"
      ]
     },
     "metadata": {},
     "output_type": "display_data"
    },
    {
     "data": {
      "application/vnd.jupyter.widget-view+json": {
       "model_id": "3daa48b1d2fc4d7783e953171aa4b81a",
       "version_major": 2,
       "version_minor": 0
      },
      "text/plain": [
       "- Sort 5: 0.00 row [00:00, ? row/s]"
      ]
     },
     "metadata": {},
     "output_type": "display_data"
    },
    {
     "data": {
      "application/vnd.jupyter.widget-view+json": {
       "model_id": "5882ce775e2b45ecb213d4f1f8911bfa",
       "version_major": 2,
       "version_minor": 0
      },
      "text/plain": [
       "Sort Sample 6:   0%|                                                                                          …"
      ]
     },
     "metadata": {},
     "output_type": "display_data"
    },
    {
     "data": {
      "application/vnd.jupyter.widget-view+json": {
       "model_id": "1ad8e5bb420247918aed62fd74601e3d",
       "version_major": 2,
       "version_minor": 0
      },
      "text/plain": [
       "Shuffle Map 7:   0%|                                                                                          …"
      ]
     },
     "metadata": {},
     "output_type": "display_data"
    },
    {
     "data": {
      "application/vnd.jupyter.widget-view+json": {
       "model_id": "b33b4a4d5182456299d01627cbdce4cc",
       "version_major": 2,
       "version_minor": 0
      },
      "text/plain": [
       "Shuffle Reduce 8:   0%|                                                                                       …"
      ]
     },
     "metadata": {},
     "output_type": "display_data"
    },
    {
     "data": {
      "application/vnd.jupyter.widget-view+json": {
       "model_id": "4944fd6ff422475599ee39843ad31238",
       "version_major": 2,
       "version_minor": 0
      },
      "text/plain": [
       "- MapBatches(_add_split)->MapBatches(_filter_split)->RandomShuffle 9: 0.00 row [00:00, ? row/s]"
      ]
     },
     "metadata": {},
     "output_type": "display_data"
    },
    {
     "data": {
      "application/vnd.jupyter.widget-view+json": {
       "model_id": "8234f244ebd94bd4bcce3e54191ca4ff",
       "version_major": 2,
       "version_minor": 0
      },
      "text/plain": [
       "Shuffle Map 10:   0%|                                                                                         …"
      ]
     },
     "metadata": {},
     "output_type": "display_data"
    },
    {
     "data": {
      "application/vnd.jupyter.widget-view+json": {
       "model_id": "c0d93a49336747c495955e459c3ccb57",
       "version_major": 2,
       "version_minor": 0
      },
      "text/plain": [
       "Shuffle Reduce 11:   0%|                                                                                      …"
      ]
     },
     "metadata": {},
     "output_type": "display_data"
    },
    {
     "data": {
      "application/vnd.jupyter.widget-view+json": {
       "model_id": "0625ce02e1a94791a8e89a0402f528fa",
       "version_major": 2,
       "version_minor": 0
      },
      "text/plain": [
       "- Aggregate 12: 0.00 row [00:00, ? row/s]"
      ]
     },
     "metadata": {},
     "output_type": "display_data"
    },
    {
     "data": {
      "application/vnd.jupyter.widget-view+json": {
       "model_id": "5dd1808e72104a418f8f42f819d8fd36",
       "version_major": 2,
       "version_minor": 0
      },
      "text/plain": [
       "Sort Sample 13:   0%|                                                                                         …"
      ]
     },
     "metadata": {},
     "output_type": "display_data"
    },
    {
     "data": {
      "application/vnd.jupyter.widget-view+json": {
       "model_id": "df559ddd83dd4ca2bd9176e905c4da24",
       "version_major": 2,
       "version_minor": 0
      },
      "text/plain": [
       "Shuffle Map 14:   0%|                                                                                         …"
      ]
     },
     "metadata": {},
     "output_type": "display_data"
    },
    {
     "data": {
      "application/vnd.jupyter.widget-view+json": {
       "model_id": "db384459683146398e7ddcd4f10ca05e",
       "version_major": 2,
       "version_minor": 0
      },
      "text/plain": [
       "Shuffle Reduce 15:   0%|                                                                                      …"
      ]
     },
     "metadata": {},
     "output_type": "display_data"
    },
    {
     "data": {
      "application/vnd.jupyter.widget-view+json": {
       "model_id": "31af5d082367433aa81270f1a0bd32f6",
       "version_major": 2,
       "version_minor": 0
      },
      "text/plain": [
       "- limit=1 16: 0.00 row [00:00, ? row/s]"
      ]
     },
     "metadata": {},
     "output_type": "display_data"
    }
   ],
   "source": [
    "preprocessor = CustomPreprocessor()\n",
    "train_ds = preprocessor.fit_transform(train_ds)\n",
    "val_ds = preprocessor.transform(val_ds)"
   ]
  },
  {
   "cell_type": "code",
   "execution_count": 86,
   "id": "1cf58fbd",
   "metadata": {},
   "outputs": [
    {
     "name": "stderr",
     "output_type": "stream",
     "text": [
      "2025-09-14 15:44:21,439\tINFO streaming_executor.py:108 -- Starting execution of Dataset. Full logs are in /tmp/ray/session_2025-09-14_15-05-00_735286_1657229/logs/ray-data\n",
      "2025-09-14 15:44:21,439\tINFO streaming_executor.py:109 -- Execution plan of Dataset: InputDataBuffer[Input] -> TaskPoolMapOperator[ReadCSV] -> AllToAllOperator[RandomShuffle] -> AllToAllOperator[Sort] -> AllToAllOperator[MapBatches(_add_split)->MapBatches(_filter_split)->RandomShuffle] -> TaskPoolMapOperator[CustomPreprocessor]\n"
     ]
    },
    {
     "data": {
      "application/vnd.jupyter.widget-view+json": {
       "model_id": "6a714c220a8e45908466c401efe36583",
       "version_major": 2,
       "version_minor": 0
      },
      "text/plain": [
       "Running 0: 0.00 row [00:00, ? row/s]"
      ]
     },
     "metadata": {},
     "output_type": "display_data"
    },
    {
     "data": {
      "application/vnd.jupyter.widget-view+json": {
       "model_id": "301c79d4da8a4996ab86a597b858e295",
       "version_major": 2,
       "version_minor": 0
      },
      "text/plain": [
       "- ReadCSV->SplitBlocks(192) 1: 0.00 row [00:00, ? row/s]"
      ]
     },
     "metadata": {},
     "output_type": "display_data"
    },
    {
     "data": {
      "application/vnd.jupyter.widget-view+json": {
       "model_id": "44c721a288ec408598d19f2542085756",
       "version_major": 2,
       "version_minor": 0
      },
      "text/plain": [
       "- RandomShuffle 2: 0.00 row [00:00, ? row/s]"
      ]
     },
     "metadata": {},
     "output_type": "display_data"
    },
    {
     "data": {
      "application/vnd.jupyter.widget-view+json": {
       "model_id": "ecc3237bf3a74113b7555e741968ddd1",
       "version_major": 2,
       "version_minor": 0
      },
      "text/plain": [
       "Shuffle Map 3:   0%|                                                                                          …"
      ]
     },
     "metadata": {},
     "output_type": "display_data"
    },
    {
     "data": {
      "application/vnd.jupyter.widget-view+json": {
       "model_id": "8c0d7dd959a84e828f210a3ccf5933cc",
       "version_major": 2,
       "version_minor": 0
      },
      "text/plain": [
       "Shuffle Reduce 4:   0%|                                                                                       …"
      ]
     },
     "metadata": {},
     "output_type": "display_data"
    },
    {
     "data": {
      "application/vnd.jupyter.widget-view+json": {
       "model_id": "c76c939fce6d48a4946faefdc71e7ed6",
       "version_major": 2,
       "version_minor": 0
      },
      "text/plain": [
       "- Sort 5: 0.00 row [00:00, ? row/s]"
      ]
     },
     "metadata": {},
     "output_type": "display_data"
    },
    {
     "data": {
      "application/vnd.jupyter.widget-view+json": {
       "model_id": "35f39f1605004e1d9a7eba27395e1ac5",
       "version_major": 2,
       "version_minor": 0
      },
      "text/plain": [
       "Sort Sample 6:   0%|                                                                                          …"
      ]
     },
     "metadata": {},
     "output_type": "display_data"
    },
    {
     "data": {
      "application/vnd.jupyter.widget-view+json": {
       "model_id": "8e351d23e72f4e2a8df1f3306914a4c0",
       "version_major": 2,
       "version_minor": 0
      },
      "text/plain": [
       "Shuffle Map 7:   0%|                                                                                          …"
      ]
     },
     "metadata": {},
     "output_type": "display_data"
    },
    {
     "data": {
      "application/vnd.jupyter.widget-view+json": {
       "model_id": "fc5801653b524c20adb97a80c343cbf8",
       "version_major": 2,
       "version_minor": 0
      },
      "text/plain": [
       "Shuffle Reduce 8:   0%|                                                                                       …"
      ]
     },
     "metadata": {},
     "output_type": "display_data"
    },
    {
     "data": {
      "application/vnd.jupyter.widget-view+json": {
       "model_id": "2525c6afb9ec42e4beb23ac21834c53b",
       "version_major": 2,
       "version_minor": 0
      },
      "text/plain": [
       "- MapBatches(_add_split)->MapBatches(_filter_split)->RandomShuffle 9: 0.00 row [00:00, ? row/s]"
      ]
     },
     "metadata": {},
     "output_type": "display_data"
    },
    {
     "data": {
      "application/vnd.jupyter.widget-view+json": {
       "model_id": "e7b7afa986654b0a92e913e35bd3fd4d",
       "version_major": 2,
       "version_minor": 0
      },
      "text/plain": [
       "Shuffle Map 10:   0%|                                                                                         …"
      ]
     },
     "metadata": {},
     "output_type": "display_data"
    },
    {
     "data": {
      "application/vnd.jupyter.widget-view+json": {
       "model_id": "a2672df5d9e04a8d9c8dcc05dbbf805f",
       "version_major": 2,
       "version_minor": 0
      },
      "text/plain": [
       "Shuffle Reduce 11:   0%|                                                                                      …"
      ]
     },
     "metadata": {},
     "output_type": "display_data"
    },
    {
     "data": {
      "application/vnd.jupyter.widget-view+json": {
       "model_id": "b75059b7da9842cc8cc37382f3cde4c8",
       "version_major": 2,
       "version_minor": 0
      },
      "text/plain": [
       "- CustomPreprocessor 12: 0.00 row [00:00, ? row/s]"
      ]
     },
     "metadata": {},
     "output_type": "display_data"
    },
    {
     "name": "stderr",
     "output_type": "stream",
     "text": [
      "2025-09-14 15:44:28,196\tINFO streaming_executor.py:108 -- Starting execution of Dataset. Full logs are in /tmp/ray/session_2025-09-14_15-05-00_735286_1657229/logs/ray-data\n",
      "2025-09-14 15:44:28,196\tINFO streaming_executor.py:109 -- Execution plan of Dataset: InputDataBuffer[Input] -> TaskPoolMapOperator[ReadCSV] -> AllToAllOperator[RandomShuffle] -> AllToAllOperator[Sort] -> AllToAllOperator[MapBatches(_add_split)->MapBatches(_filter_split)->RandomShuffle] -> TaskPoolMapOperator[CustomPreprocessor]\n"
     ]
    },
    {
     "data": {
      "application/vnd.jupyter.widget-view+json": {
       "model_id": "08fb34b7cd4446418aedb712fee1d58c",
       "version_major": 2,
       "version_minor": 0
      },
      "text/plain": [
       "Running 0: 0.00 row [00:00, ? row/s]"
      ]
     },
     "metadata": {},
     "output_type": "display_data"
    },
    {
     "data": {
      "application/vnd.jupyter.widget-view+json": {
       "model_id": "395c10b20d3c4dd8966bf5f574485885",
       "version_major": 2,
       "version_minor": 0
      },
      "text/plain": [
       "- ReadCSV->SplitBlocks(192) 1: 0.00 row [00:00, ? row/s]"
      ]
     },
     "metadata": {},
     "output_type": "display_data"
    },
    {
     "data": {
      "application/vnd.jupyter.widget-view+json": {
       "model_id": "b37270aac1ad4363928c0c4a769a44f6",
       "version_major": 2,
       "version_minor": 0
      },
      "text/plain": [
       "- RandomShuffle 2: 0.00 row [00:00, ? row/s]"
      ]
     },
     "metadata": {},
     "output_type": "display_data"
    },
    {
     "data": {
      "application/vnd.jupyter.widget-view+json": {
       "model_id": "873db29deb804023b8e87904ba73fd9b",
       "version_major": 2,
       "version_minor": 0
      },
      "text/plain": [
       "Shuffle Map 3:   0%|                                                                                          …"
      ]
     },
     "metadata": {},
     "output_type": "display_data"
    },
    {
     "data": {
      "application/vnd.jupyter.widget-view+json": {
       "model_id": "27bf15b82a2e418c87e32ba509e53d4a",
       "version_major": 2,
       "version_minor": 0
      },
      "text/plain": [
       "Shuffle Reduce 4:   0%|                                                                                       …"
      ]
     },
     "metadata": {},
     "output_type": "display_data"
    },
    {
     "data": {
      "application/vnd.jupyter.widget-view+json": {
       "model_id": "70a5de6c11a148c2951e3c76d535bc73",
       "version_major": 2,
       "version_minor": 0
      },
      "text/plain": [
       "- Sort 5: 0.00 row [00:00, ? row/s]"
      ]
     },
     "metadata": {},
     "output_type": "display_data"
    },
    {
     "data": {
      "application/vnd.jupyter.widget-view+json": {
       "model_id": "009ad11040fc487d8ce392d43ccc5ba2",
       "version_major": 2,
       "version_minor": 0
      },
      "text/plain": [
       "Sort Sample 6:   0%|                                                                                          …"
      ]
     },
     "metadata": {},
     "output_type": "display_data"
    },
    {
     "data": {
      "application/vnd.jupyter.widget-view+json": {
       "model_id": "bd8c084bbc4e4e4a9a0f9bdaece62be5",
       "version_major": 2,
       "version_minor": 0
      },
      "text/plain": [
       "Shuffle Map 7:   0%|                                                                                          …"
      ]
     },
     "metadata": {},
     "output_type": "display_data"
    },
    {
     "data": {
      "application/vnd.jupyter.widget-view+json": {
       "model_id": "0e1f7cbeb92c43ad8d4378f6004292a9",
       "version_major": 2,
       "version_minor": 0
      },
      "text/plain": [
       "Shuffle Reduce 8:   0%|                                                                                       …"
      ]
     },
     "metadata": {},
     "output_type": "display_data"
    },
    {
     "data": {
      "application/vnd.jupyter.widget-view+json": {
       "model_id": "cf874be0d6014f3b8d66974f3b1fecea",
       "version_major": 2,
       "version_minor": 0
      },
      "text/plain": [
       "- MapBatches(_add_split)->MapBatches(_filter_split)->RandomShuffle 9: 0.00 row [00:00, ? row/s]"
      ]
     },
     "metadata": {},
     "output_type": "display_data"
    },
    {
     "data": {
      "application/vnd.jupyter.widget-view+json": {
       "model_id": "5149ade349d64246a83608ae0ba21abf",
       "version_major": 2,
       "version_minor": 0
      },
      "text/plain": [
       "Shuffle Map 10:   0%|                                                                                         …"
      ]
     },
     "metadata": {},
     "output_type": "display_data"
    },
    {
     "data": {
      "application/vnd.jupyter.widget-view+json": {
       "model_id": "e7f52c2c362846a39cf4e39208a57cfc",
       "version_major": 2,
       "version_minor": 0
      },
      "text/plain": [
       "Shuffle Reduce 11:   0%|                                                                                      …"
      ]
     },
     "metadata": {},
     "output_type": "display_data"
    },
    {
     "data": {
      "application/vnd.jupyter.widget-view+json": {
       "model_id": "2b601182f32c4114bf73b6c566048420",
       "version_major": 2,
       "version_minor": 0
      },
      "text/plain": [
       "- CustomPreprocessor 12: 0.00 row [00:00, ? row/s]"
      ]
     },
     "metadata": {},
     "output_type": "display_data"
    }
   ],
   "source": [
    "train_ds = train_ds.materialize()\n",
    "val_ds = val_ds.materialize()"
   ]
  },
  {
   "cell_type": "code",
   "execution_count": 87,
   "id": "7a64c0d8",
   "metadata": {},
   "outputs": [
    {
     "name": "stderr",
     "output_type": "stream",
     "text": [
      "/mnt/hpc/work/ngkuissi/Made-With-ML/venv/lib/python3.10/site-packages/ray/train/base_trainer.py:582: RayDeprecationWarning: `ray.train.RunConfig(callbacks: List[ray.tune.Callback])` is deprecated. Ray Train no longer accepts Ray Tune callbacks, since the Ray Train execution backend is being separated from Ray Tune. See this issue for more context and migration options: https://github.com/ray-project/ray/issues/49454. Disable these warnings by setting the environment variable: RAY_TRAIN_ENABLE_V2_MIGRATION_WARNINGS=0\n",
      "  _log_deprecation_warning(CALLBACKS_DEPRECATION_MESSAGE)\n"
     ]
    }
   ],
   "source": [
    "trainer = TorchTrainer(\n",
    "    train_loop_per_worker=train_loop_per_worker,\n",
    "    train_loop_config=train_loop_config,\n",
    "    scaling_config=scaling_config,\n",
    "    run_config= run_config,\n",
    "    datasets= {\"train\": train_ds, \"val\": val_ds},\n",
    "    dataset_config=dataset_config,\n",
    "    #preprocessor=preprocessor   \n",
    ")"
   ]
  },
  {
   "cell_type": "code",
   "execution_count": 88,
   "id": "50715007",
   "metadata": {},
   "outputs": [
    {
     "name": "stderr",
     "output_type": "stream",
     "text": [
      "2025-09-14 15:45:04,680\tINFO tune.py:616 -- [output] This uses the legacy output and progress reporter, as Jupyter notebooks are not supported by the new engine, yet. For more information, please see https://github.com/ray-project/ray/issues/36949\n"
     ]
    },
    {
     "name": "stdout",
     "output_type": "stream",
     "text": [
      "== Status ==\n",
      "Current time: 2025-09-14 15:45:04 (running for 00:00:00.11)\n",
      "Using FIFO scheduling algorithm.\n",
      "Logical resource usage: 11.0/96 CPUs, 1.0/1 GPUs (0.0/1.0 accelerator_type:RTX)\n",
      "Result logdir: /tmp/ray/session_2025-09-14_15-05-00_735286_1657229/artifacts/2025-09-14_15-45-04/TorchTrainer_2025-09-14_15-45-04/driver_artifacts\n",
      "Number of trials: 1/1 (1 PENDING)\n",
      "\n",
      "\n",
      "== Status ==\n",
      "Current time: 2025-09-14 15:45:09 (running for 00:00:05.13)\n",
      "Using FIFO scheduling algorithm.\n",
      "Logical resource usage: 11.0/96 CPUs, 1.0/1 GPUs (0.0/1.0 accelerator_type:RTX)\n",
      "Result logdir: /tmp/ray/session_2025-09-14_15-05-00_735286_1657229/artifacts/2025-09-14_15-45-04/TorchTrainer_2025-09-14_15-45-04/driver_artifacts\n",
      "Number of trials: 1/1 (1 PENDING)\n",
      "\n",
      "\n",
      "== Status ==\n",
      "Current time: 2025-09-14 15:45:14 (running for 00:00:10.18)\n",
      "Using FIFO scheduling algorithm.\n",
      "Logical resource usage: 11.0/96 CPUs, 1.0/1 GPUs (0.0/1.0 accelerator_type:RTX)\n",
      "Result logdir: /tmp/ray/session_2025-09-14_15-05-00_735286_1657229/artifacts/2025-09-14_15-45-04/TorchTrainer_2025-09-14_15-45-04/driver_artifacts\n",
      "Number of trials: 1/1 (1 RUNNING)\n",
      "\n",
      "\n"
     ]
    },
    {
     "data": {
      "application/vnd.jupyter.widget-view+json": {
       "model_id": "8891e07463274a9e8218889ea691eb5f",
       "version_major": 2,
       "version_minor": 0
      },
      "text/plain": [
       "(pid=1706393) Running 0: 0.00 row [00:00, ? row/s]"
      ]
     },
     "metadata": {},
     "output_type": "display_data"
    },
    {
     "data": {
      "application/vnd.jupyter.widget-view+json": {
       "model_id": "37ca64cc35e64ca39c1b8eee3f6e958b",
       "version_major": 2,
       "version_minor": 0
      },
      "text/plain": [
       "(pid=1706393) - split(1, equal=True) 1: 0.00 row [00:00, ? row/s]"
      ]
     },
     "metadata": {},
     "output_type": "display_data"
    },
    {
     "name": "stdout",
     "output_type": "stream",
     "text": [
      "== Status ==\n",
      "Current time: 2025-09-14 15:45:19 (running for 00:00:15.20)\n",
      "Using FIFO scheduling algorithm.\n",
      "Logical resource usage: 11.0/96 CPUs, 1.0/1 GPUs (0.0/1.0 accelerator_type:RTX)\n",
      "Result logdir: /tmp/ray/session_2025-09-14_15-05-00_735286_1657229/artifacts/2025-09-14_15-45-04/TorchTrainer_2025-09-14_15-45-04/driver_artifacts\n",
      "Number of trials: 1/1 (1 RUNNING)\n",
      "\n",
      "\n"
     ]
    },
    {
     "data": {
      "application/vnd.jupyter.widget-view+json": {
       "model_id": "5b9e3d3fdaab4cddac3c8510811a30ee",
       "version_major": 2,
       "version_minor": 0
      },
      "text/plain": [
       "(pid=1706392) Running 0: 0.00 row [00:00, ? row/s]"
      ]
     },
     "metadata": {},
     "output_type": "display_data"
    },
    {
     "data": {
      "application/vnd.jupyter.widget-view+json": {
       "model_id": "d32381eaaed94516a9eba44a05481350",
       "version_major": 2,
       "version_minor": 0
      },
      "text/plain": [
       "(pid=1706392) - split(1, equal=True) 1: 0.00 row [00:00, ? row/s]"
      ]
     },
     "metadata": {},
     "output_type": "display_data"
    },
    {
     "data": {
      "application/vnd.jupyter.widget-view+json": {
       "model_id": "4d2aac1d23d2410588977871e9d19433",
       "version_major": 2,
       "version_minor": 0
      },
      "text/plain": [
       "(pid=1706393) Running 0: 0.00 row [00:00, ? row/s]"
      ]
     },
     "metadata": {},
     "output_type": "display_data"
    },
    {
     "data": {
      "application/vnd.jupyter.widget-view+json": {
       "model_id": "6f89c2e638bd4730965456c49a42ed11",
       "version_major": 2,
       "version_minor": 0
      },
      "text/plain": [
       "(pid=1706393) - split(1, equal=True) 1: 0.00 row [00:00, ? row/s]"
      ]
     },
     "metadata": {},
     "output_type": "display_data"
    },
    {
     "name": "stderr",
     "output_type": "stream",
     "text": [
      "2025-09-14 15:45:23,816\tWARNING util.py:201 -- The `callbacks.on_trial_result` operation took 0.727 s, which may be a performance bottleneck.\n",
      "2025-09-14 15:45:23,817\tWARNING util.py:201 -- The `process_trial_result` operation took 0.728 s, which may be a performance bottleneck.\n",
      "2025-09-14 15:45:23,818\tWARNING util.py:201 -- Processing trial results took 0.728 s, which may be a performance bottleneck. Please consider reporting results less frequently to Ray Tune.\n",
      "2025-09-14 15:45:23,818\tWARNING util.py:201 -- The `process_trial_result` operation took 0.729 s, which may be a performance bottleneck.\n"
     ]
    },
    {
     "data": {
      "application/vnd.jupyter.widget-view+json": {
       "model_id": "356b0efaad5147c6820b35dff00cc087",
       "version_major": 2,
       "version_minor": 0
      },
      "text/plain": [
       "(pid=1706392) Running 0: 0.00 row [00:00, ? row/s]"
      ]
     },
     "metadata": {},
     "output_type": "display_data"
    },
    {
     "data": {
      "application/vnd.jupyter.widget-view+json": {
       "model_id": "49290906f25c46909b6edbc0491461f7",
       "version_major": 2,
       "version_minor": 0
      },
      "text/plain": [
       "(pid=1706392) - split(1, equal=True) 1: 0.00 row [00:00, ? row/s]"
      ]
     },
     "metadata": {},
     "output_type": "display_data"
    },
    {
     "name": "stdout",
     "output_type": "stream",
     "text": [
      "== Status ==\n",
      "Current time: 2025-09-14 15:45:24 (running for 00:00:20.22)\n",
      "Using FIFO scheduling algorithm.\n",
      "Logical resource usage: 11.0/96 CPUs, 1.0/1 GPUs (0.0/1.0 accelerator_type:RTX)\n",
      "Result logdir: /tmp/ray/session_2025-09-14_15-05-00_735286_1657229/artifacts/2025-09-14_15-45-04/TorchTrainer_2025-09-14_15-45-04/driver_artifacts\n",
      "Number of trials: 1/1 (1 RUNNING)\n",
      "\n",
      "\n"
     ]
    },
    {
     "data": {
      "application/vnd.jupyter.widget-view+json": {
       "model_id": "e7d89a416bdd4e9f8afb2b027347b5f7",
       "version_major": 2,
       "version_minor": 0
      },
      "text/plain": [
       "(pid=1706393) Running 0: 0.00 row [00:00, ? row/s]"
      ]
     },
     "metadata": {},
     "output_type": "display_data"
    },
    {
     "data": {
      "application/vnd.jupyter.widget-view+json": {
       "model_id": "a255f249ca554bb79cda571b395ddda0",
       "version_major": 2,
       "version_minor": 0
      },
      "text/plain": [
       "(pid=1706393) - split(1, equal=True) 1: 0.00 row [00:00, ? row/s]"
      ]
     },
     "metadata": {},
     "output_type": "display_data"
    },
    {
     "name": "stderr",
     "output_type": "stream",
     "text": [
      "2025-09-14 15:45:27,029\tWARNING experiment_state.py:206 -- Experiment state snapshotting has been triggered multiple times in the last 5.0 seconds and may become a bottleneck. A snapshot is forced if `CheckpointConfig(num_to_keep)` is set, and a trial has checkpointed >= `num_to_keep` times since the last snapshot.\n",
      "You may want to consider increasing the `CheckpointConfig(num_to_keep)` or decreasing the frequency of saving checkpoints.\n",
      "You can suppress this warning by setting the environment variable TUNE_WARN_EXCESSIVE_EXPERIMENT_CHECKPOINT_SYNC_THRESHOLD_S to a smaller value than the current threshold (5.0). Set it to 0 to completely suppress this warning.\n"
     ]
    },
    {
     "data": {
      "application/vnd.jupyter.widget-view+json": {
       "model_id": "207e66f9b4c4406f83dd88c63982fde4",
       "version_major": 2,
       "version_minor": 0
      },
      "text/plain": [
       "(pid=1706392) Running 0: 0.00 row [00:00, ? row/s]"
      ]
     },
     "metadata": {},
     "output_type": "display_data"
    },
    {
     "data": {
      "application/vnd.jupyter.widget-view+json": {
       "model_id": "12b8a5d7859c4fa19446bd0aca844bef",
       "version_major": 2,
       "version_minor": 0
      },
      "text/plain": [
       "(pid=1706392) - split(1, equal=True) 1: 0.00 row [00:00, ? row/s]"
      ]
     },
     "metadata": {},
     "output_type": "display_data"
    },
    {
     "name": "stdout",
     "output_type": "stream",
     "text": [
      "== Status ==\n",
      "Current time: 2025-09-14 15:45:29 (running for 00:00:25.23)\n",
      "Using FIFO scheduling algorithm.\n",
      "Logical resource usage: 11.0/96 CPUs, 1.0/1 GPUs (0.0/1.0 accelerator_type:RTX)\n",
      "Result logdir: /tmp/ray/session_2025-09-14_15-05-00_735286_1657229/artifacts/2025-09-14_15-45-04/TorchTrainer_2025-09-14_15-45-04/driver_artifacts\n",
      "Number of trials: 1/1 (1 RUNNING)\n",
      "\n",
      "\n"
     ]
    },
    {
     "data": {
      "application/vnd.jupyter.widget-view+json": {
       "model_id": "bb57555ad66148d5acf9d9b8ac38a681",
       "version_major": 2,
       "version_minor": 0
      },
      "text/plain": [
       "(pid=1706393) Running 0: 0.00 row [00:00, ? row/s]"
      ]
     },
     "metadata": {},
     "output_type": "display_data"
    },
    {
     "data": {
      "application/vnd.jupyter.widget-view+json": {
       "model_id": "7081f2e62c09472f997ebbf0a8952ad5",
       "version_major": 2,
       "version_minor": 0
      },
      "text/plain": [
       "(pid=1706393) - split(1, equal=True) 1: 0.00 row [00:00, ? row/s]"
      ]
     },
     "metadata": {},
     "output_type": "display_data"
    },
    {
     "name": "stderr",
     "output_type": "stream",
     "text": [
      "2025-09-14 15:45:30,820\tWARNING experiment_state.py:206 -- Experiment state snapshotting has been triggered multiple times in the last 5.0 seconds and may become a bottleneck. A snapshot is forced if `CheckpointConfig(num_to_keep)` is set, and a trial has checkpointed >= `num_to_keep` times since the last snapshot.\n",
      "You may want to consider increasing the `CheckpointConfig(num_to_keep)` or decreasing the frequency of saving checkpoints.\n",
      "You can suppress this warning by setting the environment variable TUNE_WARN_EXCESSIVE_EXPERIMENT_CHECKPOINT_SYNC_THRESHOLD_S to a smaller value than the current threshold (5.0). Set it to 0 to completely suppress this warning.\n"
     ]
    },
    {
     "data": {
      "application/vnd.jupyter.widget-view+json": {
       "model_id": "826043db4f1c4b3baa0282a5be351edd",
       "version_major": 2,
       "version_minor": 0
      },
      "text/plain": [
       "(pid=1706392) Running 0: 0.00 row [00:00, ? row/s]"
      ]
     },
     "metadata": {},
     "output_type": "display_data"
    },
    {
     "data": {
      "application/vnd.jupyter.widget-view+json": {
       "model_id": "012988222f39483a9488e88246b9f1e5",
       "version_major": 2,
       "version_minor": 0
      },
      "text/plain": [
       "(pid=1706392) - split(1, equal=True) 1: 0.00 row [00:00, ? row/s]"
      ]
     },
     "metadata": {},
     "output_type": "display_data"
    },
    {
     "data": {
      "application/vnd.jupyter.widget-view+json": {
       "model_id": "74cd67a749f04bfb9b5e77757b951cb8",
       "version_major": 2,
       "version_minor": 0
      },
      "text/plain": [
       "(pid=1706393) Running 0: 0.00 row [00:00, ? row/s]"
      ]
     },
     "metadata": {},
     "output_type": "display_data"
    },
    {
     "data": {
      "application/vnd.jupyter.widget-view+json": {
       "model_id": "6a54003d47944cc6b9312bb4b902a758",
       "version_major": 2,
       "version_minor": 0
      },
      "text/plain": [
       "(pid=1706393) - split(1, equal=True) 1: 0.00 row [00:00, ? row/s]"
      ]
     },
     "metadata": {},
     "output_type": "display_data"
    },
    {
     "name": "stderr",
     "output_type": "stream",
     "text": [
      "2025-09-14 15:45:34,669\tWARNING experiment_state.py:206 -- Experiment state snapshotting has been triggered multiple times in the last 5.0 seconds and may become a bottleneck. A snapshot is forced if `CheckpointConfig(num_to_keep)` is set, and a trial has checkpointed >= `num_to_keep` times since the last snapshot.\n",
      "You may want to consider increasing the `CheckpointConfig(num_to_keep)` or decreasing the frequency of saving checkpoints.\n",
      "You can suppress this warning by setting the environment variable TUNE_WARN_EXCESSIVE_EXPERIMENT_CHECKPOINT_SYNC_THRESHOLD_S to a smaller value than the current threshold (5.0). Set it to 0 to completely suppress this warning.\n"
     ]
    },
    {
     "name": "stdout",
     "output_type": "stream",
     "text": [
      "== Status ==\n",
      "Current time: 2025-09-14 15:45:34 (running for 00:00:30.27)\n",
      "Using FIFO scheduling algorithm.\n",
      "Logical resource usage: 11.0/96 CPUs, 1.0/1 GPUs (0.0/1.0 accelerator_type:RTX)\n",
      "Result logdir: /tmp/ray/session_2025-09-14_15-05-00_735286_1657229/artifacts/2025-09-14_15-45-04/TorchTrainer_2025-09-14_15-45-04/driver_artifacts\n",
      "Number of trials: 1/1 (1 RUNNING)\n",
      "\n",
      "\n"
     ]
    },
    {
     "data": {
      "application/vnd.jupyter.widget-view+json": {
       "model_id": "9cb7c5dd6dbd422eb8e1c61f957bde9f",
       "version_major": 2,
       "version_minor": 0
      },
      "text/plain": [
       "(pid=1706392) Running 0: 0.00 row [00:00, ? row/s]"
      ]
     },
     "metadata": {},
     "output_type": "display_data"
    },
    {
     "data": {
      "application/vnd.jupyter.widget-view+json": {
       "model_id": "33c1cdfc925f478a8071b29d172379bb",
       "version_major": 2,
       "version_minor": 0
      },
      "text/plain": [
       "(pid=1706392) - split(1, equal=True) 1: 0.00 row [00:00, ? row/s]"
      ]
     },
     "metadata": {},
     "output_type": "display_data"
    },
    {
     "name": "stderr",
     "output_type": "stream",
     "text": [
      "2025-09-14 15:45:38,391\tWARNING experiment_state.py:206 -- Experiment state snapshotting has been triggered multiple times in the last 5.0 seconds and may become a bottleneck. A snapshot is forced if `CheckpointConfig(num_to_keep)` is set, and a trial has checkpointed >= `num_to_keep` times since the last snapshot.\n",
      "You may want to consider increasing the `CheckpointConfig(num_to_keep)` or decreasing the frequency of saving checkpoints.\n",
      "You can suppress this warning by setting the environment variable TUNE_WARN_EXCESSIVE_EXPERIMENT_CHECKPOINT_SYNC_THRESHOLD_S to a smaller value than the current threshold (5.0). Set it to 0 to completely suppress this warning.\n"
     ]
    },
    {
     "data": {
      "application/vnd.jupyter.widget-view+json": {
       "model_id": "6b3297571c1a4bce8a2a63b11eea1407",
       "version_major": 2,
       "version_minor": 0
      },
      "text/plain": [
       "(pid=1706393) Running 0: 0.00 row [00:00, ? row/s]"
      ]
     },
     "metadata": {},
     "output_type": "display_data"
    },
    {
     "data": {
      "application/vnd.jupyter.widget-view+json": {
       "model_id": "df4f6d415dd04c679c23fee3587207d2",
       "version_major": 2,
       "version_minor": 0
      },
      "text/plain": [
       "(pid=1706393) - split(1, equal=True) 1: 0.00 row [00:00, ? row/s]"
      ]
     },
     "metadata": {},
     "output_type": "display_data"
    },
    {
     "data": {
      "application/vnd.jupyter.widget-view+json": {
       "model_id": "e09923ae6c034f3e8dc03959d1eb7f14",
       "version_major": 2,
       "version_minor": 0
      },
      "text/plain": [
       "(pid=1706392) Running 0: 0.00 row [00:00, ? row/s]"
      ]
     },
     "metadata": {},
     "output_type": "display_data"
    },
    {
     "data": {
      "application/vnd.jupyter.widget-view+json": {
       "model_id": "b26ca8acd747482f94f849c2653c079c",
       "version_major": 2,
       "version_minor": 0
      },
      "text/plain": [
       "(pid=1706392) - split(1, equal=True) 1: 0.00 row [00:00, ? row/s]"
      ]
     },
     "metadata": {},
     "output_type": "display_data"
    },
    {
     "name": "stdout",
     "output_type": "stream",
     "text": [
      "== Status ==\n",
      "Current time: 2025-09-14 15:45:39 (running for 00:00:35.29)\n",
      "Using FIFO scheduling algorithm.\n",
      "Logical resource usage: 11.0/96 CPUs, 1.0/1 GPUs (0.0/1.0 accelerator_type:RTX)\n",
      "Result logdir: /tmp/ray/session_2025-09-14_15-05-00_735286_1657229/artifacts/2025-09-14_15-45-04/TorchTrainer_2025-09-14_15-45-04/driver_artifacts\n",
      "Number of trials: 1/1 (1 RUNNING)\n",
      "\n",
      "\n"
     ]
    },
    {
     "data": {
      "application/vnd.jupyter.widget-view+json": {
       "model_id": "bb6671a1ee0a44c1aba3c1cfc48f8d64",
       "version_major": 2,
       "version_minor": 0
      },
      "text/plain": [
       "(pid=1706393) Running 0: 0.00 row [00:00, ? row/s]"
      ]
     },
     "metadata": {},
     "output_type": "display_data"
    },
    {
     "data": {
      "application/vnd.jupyter.widget-view+json": {
       "model_id": "1e569610892f424eabe8ee6c76513d9e",
       "version_major": 2,
       "version_minor": 0
      },
      "text/plain": [
       "(pid=1706393) - split(1, equal=True) 1: 0.00 row [00:00, ? row/s]"
      ]
     },
     "metadata": {},
     "output_type": "display_data"
    },
    {
     "name": "stderr",
     "output_type": "stream",
     "text": [
      "2025-09-14 15:45:42,658\tWARNING experiment_state.py:206 -- Experiment state snapshotting has been triggered multiple times in the last 5.0 seconds and may become a bottleneck. A snapshot is forced if `CheckpointConfig(num_to_keep)` is set, and a trial has checkpointed >= `num_to_keep` times since the last snapshot.\n",
      "You may want to consider increasing the `CheckpointConfig(num_to_keep)` or decreasing the frequency of saving checkpoints.\n",
      "You can suppress this warning by setting the environment variable TUNE_WARN_EXCESSIVE_EXPERIMENT_CHECKPOINT_SYNC_THRESHOLD_S to a smaller value than the current threshold (5.0). Set it to 0 to completely suppress this warning.\n"
     ]
    },
    {
     "data": {
      "application/vnd.jupyter.widget-view+json": {
       "model_id": "1f14541ad823442b929df694d685ff02",
       "version_major": 2,
       "version_minor": 0
      },
      "text/plain": [
       "(pid=1706392) Running 0: 0.00 row [00:00, ? row/s]"
      ]
     },
     "metadata": {},
     "output_type": "display_data"
    },
    {
     "data": {
      "application/vnd.jupyter.widget-view+json": {
       "model_id": "7c3a9e82b0344c79b293402b4257f0dd",
       "version_major": 2,
       "version_minor": 0
      },
      "text/plain": [
       "(pid=1706392) - split(1, equal=True) 1: 0.00 row [00:00, ? row/s]"
      ]
     },
     "metadata": {},
     "output_type": "display_data"
    },
    {
     "name": "stdout",
     "output_type": "stream",
     "text": [
      "== Status ==\n",
      "Current time: 2025-09-14 15:45:45 (running for 00:00:40.36)\n",
      "Using FIFO scheduling algorithm.\n",
      "Logical resource usage: 11.0/96 CPUs, 1.0/1 GPUs (0.0/1.0 accelerator_type:RTX)\n",
      "Result logdir: /tmp/ray/session_2025-09-14_15-05-00_735286_1657229/artifacts/2025-09-14_15-45-04/TorchTrainer_2025-09-14_15-45-04/driver_artifacts\n",
      "Number of trials: 1/1 (1 RUNNING)\n",
      "\n",
      "\n"
     ]
    },
    {
     "name": "stderr",
     "output_type": "stream",
     "text": [
      "2025-09-14 15:45:46,752\tWARNING experiment_state.py:206 -- Experiment state snapshotting has been triggered multiple times in the last 5.0 seconds and may become a bottleneck. A snapshot is forced if `CheckpointConfig(num_to_keep)` is set, and a trial has checkpointed >= `num_to_keep` times since the last snapshot.\n",
      "You may want to consider increasing the `CheckpointConfig(num_to_keep)` or decreasing the frequency of saving checkpoints.\n",
      "You can suppress this warning by setting the environment variable TUNE_WARN_EXCESSIVE_EXPERIMENT_CHECKPOINT_SYNC_THRESHOLD_S to a smaller value than the current threshold (5.0). Set it to 0 to completely suppress this warning.\n"
     ]
    },
    {
     "data": {
      "application/vnd.jupyter.widget-view+json": {
       "model_id": "2249a3d915a148b3b1434c5af94ec082",
       "version_major": 2,
       "version_minor": 0
      },
      "text/plain": [
       "(pid=1706393) Running 0: 0.00 row [00:00, ? row/s]"
      ]
     },
     "metadata": {},
     "output_type": "display_data"
    },
    {
     "data": {
      "application/vnd.jupyter.widget-view+json": {
       "model_id": "63691d2170e84d0aabfaecf44d5dd6f7",
       "version_major": 2,
       "version_minor": 0
      },
      "text/plain": [
       "(pid=1706393) - split(1, equal=True) 1: 0.00 row [00:00, ? row/s]"
      ]
     },
     "metadata": {},
     "output_type": "display_data"
    },
    {
     "data": {
      "application/vnd.jupyter.widget-view+json": {
       "model_id": "4201ae54130f45048dec3426a1f9b340",
       "version_major": 2,
       "version_minor": 0
      },
      "text/plain": [
       "(pid=1706392) Running 0: 0.00 row [00:00, ? row/s]"
      ]
     },
     "metadata": {},
     "output_type": "display_data"
    },
    {
     "data": {
      "application/vnd.jupyter.widget-view+json": {
       "model_id": "d2558fca5117439a80564edec3b16b7b",
       "version_major": 2,
       "version_minor": 0
      },
      "text/plain": [
       "(pid=1706392) - split(1, equal=True) 1: 0.00 row [00:00, ? row/s]"
      ]
     },
     "metadata": {},
     "output_type": "display_data"
    },
    {
     "name": "stdout",
     "output_type": "stream",
     "text": [
      "== Status ==\n",
      "Current time: 2025-09-14 15:45:50 (running for 00:00:45.46)\n",
      "Using FIFO scheduling algorithm.\n",
      "Logical resource usage: 11.0/96 CPUs, 1.0/1 GPUs (0.0/1.0 accelerator_type:RTX)\n",
      "Result logdir: /tmp/ray/session_2025-09-14_15-05-00_735286_1657229/artifacts/2025-09-14_15-45-04/TorchTrainer_2025-09-14_15-45-04/driver_artifacts\n",
      "Number of trials: 1/1 (1 RUNNING)\n",
      "\n",
      "\n"
     ]
    },
    {
     "data": {
      "application/vnd.jupyter.widget-view+json": {
       "model_id": "9f938aa882954c028cbc2222075fef94",
       "version_major": 2,
       "version_minor": 0
      },
      "text/plain": [
       "(pid=1706393) Running 0: 0.00 row [00:00, ? row/s]"
      ]
     },
     "metadata": {},
     "output_type": "display_data"
    },
    {
     "data": {
      "application/vnd.jupyter.widget-view+json": {
       "model_id": "98732f19c7a24fde84cdfe5817264f42",
       "version_major": 2,
       "version_minor": 0
      },
      "text/plain": [
       "(pid=1706393) - split(1, equal=True) 1: 0.00 row [00:00, ? row/s]"
      ]
     },
     "metadata": {},
     "output_type": "display_data"
    },
    {
     "name": "stderr",
     "output_type": "stream",
     "text": [
      "2025-09-14 15:45:50,903\tWARNING experiment_state.py:206 -- Experiment state snapshotting has been triggered multiple times in the last 5.0 seconds and may become a bottleneck. A snapshot is forced if `CheckpointConfig(num_to_keep)` is set, and a trial has checkpointed >= `num_to_keep` times since the last snapshot.\n",
      "You may want to consider increasing the `CheckpointConfig(num_to_keep)` or decreasing the frequency of saving checkpoints.\n",
      "You can suppress this warning by setting the environment variable TUNE_WARN_EXCESSIVE_EXPERIMENT_CHECKPOINT_SYNC_THRESHOLD_S to a smaller value than the current threshold (5.0). Set it to 0 to completely suppress this warning.\n"
     ]
    },
    {
     "data": {
      "application/vnd.jupyter.widget-view+json": {
       "model_id": "14b2060ad3134f5e986b903512e43a43",
       "version_major": 2,
       "version_minor": 0
      },
      "text/plain": [
       "(pid=1706392) Running 0: 0.00 row [00:00, ? row/s]"
      ]
     },
     "metadata": {},
     "output_type": "display_data"
    },
    {
     "data": {
      "application/vnd.jupyter.widget-view+json": {
       "model_id": "d2df5cb0d8074da98fa95f631fe54b8f",
       "version_major": 2,
       "version_minor": 0
      },
      "text/plain": [
       "(pid=1706392) - split(1, equal=True) 1: 0.00 row [00:00, ? row/s]"
      ]
     },
     "metadata": {},
     "output_type": "display_data"
    },
    {
     "data": {
      "application/vnd.jupyter.widget-view+json": {
       "model_id": "00242d2c5e8346ed88bfcc4d046de157",
       "version_major": 2,
       "version_minor": 0
      },
      "text/plain": [
       "(pid=1706393) Running 0: 0.00 row [00:00, ? row/s]"
      ]
     },
     "metadata": {},
     "output_type": "display_data"
    },
    {
     "data": {
      "application/vnd.jupyter.widget-view+json": {
       "model_id": "266a89b193554110bdd94b661fb985ee",
       "version_major": 2,
       "version_minor": 0
      },
      "text/plain": [
       "(pid=1706393) - split(1, equal=True) 1: 0.00 row [00:00, ? row/s]"
      ]
     },
     "metadata": {},
     "output_type": "display_data"
    },
    {
     "name": "stderr",
     "output_type": "stream",
     "text": [
      "2025-09-14 15:45:54,647\tWARNING experiment_state.py:206 -- Experiment state snapshotting has been triggered multiple times in the last 5.0 seconds and may become a bottleneck. A snapshot is forced if `CheckpointConfig(num_to_keep)` is set, and a trial has checkpointed >= `num_to_keep` times since the last snapshot.\n",
      "You may want to consider increasing the `CheckpointConfig(num_to_keep)` or decreasing the frequency of saving checkpoints.\n",
      "You can suppress this warning by setting the environment variable TUNE_WARN_EXCESSIVE_EXPERIMENT_CHECKPOINT_SYNC_THRESHOLD_S to a smaller value than the current threshold (5.0). Set it to 0 to completely suppress this warning.\n"
     ]
    },
    {
     "name": "stdout",
     "output_type": "stream",
     "text": [
      "== Status ==\n",
      "Current time: 2025-09-14 15:45:55 (running for 00:00:50.54)\n",
      "Using FIFO scheduling algorithm.\n",
      "Logical resource usage: 11.0/96 CPUs, 1.0/1 GPUs (0.0/1.0 accelerator_type:RTX)\n",
      "Result logdir: /tmp/ray/session_2025-09-14_15-05-00_735286_1657229/artifacts/2025-09-14_15-45-04/TorchTrainer_2025-09-14_15-45-04/driver_artifacts\n",
      "Number of trials: 1/1 (1 RUNNING)\n",
      "\n",
      "\n"
     ]
    },
    {
     "data": {
      "application/vnd.jupyter.widget-view+json": {
       "model_id": "a4d875d695ca42abbb307ddaefb2b06f",
       "version_major": 2,
       "version_minor": 0
      },
      "text/plain": [
       "(pid=1706392) Running 0: 0.00 row [00:00, ? row/s]"
      ]
     },
     "metadata": {},
     "output_type": "display_data"
    },
    {
     "data": {
      "application/vnd.jupyter.widget-view+json": {
       "model_id": "3c20644b783a443392d8f7df81ed38d2",
       "version_major": 2,
       "version_minor": 0
      },
      "text/plain": [
       "(pid=1706392) - split(1, equal=True) 1: 0.00 row [00:00, ? row/s]"
      ]
     },
     "metadata": {},
     "output_type": "display_data"
    },
    {
     "name": "stderr",
     "output_type": "stream",
     "text": [
      "2025-09-14 15:45:58,814\tWARNING experiment_state.py:206 -- Experiment state snapshotting has been triggered multiple times in the last 5.0 seconds and may become a bottleneck. A snapshot is forced if `CheckpointConfig(num_to_keep)` is set, and a trial has checkpointed >= `num_to_keep` times since the last snapshot.\n",
      "You may want to consider increasing the `CheckpointConfig(num_to_keep)` or decreasing the frequency of saving checkpoints.\n",
      "You can suppress this warning by setting the environment variable TUNE_WARN_EXCESSIVE_EXPERIMENT_CHECKPOINT_SYNC_THRESHOLD_S to a smaller value than the current threshold (5.0). Set it to 0 to completely suppress this warning.\n"
     ]
    },
    {
     "name": "stdout",
     "output_type": "stream",
     "text": [
      "copying /tmp/ray/session_2025-09-14_15-05-00_735286_1657229/artifacts/2025-09-14_15-45-04/TorchTrainer_2025-09-14_15-45-04/driver_artifacts/TorchTrainer_4f6eb_00000_0_2025-09-14_15-45-04/params.json -> /mnt/hpc/work/ngkuissi/Made-With-ML/tmp/mlflow/240405567451470118/bf9b0f0f771142718785a853aa1a9ce1/artifacts\n",
      "copying /tmp/ray/session_2025-09-14_15-05-00_735286_1657229/artifacts/2025-09-14_15-45-04/TorchTrainer_2025-09-14_15-45-04/driver_artifacts/TorchTrainer_4f6eb_00000_0_2025-09-14_15-45-04/events.out.tfevents.1757879111.gpu-pt1-04 -> /mnt/hpc/work/ngkuissi/Made-With-ML/tmp/mlflow/240405567451470118/bf9b0f0f771142718785a853aa1a9ce1/artifacts\n",
      "copying /tmp/ray/session_2025-09-14_15-05-00_735286_1657229/artifacts/2025-09-14_15-45-04/TorchTrainer_2025-09-14_15-45-04/driver_artifacts/TorchTrainer_4f6eb_00000_0_2025-09-14_15-45-04/params.pkl -> /mnt/hpc/work/ngkuissi/Made-With-ML/tmp/mlflow/240405567451470118/bf9b0f0f771142718785a853aa1a9ce1/artifacts\n",
      "copying /tmp/ray/session_2025-09-14_15-05-00_735286_1657229/artifacts/2025-09-14_15-45-04/TorchTrainer_2025-09-14_15-45-04/driver_artifacts/TorchTrainer_4f6eb_00000_0_2025-09-14_15-45-04/result.json -> /mnt/hpc/work/ngkuissi/Made-With-ML/tmp/mlflow/240405567451470118/bf9b0f0f771142718785a853aa1a9ce1/artifacts\n",
      "copying /tmp/ray/session_2025-09-14_15-05-00_735286_1657229/artifacts/2025-09-14_15-45-04/TorchTrainer_2025-09-14_15-45-04/driver_artifacts/TorchTrainer_4f6eb_00000_0_2025-09-14_15-45-04/progress.csv -> /mnt/hpc/work/ngkuissi/Made-With-ML/tmp/mlflow/240405567451470118/bf9b0f0f771142718785a853aa1a9ce1/artifacts\n"
     ]
    },
    {
     "name": "stderr",
     "output_type": "stream",
     "text": [
      "2025-09-14 15:46:00,050\tINFO tune.py:1009 -- Wrote the latest version of all result files and experiment state to '/work/ngkuissi/ray_results/TorchTrainer_2025-09-14_15-45-04' in 0.0067s.\n",
      "2025-09-14 15:46:00,051\tINFO tune.py:1041 -- Total run time: 55.37 seconds (55.34 seconds for the tuning loop).\n"
     ]
    },
    {
     "name": "stdout",
     "output_type": "stream",
     "text": [
      "== Status ==\n",
      "Current time: 2025-09-14 15:46:00 (running for 00:00:55.34)\n",
      "Using FIFO scheduling algorithm.\n",
      "Logical resource usage: 11.0/96 CPUs, 1.0/1 GPUs (0.0/1.0 accelerator_type:RTX)\n",
      "Result logdir: /tmp/ray/session_2025-09-14_15-05-00_735286_1657229/artifacts/2025-09-14_15-45-04/TorchTrainer_2025-09-14_15-45-04/driver_artifacts\n",
      "Number of trials: 1/1 (1 TERMINATED)\n",
      "\n",
      "\n"
     ]
    }
   ],
   "source": [
    "results = trainer.fit()"
   ]
  },
  {
   "cell_type": "code",
   "execution_count": 89,
   "id": "696be779",
   "metadata": {},
   "outputs": [
    {
     "data": {
      "text/html": [
       "<div>\n",
       "<style scoped>\n",
       "    .dataframe tbody tr th:only-of-type {\n",
       "        vertical-align: middle;\n",
       "    }\n",
       "\n",
       "    .dataframe tbody tr th {\n",
       "        vertical-align: top;\n",
       "    }\n",
       "\n",
       "    .dataframe thead th {\n",
       "        text-align: right;\n",
       "    }\n",
       "</style>\n",
       "<table border=\"1\" class=\"dataframe\">\n",
       "  <thead>\n",
       "    <tr style=\"text-align: right;\">\n",
       "      <th></th>\n",
       "      <th>epoch</th>\n",
       "      <th>lr</th>\n",
       "      <th>train_loss</th>\n",
       "      <th>val_loss</th>\n",
       "      <th>timestamp</th>\n",
       "      <th>checkpoint_dir_name</th>\n",
       "      <th>should_checkpoint</th>\n",
       "      <th>done</th>\n",
       "      <th>training_iteration</th>\n",
       "      <th>trial_id</th>\n",
       "      <th>...</th>\n",
       "      <th>time_since_restore</th>\n",
       "      <th>iterations_since_restore</th>\n",
       "      <th>config/train_loop_config/dropout_p</th>\n",
       "      <th>config/train_loop_config/lr</th>\n",
       "      <th>config/train_loop_config/lr_factor</th>\n",
       "      <th>config/train_loop_config/lr_patience</th>\n",
       "      <th>config/train_loop_config/num_epochs</th>\n",
       "      <th>config/train_loop_config/batch_size</th>\n",
       "      <th>config/train_loop_config/num_classes</th>\n",
       "      <th>config/train_loop_config/device</th>\n",
       "    </tr>\n",
       "  </thead>\n",
       "  <tbody>\n",
       "    <tr>\n",
       "      <th>0</th>\n",
       "      <td>0</td>\n",
       "      <td>0.00010</td>\n",
       "      <td>1.279368</td>\n",
       "      <td>1.173194</td>\n",
       "      <td>1757879121</td>\n",
       "      <td>checkpoint_000000</td>\n",
       "      <td>True</td>\n",
       "      <td>False</td>\n",
       "      <td>1</td>\n",
       "      <td>4f6eb_00000</td>\n",
       "      <td>...</td>\n",
       "      <td>11.715830</td>\n",
       "      <td>1</td>\n",
       "      <td>0.5</td>\n",
       "      <td>0.0001</td>\n",
       "      <td>0.8</td>\n",
       "      <td>3</td>\n",
       "      <td>10</td>\n",
       "      <td>128</td>\n",
       "      <td>4</td>\n",
       "      <td>cuda</td>\n",
       "    </tr>\n",
       "    <tr>\n",
       "      <th>1</th>\n",
       "      <td>1</td>\n",
       "      <td>0.00010</td>\n",
       "      <td>1.120310</td>\n",
       "      <td>0.860466</td>\n",
       "      <td>1757879125</td>\n",
       "      <td>checkpoint_000001</td>\n",
       "      <td>True</td>\n",
       "      <td>False</td>\n",
       "      <td>2</td>\n",
       "      <td>4f6eb_00000</td>\n",
       "      <td>...</td>\n",
       "      <td>14.729786</td>\n",
       "      <td>2</td>\n",
       "      <td>0.5</td>\n",
       "      <td>0.0001</td>\n",
       "      <td>0.8</td>\n",
       "      <td>3</td>\n",
       "      <td>10</td>\n",
       "      <td>128</td>\n",
       "      <td>4</td>\n",
       "      <td>cuda</td>\n",
       "    </tr>\n",
       "    <tr>\n",
       "      <th>2</th>\n",
       "      <td>2</td>\n",
       "      <td>0.00010</td>\n",
       "      <td>0.703693</td>\n",
       "      <td>0.606365</td>\n",
       "      <td>1757879128</td>\n",
       "      <td>checkpoint_000002</td>\n",
       "      <td>True</td>\n",
       "      <td>False</td>\n",
       "      <td>3</td>\n",
       "      <td>4f6eb_00000</td>\n",
       "      <td>...</td>\n",
       "      <td>18.123309</td>\n",
       "      <td>3</td>\n",
       "      <td>0.5</td>\n",
       "      <td>0.0001</td>\n",
       "      <td>0.8</td>\n",
       "      <td>3</td>\n",
       "      <td>10</td>\n",
       "      <td>128</td>\n",
       "      <td>4</td>\n",
       "      <td>cuda</td>\n",
       "    </tr>\n",
       "    <tr>\n",
       "      <th>3</th>\n",
       "      <td>3</td>\n",
       "      <td>0.00010</td>\n",
       "      <td>0.347788</td>\n",
       "      <td>0.533715</td>\n",
       "      <td>1757879132</td>\n",
       "      <td>checkpoint_000003</td>\n",
       "      <td>True</td>\n",
       "      <td>False</td>\n",
       "      <td>4</td>\n",
       "      <td>4f6eb_00000</td>\n",
       "      <td>...</td>\n",
       "      <td>21.727601</td>\n",
       "      <td>4</td>\n",
       "      <td>0.5</td>\n",
       "      <td>0.0001</td>\n",
       "      <td>0.8</td>\n",
       "      <td>3</td>\n",
       "      <td>10</td>\n",
       "      <td>128</td>\n",
       "      <td>4</td>\n",
       "      <td>cuda</td>\n",
       "    </tr>\n",
       "    <tr>\n",
       "      <th>4</th>\n",
       "      <td>4</td>\n",
       "      <td>0.00010</td>\n",
       "      <td>0.145502</td>\n",
       "      <td>0.667248</td>\n",
       "      <td>1757879136</td>\n",
       "      <td>checkpoint_000004</td>\n",
       "      <td>True</td>\n",
       "      <td>False</td>\n",
       "      <td>5</td>\n",
       "      <td>4f6eb_00000</td>\n",
       "      <td>...</td>\n",
       "      <td>25.387019</td>\n",
       "      <td>5</td>\n",
       "      <td>0.5</td>\n",
       "      <td>0.0001</td>\n",
       "      <td>0.8</td>\n",
       "      <td>3</td>\n",
       "      <td>10</td>\n",
       "      <td>128</td>\n",
       "      <td>4</td>\n",
       "      <td>cuda</td>\n",
       "    </tr>\n",
       "    <tr>\n",
       "      <th>5</th>\n",
       "      <td>5</td>\n",
       "      <td>0.00010</td>\n",
       "      <td>0.102597</td>\n",
       "      <td>0.448974</td>\n",
       "      <td>1757879140</td>\n",
       "      <td>checkpoint_000005</td>\n",
       "      <td>True</td>\n",
       "      <td>False</td>\n",
       "      <td>6</td>\n",
       "      <td>4f6eb_00000</td>\n",
       "      <td>...</td>\n",
       "      <td>29.349467</td>\n",
       "      <td>6</td>\n",
       "      <td>0.5</td>\n",
       "      <td>0.0001</td>\n",
       "      <td>0.8</td>\n",
       "      <td>3</td>\n",
       "      <td>10</td>\n",
       "      <td>128</td>\n",
       "      <td>4</td>\n",
       "      <td>cuda</td>\n",
       "    </tr>\n",
       "    <tr>\n",
       "      <th>6</th>\n",
       "      <td>6</td>\n",
       "      <td>0.00010</td>\n",
       "      <td>0.047516</td>\n",
       "      <td>0.656775</td>\n",
       "      <td>1757879144</td>\n",
       "      <td>checkpoint_000006</td>\n",
       "      <td>True</td>\n",
       "      <td>False</td>\n",
       "      <td>7</td>\n",
       "      <td>4f6eb_00000</td>\n",
       "      <td>...</td>\n",
       "      <td>33.376119</td>\n",
       "      <td>7</td>\n",
       "      <td>0.5</td>\n",
       "      <td>0.0001</td>\n",
       "      <td>0.8</td>\n",
       "      <td>3</td>\n",
       "      <td>10</td>\n",
       "      <td>128</td>\n",
       "      <td>4</td>\n",
       "      <td>cuda</td>\n",
       "    </tr>\n",
       "    <tr>\n",
       "      <th>7</th>\n",
       "      <td>7</td>\n",
       "      <td>0.00010</td>\n",
       "      <td>0.032291</td>\n",
       "      <td>0.535943</td>\n",
       "      <td>1757879148</td>\n",
       "      <td>checkpoint_000007</td>\n",
       "      <td>True</td>\n",
       "      <td>False</td>\n",
       "      <td>8</td>\n",
       "      <td>4f6eb_00000</td>\n",
       "      <td>...</td>\n",
       "      <td>37.371826</td>\n",
       "      <td>8</td>\n",
       "      <td>0.5</td>\n",
       "      <td>0.0001</td>\n",
       "      <td>0.8</td>\n",
       "      <td>3</td>\n",
       "      <td>10</td>\n",
       "      <td>128</td>\n",
       "      <td>4</td>\n",
       "      <td>cuda</td>\n",
       "    </tr>\n",
       "    <tr>\n",
       "      <th>8</th>\n",
       "      <td>8</td>\n",
       "      <td>0.00010</td>\n",
       "      <td>0.014956</td>\n",
       "      <td>0.641851</td>\n",
       "      <td>1757879152</td>\n",
       "      <td>checkpoint_000008</td>\n",
       "      <td>True</td>\n",
       "      <td>False</td>\n",
       "      <td>9</td>\n",
       "      <td>4f6eb_00000</td>\n",
       "      <td>...</td>\n",
       "      <td>40.921743</td>\n",
       "      <td>9</td>\n",
       "      <td>0.5</td>\n",
       "      <td>0.0001</td>\n",
       "      <td>0.8</td>\n",
       "      <td>3</td>\n",
       "      <td>10</td>\n",
       "      <td>128</td>\n",
       "      <td>4</td>\n",
       "      <td>cuda</td>\n",
       "    </tr>\n",
       "    <tr>\n",
       "      <th>9</th>\n",
       "      <td>9</td>\n",
       "      <td>0.00008</td>\n",
       "      <td>0.005292</td>\n",
       "      <td>0.835750</td>\n",
       "      <td>1757879156</td>\n",
       "      <td>checkpoint_000009</td>\n",
       "      <td>True</td>\n",
       "      <td>False</td>\n",
       "      <td>10</td>\n",
       "      <td>4f6eb_00000</td>\n",
       "      <td>...</td>\n",
       "      <td>44.951023</td>\n",
       "      <td>10</td>\n",
       "      <td>0.5</td>\n",
       "      <td>0.0001</td>\n",
       "      <td>0.8</td>\n",
       "      <td>3</td>\n",
       "      <td>10</td>\n",
       "      <td>128</td>\n",
       "      <td>4</td>\n",
       "      <td>cuda</td>\n",
       "    </tr>\n",
       "  </tbody>\n",
       "</table>\n",
       "<p>10 rows × 26 columns</p>\n",
       "</div>"
      ],
      "text/plain": [
       "   epoch       lr  train_loss  val_loss   timestamp checkpoint_dir_name   \n",
       "0      0  0.00010    1.279368  1.173194  1757879121   checkpoint_000000  \\\n",
       "1      1  0.00010    1.120310  0.860466  1757879125   checkpoint_000001   \n",
       "2      2  0.00010    0.703693  0.606365  1757879128   checkpoint_000002   \n",
       "3      3  0.00010    0.347788  0.533715  1757879132   checkpoint_000003   \n",
       "4      4  0.00010    0.145502  0.667248  1757879136   checkpoint_000004   \n",
       "5      5  0.00010    0.102597  0.448974  1757879140   checkpoint_000005   \n",
       "6      6  0.00010    0.047516  0.656775  1757879144   checkpoint_000006   \n",
       "7      7  0.00010    0.032291  0.535943  1757879148   checkpoint_000007   \n",
       "8      8  0.00010    0.014956  0.641851  1757879152   checkpoint_000008   \n",
       "9      9  0.00008    0.005292  0.835750  1757879156   checkpoint_000009   \n",
       "\n",
       "   should_checkpoint   done  training_iteration     trial_id  ...   \n",
       "0               True  False                   1  4f6eb_00000  ...  \\\n",
       "1               True  False                   2  4f6eb_00000  ...   \n",
       "2               True  False                   3  4f6eb_00000  ...   \n",
       "3               True  False                   4  4f6eb_00000  ...   \n",
       "4               True  False                   5  4f6eb_00000  ...   \n",
       "5               True  False                   6  4f6eb_00000  ...   \n",
       "6               True  False                   7  4f6eb_00000  ...   \n",
       "7               True  False                   8  4f6eb_00000  ...   \n",
       "8               True  False                   9  4f6eb_00000  ...   \n",
       "9               True  False                  10  4f6eb_00000  ...   \n",
       "\n",
       "  time_since_restore  iterations_since_restore   \n",
       "0          11.715830                         1  \\\n",
       "1          14.729786                         2   \n",
       "2          18.123309                         3   \n",
       "3          21.727601                         4   \n",
       "4          25.387019                         5   \n",
       "5          29.349467                         6   \n",
       "6          33.376119                         7   \n",
       "7          37.371826                         8   \n",
       "8          40.921743                         9   \n",
       "9          44.951023                        10   \n",
       "\n",
       "   config/train_loop_config/dropout_p  config/train_loop_config/lr   \n",
       "0                                 0.5                       0.0001  \\\n",
       "1                                 0.5                       0.0001   \n",
       "2                                 0.5                       0.0001   \n",
       "3                                 0.5                       0.0001   \n",
       "4                                 0.5                       0.0001   \n",
       "5                                 0.5                       0.0001   \n",
       "6                                 0.5                       0.0001   \n",
       "7                                 0.5                       0.0001   \n",
       "8                                 0.5                       0.0001   \n",
       "9                                 0.5                       0.0001   \n",
       "\n",
       "  config/train_loop_config/lr_factor config/train_loop_config/lr_patience   \n",
       "0                                0.8                                    3  \\\n",
       "1                                0.8                                    3   \n",
       "2                                0.8                                    3   \n",
       "3                                0.8                                    3   \n",
       "4                                0.8                                    3   \n",
       "5                                0.8                                    3   \n",
       "6                                0.8                                    3   \n",
       "7                                0.8                                    3   \n",
       "8                                0.8                                    3   \n",
       "9                                0.8                                    3   \n",
       "\n",
       "   config/train_loop_config/num_epochs  config/train_loop_config/batch_size   \n",
       "0                                   10                                  128  \\\n",
       "1                                   10                                  128   \n",
       "2                                   10                                  128   \n",
       "3                                   10                                  128   \n",
       "4                                   10                                  128   \n",
       "5                                   10                                  128   \n",
       "6                                   10                                  128   \n",
       "7                                   10                                  128   \n",
       "8                                   10                                  128   \n",
       "9                                   10                                  128   \n",
       "\n",
       "   config/train_loop_config/num_classes  config/train_loop_config/device  \n",
       "0                                     4                             cuda  \n",
       "1                                     4                             cuda  \n",
       "2                                     4                             cuda  \n",
       "3                                     4                             cuda  \n",
       "4                                     4                             cuda  \n",
       "5                                     4                             cuda  \n",
       "6                                     4                             cuda  \n",
       "7                                     4                             cuda  \n",
       "8                                     4                             cuda  \n",
       "9                                     4                             cuda  \n",
       "\n",
       "[10 rows x 26 columns]"
      ]
     },
     "execution_count": 89,
     "metadata": {},
     "output_type": "execute_result"
    }
   ],
   "source": [
    "results.metrics_dataframe"
   ]
  },
  {
   "cell_type": "code",
   "execution_count": 92,
   "id": "4ae0a8a6",
   "metadata": {},
   "outputs": [
    {
     "name": "stderr",
     "output_type": "stream",
     "text": [
      "2025/09/14 15:48:23 WARNING mlflow.tracking.fluent: Cannot retrieve experiment by name l\n",
      "2025/09/14 15:48:23 WARNING mlflow.tracking.fluent: Cannot retrieve experiment by name l\n",
      "2025/09/14 15:48:23 WARNING mlflow.tracking.fluent: Cannot retrieve experiment by name m\n",
      "2025/09/14 15:48:23 WARNING mlflow.tracking.fluent: Cannot retrieve experiment by name -\n",
      "2025/09/14 15:48:23 WARNING mlflow.tracking.fluent: Cannot retrieve experiment by name 1\n",
      "2025/09/14 15:48:23 WARNING mlflow.tracking.fluent: Cannot retrieve experiment by name 7\n",
      "2025/09/14 15:48:23 WARNING mlflow.tracking.fluent: Cannot retrieve experiment by name 5\n",
      "2025/09/14 15:48:23 WARNING mlflow.tracking.fluent: Cannot retrieve experiment by name 7\n",
      "2025/09/14 15:48:23 WARNING mlflow.tracking.fluent: Cannot retrieve experiment by name 8\n",
      "2025/09/14 15:48:23 WARNING mlflow.tracking.fluent: Cannot retrieve experiment by name 7\n",
      "2025/09/14 15:48:23 WARNING mlflow.tracking.fluent: Cannot retrieve experiment by name 8\n",
      "2025/09/14 15:48:23 WARNING mlflow.tracking.fluent: Cannot retrieve experiment by name 9\n",
      "2025/09/14 15:48:23 WARNING mlflow.tracking.fluent: Cannot retrieve experiment by name 3\n",
      "2025/09/14 15:48:23 WARNING mlflow.tracking.fluent: Cannot retrieve experiment by name 3\n"
     ]
    }
   ],
   "source": [
    "sorted_runs = mlflow.search_runs(experiment_names=experiment_name,\n",
    "                                        order_by=['metrics.val_loss ASC'])"
   ]
  },
  {
   "cell_type": "code",
   "execution_count": 93,
   "metadata": {},
   "outputs": [
    {
     "data": {
      "text/html": [
       "<div>\n",
       "<style scoped>\n",
       "    .dataframe tbody tr th:only-of-type {\n",
       "        vertical-align: middle;\n",
       "    }\n",
       "\n",
       "    .dataframe tbody tr th {\n",
       "        vertical-align: top;\n",
       "    }\n",
       "\n",
       "    .dataframe thead th {\n",
       "        text-align: right;\n",
       "    }\n",
       "</style>\n",
       "<table border=\"1\" class=\"dataframe\">\n",
       "  <thead>\n",
       "    <tr style=\"text-align: right;\">\n",
       "      <th></th>\n",
       "      <th>run_id</th>\n",
       "      <th>experiment_id</th>\n",
       "      <th>status</th>\n",
       "      <th>artifact_uri</th>\n",
       "      <th>start_time</th>\n",
       "      <th>end_time</th>\n",
       "    </tr>\n",
       "  </thead>\n",
       "  <tbody>\n",
       "  </tbody>\n",
       "</table>\n",
       "</div>"
      ],
      "text/plain": [
       "Empty DataFrame\n",
       "Columns: [run_id, experiment_id, status, artifact_uri, start_time, end_time]\n",
       "Index: []"
      ]
     },
     "execution_count": 93,
     "metadata": {},
     "output_type": "execute_result"
    }
   ],
   "source": [
    "sorted_runs"
   ]
  },
  {
   "cell_type": "markdown",
   "id": "81b52711",
   "metadata": {},
   "source": []
  }
 ],
 "metadata": {
  "kernelspec": {
   "display_name": "venv",
   "language": "python",
   "name": "venv"
  }
 },
 "nbformat": 4,
 "nbformat_minor": 5
}
