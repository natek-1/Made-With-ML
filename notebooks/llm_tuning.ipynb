{
 "cells": [
  {
   "cell_type": "code",
   "execution_count": 1,
   "id": "3e07dcf9",
   "metadata": {},
   "outputs": [],
   "source": [
    "import ray"
   ]
  },
  {
   "cell_type": "code",
   "execution_count": 2,
   "id": "ad6913f4",
   "metadata": {},
   "outputs": [
    {
     "name": "stderr",
     "output_type": "stream",
     "text": [
      "2025-09-12 12:16:58,052\tINFO worker.py:1843 -- Started a local Ray instance. View the dashboard at \u001b[1m\u001b[32m127.0.0.1:8265 \u001b[39m\u001b[22m\n"
     ]
    },
    {
     "data": {
      "application/vnd.jupyter.widget-view+json": {
       "model_id": "c5dacb31aaa64b47b8f8bc37c7975b6a",
       "version_major": 2,
       "version_minor": 0
      },
      "text/html": [
       "<div class=\"lm-Widget p-Widget lm-Panel p-Panel jp-Cell-outputWrapper\">\n",
       "    <div style=\"margin-left: 50px;display: flex;flex-direction: row;align-items: center\">\n",
       "        <div class=\"jp-RenderedHTMLCommon\" style=\"display: flex; flex-direction: row;\">\n",
       "  <svg viewBox=\"0 0 567 224\" fill=\"none\" xmlns=\"http://www.w3.org/2000/svg\" style=\"height: 3em;\">\n",
       "    <g clip-path=\"url(#clip0_4338_178347)\">\n",
       "        <path d=\"M341.29 165.561H355.29L330.13 129.051C345.63 123.991 354.21 112.051 354.21 94.2307C354.21 71.3707 338.72 58.1807 311.88 58.1807H271V165.561H283.27V131.661H311.8C314.25 131.661 316.71 131.501 319.01 131.351L341.25 165.561H341.29ZM283.29 119.851V70.0007H311.82C331.3 70.0007 342.34 78.2907 342.34 94.5507C342.34 111.271 331.34 119.861 311.82 119.861L283.29 119.851ZM451.4 138.411L463.4 165.561H476.74L428.74 58.1807H416L367.83 165.561H380.83L392.83 138.411H451.4ZM446.19 126.601H398L422 72.1407L446.24 126.601H446.19ZM526.11 128.741L566.91 58.1807H554.35L519.99 114.181L485.17 58.1807H472.44L514.01 129.181V165.541H526.13V128.741H526.11Z\" fill=\"var(--jp-ui-font-color0)\"/>\n",
       "        <path d=\"M82.35 104.44C84.0187 97.8827 87.8248 92.0678 93.1671 87.9146C98.5094 83.7614 105.083 81.5067 111.85 81.5067C118.617 81.5067 125.191 83.7614 130.533 87.9146C135.875 92.0678 139.681 97.8827 141.35 104.44H163.75C164.476 101.562 165.622 98.8057 167.15 96.2605L127.45 56.5605C121.071 60.3522 113.526 61.6823 106.235 60.3005C98.9443 58.9187 92.4094 54.9203 87.8602 49.0574C83.3109 43.1946 81.0609 35.8714 81.5332 28.4656C82.0056 21.0599 85.1679 14.0819 90.4252 8.8446C95.6824 3.60726 102.672 0.471508 110.08 0.0272655C117.487 -0.416977 124.802 1.86091 130.647 6.4324C136.493 11.0039 140.467 17.5539 141.821 24.8501C143.175 32.1463 141.816 39.6859 138 46.0505L177.69 85.7505C182.31 82.9877 187.58 81.4995 192.962 81.4375C198.345 81.3755 203.648 82.742 208.33 85.3976C213.012 88.0532 216.907 91.9029 219.616 96.5544C222.326 101.206 223.753 106.492 223.753 111.875C223.753 117.258 222.326 122.545 219.616 127.197C216.907 131.848 213.012 135.698 208.33 138.353C203.648 141.009 198.345 142.375 192.962 142.313C187.58 142.251 182.31 140.763 177.69 138L138 177.7C141.808 184.071 143.155 191.614 141.79 198.91C140.424 206.205 136.44 212.75 130.585 217.313C124.731 221.875 117.412 224.141 110.004 223.683C102.596 223.226 95.6103 220.077 90.3621 214.828C85.1139 209.58 81.9647 202.595 81.5072 195.187C81.0497 187.779 83.3154 180.459 87.878 174.605C92.4405 168.751 98.9853 164.766 106.281 163.401C113.576 162.035 121.119 163.383 127.49 167.19L167.19 127.49C165.664 124.941 164.518 122.182 163.79 119.3H141.39C139.721 125.858 135.915 131.673 130.573 135.826C125.231 139.98 118.657 142.234 111.89 142.234C105.123 142.234 98.5494 139.98 93.2071 135.826C87.8648 131.673 84.0587 125.858 82.39 119.3H60C58.1878 126.495 53.8086 132.78 47.6863 136.971C41.5641 141.163 34.1211 142.972 26.7579 142.059C19.3947 141.146 12.6191 137.574 7.70605 132.014C2.79302 126.454 0.0813599 119.29 0.0813599 111.87C0.0813599 104.451 2.79302 97.2871 7.70605 91.7272C12.6191 86.1673 19.3947 82.5947 26.7579 81.6817C34.1211 80.7686 41.5641 82.5781 47.6863 86.7696C53.8086 90.9611 58.1878 97.2456 60 104.44H82.35ZM100.86 204.32C103.407 206.868 106.759 208.453 110.345 208.806C113.93 209.159 117.527 208.258 120.522 206.256C123.517 204.254 125.725 201.276 126.771 197.828C127.816 194.38 127.633 190.677 126.253 187.349C124.874 184.021 122.383 181.274 119.205 179.577C116.027 177.88 112.359 177.337 108.826 178.042C105.293 178.746 102.113 180.654 99.8291 183.44C97.5451 186.226 96.2979 189.718 96.3 193.32C96.2985 195.364 96.7006 197.388 97.4831 199.275C98.2656 201.163 99.4132 202.877 100.86 204.32ZM204.32 122.88C206.868 120.333 208.453 116.981 208.806 113.396C209.159 109.811 208.258 106.214 206.256 103.219C204.254 100.223 201.275 98.0151 197.827 96.97C194.38 95.9249 190.676 96.1077 187.348 97.4873C184.02 98.8669 181.274 101.358 179.577 104.536C177.879 107.714 177.337 111.382 178.041 114.915C178.746 118.448 180.653 121.627 183.439 123.911C186.226 126.195 189.717 127.443 193.32 127.44C195.364 127.443 197.388 127.042 199.275 126.259C201.163 125.476 202.878 124.328 204.32 122.88ZM122.88 19.4205C120.333 16.8729 116.981 15.2876 113.395 14.9347C109.81 14.5817 106.213 15.483 103.218 17.4849C100.223 19.4868 98.0146 22.4654 96.9696 25.9131C95.9245 29.3608 96.1073 33.0642 97.4869 36.3922C98.8665 39.7202 101.358 42.4668 104.535 44.1639C107.713 45.861 111.381 46.4036 114.914 45.6992C118.447 44.9949 121.627 43.0871 123.911 40.301C126.195 37.515 127.442 34.0231 127.44 30.4205C127.44 28.3772 127.038 26.3539 126.255 24.4664C125.473 22.5788 124.326 20.8642 122.88 19.4205ZM19.42 100.86C16.8725 103.408 15.2872 106.76 14.9342 110.345C14.5813 113.93 15.4826 117.527 17.4844 120.522C19.4863 123.518 22.4649 125.726 25.9127 126.771C29.3604 127.816 33.0638 127.633 36.3918 126.254C39.7198 124.874 42.4664 122.383 44.1635 119.205C45.8606 116.027 46.4032 112.359 45.6988 108.826C44.9944 105.293 43.0866 102.114 40.3006 99.8296C37.5145 97.5455 34.0227 96.2983 30.42 96.3005C26.2938 96.3018 22.337 97.9421 19.42 100.86ZM100.86 100.86C98.3125 103.408 96.7272 106.76 96.3742 110.345C96.0213 113.93 96.9226 117.527 98.9244 120.522C100.926 123.518 103.905 125.726 107.353 126.771C110.8 127.816 114.504 127.633 117.832 126.254C121.16 124.874 123.906 122.383 125.604 119.205C127.301 116.027 127.843 112.359 127.139 108.826C126.434 105.293 124.527 102.114 121.741 99.8296C118.955 97.5455 115.463 96.2983 111.86 96.3005C109.817 96.299 107.793 96.701 105.905 97.4835C104.018 98.2661 102.303 99.4136 100.86 100.86Z\" fill=\"#00AEEF\"/>\n",
       "    </g>\n",
       "    <defs>\n",
       "        <clipPath id=\"clip0_4338_178347\">\n",
       "            <rect width=\"566.93\" height=\"223.75\" fill=\"white\"/>\n",
       "        </clipPath>\n",
       "    </defs>\n",
       "  </svg>\n",
       "</div>\n",
       "\n",
       "        <table class=\"jp-RenderedHTMLCommon\" style=\"border-collapse: collapse;color: var(--jp-ui-font-color1);font-size: var(--jp-ui-font-size1);\">\n",
       "    <tr>\n",
       "        <td style=\"text-align: left\"><b>Python version:</b></td>\n",
       "        <td style=\"text-align: left\"><b>3.10.12</b></td>\n",
       "    </tr>\n",
       "    <tr>\n",
       "        <td style=\"text-align: left\"><b>Ray version:</b></td>\n",
       "        <td style=\"text-align: left\"><b>2.44.1</b></td>\n",
       "    </tr>\n",
       "    <tr>\n",
       "    <td style=\"text-align: left\"><b>Dashboard:</b></td>\n",
       "    <td style=\"text-align: left\"><b><a href=\"http://127.0.0.1:8265\" target=\"_blank\">http://127.0.0.1:8265</a></b></td>\n",
       "</tr>\n",
       "\n",
       "</table>\n",
       "\n",
       "    </div>\n",
       "</div>\n"
      ],
      "text/plain": [
       "RayContext(dashboard_url='127.0.0.1:8265', python_version='3.10.12', ray_version='2.44.1', ray_commit='daca7b2b1a950dc7f731e34e74c76ae383794ffe')"
      ]
     },
     "execution_count": 2,
     "metadata": {},
     "output_type": "execute_result"
    },
    {
     "name": "stderr",
     "output_type": "stream",
     "text": [
      "\u001b[36m(reduce pid=940684)\u001b[0m Error calculating size for column 'title': cannot call `vectorize` on size 0 inputs unless `otypes` is set\n",
      "\u001b[36m(reduce pid=940684)\u001b[0m Error calculating size for column 'description': cannot call `vectorize` on size 0 inputs unless `otypes` is set\n",
      "\u001b[36m(reduce pid=940684)\u001b[0m Error calculating size for column 'tag': cannot call `vectorize` on size 0 inputs unless `otypes` is set\n",
      "\u001b[36m(reduce pid=940616)\u001b[0m Error calculating size for column 'title': cannot call `vectorize` on size 0 inputs unless `otypes` is set\n",
      "\u001b[36m(reduce pid=940616)\u001b[0m Error calculating size for column 'description': cannot call `vectorize` on size 0 inputs unless `otypes` is set\n",
      "\u001b[36m(reduce pid=940616)\u001b[0m Error calculating size for column 'tag': cannot call `vectorize` on size 0 inputs unless `otypes` is set\n",
      "\u001b[36m(reduce pid=940660)\u001b[0m Error calculating size for column 'title': cannot call `vectorize` on size 0 inputs unless `otypes` is set\n",
      "\u001b[36m(reduce pid=940660)\u001b[0m Error calculating size for column 'description': cannot call `vectorize` on size 0 inputs unless `otypes` is set\n",
      "\u001b[36m(reduce pid=940660)\u001b[0m Error calculating size for column 'tag': cannot call `vectorize` on size 0 inputs unless `otypes` is set\n",
      "\u001b[36m(reduce pid=940691)\u001b[0m Error calculating size for column 'title': cannot call `vectorize` on size 0 inputs unless `otypes` is set\n",
      "\u001b[36m(reduce pid=940691)\u001b[0m Error calculating size for column 'description': cannot call `vectorize` on size 0 inputs unless `otypes` is set\n",
      "\u001b[36m(reduce pid=940691)\u001b[0m Error calculating size for column 'tag': cannot call `vectorize` on size 0 inputs unless `otypes` is set\n",
      "\u001b[36m(reduce pid=940614)\u001b[0m Error calculating size for column 'title': cannot call `vectorize` on size 0 inputs unless `otypes` is set\u001b[32m [repeated 8x across cluster]\u001b[0m\n",
      "\u001b[36m(reduce pid=940614)\u001b[0m Error calculating size for column 'description': cannot call `vectorize` on size 0 inputs unless `otypes` is set\u001b[32m [repeated 8x across cluster]\u001b[0m\n",
      "\u001b[36m(reduce pid=940614)\u001b[0m Error calculating size for column 'tag': cannot call `vectorize` on size 0 inputs unless `otypes` is set\u001b[32m [repeated 8x across cluster]\u001b[0m\n",
      "\u001b[36m(RayTrainWorker pid=964256)\u001b[0m Setting up process group for: env:// [rank=0, world_size=1]\n",
      "\u001b[36m(TorchTrainer pid=964091)\u001b[0m Started distributed worker processes: \n",
      "\u001b[36m(TorchTrainer pid=964091)\u001b[0m - (node_id=66cd54b075ae112575f1d9c0db96411cf5b399d27b0c7b3182f3c722, ip=172.27.14.77, pid=964256) world_rank=0, local_rank=0, node_rank=0\n",
      "\u001b[36m(RayTrainWorker pid=964256)\u001b[0m /mnt/hpc/work/ngkuissi/Made-With-ML/venv/lib/python3.10/site-packages/huggingface_hub/file_download.py:945: FutureWarning: `resume_download` is deprecated and will be removed in version 1.0.0. Downloads always resume when possible. If you want to force a new download, use `force_download=True`.\n",
      "\u001b[36m(RayTrainWorker pid=964256)\u001b[0m   warnings.warn(\n",
      "\u001b[36m(RayTrainWorker pid=964256)\u001b[0m Some weights of the model checkpoint at allenai/scibert_scivocab_uncased were not used when initializing BertModel: ['cls.predictions.decoder.bias', 'cls.seq_relationship.weight', 'cls.predictions.transform.dense.bias', 'cls.predictions.transform.LayerNorm.weight', 'cls.predictions.transform.dense.weight', 'cls.seq_relationship.bias', 'cls.predictions.transform.LayerNorm.bias', 'cls.predictions.decoder.weight', 'cls.predictions.bias']\n",
      "\u001b[36m(RayTrainWorker pid=964256)\u001b[0m - This IS expected if you are initializing BertModel from the checkpoint of a model trained on another task or with another architecture (e.g. initializing a BertForSequenceClassification model from a BertForPreTraining model).\n",
      "\u001b[36m(RayTrainWorker pid=964256)\u001b[0m - This IS NOT expected if you are initializing BertModel from the checkpoint of a model that you expect to be exactly identical (initializing a BertForSequenceClassification model from a BertForSequenceClassification model).\n",
      "\u001b[36m(RayTrainWorker pid=964256)\u001b[0m Moving model to device: cuda:0\n",
      "\u001b[36m(SplitCoordinator pid=964357)\u001b[0m Starting execution of Dataset. Full logs are in /tmp/ray/session_2025-09-12_12-16-55_178831_940183/logs/ray-data\n",
      "\u001b[36m(SplitCoordinator pid=964357)\u001b[0m Execution plan of Dataset: InputDataBuffer[Input] -> OutputSplitter[split(1, equal=True)]\n",
      "\u001b[36m(RayTrainWorker pid=964256)\u001b[0m /tmp/ipykernel_940183/700331434.py:7: UserWarning: Creating a tensor from a list of numpy.ndarrays is extremely slow. Please consider converting the list to a single numpy.ndarray with numpy.array() before converting to a tensor. (Triggered internally at ../torch/csrc/utils/tensor_new.cpp:245.)\n",
      "\u001b[36m(RayTrainWorker pid=964256)\u001b[0m Checkpoint successfully created at: Checkpoint(filesystem=local, path=/work/ngkuissi/ray_results/llm/TorchTrainer_0e39d_00000_0_2025-09-12_12-32-21/checkpoint_000000)\n",
      "\u001b[36m(RayTrainWorker pid=964256)\u001b[0m Checkpoint successfully created at: Checkpoint(filesystem=local, path=/work/ngkuissi/ray_results/llm/TorchTrainer_0e39d_00000_0_2025-09-12_12-32-21/checkpoint_000001)\n",
      "\u001b[36m(SplitCoordinator pid=964358)\u001b[0m Starting execution of Dataset. Full logs are in /tmp/ray/session_2025-09-12_12-16-55_178831_940183/logs/ray-data\u001b[32m [repeated 3x across cluster]\u001b[0m\n",
      "\u001b[36m(SplitCoordinator pid=964358)\u001b[0m Execution plan of Dataset: InputDataBuffer[Input] -> OutputSplitter[split(1, equal=True)]\u001b[32m [repeated 3x across cluster]\u001b[0m\n",
      "\u001b[36m(RayTrainWorker pid=964256)\u001b[0m Checkpoint successfully created at: Checkpoint(filesystem=local, path=/work/ngkuissi/ray_results/llm/TorchTrainer_0e39d_00000_0_2025-09-12_12-32-21/checkpoint_000002)\n",
      "\u001b[36m(RayTrainWorker pid=964256)\u001b[0m Checkpoint successfully created at: Checkpoint(filesystem=local, path=/work/ngkuissi/ray_results/llm/TorchTrainer_0e39d_00000_0_2025-09-12_12-32-21/checkpoint_000003)\n",
      "\u001b[36m(SplitCoordinator pid=964358)\u001b[0m Starting execution of Dataset. Full logs are in /tmp/ray/session_2025-09-12_12-16-55_178831_940183/logs/ray-data\u001b[32m [repeated 4x across cluster]\u001b[0m\n",
      "\u001b[36m(SplitCoordinator pid=964358)\u001b[0m Execution plan of Dataset: InputDataBuffer[Input] -> OutputSplitter[split(1, equal=True)]\u001b[32m [repeated 4x across cluster]\u001b[0m\n",
      "\u001b[36m(RayTrainWorker pid=964256)\u001b[0m Checkpoint successfully created at: Checkpoint(filesystem=local, path=/work/ngkuissi/ray_results/llm/TorchTrainer_0e39d_00000_0_2025-09-12_12-32-21/checkpoint_000004)\n",
      "\u001b[36m(RayTrainWorker pid=964256)\u001b[0m Checkpoint successfully created at: Checkpoint(filesystem=local, path=/work/ngkuissi/ray_results/llm/TorchTrainer_0e39d_00000_0_2025-09-12_12-32-21/checkpoint_000005)\n",
      "\u001b[36m(SplitCoordinator pid=964358)\u001b[0m Starting execution of Dataset. Full logs are in /tmp/ray/session_2025-09-12_12-16-55_178831_940183/logs/ray-data\u001b[32m [repeated 4x across cluster]\u001b[0m\n",
      "\u001b[36m(SplitCoordinator pid=964358)\u001b[0m Execution plan of Dataset: InputDataBuffer[Input] -> OutputSplitter[split(1, equal=True)]\u001b[32m [repeated 4x across cluster]\u001b[0m\n",
      "\u001b[36m(RayTrainWorker pid=964256)\u001b[0m Checkpoint successfully created at: Checkpoint(filesystem=local, path=/work/ngkuissi/ray_results/llm/TorchTrainer_0e39d_00000_0_2025-09-12_12-32-21/checkpoint_000006)\n",
      "\u001b[36m(RayTrainWorker pid=964256)\u001b[0m Checkpoint successfully created at: Checkpoint(filesystem=local, path=/work/ngkuissi/ray_results/llm/TorchTrainer_0e39d_00000_0_2025-09-12_12-32-21/checkpoint_000007)\n",
      "\u001b[36m(SplitCoordinator pid=964358)\u001b[0m Starting execution of Dataset. Full logs are in /tmp/ray/session_2025-09-12_12-16-55_178831_940183/logs/ray-data\u001b[32m [repeated 4x across cluster]\u001b[0m\n",
      "\u001b[36m(SplitCoordinator pid=964358)\u001b[0m Execution plan of Dataset: InputDataBuffer[Input] -> OutputSplitter[split(1, equal=True)]\u001b[32m [repeated 4x across cluster]\u001b[0m\n",
      "\u001b[36m(RayTrainWorker pid=964256)\u001b[0m Checkpoint successfully created at: Checkpoint(filesystem=local, path=/work/ngkuissi/ray_results/llm/TorchTrainer_0e39d_00000_0_2025-09-12_12-32-21/checkpoint_000008)\n",
      "\u001b[36m(RayTrainWorker pid=964256)\u001b[0m Checkpoint successfully created at: Checkpoint(filesystem=local, path=/work/ngkuissi/ray_results/llm/TorchTrainer_0e39d_00000_0_2025-09-12_12-32-21/checkpoint_000009)\n",
      "\u001b[36m(SplitCoordinator pid=964358)\u001b[0m Starting execution of Dataset. Full logs are in /tmp/ray/session_2025-09-12_12-16-55_178831_940183/logs/ray-data\u001b[32m [repeated 4x across cluster]\u001b[0m\n",
      "\u001b[36m(SplitCoordinator pid=964358)\u001b[0m Execution plan of Dataset: InputDataBuffer[Input] -> OutputSplitter[split(1, equal=True)]\u001b[32m [repeated 4x across cluster]\u001b[0m\n",
      "\u001b[36m(reduce pid=940653)\u001b[0m Error calculating size for column 'title': cannot call `vectorize` on size 0 inputs unless `otypes` is set\n",
      "\u001b[36m(reduce pid=940653)\u001b[0m Error calculating size for column 'description': cannot call `vectorize` on size 0 inputs unless `otypes` is set\n",
      "\u001b[36m(reduce pid=940653)\u001b[0m Error calculating size for column 'tag': cannot call `vectorize` on size 0 inputs unless `otypes` is set\n",
      "\u001b[36m(reduce pid=985959)\u001b[0m Error calculating size for column 'title': cannot call `vectorize` on size 0 inputs unless `otypes` is set\n",
      "\u001b[36m(reduce pid=985959)\u001b[0m Error calculating size for column 'description': cannot call `vectorize` on size 0 inputs unless `otypes` is set\n",
      "\u001b[36m(reduce pid=985959)\u001b[0m Error calculating size for column 'tag': cannot call `vectorize` on size 0 inputs unless `otypes` is set\n",
      "\u001b[36m(reduce pid=940612)\u001b[0m Error calculating size for column 'title': cannot call `vectorize` on size 0 inputs unless `otypes` is set\u001b[32m [repeated 8x across cluster]\u001b[0m\n",
      "\u001b[36m(reduce pid=940612)\u001b[0m Error calculating size for column 'description': cannot call `vectorize` on size 0 inputs unless `otypes` is set\u001b[32m [repeated 8x across cluster]\u001b[0m\n",
      "\u001b[36m(reduce pid=940612)\u001b[0m Error calculating size for column 'tag': cannot call `vectorize` on size 0 inputs unless `otypes` is set\u001b[32m [repeated 8x across cluster]\u001b[0m\n",
      "\u001b[36m(RayTrainWorker pid=992678)\u001b[0m Setting up process group for: env:// [rank=0, world_size=1]\n",
      "\u001b[36m(TorchTrainer pid=992515)\u001b[0m Started distributed worker processes: \n",
      "\u001b[36m(TorchTrainer pid=992515)\u001b[0m - (node_id=66cd54b075ae112575f1d9c0db96411cf5b399d27b0c7b3182f3c722, ip=172.27.14.77, pid=992678) world_rank=0, local_rank=0, node_rank=0\n",
      "\u001b[36m(RayTrainWorker pid=992678)\u001b[0m /mnt/hpc/work/ngkuissi/Made-With-ML/venv/lib/python3.10/site-packages/huggingface_hub/file_download.py:945: FutureWarning: `resume_download` is deprecated and will be removed in version 1.0.0. Downloads always resume when possible. If you want to force a new download, use `force_download=True`.\n",
      "\u001b[36m(RayTrainWorker pid=992678)\u001b[0m   warnings.warn(\n",
      "\u001b[36m(RayTrainWorker pid=992678)\u001b[0m Some weights of the model checkpoint at allenai/scibert_scivocab_uncased were not used when initializing BertModel: ['cls.seq_relationship.weight', 'cls.predictions.transform.LayerNorm.weight', 'cls.predictions.decoder.weight', 'cls.predictions.bias', 'cls.seq_relationship.bias', 'cls.predictions.transform.LayerNorm.bias', 'cls.predictions.transform.dense.weight', 'cls.predictions.transform.dense.bias', 'cls.predictions.decoder.bias']\n",
      "\u001b[36m(RayTrainWorker pid=992678)\u001b[0m - This IS expected if you are initializing BertModel from the checkpoint of a model trained on another task or with another architecture (e.g. initializing a BertForSequenceClassification model from a BertForPreTraining model).\n",
      "\u001b[36m(RayTrainWorker pid=992678)\u001b[0m - This IS NOT expected if you are initializing BertModel from the checkpoint of a model that you expect to be exactly identical (initializing a BertForSequenceClassification model from a BertForSequenceClassification model).\n",
      "\u001b[36m(RayTrainWorker pid=992678)\u001b[0m Moving model to device: cuda:0\n",
      "\u001b[36m(SplitCoordinator pid=992839)\u001b[0m Starting execution of Dataset. Full logs are in /tmp/ray/session_2025-09-12_12-16-55_178831_940183/logs/ray-data\n",
      "\u001b[36m(SplitCoordinator pid=992839)\u001b[0m Execution plan of Dataset: InputDataBuffer[Input] -> OutputSplitter[split(1, equal=True)]\n",
      "\u001b[36m(RayTrainWorker pid=992678)\u001b[0m /tmp/ipykernel_940183/700331434.py:7: UserWarning: Creating a tensor from a list of numpy.ndarrays is extremely slow. Please consider converting the list to a single numpy.ndarray with numpy.array() before converting to a tensor. (Triggered internally at ../torch/csrc/utils/tensor_new.cpp:245.)\n",
      "\u001b[36m(reduce pid=940636)\u001b[0m Error calculating size for column 'title': cannot call `vectorize` on size 0 inputs unless `otypes` is set\n",
      "\u001b[36m(reduce pid=940636)\u001b[0m Error calculating size for column 'description': cannot call `vectorize` on size 0 inputs unless `otypes` is set\n",
      "\u001b[36m(reduce pid=940636)\u001b[0m Error calculating size for column 'tag': cannot call `vectorize` on size 0 inputs unless `otypes` is set\n",
      "\u001b[36m(reduce pid=940629)\u001b[0m Error calculating size for column 'title': cannot call `vectorize` on size 0 inputs unless `otypes` is set\n",
      "\u001b[36m(reduce pid=940629)\u001b[0m Error calculating size for column 'description': cannot call `vectorize` on size 0 inputs unless `otypes` is set\n",
      "\u001b[36m(reduce pid=940629)\u001b[0m Error calculating size for column 'tag': cannot call `vectorize` on size 0 inputs unless `otypes` is set\n",
      "\u001b[36m(reduce pid=940633)\u001b[0m Error calculating size for column 'title': cannot call `vectorize` on size 0 inputs unless `otypes` is set\u001b[32m [repeated 8x across cluster]\u001b[0m\n",
      "\u001b[36m(reduce pid=940633)\u001b[0m Error calculating size for column 'description': cannot call `vectorize` on size 0 inputs unless `otypes` is set\u001b[32m [repeated 8x across cluster]\u001b[0m\n",
      "\u001b[36m(reduce pid=940633)\u001b[0m Error calculating size for column 'tag': cannot call `vectorize` on size 0 inputs unless `otypes` is set\u001b[32m [repeated 8x across cluster]\u001b[0m\n",
      "\u001b[36m(RayTrainWorker pid=1006513)\u001b[0m Setting up process group for: env:// [rank=0, world_size=1]\n",
      "\u001b[36m(TorchTrainer pid=1006349)\u001b[0m Started distributed worker processes: \n",
      "\u001b[36m(TorchTrainer pid=1006349)\u001b[0m - (node_id=66cd54b075ae112575f1d9c0db96411cf5b399d27b0c7b3182f3c722, ip=172.27.14.77, pid=1006513) world_rank=0, local_rank=0, node_rank=0\n",
      "\u001b[36m(RayTrainWorker pid=1006513)\u001b[0m /mnt/hpc/work/ngkuissi/Made-With-ML/venv/lib/python3.10/site-packages/huggingface_hub/file_download.py:945: FutureWarning: `resume_download` is deprecated and will be removed in version 1.0.0. Downloads always resume when possible. If you want to force a new download, use `force_download=True`.\n",
      "\u001b[36m(RayTrainWorker pid=1006513)\u001b[0m   warnings.warn(\n",
      "\u001b[36m(RayTrainWorker pid=1006513)\u001b[0m Some weights of the model checkpoint at allenai/scibert_scivocab_uncased were not used when initializing BertModel: ['cls.predictions.transform.dense.weight', 'cls.predictions.transform.LayerNorm.bias', 'cls.predictions.transform.dense.bias', 'cls.predictions.decoder.weight', 'cls.predictions.decoder.bias', 'cls.seq_relationship.bias', 'cls.seq_relationship.weight', 'cls.predictions.bias', 'cls.predictions.transform.LayerNorm.weight']\n",
      "\u001b[36m(RayTrainWorker pid=1006513)\u001b[0m - This IS expected if you are initializing BertModel from the checkpoint of a model trained on another task or with another architecture (e.g. initializing a BertForSequenceClassification model from a BertForPreTraining model).\n",
      "\u001b[36m(RayTrainWorker pid=1006513)\u001b[0m - This IS NOT expected if you are initializing BertModel from the checkpoint of a model that you expect to be exactly identical (initializing a BertForSequenceClassification model from a BertForSequenceClassification model).\n",
      "\u001b[36m(SplitCoordinator pid=1006923)\u001b[0m Starting execution of Dataset. Full logs are in /tmp/ray/session_2025-09-12_12-16-55_178831_940183/logs/ray-data\n",
      "\u001b[36m(SplitCoordinator pid=1006923)\u001b[0m Execution plan of Dataset: InputDataBuffer[Input] -> OutputSplitter[split(1, equal=True)]\n",
      "\u001b[36m(RayTrainWorker pid=1006513)\u001b[0m /tmp/ipykernel_940183/700331434.py:7: UserWarning: Creating a tensor from a list of numpy.ndarrays is extremely slow. Please consider converting the list to a single numpy.ndarray with numpy.array() before converting to a tensor. (Triggered internally at ../torch/csrc/utils/tensor_new.cpp:245.)\n"
     ]
    }
   ],
   "source": [
    "if ray.is_initialized():\n",
    "    ray.shutdown()\n",
    "ray.init()"
   ]
  },
  {
   "cell_type": "code",
   "execution_count": 53,
   "id": "ab6a5005",
   "metadata": {},
   "outputs": [
    {
     "data": {
      "text/plain": [
       "{'node:__internal_head__': 1.0,\n",
       " 'node:172.27.14.77': 1.0,\n",
       " 'CPU': 96.0,\n",
       " 'memory': 877115883520.0,\n",
       " 'accelerator_type:RTX': 1.0,\n",
       " 'object_store_memory': 200000000000.0,\n",
       " 'GPU': 1.0}"
      ]
     },
     "execution_count": 53,
     "metadata": {},
     "output_type": "execute_result"
    }
   ],
   "source": [
    "ray.cluster_resources()"
   ]
  },
  {
   "cell_type": "markdown",
   "id": "622985e6",
   "metadata": {},
   "source": [
    "## Finetunning our own llm"
   ]
  },
  {
   "cell_type": "code",
   "execution_count": 54,
   "id": "c6a9f6dc",
   "metadata": {},
   "outputs": [],
   "source": [
    "import os\n",
    "import random\n",
    "import torch\n",
    "import numpy as np\n",
    "import ray\n",
    "from ray.data.preprocessor import Preprocessor"
   ]
  },
  {
   "cell_type": "code",
   "execution_count": 55,
   "id": "cba1528d",
   "metadata": {},
   "outputs": [],
   "source": [
    "def set_seed(seed=42):\n",
    "    \"\"\"Set seeds for reproducibility.\"\"\"\n",
    "    np.random.seed(seed)\n",
    "    random.seed(seed)\n",
    "    torch.manual_seed(seed)\n",
    "    torch.cuda.manual_seed(seed)\n",
    "    #eval(\"setattr(torch.backends.cudnn, 'deterministic', True)\")\n",
    "    #eval(\"setattr(torch.backends.cudnn, 'benchmark', False)\")\n",
    "    os.environ['PYTHONHASHSEED'] = str(seed)"
   ]
  },
  {
   "cell_type": "code",
   "execution_count": 56,
   "id": "3ceea06c",
   "metadata": {},
   "outputs": [],
   "source": [
    "set_seed()"
   ]
  },
  {
   "cell_type": "code",
   "execution_count": 57,
   "id": "09569994",
   "metadata": {},
   "outputs": [],
   "source": [
    "DATASET_LOC = \"https://raw.githubusercontent.com/GokuMohandas/Made-With-ML/main/datasets/dataset.csv\""
   ]
  },
  {
   "cell_type": "code",
   "execution_count": 58,
   "id": "fdbc1311",
   "metadata": {},
   "outputs": [],
   "source": [
    "def load_data(num_samples=None, loc=DATASET_LOC):\n",
    "    ds = ray.data.read_csv(loc)\n",
    "    ds = ds.random_shuffle(seed=1234)\n",
    "    ds = ray.data.from_items(ds.take(num_samples)) if num_samples else ds\n",
    "    return ds"
   ]
  },
  {
   "cell_type": "markdown",
   "id": "597bb254",
   "metadata": {},
   "source": [
    "<div style=\"border-left: 4px solid #00c896; background-color:rgb(23, 22, 22); padding: 1em; border-radius: 8px; margin: 1em 0;\">\n",
    "  <p style=\"margin: 0; font-weight: bold; color: #059669;\">💡 Tip</p>\n",
    "  <p style=\"margin: 0;\">\n",
    "    When working with very large datasets, it's a good idea to limit the number of samples in our dataset so that we can execute our code quickly and iterate on bugs, etc.  \n",
    "    This is why we have a <code>num_samples</code> input argument in our <code>load_data</code> function (<code>None</code> = no limit, all samples).\n",
    "  </p>\n",
    "</div>\n"
   ]
  },
  {
   "cell_type": "markdown",
   "id": "cb906b86",
   "metadata": {},
   "source": [
    "## Helpful functions"
   ]
  },
  {
   "cell_type": "code",
   "execution_count": 9,
   "id": "ad3c5248",
   "metadata": {},
   "outputs": [],
   "source": [
    "import numpy as np\n",
    "from transformers import BertTokenizer\n",
    "import re\n",
    "import nltk\n",
    "from nltk.corpus import stopwords"
   ]
  },
  {
   "cell_type": "code",
   "execution_count": 10,
   "id": "682f5a4b",
   "metadata": {},
   "outputs": [
    {
     "name": "stderr",
     "output_type": "stream",
     "text": [
      "[nltk_data] Downloading package stopwords to\n",
      "[nltk_data]     /work/ngkuissi/nltk_data...\n",
      "[nltk_data]   Package stopwords is already up-to-date!\n"
     ]
    }
   ],
   "source": [
    "nltk.download(\"stopwords\")\n",
    "STOPWORDS = stopwords.words(\"english\")"
   ]
  },
  {
   "cell_type": "code",
   "execution_count": 11,
   "id": "b504086e",
   "metadata": {},
   "outputs": [
    {
     "name": "stderr",
     "output_type": "stream",
     "text": [
      "/mnt/hpc/work/ngkuissi/Made-With-ML/venv/lib/python3.10/site-packages/huggingface_hub/file_download.py:945: FutureWarning: `resume_download` is deprecated and will be removed in version 1.0.0. Downloads always resume when possible. If you want to force a new download, use `force_download=True`.\n",
      "  warnings.warn(\n"
     ]
    }
   ],
   "source": [
    "tokenizer = BertTokenizer.from_pretrained(\"allenai/scibert_scivocab_uncased\", return_dict=False)"
   ]
  },
  {
   "cell_type": "code",
   "execution_count": 12,
   "id": "80382565",
   "metadata": {},
   "outputs": [],
   "source": [
    "def tokenize(batch, tokenizer=tokenizer):\n",
    "    encoded_inputs = tokenizer(batch['text'].tolist(), return_tensors=\"np\", padding=\"longest\")\n",
    "    return dict(ids=encoded_inputs['input_ids'], mask=encoded_inputs['attention_mask'],\n",
    "                target=np.array(batch['tag']))"
   ]
  },
  {
   "cell_type": "code",
   "execution_count": 13,
   "id": "86a7e322",
   "metadata": {},
   "outputs": [],
   "source": [
    "def clean_text(text, stopwords=STOPWORDS):\n",
    "    \"\"\"Clean raw text string.\"\"\"\n",
    "    text = text.lower()\n",
    "    \n",
    "    # remove stopwords\n",
    "    pattern = re.compile(r'\\b(' + r\"|\".join(stopwords) + r\")\\b\\s*\")\n",
    "    text = pattern.sub(\"\", text)\n",
    "    \n",
    "    text = re.sub(r\"([!\\\"'#$%&()*\\+,-./:;<=>?@\\\\\\[\\]^_`{|}~])\", r\" \\1 \", text)  # add spacing\n",
    "    text = re.sub(\"[^A-Za-z0-9]+\", \" \", text)  # remove non alphanumeric chars\n",
    "    text = re.sub(\" +\", \" \", text)  # remove multiple spaces\n",
    "    text = text.strip()  # strip white space at the ends\n",
    "    text = re.sub(r\"http\\S+\", \"\", text)  #  remove links\n",
    "    \n",
    "    return text\n",
    "    "
   ]
  },
  {
   "cell_type": "code",
   "execution_count": 14,
   "id": "d574e465",
   "metadata": {},
   "outputs": [],
   "source": [
    "def preprocess(df, class_to_index):\n",
    "    \"\"\"Preprocess the data.\"\"\"\n",
    "    df[\"text\"] = df.title + \" \" + df.description  # feature engineering\n",
    "    df[\"text\"] = df.text.apply(clean_text)  # clean text\n",
    "    df = df.drop(columns=[\"id\", \"created_on\", \"title\", \"description\"], errors=\"ignore\")  # clean dataframe\n",
    "    df = df[[\"text\", \"tag\"]]  # rearrange columns\n",
    "    df[\"tag\"] = df[\"tag\"].map(class_to_index)  # label encoding\n",
    "    outputs = tokenize(df)\n",
    "    return outputs"
   ]
  },
  {
   "cell_type": "code",
   "execution_count": 15,
   "id": "dce71d63",
   "metadata": {},
   "outputs": [],
   "source": [
    "class CustomPreprocessor(Preprocessor):\n",
    "    \n",
    "    def _fit(self, ds):\n",
    "        tags = ds.unique(column=\"tag\")\n",
    "        self.class_to_index = {tag: i for i, tag in enumerate(tags)}\n",
    "        self.index_to_class = {v:k for k, v in self.class_to_index.items()}\n",
    "    \n",
    "    def _transform_pandas(self, batch):\n",
    "        return preprocess(batch, class_to_index=self.class_to_index)"
   ]
  },
  {
   "cell_type": "code",
   "execution_count": 193,
   "id": "dae7ea27",
   "metadata": {},
   "outputs": [],
   "source": [
    "def decode(indices, index_to_class):\n",
    "    return [index_to_class[idx] for idx in indices]"
   ]
  },
  {
   "cell_type": "markdown",
   "id": "1fa7c32f",
   "metadata": {},
   "source": [
    "## Model"
   ]
  },
  {
   "cell_type": "code",
   "execution_count": 16,
   "id": "382a2830",
   "metadata": {},
   "outputs": [],
   "source": [
    "import torch.nn as nn\n",
    "import torch.nn.functional as F\n",
    "from transformers import BertModel"
   ]
  },
  {
   "cell_type": "code",
   "execution_count": 17,
   "id": "785e8e4e",
   "metadata": {},
   "outputs": [
    {
     "name": "stderr",
     "output_type": "stream",
     "text": [
      "Some weights of the model checkpoint at allenai/scibert_scivocab_uncased were not used when initializing BertModel: ['cls.predictions.bias', 'cls.predictions.transform.LayerNorm.bias', 'cls.predictions.transform.LayerNorm.weight', 'cls.seq_relationship.weight', 'cls.predictions.decoder.bias', 'cls.predictions.decoder.weight', 'cls.seq_relationship.bias', 'cls.predictions.transform.dense.weight', 'cls.predictions.transform.dense.bias']\n",
      "- This IS expected if you are initializing BertModel from the checkpoint of a model trained on another task or with another architecture (e.g. initializing a BertForSequenceClassification model from a BertForPreTraining model).\n",
      "- This IS NOT expected if you are initializing BertModel from the checkpoint of a model that you expect to be exactly identical (initializing a BertForSequenceClassification model from a BertForSequenceClassification model).\n"
     ]
    }
   ],
   "source": [
    "llm = BertModel.from_pretrained(\"allenai/scibert_scivocab_uncased\", return_dict=False)\n",
    "embedding_dim = llm.config.hidden_size"
   ]
  },
  {
   "cell_type": "code",
   "execution_count": 18,
   "id": "28885a92",
   "metadata": {},
   "outputs": [],
   "source": [
    "text = \"Transfer learning with transformers for text classification.\"\n",
    "batch = tokenizer([text], return_tensors=\"pt\", padding=\"longest\")\n",
    "seq, pool = llm(input_ids=batch['input_ids'], attention_mask=batch['attention_mask'])"
   ]
  },
  {
   "cell_type": "code",
   "execution_count": 19,
   "id": "34e6b64c",
   "metadata": {},
   "outputs": [
    {
     "data": {
      "text/plain": [
       "torch.Size([1, 10, 768])"
      ]
     },
     "execution_count": 19,
     "metadata": {},
     "output_type": "execute_result"
    }
   ],
   "source": [
    "seq.shape"
   ]
  },
  {
   "cell_type": "code",
   "execution_count": 20,
   "id": "68b8a671",
   "metadata": {},
   "outputs": [
    {
     "data": {
      "text/plain": [
       "torch.Size([1, 768])"
      ]
     },
     "execution_count": 20,
     "metadata": {},
     "output_type": "execute_result"
    }
   ],
   "source": [
    "pool.shape"
   ]
  },
  {
   "cell_type": "code",
   "execution_count": 21,
   "id": "36c3aefc",
   "metadata": {},
   "outputs": [],
   "source": [
    "class FinetunnedLLM(nn.Module):\n",
    "    \n",
    "    def __init__(self, llm, dropout_p, embedding_dim, num_classes):\n",
    "        super(FinetunnedLLM, self).__init__()\n",
    "        self.llm = llm\n",
    "        self.dropout = nn.Dropout(dropout_p)\n",
    "        self.classifier = nn.Linear(embedding_dim, num_classes)\n",
    "    \n",
    "    def forward(self, batch):\n",
    "        ids, mask = batch['ids'], batch['mask']\n",
    "        _, pool = self.llm(input_ids=ids, attention_mask = mask)\n",
    "        \n",
    "        return self.classifier(self.dropout(pool))\n",
    "\n",
    "    @torch.inference_mode\n",
    "    def predict(self, batch):\n",
    "        self.eval()\n",
    "        z = self(batch)\n",
    "        return torch.argmax(z, dim=-1).cpu().numpy()\n",
    "\n",
    "    @torch.inference_mode\n",
    "    def predict_prob(self, batch):\n",
    "        self.eval()\n",
    "        z = self(batch)\n",
    "        y_probs = F.softmax(z, dim=-1).cpu().numpy()\n",
    "        return y_probs"
   ]
  },
  {
   "cell_type": "code",
   "execution_count": 22,
   "id": "8a1e89cf",
   "metadata": {},
   "outputs": [],
   "source": [
    "model = FinetunnedLLM(llm, 0.5, embedding_dim, 4)"
   ]
  },
  {
   "cell_type": "markdown",
   "id": "5b215440",
   "metadata": {},
   "source": [
    "## Data setup"
   ]
  },
  {
   "cell_type": "code",
   "execution_count": 23,
   "id": "87e59ca4",
   "metadata": {},
   "outputs": [],
   "source": [
    "ray.data.DatasetContext.get_current().execution_options.preserve_order = True\n",
    "ds = ray.data.read_csv(DATASET_LOC)\n",
    "ds = ds.random_shuffle(seed=1234)"
   ]
  },
  {
   "cell_type": "code",
   "execution_count": 24,
   "id": "f32fcf2b",
   "metadata": {},
   "outputs": [
    {
     "name": "stderr",
     "output_type": "stream",
     "text": [
      "/mnt/hpc/work/ngkuissi/Made-With-ML/venv/lib/python3.10/site-packages/mlflow/utils/requirements_utils.py:12: UserWarning: pkg_resources is deprecated as an API. See https://setuptools.pypa.io/en/latest/pkg_resources.html. The pkg_resources package is slated for removal as early as 2025-11-30. Refrain from using this package or pin to Setuptools<81.\n",
      "  import pkg_resources\n"
     ]
    }
   ],
   "source": [
    "import sys\n",
    "sys.path.append(\"..\")\n",
    "from madewithml.data import stratify_split"
   ]
  },
  {
   "cell_type": "code",
   "execution_count": 25,
   "id": "85d16440",
   "metadata": {},
   "outputs": [],
   "source": [
    "test_size = 0.2\n",
    "train_ds, val_ds = stratify_split(ds, stratify=\"tag\", test_size=test_size)"
   ]
  },
  {
   "cell_type": "code",
   "execution_count": 26,
   "id": "398e78b8",
   "metadata": {},
   "outputs": [
    {
     "name": "stderr",
     "output_type": "stream",
     "text": [
      "2025-09-12 12:31:37,145\tINFO dataset.py:2796 -- Tip: Use `take_batch()` instead of `take() / show()` to return records in pandas or numpy batch format.\n",
      "2025-09-12 12:31:37,151\tINFO streaming_executor.py:108 -- Starting execution of Dataset. Full logs are in /tmp/ray/session_2025-09-12_12-16-55_178831_940183/logs/ray-data\n",
      "2025-09-12 12:31:37,152\tINFO streaming_executor.py:109 -- Execution plan of Dataset: InputDataBuffer[Input] -> TaskPoolMapOperator[ReadCSV] -> AllToAllOperator[RandomShuffle] -> AllToAllOperator[Sort] -> AllToAllOperator[MapBatches(_add_split)->MapBatches(_filter_split)->RandomShuffle] -> AllToAllOperator[Aggregate] -> LimitOperator[limit=1]\n"
     ]
    },
    {
     "data": {
      "application/vnd.jupyter.widget-view+json": {
       "model_id": "c4ff8976d1fe411c968d48b6c9518766",
       "version_major": 2,
       "version_minor": 0
      },
      "text/plain": [
       "Running 0: 0.00 row [00:00, ? row/s]"
      ]
     },
     "metadata": {},
     "output_type": "display_data"
    },
    {
     "data": {
      "application/vnd.jupyter.widget-view+json": {
       "model_id": "411da0a60d4a4416a748308f27af8235",
       "version_major": 2,
       "version_minor": 0
      },
      "text/plain": [
       "- ReadCSV->SplitBlocks(192) 1: 0.00 row [00:00, ? row/s]"
      ]
     },
     "metadata": {},
     "output_type": "display_data"
    },
    {
     "data": {
      "application/vnd.jupyter.widget-view+json": {
       "model_id": "aafec2ed0cc44c1abad3b337b8cfcdd2",
       "version_major": 2,
       "version_minor": 0
      },
      "text/plain": [
       "- RandomShuffle 2: 0.00 row [00:00, ? row/s]"
      ]
     },
     "metadata": {},
     "output_type": "display_data"
    },
    {
     "data": {
      "application/vnd.jupyter.widget-view+json": {
       "model_id": "d443b9feae5d4fb6a7e6d6de1af0e74f",
       "version_major": 2,
       "version_minor": 0
      },
      "text/plain": [
       "Shuffle Map 3:   0%|                                                                                          …"
      ]
     },
     "metadata": {},
     "output_type": "display_data"
    },
    {
     "data": {
      "application/vnd.jupyter.widget-view+json": {
       "model_id": "492b6c257668412abc711e6cdaa21cfb",
       "version_major": 2,
       "version_minor": 0
      },
      "text/plain": [
       "Shuffle Reduce 4:   0%|                                                                                       …"
      ]
     },
     "metadata": {},
     "output_type": "display_data"
    },
    {
     "data": {
      "application/vnd.jupyter.widget-view+json": {
       "model_id": "b209641776764f1699050d4ca128c981",
       "version_major": 2,
       "version_minor": 0
      },
      "text/plain": [
       "- Sort 5: 0.00 row [00:00, ? row/s]"
      ]
     },
     "metadata": {},
     "output_type": "display_data"
    },
    {
     "data": {
      "application/vnd.jupyter.widget-view+json": {
       "model_id": "cd42b9bc7762494bac007a2cd079d9ac",
       "version_major": 2,
       "version_minor": 0
      },
      "text/plain": [
       "Sort Sample 6:   0%|                                                                                          …"
      ]
     },
     "metadata": {},
     "output_type": "display_data"
    },
    {
     "data": {
      "application/vnd.jupyter.widget-view+json": {
       "model_id": "4b31c8d018f248a2b30568c8bba7a258",
       "version_major": 2,
       "version_minor": 0
      },
      "text/plain": [
       "Shuffle Map 7:   0%|                                                                                          …"
      ]
     },
     "metadata": {},
     "output_type": "display_data"
    },
    {
     "data": {
      "application/vnd.jupyter.widget-view+json": {
       "model_id": "d9a556b327d6456795951fbcf0835615",
       "version_major": 2,
       "version_minor": 0
      },
      "text/plain": [
       "Shuffle Reduce 8:   0%|                                                                                       …"
      ]
     },
     "metadata": {},
     "output_type": "display_data"
    },
    {
     "data": {
      "application/vnd.jupyter.widget-view+json": {
       "model_id": "78595c4602e7427da151c7833b524e1d",
       "version_major": 2,
       "version_minor": 0
      },
      "text/plain": [
       "- MapBatches(_add_split)->MapBatches(_filter_split)->RandomShuffle 9: 0.00 row [00:00, ? row/s]"
      ]
     },
     "metadata": {},
     "output_type": "display_data"
    },
    {
     "data": {
      "application/vnd.jupyter.widget-view+json": {
       "model_id": "9035810795634d54a8bb201f23a89aa6",
       "version_major": 2,
       "version_minor": 0
      },
      "text/plain": [
       "Shuffle Map 10:   0%|                                                                                         …"
      ]
     },
     "metadata": {},
     "output_type": "display_data"
    },
    {
     "data": {
      "application/vnd.jupyter.widget-view+json": {
       "model_id": "8bb1b1a86e92435bb13a76c9322693f7",
       "version_major": 2,
       "version_minor": 0
      },
      "text/plain": [
       "Shuffle Reduce 11:   0%|                                                                                      …"
      ]
     },
     "metadata": {},
     "output_type": "display_data"
    },
    {
     "data": {
      "application/vnd.jupyter.widget-view+json": {
       "model_id": "9c3b7e70b72e4c858ddc80870ce916bb",
       "version_major": 2,
       "version_minor": 0
      },
      "text/plain": [
       "- Aggregate 12: 0.00 row [00:00, ? row/s]"
      ]
     },
     "metadata": {},
     "output_type": "display_data"
    },
    {
     "data": {
      "application/vnd.jupyter.widget-view+json": {
       "model_id": "bc7fe689a8604df8a5d1e070ec876663",
       "version_major": 2,
       "version_minor": 0
      },
      "text/plain": [
       "Sort Sample 13:   0%|                                                                                         …"
      ]
     },
     "metadata": {},
     "output_type": "display_data"
    },
    {
     "data": {
      "application/vnd.jupyter.widget-view+json": {
       "model_id": "c1afb4d2b8de49689ee9508bae25dbe4",
       "version_major": 2,
       "version_minor": 0
      },
      "text/plain": [
       "Shuffle Map 14:   0%|                                                                                         …"
      ]
     },
     "metadata": {},
     "output_type": "display_data"
    },
    {
     "data": {
      "application/vnd.jupyter.widget-view+json": {
       "model_id": "6de0e2ac05be41c7aabaf6a10b0880cb",
       "version_major": 2,
       "version_minor": 0
      },
      "text/plain": [
       "Shuffle Reduce 15:   0%|                                                                                      …"
      ]
     },
     "metadata": {},
     "output_type": "display_data"
    },
    {
     "data": {
      "application/vnd.jupyter.widget-view+json": {
       "model_id": "c25d603cb381473889bf44508c56c87b",
       "version_major": 2,
       "version_minor": 0
      },
      "text/plain": [
       "- limit=1 16: 0.00 row [00:00, ? row/s]"
      ]
     },
     "metadata": {},
     "output_type": "display_data"
    },
    {
     "name": "stderr",
     "output_type": "stream",
     "text": [
      "2025-09-12 12:31:37,441\tWARNING progress_bar.py:120 -- Truncating long operator name to 100 characters. To disable this behavior, set `ray.data.DataContext.get_current().DEFAULT_ENABLE_PROGRESS_BAR_NAME_TRUNCATION = False`.\n"
     ]
    }
   ],
   "source": [
    "tags = train_ds.unique(column=\"tag\")\n",
    "class_to_index = {tag: i for i, tag in enumerate(tags)}"
   ]
  },
  {
   "cell_type": "code",
   "execution_count": 27,
   "id": "4fed0b82",
   "metadata": {},
   "outputs": [],
   "source": [
    "sample_ds = train_ds.map_batches(\n",
    "    preprocess,\n",
    "    fn_kwargs={\"class_to_index\": class_to_index},\n",
    "    batch_format=\"pandas\"\n",
    ")"
   ]
  },
  {
   "cell_type": "markdown",
   "id": "f4eae6cc",
   "metadata": {},
   "source": [
    "## Batching"
   ]
  },
  {
   "cell_type": "code",
   "execution_count": 28,
   "id": "e7cd6356",
   "metadata": {},
   "outputs": [
    {
     "name": "stdout",
     "output_type": "stream",
     "text": [
      "Created a temporary directory at /tmp/tmpplyp5tun\n",
      "Writing /tmp/tmpplyp5tun/_remote_module_non_scriptable.py\n"
     ]
    }
   ],
   "source": [
    "from ray.train.torch import get_device"
   ]
  },
  {
   "cell_type": "code",
   "execution_count": 29,
   "id": "8240a82e",
   "metadata": {},
   "outputs": [],
   "source": [
    "device = \"cuda\" if torch.cuda.is_available() else \"cpu\""
   ]
  },
  {
   "cell_type": "code",
   "execution_count": 30,
   "id": "35142d9a",
   "metadata": {},
   "outputs": [],
   "source": [
    "def pad_array(arr, dtype=np.int32):\n",
    "    max_len = max([len(row) for row in arr])\n",
    "    padded_arr = np.zeros((arr.shape[0], max_len), dtype=dtype)\n",
    "    for i, row in enumerate(arr):\n",
    "        padded_arr[i, :len(row)]= row\n",
    "    return padded_arr"
   ]
  },
  {
   "cell_type": "code",
   "execution_count": 31,
   "id": "ebfc85e3",
   "metadata": {},
   "outputs": [],
   "source": [
    "def collate_fn(batch, device=device):\n",
    "    batch[\"ids\"] = pad_array(batch[\"ids\"])\n",
    "    batch[\"mask\"] = pad_array(batch[\"mask\"])\n",
    "    dtypes = {\"ids\": torch.int32, \"mask\": torch.int32, \"target\": torch.int64}\n",
    "    tensor_batch = {}\n",
    "    for key, arr in batch.items():\n",
    "        tensor_batch[key] = torch.as_tensor(list(arr), dtype=dtypes[key], device=device)\n",
    "    return tensor_batch\n",
    "    "
   ]
  },
  {
   "cell_type": "code",
   "execution_count": 32,
   "id": "c9e2129b",
   "metadata": {},
   "outputs": [
    {
     "name": "stderr",
     "output_type": "stream",
     "text": [
      "2025-09-12 12:31:52,448\tINFO streaming_executor.py:108 -- Starting execution of Dataset. Full logs are in /tmp/ray/session_2025-09-12_12-16-55_178831_940183/logs/ray-data\n",
      "2025-09-12 12:31:52,448\tINFO streaming_executor.py:109 -- Execution plan of Dataset: InputDataBuffer[Input] -> TaskPoolMapOperator[ReadCSV] -> AllToAllOperator[RandomShuffle] -> AllToAllOperator[Sort] -> AllToAllOperator[MapBatches(_add_split)->MapBatches(_filter_split)->RandomShuffle] -> TaskPoolMapOperator[MapBatches(preprocess)] -> LimitOperator[limit=128]\n"
     ]
    },
    {
     "data": {
      "application/vnd.jupyter.widget-view+json": {
       "model_id": "dd452a7bf7f7478c97d007410ce7d4dd",
       "version_major": 2,
       "version_minor": 0
      },
      "text/plain": [
       "Running 0: 0.00 row [00:00, ? row/s]"
      ]
     },
     "metadata": {},
     "output_type": "display_data"
    },
    {
     "data": {
      "application/vnd.jupyter.widget-view+json": {
       "model_id": "145dfb2076864386954e1d0e927dcd67",
       "version_major": 2,
       "version_minor": 0
      },
      "text/plain": [
       "- ReadCSV->SplitBlocks(192) 1: 0.00 row [00:00, ? row/s]"
      ]
     },
     "metadata": {},
     "output_type": "display_data"
    },
    {
     "data": {
      "application/vnd.jupyter.widget-view+json": {
       "model_id": "1bb48d7124684a8285cb3b3ede3318aa",
       "version_major": 2,
       "version_minor": 0
      },
      "text/plain": [
       "- RandomShuffle 2: 0.00 row [00:00, ? row/s]"
      ]
     },
     "metadata": {},
     "output_type": "display_data"
    },
    {
     "data": {
      "application/vnd.jupyter.widget-view+json": {
       "model_id": "7de0fca8ef8e42c28913f4580ffe88db",
       "version_major": 2,
       "version_minor": 0
      },
      "text/plain": [
       "Shuffle Map 3:   0%|                                                                                          …"
      ]
     },
     "metadata": {},
     "output_type": "display_data"
    },
    {
     "data": {
      "application/vnd.jupyter.widget-view+json": {
       "model_id": "3a0e3923abd04869872997ecae373901",
       "version_major": 2,
       "version_minor": 0
      },
      "text/plain": [
       "Shuffle Reduce 4:   0%|                                                                                       …"
      ]
     },
     "metadata": {},
     "output_type": "display_data"
    },
    {
     "data": {
      "application/vnd.jupyter.widget-view+json": {
       "model_id": "6b44f0f720a845d899e16eb6bd588a9d",
       "version_major": 2,
       "version_minor": 0
      },
      "text/plain": [
       "- Sort 5: 0.00 row [00:00, ? row/s]"
      ]
     },
     "metadata": {},
     "output_type": "display_data"
    },
    {
     "data": {
      "application/vnd.jupyter.widget-view+json": {
       "model_id": "b649e7fe999f452aa44060cbe05909b5",
       "version_major": 2,
       "version_minor": 0
      },
      "text/plain": [
       "Sort Sample 6:   0%|                                                                                          …"
      ]
     },
     "metadata": {},
     "output_type": "display_data"
    },
    {
     "data": {
      "application/vnd.jupyter.widget-view+json": {
       "model_id": "a245974e17954aa0a0e6f8c60718ac0f",
       "version_major": 2,
       "version_minor": 0
      },
      "text/plain": [
       "Shuffle Map 7:   0%|                                                                                          …"
      ]
     },
     "metadata": {},
     "output_type": "display_data"
    },
    {
     "data": {
      "application/vnd.jupyter.widget-view+json": {
       "model_id": "3958b20e65b64daf991a45d90c5d310e",
       "version_major": 2,
       "version_minor": 0
      },
      "text/plain": [
       "Shuffle Reduce 8:   0%|                                                                                       …"
      ]
     },
     "metadata": {},
     "output_type": "display_data"
    },
    {
     "data": {
      "application/vnd.jupyter.widget-view+json": {
       "model_id": "b36e916c970c40ef823209457161108b",
       "version_major": 2,
       "version_minor": 0
      },
      "text/plain": [
       "- MapBatches(_add_split)->MapBatches(_filter_split)->RandomShuffle 9: 0.00 row [00:00, ? row/s]"
      ]
     },
     "metadata": {},
     "output_type": "display_data"
    },
    {
     "data": {
      "application/vnd.jupyter.widget-view+json": {
       "model_id": "18387e3462c94576b758d209041c0a52",
       "version_major": 2,
       "version_minor": 0
      },
      "text/plain": [
       "Shuffle Map 10:   0%|                                                                                         …"
      ]
     },
     "metadata": {},
     "output_type": "display_data"
    },
    {
     "data": {
      "application/vnd.jupyter.widget-view+json": {
       "model_id": "b89160c1f42f43ca922fcfc7948ffa81",
       "version_major": 2,
       "version_minor": 0
      },
      "text/plain": [
       "Shuffle Reduce 11:   0%|                                                                                      …"
      ]
     },
     "metadata": {},
     "output_type": "display_data"
    },
    {
     "data": {
      "application/vnd.jupyter.widget-view+json": {
       "model_id": "da269a56d3104216b526dca78d7155f0",
       "version_major": 2,
       "version_minor": 0
      },
      "text/plain": [
       "- MapBatches(preprocess) 12: 0.00 row [00:00, ? row/s]"
      ]
     },
     "metadata": {},
     "output_type": "display_data"
    },
    {
     "data": {
      "application/vnd.jupyter.widget-view+json": {
       "model_id": "cdc7e989f5ba4d6d8021eb8320899a9e",
       "version_major": 2,
       "version_minor": 0
      },
      "text/plain": [
       "- limit=128 13: 0.00 row [00:00, ? row/s]"
      ]
     },
     "metadata": {},
     "output_type": "display_data"
    }
   ],
   "source": [
    "sample_batch = sample_ds.take_batch(128)"
   ]
  },
  {
   "cell_type": "code",
   "execution_count": 33,
   "id": "0cecbe56",
   "metadata": {},
   "outputs": [
    {
     "name": "stderr",
     "output_type": "stream",
     "text": [
      "/tmp/ipykernel_940183/700331434.py:7: UserWarning: Creating a tensor from a list of numpy.ndarrays is extremely slow. Please consider converting the list to a single numpy.ndarray with numpy.array() before converting to a tensor. (Triggered internally at ../torch/csrc/utils/tensor_new.cpp:245.)\n",
      "  tensor_batch[key] = torch.as_tensor(list(arr), dtype=dtypes[key], device=device)\n"
     ]
    },
    {
     "data": {
      "text/plain": [
       "{'ids': tensor([[  102,  1438,  4706,  ...,     0,     0,     0],\n",
       "         [  102,  2389, 29477,  ...,     0,     0,     0],\n",
       "         [  102, 24638, 15781,  ...,     0,     0,     0],\n",
       "         ...,\n",
       "         [  102,  1613, 15037,  ...,     0,     0,     0],\n",
       "         [  102,  1572,  8039,  ...,     0,     0,     0],\n",
       "         [  102,   856,  3997,  ...,     0,     0,     0]], device='cuda:0',\n",
       "        dtype=torch.int32),\n",
       " 'mask': tensor([[1, 1, 1,  ..., 0, 0, 0],\n",
       "         [1, 1, 1,  ..., 0, 0, 0],\n",
       "         [1, 1, 1,  ..., 0, 0, 0],\n",
       "         ...,\n",
       "         [1, 1, 1,  ..., 0, 0, 0],\n",
       "         [1, 1, 1,  ..., 0, 0, 0],\n",
       "         [1, 1, 1,  ..., 0, 0, 0]], device='cuda:0', dtype=torch.int32),\n",
       " 'target': tensor([2, 0, 3, 0, 1, 1, 1, 0, 0, 2, 1, 2, 0, 0, 2, 0, 3, 0, 1, 1, 3, 0, 0, 1,\n",
       "         1, 0, 0, 0, 0, 3, 0, 0, 1, 1, 2, 1, 1, 3, 3, 0, 0, 1, 1, 0, 0, 1, 1, 2,\n",
       "         1, 1, 3, 0, 0, 1, 1, 0, 0, 2, 3, 1, 1, 3, 1, 1, 0, 0, 1, 1, 2, 1, 1, 3,\n",
       "         0, 0, 1, 1, 0, 0, 3, 0, 0, 1, 1, 0, 0, 2, 3, 0, 0, 3, 1, 1, 0, 0, 1, 1,\n",
       "         0, 0, 3, 0, 0, 1, 1, 3, 0, 0, 1, 1, 1, 1, 0, 0, 3, 3, 1, 1, 3, 3, 0, 0,\n",
       "         1, 1, 2, 1, 1, 0, 0, 2], device='cuda:0')}"
      ]
     },
     "execution_count": 33,
     "metadata": {},
     "output_type": "execute_result"
    }
   ],
   "source": [
    "collate_fn(sample_batch)"
   ]
  },
  {
   "cell_type": "markdown",
   "id": "3eb67c53",
   "metadata": {},
   "source": [
    "## Utilities"
   ]
  },
  {
   "cell_type": "code",
   "execution_count": 103,
   "id": "9fbcc65a",
   "metadata": {},
   "outputs": [
    {
     "ename": "ImportError",
     "evalue": "cannot import name 'get_model_state_dict' from 'ray.train.torch' (/mnt/hpc/work/ngkuissi/Made-With-ML/venv/lib/python3.10/site-packages/ray/train/torch/__init__.py)",
     "output_type": "error",
     "traceback": [
      "\u001b[0;31m---------------------------------------------------------------------------\u001b[0m",
      "\u001b[0;31mImportError\u001b[0m                               Traceback (most recent call last)",
      "Cell \u001b[0;32mIn[103], line 3\u001b[0m\n\u001b[1;32m      1\u001b[0m \u001b[38;5;28;01mfrom\u001b[39;00m\u001b[38;5;250m \u001b[39m\u001b[38;5;21;01mray\u001b[39;00m\u001b[38;5;21;01m.\u001b[39;00m\u001b[38;5;21;01mair\u001b[39;00m\u001b[38;5;250m \u001b[39m\u001b[38;5;28;01mimport\u001b[39;00m session\n\u001b[1;32m      2\u001b[0m \u001b[38;5;28;01mfrom\u001b[39;00m\u001b[38;5;250m \u001b[39m\u001b[38;5;21;01mray\u001b[39;00m\u001b[38;5;21;01m.\u001b[39;00m\u001b[38;5;21;01mair\u001b[39;00m\u001b[38;5;21;01m.\u001b[39;00m\u001b[38;5;21;01mconfig\u001b[39;00m\u001b[38;5;250m \u001b[39m\u001b[38;5;28;01mimport\u001b[39;00m CheckpointConfig, DatasetConfig, RunConfig, ScalingConfig\n\u001b[0;32m----> 3\u001b[0m \u001b[38;5;28;01mfrom\u001b[39;00m\u001b[38;5;250m \u001b[39m\u001b[38;5;21;01mray\u001b[39;00m\u001b[38;5;21;01m.\u001b[39;00m\u001b[38;5;21;01mtrain\u001b[39;00m\u001b[38;5;21;01m.\u001b[39;00m\u001b[38;5;21;01mtorch\u001b[39;00m\u001b[38;5;250m \u001b[39m\u001b[38;5;28;01mimport\u001b[39;00m prepare_model, get_model_state_dict\n\u001b[1;32m      4\u001b[0m \u001b[38;5;28;01mfrom\u001b[39;00m\u001b[38;5;250m \u001b[39m\u001b[38;5;21;01mray\u001b[39;00m\u001b[38;5;21;01m.\u001b[39;00m\u001b[38;5;21;01mtrain\u001b[39;00m\u001b[38;5;21;01m.\u001b[39;00m\u001b[38;5;21;01mtorch\u001b[39;00m\u001b[38;5;250m \u001b[39m\u001b[38;5;28;01mimport\u001b[39;00m TorchCheckpoint, TorchTrainer\n\u001b[1;32m      5\u001b[0m \u001b[38;5;28;01mimport\u001b[39;00m\u001b[38;5;250m \u001b[39m\u001b[38;5;21;01mtorch\u001b[39;00m\u001b[38;5;21;01m.\u001b[39;00m\u001b[38;5;21;01mnn\u001b[39;00m\u001b[38;5;21;01m.\u001b[39;00m\u001b[38;5;21;01mfunctional\u001b[39;00m\u001b[38;5;250m \u001b[39m\u001b[38;5;28;01mas\u001b[39;00m\u001b[38;5;250m \u001b[39m\u001b[38;5;21;01mF\u001b[39;00m\n",
      "\u001b[0;31mImportError\u001b[0m: cannot import name 'get_model_state_dict' from 'ray.train.torch' (/mnt/hpc/work/ngkuissi/Made-With-ML/venv/lib/python3.10/site-packages/ray/train/torch/__init__.py)"
     ]
    }
   ],
   "source": [
    "from ray.air import session\n",
    "from ray.air.config import CheckpointConfig, DatasetConfig, RunConfig, ScalingConfig\n",
    "from ray.train.torch import prepare_model\n",
    "from ray.train.torch import TorchCheckpoint, TorchTrainer\n",
    "import torch.nn.functional as F"
   ]
  },
  {
   "cell_type": "code",
   "execution_count": 35,
   "id": "e03353ab",
   "metadata": {},
   "outputs": [],
   "source": [
    "def train_step(ds, model, batch_size, num_classes, loss_fn, optimizer):\n",
    "    model.train()\n",
    "    loss = 0.0\n",
    "    ds_generator = ds.iter_torch_batches(batch_size=batch_size, collate_fn=collate_fn)\n",
    "    for i, batch in enumerate(ds_generator):\n",
    "        optimizer.zero_grad()\n",
    "        z = model(batch)\n",
    "        targets = batch['target']\n",
    "        e_loss = loss_fn(z.view(-1, z.shape[-1]), targets)\n",
    "        e_loss.backward()\n",
    "        optimizer.step()\n",
    "        loss += (e_loss.detach().item() - loss) / (i + 1)\n",
    "    return loss"
   ]
  },
  {
   "cell_type": "code",
   "execution_count": 36,
   "id": "15acda71",
   "metadata": {},
   "outputs": [],
   "source": [
    "def eval_step(ds, batch_size, model, num_classes, loss_fn):\n",
    "    model.eval()\n",
    "    loss = 0.0\n",
    "    y_trues, y_preds = [], []\n",
    "    ds_generator = ds.iter_torch_batches(batch_size=batch_size, collate_fn=collate_fn)\n",
    "    \n",
    "    with torch.inference_mode():\n",
    "        for i, batch in enumerate(ds_generator):\n",
    "            z = model(batch)\n",
    "            targets = batch['target']\n",
    "            e_loss = loss_fn(z.view(-1, z.shape[-1]), targets).item()\n",
    "            loss += (e_loss - loss) / (i + 1)\n",
    "            y_trues.extend(batch['target'].cpu().numpy())\n",
    "            y_preds.extend(torch.argmax(z, dim=-1).cpu().numpy())\n",
    "            \n",
    "    return loss, np.vstack(y_trues), np.vstack(y_preds)\n",
    "            "
   ]
  },
  {
   "cell_type": "code",
   "execution_count": null,
   "id": "30978532",
   "metadata": {},
   "outputs": [],
   "source": [
    "def train_loop_per_worker(config):\n",
    "    dropout = config['dropout_p']\n",
    "    lr = config['lr']\n",
    "    lr_factor = config['lr_factor']\n",
    "    lr_patience = config['lr_patience']\n",
    "    num_epochs = config['num_epochs']\n",
    "    batch_size = config['batch_size']\n",
    "    num_classes = config['num_classes']\n",
    "    device = config['device']\n",
    "    \n",
    "    #set_seed()\n",
    "    train_ds = session.get_dataset_shard(\"train\")\n",
    "    val_ds = session.get_dataset_shard(\"val\")\n",
    "    \n",
    "    llm = BertModel.from_pretrained(\"allenai/scibert_scivocab_uncased\", return_dict=False).cuda()\n",
    "    model = FinetunnedLLM(llm, dropout, llm.config.hidden_size, num_classes)\n",
    "    model = prepare_model(model)\n",
    "    \n",
    "    loss_fn = nn.CrossEntropyLoss()\n",
    "    optimizer = torch.optim.Adam(model.parameters(), lr=lr)\n",
    "    scheduler = torch.optim.lr_scheduler.ReduceLROnPlateau(optimizer, mode=\"min\", factor=lr_factor, patience=lr_patience)\n",
    "    \n",
    "    batch_size_per_worker = batch_size // session.get_world_size()\n",
    "    for epoch in range(num_epochs):\n",
    "        train_loss = train_step(train_ds, model, batch_size_per_worker, num_classes, loss_fn, optimizer)\n",
    "        val_loss, _, _ = eval_step(val_ds, batch_size_per_worker, model, num_classes, loss_fn)\n",
    "        scheduler.step(val_loss)\n",
    "        \n",
    "        metrics = dict(epoch=epoch, lr=optimizer.param_groups[0][\"lr\"], train_loss=train_loss, val_loss=val_loss)\n",
    "        checkpoint = TorchCheckpoint.from_state_dict(model)\n",
    "        session.report(metrics, checkpoint=checkpoint)\n",
    "    "
   ]
  },
  {
   "cell_type": "code",
   "execution_count": 90,
   "id": "c0d3e304",
   "metadata": {},
   "outputs": [],
   "source": [
    "train_loop_config = {\n",
    "    \"dropout_p\": 0.5,\n",
    "    \"lr\": 1e-4,\n",
    "    \"lr_factor\": 0.8,\n",
    "    \"lr_patience\": 3,\n",
    "    \"num_epochs\": 10,\n",
    "    \"batch_size\": 128,\n",
    "    \"num_classes\": 4,\n",
    "    \"device\": device\n",
    "}"
   ]
  },
  {
   "cell_type": "code",
   "execution_count": 91,
   "id": "56a53bce",
   "metadata": {},
   "outputs": [],
   "source": [
    "num_workers = 1\n",
    "resources_per_worker = {\"CPU\": 10, \"GPU\": 1}"
   ]
  },
  {
   "cell_type": "code",
   "execution_count": 92,
   "id": "7786f31f",
   "metadata": {},
   "outputs": [],
   "source": [
    "from ray.train import ScalingConfig\n",
    "\n",
    "scaling_config = ScalingConfig(\n",
    "    num_workers=num_workers,\n",
    "    use_gpu=bool(resources_per_worker.get(\"GPU\", 0)),\n",
    "    resources_per_worker=resources_per_worker,\n",
    ")"
   ]
  },
  {
   "cell_type": "code",
   "execution_count": 93,
   "id": "6b7f6c13",
   "metadata": {},
   "outputs": [],
   "source": [
    "checkpoint_config = CheckpointConfig(num_to_keep=1, checkpoint_score_attribute=\"val_loss\", checkpoint_score_order=\"min\")"
   ]
  },
  {
   "cell_type": "code",
   "execution_count": 94,
   "id": "ef2db3e8",
   "metadata": {},
   "outputs": [],
   "source": [
    "run_config = RunConfig(name=\"llm\", storage_path=\"~/ray_results\", checkpoint_config=checkpoint_config)"
   ]
  },
  {
   "cell_type": "markdown",
   "id": "e0e43399",
   "metadata": {},
   "source": [
    "## Training"
   ]
  },
  {
   "cell_type": "code",
   "execution_count": 95,
   "id": "75966038",
   "metadata": {},
   "outputs": [],
   "source": [
    "ds = load_data()\n",
    "train_ds, val_ds = stratify_split(ds, stratify=\"tag\", test_size=test_size)"
   ]
  },
  {
   "cell_type": "code",
   "execution_count": 96,
   "id": "7dc29f65",
   "metadata": {},
   "outputs": [
    {
     "name": "stderr",
     "output_type": "stream",
     "text": [
      "2025-09-12 13:04:54,236\tINFO streaming_executor.py:108 -- Starting execution of Dataset. Full logs are in /tmp/ray/session_2025-09-12_12-16-55_178831_940183/logs/ray-data\n",
      "2025-09-12 13:04:54,236\tINFO streaming_executor.py:109 -- Execution plan of Dataset: InputDataBuffer[Input] -> TaskPoolMapOperator[ReadCSV] -> AllToAllOperator[RandomShuffle] -> AllToAllOperator[Sort] -> AllToAllOperator[MapBatches(_add_split)->MapBatches(_filter_split)->RandomShuffle] -> AllToAllOperator[Aggregate] -> LimitOperator[limit=1]\n"
     ]
    },
    {
     "data": {
      "application/vnd.jupyter.widget-view+json": {
       "model_id": "06ce0c0fda8e4fe89d1602b01e3bb588",
       "version_major": 2,
       "version_minor": 0
      },
      "text/plain": [
       "Running 0: 0.00 row [00:00, ? row/s]"
      ]
     },
     "metadata": {},
     "output_type": "display_data"
    },
    {
     "data": {
      "application/vnd.jupyter.widget-view+json": {
       "model_id": "8402810958044cc1bce849c0e6adee69",
       "version_major": 2,
       "version_minor": 0
      },
      "text/plain": [
       "- ReadCSV->SplitBlocks(192) 1: 0.00 row [00:00, ? row/s]"
      ]
     },
     "metadata": {},
     "output_type": "display_data"
    },
    {
     "data": {
      "application/vnd.jupyter.widget-view+json": {
       "model_id": "47b2ee35ba574f6db747e3a934194a0c",
       "version_major": 2,
       "version_minor": 0
      },
      "text/plain": [
       "- RandomShuffle 2: 0.00 row [00:00, ? row/s]"
      ]
     },
     "metadata": {},
     "output_type": "display_data"
    },
    {
     "data": {
      "application/vnd.jupyter.widget-view+json": {
       "model_id": "7a46390d4bea4e39b4653db4011fc684",
       "version_major": 2,
       "version_minor": 0
      },
      "text/plain": [
       "Shuffle Map 3:   0%|                                                                                          …"
      ]
     },
     "metadata": {},
     "output_type": "display_data"
    },
    {
     "data": {
      "application/vnd.jupyter.widget-view+json": {
       "model_id": "60ae71f45bc548c187ab8693344e80d0",
       "version_major": 2,
       "version_minor": 0
      },
      "text/plain": [
       "Shuffle Reduce 4:   0%|                                                                                       …"
      ]
     },
     "metadata": {},
     "output_type": "display_data"
    },
    {
     "data": {
      "application/vnd.jupyter.widget-view+json": {
       "model_id": "20cc7bb4dfa14882bde51da41b22d37a",
       "version_major": 2,
       "version_minor": 0
      },
      "text/plain": [
       "- Sort 5: 0.00 row [00:00, ? row/s]"
      ]
     },
     "metadata": {},
     "output_type": "display_data"
    },
    {
     "data": {
      "application/vnd.jupyter.widget-view+json": {
       "model_id": "a4926e3924ea4b31b546f3e51e7e8fa5",
       "version_major": 2,
       "version_minor": 0
      },
      "text/plain": [
       "Sort Sample 6:   0%|                                                                                          …"
      ]
     },
     "metadata": {},
     "output_type": "display_data"
    },
    {
     "data": {
      "application/vnd.jupyter.widget-view+json": {
       "model_id": "26d1054bb75746ea92715ce45c201932",
       "version_major": 2,
       "version_minor": 0
      },
      "text/plain": [
       "Shuffle Map 7:   0%|                                                                                          …"
      ]
     },
     "metadata": {},
     "output_type": "display_data"
    },
    {
     "data": {
      "application/vnd.jupyter.widget-view+json": {
       "model_id": "4b4cd50e94644aceaab96b9339841e83",
       "version_major": 2,
       "version_minor": 0
      },
      "text/plain": [
       "Shuffle Reduce 8:   0%|                                                                                       …"
      ]
     },
     "metadata": {},
     "output_type": "display_data"
    },
    {
     "data": {
      "application/vnd.jupyter.widget-view+json": {
       "model_id": "8fa39132898f47839bdb6adced9899af",
       "version_major": 2,
       "version_minor": 0
      },
      "text/plain": [
       "- MapBatches(_add_split)->MapBatches(_filter_split)->RandomShuffle 9: 0.00 row [00:00, ? row/s]"
      ]
     },
     "metadata": {},
     "output_type": "display_data"
    },
    {
     "data": {
      "application/vnd.jupyter.widget-view+json": {
       "model_id": "b43e17db0ea34b4e8cb18262c198158b",
       "version_major": 2,
       "version_minor": 0
      },
      "text/plain": [
       "Shuffle Map 10:   0%|                                                                                         …"
      ]
     },
     "metadata": {},
     "output_type": "display_data"
    },
    {
     "data": {
      "application/vnd.jupyter.widget-view+json": {
       "model_id": "33502714adb847c599e387e4981b9df7",
       "version_major": 2,
       "version_minor": 0
      },
      "text/plain": [
       "Shuffle Reduce 11:   0%|                                                                                      …"
      ]
     },
     "metadata": {},
     "output_type": "display_data"
    },
    {
     "data": {
      "application/vnd.jupyter.widget-view+json": {
       "model_id": "2bc39fc9acae4f6cbd89914e297ae153",
       "version_major": 2,
       "version_minor": 0
      },
      "text/plain": [
       "- Aggregate 12: 0.00 row [00:00, ? row/s]"
      ]
     },
     "metadata": {},
     "output_type": "display_data"
    },
    {
     "data": {
      "application/vnd.jupyter.widget-view+json": {
       "model_id": "f15deac6052a4449a3e6d314828a3adf",
       "version_major": 2,
       "version_minor": 0
      },
      "text/plain": [
       "Sort Sample 13:   0%|                                                                                         …"
      ]
     },
     "metadata": {},
     "output_type": "display_data"
    },
    {
     "data": {
      "application/vnd.jupyter.widget-view+json": {
       "model_id": "130615a164204cf9b0ead2d11ce42e83",
       "version_major": 2,
       "version_minor": 0
      },
      "text/plain": [
       "Shuffle Map 14:   0%|                                                                                         …"
      ]
     },
     "metadata": {},
     "output_type": "display_data"
    },
    {
     "data": {
      "application/vnd.jupyter.widget-view+json": {
       "model_id": "f15b946e8e774dd0a4948b608a539ddd",
       "version_major": 2,
       "version_minor": 0
      },
      "text/plain": [
       "Shuffle Reduce 15:   0%|                                                                                      …"
      ]
     },
     "metadata": {},
     "output_type": "display_data"
    },
    {
     "data": {
      "application/vnd.jupyter.widget-view+json": {
       "model_id": "0b6ed636d51a4d7f97c551da53fe4870",
       "version_major": 2,
       "version_minor": 0
      },
      "text/plain": [
       "- limit=1 16: 0.00 row [00:00, ? row/s]"
      ]
     },
     "metadata": {},
     "output_type": "display_data"
    }
   ],
   "source": [
    "preprocessor = CustomPreprocessor()\n",
    "train_ds = preprocessor.fit_transform(train_ds)\n",
    "val_ds = preprocessor.transform(val_ds)"
   ]
  },
  {
   "cell_type": "code",
   "execution_count": 97,
   "id": "067ce3cd",
   "metadata": {},
   "outputs": [
    {
     "name": "stderr",
     "output_type": "stream",
     "text": [
      "2025-09-12 13:05:06,920\tINFO streaming_executor.py:108 -- Starting execution of Dataset. Full logs are in /tmp/ray/session_2025-09-12_12-16-55_178831_940183/logs/ray-data\n",
      "2025-09-12 13:05:06,921\tINFO streaming_executor.py:109 -- Execution plan of Dataset: InputDataBuffer[Input] -> TaskPoolMapOperator[ReadCSV] -> AllToAllOperator[RandomShuffle] -> AllToAllOperator[Sort] -> AllToAllOperator[MapBatches(_add_split)->MapBatches(_filter_split)->RandomShuffle] -> TaskPoolMapOperator[CustomPreprocessor]\n"
     ]
    },
    {
     "data": {
      "application/vnd.jupyter.widget-view+json": {
       "model_id": "68d8ec00ebe449bcbaaf68465eded916",
       "version_major": 2,
       "version_minor": 0
      },
      "text/plain": [
       "Running 0: 0.00 row [00:00, ? row/s]"
      ]
     },
     "metadata": {},
     "output_type": "display_data"
    },
    {
     "data": {
      "application/vnd.jupyter.widget-view+json": {
       "model_id": "77136c79a9954b1781171ff4f6fca7e6",
       "version_major": 2,
       "version_minor": 0
      },
      "text/plain": [
       "- ReadCSV->SplitBlocks(192) 1: 0.00 row [00:00, ? row/s]"
      ]
     },
     "metadata": {},
     "output_type": "display_data"
    },
    {
     "data": {
      "application/vnd.jupyter.widget-view+json": {
       "model_id": "45ba1e150e4b4c109ef51692c941b75e",
       "version_major": 2,
       "version_minor": 0
      },
      "text/plain": [
       "- RandomShuffle 2: 0.00 row [00:00, ? row/s]"
      ]
     },
     "metadata": {},
     "output_type": "display_data"
    },
    {
     "data": {
      "application/vnd.jupyter.widget-view+json": {
       "model_id": "2ba4eb2e04074bb1b0b42a07590c5f5d",
       "version_major": 2,
       "version_minor": 0
      },
      "text/plain": [
       "Shuffle Map 3:   0%|                                                                                          …"
      ]
     },
     "metadata": {},
     "output_type": "display_data"
    },
    {
     "data": {
      "application/vnd.jupyter.widget-view+json": {
       "model_id": "096ee6a943b3420183f5c5f949d87282",
       "version_major": 2,
       "version_minor": 0
      },
      "text/plain": [
       "Shuffle Reduce 4:   0%|                                                                                       …"
      ]
     },
     "metadata": {},
     "output_type": "display_data"
    },
    {
     "data": {
      "application/vnd.jupyter.widget-view+json": {
       "model_id": "c68c116a4e4c49bc830be880b55513ab",
       "version_major": 2,
       "version_minor": 0
      },
      "text/plain": [
       "- Sort 5: 0.00 row [00:00, ? row/s]"
      ]
     },
     "metadata": {},
     "output_type": "display_data"
    },
    {
     "data": {
      "application/vnd.jupyter.widget-view+json": {
       "model_id": "4dc0c7a917534dccb91e313941542911",
       "version_major": 2,
       "version_minor": 0
      },
      "text/plain": [
       "Sort Sample 6:   0%|                                                                                          …"
      ]
     },
     "metadata": {},
     "output_type": "display_data"
    },
    {
     "data": {
      "application/vnd.jupyter.widget-view+json": {
       "model_id": "ca0b29bc89a64c808bd5c9352790bc46",
       "version_major": 2,
       "version_minor": 0
      },
      "text/plain": [
       "Shuffle Map 7:   0%|                                                                                          …"
      ]
     },
     "metadata": {},
     "output_type": "display_data"
    },
    {
     "data": {
      "application/vnd.jupyter.widget-view+json": {
       "model_id": "a8875406406c4bee987da41c0e5824e0",
       "version_major": 2,
       "version_minor": 0
      },
      "text/plain": [
       "Shuffle Reduce 8:   0%|                                                                                       …"
      ]
     },
     "metadata": {},
     "output_type": "display_data"
    },
    {
     "data": {
      "application/vnd.jupyter.widget-view+json": {
       "model_id": "145d7cb5394a4c4f8510d3ae76ca4fc7",
       "version_major": 2,
       "version_minor": 0
      },
      "text/plain": [
       "- MapBatches(_add_split)->MapBatches(_filter_split)->RandomShuffle 9: 0.00 row [00:00, ? row/s]"
      ]
     },
     "metadata": {},
     "output_type": "display_data"
    },
    {
     "data": {
      "application/vnd.jupyter.widget-view+json": {
       "model_id": "e00fe42785ac4672aa7ba77b254f98f4",
       "version_major": 2,
       "version_minor": 0
      },
      "text/plain": [
       "Shuffle Map 10:   0%|                                                                                         …"
      ]
     },
     "metadata": {},
     "output_type": "display_data"
    },
    {
     "data": {
      "application/vnd.jupyter.widget-view+json": {
       "model_id": "bd829a602b354d678e157763e106f557",
       "version_major": 2,
       "version_minor": 0
      },
      "text/plain": [
       "Shuffle Reduce 11:   0%|                                                                                      …"
      ]
     },
     "metadata": {},
     "output_type": "display_data"
    },
    {
     "data": {
      "application/vnd.jupyter.widget-view+json": {
       "model_id": "9157fd348aac41f784692c5c1dff37c8",
       "version_major": 2,
       "version_minor": 0
      },
      "text/plain": [
       "- CustomPreprocessor 12: 0.00 row [00:00, ? row/s]"
      ]
     },
     "metadata": {},
     "output_type": "display_data"
    },
    {
     "name": "stderr",
     "output_type": "stream",
     "text": [
      "2025-09-12 13:05:13,690\tINFO streaming_executor.py:108 -- Starting execution of Dataset. Full logs are in /tmp/ray/session_2025-09-12_12-16-55_178831_940183/logs/ray-data\n",
      "2025-09-12 13:05:13,691\tINFO streaming_executor.py:109 -- Execution plan of Dataset: InputDataBuffer[Input] -> TaskPoolMapOperator[ReadCSV] -> AllToAllOperator[RandomShuffle] -> AllToAllOperator[Sort] -> AllToAllOperator[MapBatches(_add_split)->MapBatches(_filter_split)->RandomShuffle] -> TaskPoolMapOperator[CustomPreprocessor]\n"
     ]
    },
    {
     "data": {
      "application/vnd.jupyter.widget-view+json": {
       "model_id": "831ca1a7ee1e47eb82bcb72dbccf65b8",
       "version_major": 2,
       "version_minor": 0
      },
      "text/plain": [
       "Running 0: 0.00 row [00:00, ? row/s]"
      ]
     },
     "metadata": {},
     "output_type": "display_data"
    },
    {
     "data": {
      "application/vnd.jupyter.widget-view+json": {
       "model_id": "5f31e96126dd455ab0063b159a6c57eb",
       "version_major": 2,
       "version_minor": 0
      },
      "text/plain": [
       "- ReadCSV->SplitBlocks(192) 1: 0.00 row [00:00, ? row/s]"
      ]
     },
     "metadata": {},
     "output_type": "display_data"
    },
    {
     "data": {
      "application/vnd.jupyter.widget-view+json": {
       "model_id": "44b140bcc3124b74b5cdd5d1b4e7cfb3",
       "version_major": 2,
       "version_minor": 0
      },
      "text/plain": [
       "- RandomShuffle 2: 0.00 row [00:00, ? row/s]"
      ]
     },
     "metadata": {},
     "output_type": "display_data"
    },
    {
     "data": {
      "application/vnd.jupyter.widget-view+json": {
       "model_id": "e391962c6d2f452492d344bf1d4d2ac0",
       "version_major": 2,
       "version_minor": 0
      },
      "text/plain": [
       "Shuffle Map 3:   0%|                                                                                          …"
      ]
     },
     "metadata": {},
     "output_type": "display_data"
    },
    {
     "data": {
      "application/vnd.jupyter.widget-view+json": {
       "model_id": "2b03a0d72bb94db5aad8089d287bc5e5",
       "version_major": 2,
       "version_minor": 0
      },
      "text/plain": [
       "Shuffle Reduce 4:   0%|                                                                                       …"
      ]
     },
     "metadata": {},
     "output_type": "display_data"
    },
    {
     "data": {
      "application/vnd.jupyter.widget-view+json": {
       "model_id": "db18cc8b29b34b74bdf61d82f66dc8d8",
       "version_major": 2,
       "version_minor": 0
      },
      "text/plain": [
       "- Sort 5: 0.00 row [00:00, ? row/s]"
      ]
     },
     "metadata": {},
     "output_type": "display_data"
    },
    {
     "data": {
      "application/vnd.jupyter.widget-view+json": {
       "model_id": "fb2ae2376dc84ef7b871a3052f29c00d",
       "version_major": 2,
       "version_minor": 0
      },
      "text/plain": [
       "Sort Sample 6:   0%|                                                                                          …"
      ]
     },
     "metadata": {},
     "output_type": "display_data"
    },
    {
     "data": {
      "application/vnd.jupyter.widget-view+json": {
       "model_id": "9985acfcdc9e449a9e3cb5beffe7f920",
       "version_major": 2,
       "version_minor": 0
      },
      "text/plain": [
       "Shuffle Map 7:   0%|                                                                                          …"
      ]
     },
     "metadata": {},
     "output_type": "display_data"
    },
    {
     "data": {
      "application/vnd.jupyter.widget-view+json": {
       "model_id": "07c8d6035f054e0db6b0f6268b5b43d3",
       "version_major": 2,
       "version_minor": 0
      },
      "text/plain": [
       "Shuffle Reduce 8:   0%|                                                                                       …"
      ]
     },
     "metadata": {},
     "output_type": "display_data"
    },
    {
     "data": {
      "application/vnd.jupyter.widget-view+json": {
       "model_id": "deb954df4c334149af1d1b629a355ea5",
       "version_major": 2,
       "version_minor": 0
      },
      "text/plain": [
       "- MapBatches(_add_split)->MapBatches(_filter_split)->RandomShuffle 9: 0.00 row [00:00, ? row/s]"
      ]
     },
     "metadata": {},
     "output_type": "display_data"
    },
    {
     "data": {
      "application/vnd.jupyter.widget-view+json": {
       "model_id": "ec056bb09c974d5d9dcd75856c78cdd5",
       "version_major": 2,
       "version_minor": 0
      },
      "text/plain": [
       "Shuffle Map 10:   0%|                                                                                         …"
      ]
     },
     "metadata": {},
     "output_type": "display_data"
    },
    {
     "data": {
      "application/vnd.jupyter.widget-view+json": {
       "model_id": "f5f8d3f4d98b431090fa7e9c0d029328",
       "version_major": 2,
       "version_minor": 0
      },
      "text/plain": [
       "Shuffle Reduce 11:   0%|                                                                                      …"
      ]
     },
     "metadata": {},
     "output_type": "display_data"
    },
    {
     "data": {
      "application/vnd.jupyter.widget-view+json": {
       "model_id": "d594b6fa686540afbfb4598bedb6ed2a",
       "version_major": 2,
       "version_minor": 0
      },
      "text/plain": [
       "- CustomPreprocessor 12: 0.00 row [00:00, ? row/s]"
      ]
     },
     "metadata": {},
     "output_type": "display_data"
    }
   ],
   "source": [
    "train_ds = train_ds.materialize()\n",
    "val_ds = val_ds.materialize()"
   ]
  },
  {
   "cell_type": "code",
   "execution_count": 98,
   "id": "fdffef6a",
   "metadata": {},
   "outputs": [],
   "source": [
    "from ray.train import DataConfig"
   ]
  },
  {
   "cell_type": "code",
   "execution_count": 99,
   "id": "83d291de",
   "metadata": {},
   "outputs": [],
   "source": [
    "dataset_config = DataConfig([\"train\", \"val\"])"
   ]
  },
  {
   "cell_type": "code",
   "execution_count": 100,
   "id": "df11a869",
   "metadata": {},
   "outputs": [],
   "source": [
    "trainer = TorchTrainer(\n",
    "    train_loop_per_worker=train_loop_per_worker,\n",
    "    train_loop_config=train_loop_config,\n",
    "    scaling_config=scaling_config,\n",
    "    run_config= run_config,\n",
    "    datasets= {\"train\": train_ds, \"val\": val_ds},\n",
    "    dataset_config=dataset_config,\n",
    "    #preprocessor=preprocessor   \n",
    ")"
   ]
  },
  {
   "cell_type": "code",
   "execution_count": 101,
   "id": "0e34d12c",
   "metadata": {},
   "outputs": [
    {
     "name": "stderr",
     "output_type": "stream",
     "text": [
      "2025-09-12 13:05:21,170\tINFO tune.py:616 -- [output] This uses the legacy output and progress reporter, as Jupyter notebooks are not supported by the new engine, yet. For more information, please see https://github.com/ray-project/ray/issues/36949\n"
     ]
    },
    {
     "name": "stdout",
     "output_type": "stream",
     "text": [
      "== Status ==\n",
      "Current time: 2025-09-12 13:05:21 (running for 00:00:00.11)\n",
      "Using FIFO scheduling algorithm.\n",
      "Logical resource usage: 11.0/96 CPUs, 1.0/1 GPUs (0.0/1.0 accelerator_type:RTX)\n",
      "Result logdir: /tmp/ray/session_2025-09-12_12-16-55_178831_940183/artifacts/2025-09-12_13-05-21/llm/driver_artifacts\n",
      "Number of trials: 1/1 (1 PENDING)\n",
      "\n",
      "\n",
      "== Status ==\n",
      "Current time: 2025-09-12 13:05:26 (running for 00:00:05.12)\n",
      "Using FIFO scheduling algorithm.\n",
      "Logical resource usage: 11.0/96 CPUs, 1.0/1 GPUs (0.0/1.0 accelerator_type:RTX)\n",
      "Result logdir: /tmp/ray/session_2025-09-12_12-16-55_178831_940183/artifacts/2025-09-12_13-05-21/llm/driver_artifacts\n",
      "Number of trials: 1/1 (1 PENDING)\n",
      "\n",
      "\n",
      "== Status ==\n",
      "Current time: 2025-09-12 13:05:31 (running for 00:00:10.18)\n",
      "Using FIFO scheduling algorithm.\n",
      "Logical resource usage: 11.0/96 CPUs, 1.0/1 GPUs (0.0/1.0 accelerator_type:RTX)\n",
      "Result logdir: /tmp/ray/session_2025-09-12_12-16-55_178831_940183/artifacts/2025-09-12_13-05-21/llm/driver_artifacts\n",
      "Number of trials: 1/1 (1 RUNNING)\n",
      "\n",
      "\n"
     ]
    },
    {
     "data": {
      "application/vnd.jupyter.widget-view+json": {
       "model_id": "7c583170864c479f9b96c5a381a1442e",
       "version_major": 2,
       "version_minor": 0
      },
      "text/plain": [
       "(pid=1006923) Running 0: 0.00 row [00:00, ? row/s]"
      ]
     },
     "metadata": {},
     "output_type": "display_data"
    },
    {
     "data": {
      "application/vnd.jupyter.widget-view+json": {
       "model_id": "4c426d1afb0a4df286eee88f1e925749",
       "version_major": 2,
       "version_minor": 0
      },
      "text/plain": [
       "(pid=1006923) - split(1, equal=True) 1: 0.00 row [00:00, ? row/s]"
      ]
     },
     "metadata": {},
     "output_type": "display_data"
    },
    {
     "name": "stdout",
     "output_type": "stream",
     "text": [
      "== Status ==\n",
      "Current time: 2025-09-12 13:05:36 (running for 00:00:15.20)\n",
      "Using FIFO scheduling algorithm.\n",
      "Logical resource usage: 11.0/96 CPUs, 1.0/1 GPUs (0.0/1.0 accelerator_type:RTX)\n",
      "Result logdir: /tmp/ray/session_2025-09-12_12-16-55_178831_940183/artifacts/2025-09-12_13-05-21/llm/driver_artifacts\n",
      "Number of trials: 1/1 (1 RUNNING)\n",
      "\n",
      "\n"
     ]
    },
    {
     "name": "stderr",
     "output_type": "stream",
     "text": [
      "2025-09-12 13:05:37,054\tERROR tune_controller.py:1331 -- Trial task failed for trial TorchTrainer_aa638_00000\n",
      "Traceback (most recent call last):\n",
      "  File \"/mnt/hpc/work/ngkuissi/Made-With-ML/venv/lib/python3.10/site-packages/ray/air/execution/_internal/event_manager.py\", line 110, in resolve_future\n",
      "    result = ray.get(future)\n",
      "  File \"/mnt/hpc/work/ngkuissi/Made-With-ML/venv/lib/python3.10/site-packages/ray/_private/auto_init_hook.py\", line 21, in auto_init_wrapper\n",
      "    return fn(*args, **kwargs)\n",
      "  File \"/mnt/hpc/work/ngkuissi/Made-With-ML/venv/lib/python3.10/site-packages/ray/_private/client_mode_hook.py\", line 103, in wrapper\n",
      "    return func(*args, **kwargs)\n",
      "  File \"/mnt/hpc/work/ngkuissi/Made-With-ML/venv/lib/python3.10/site-packages/ray/_private/worker.py\", line 2782, in get\n",
      "    values, debugger_breakpoint = worker.get_objects(object_refs, timeout=timeout)\n",
      "  File \"/mnt/hpc/work/ngkuissi/Made-With-ML/venv/lib/python3.10/site-packages/ray/_private/worker.py\", line 929, in get_objects\n",
      "    raise value.as_instanceof_cause()\n",
      "ray.exceptions.RayTaskError(RuntimeError): \u001b[36mray::_Inner.train()\u001b[39m (pid=1006349, ip=172.27.14.77, actor_id=d98f22b6e5028c80a2070c7f01000000, repr=TorchTrainer)\n",
      "  File \"/mnt/hpc/work/ngkuissi/Made-With-ML/venv/lib/python3.10/site-packages/ray/tune/trainable/trainable.py\", line 330, in train\n",
      "    raise skipped from exception_cause(skipped)\n",
      "  File \"/mnt/hpc/work/ngkuissi/Made-With-ML/venv/lib/python3.10/site-packages/ray/train/_internal/utils.py\", line 57, in check_for_failure\n",
      "    ray.get(object_ref)\n",
      "ray.exceptions.RayTaskError(RuntimeError): \u001b[36mray::_RayTrainWorker__execute.get_next()\u001b[39m (pid=1006513, ip=172.27.14.77, actor_id=6123922444b94b0cc506ddef01000000, repr=<ray.train._internal.worker_group.RayTrainWorker object at 0x7f624286ce20>)\n",
      "  File \"/mnt/hpc/work/ngkuissi/Made-With-ML/venv/lib/python3.10/site-packages/ray/train/_internal/worker_group.py\", line 33, in __execute\n",
      "    raise skipped from exception_cause(skipped)\n",
      "  File \"/mnt/hpc/work/ngkuissi/Made-With-ML/venv/lib/python3.10/site-packages/ray/train/_internal/utils.py\", line 176, in discard_return_wrapper\n",
      "    train_func(*args, **kwargs)\n",
      "  File \"/tmp/ipykernel_940183/1706363213.py\", line 25, in train_loop_per_worker\n",
      "  File \"/tmp/ipykernel_940183/2184749869.py\", line 7, in train_step\n",
      "  File \"/mnt/hpc/work/ngkuissi/Made-With-ML/venv/lib/python3.10/site-packages/torch/nn/modules/module.py\", line 1501, in _call_impl\n",
      "    return forward_call(*args, **kwargs)\n",
      "  File \"/tmp/ipykernel_940183/2985851235.py\", line 13, in forward\n",
      "  File \"/mnt/hpc/work/ngkuissi/Made-With-ML/venv/lib/python3.10/site-packages/torch/nn/modules/module.py\", line 1501, in _call_impl\n",
      "    return forward_call(*args, **kwargs)\n",
      "  File \"/mnt/hpc/work/ngkuissi/Made-With-ML/venv/lib/python3.10/site-packages/torch/nn/modules/linear.py\", line 114, in forward\n",
      "    return F.linear(input, self.weight, self.bias)\n",
      "RuntimeError: Expected all tensors to be on the same device, but found at least two devices, cpu and cuda:0! (when checking argument for argument mat1 in method wrapper_CUDA_addmm)\n",
      "2025-09-12 13:05:37,066\tINFO tune.py:1009 -- Wrote the latest version of all result files and experiment state to '/work/ngkuissi/ray_results/llm' in 0.0095s.\n",
      "2025-09-12 13:05:37,068\tERROR tune.py:1037 -- Trials did not complete: [TorchTrainer_aa638_00000]\n",
      "2025-09-12 13:05:37,069\tINFO tune.py:1041 -- Total run time: 15.90 seconds (15.88 seconds for the tuning loop).\n"
     ]
    },
    {
     "name": "stdout",
     "output_type": "stream",
     "text": [
      "== Status ==\n",
      "Current time: 2025-09-12 13:05:37 (running for 00:00:15.89)\n",
      "Using FIFO scheduling algorithm.\n",
      "Logical resource usage: 11.0/96 CPUs, 1.0/1 GPUs (0.0/1.0 accelerator_type:RTX)\n",
      "Result logdir: /tmp/ray/session_2025-09-12_12-16-55_178831_940183/artifacts/2025-09-12_13-05-21/llm/driver_artifacts\n",
      "Number of trials: 1/1 (1 ERROR)\n",
      "Number of errored trials: 1\n",
      "+--------------------------+--------------+----------------------------------------------------------------------------------------------------------------------------------------------------------------+\n",
      "| Trial name               |   # failures | error file                                                                                                                                                     |\n",
      "|--------------------------+--------------+----------------------------------------------------------------------------------------------------------------------------------------------------------------|\n",
      "| TorchTrainer_aa638_00000 |            1 | /tmp/ray/session_2025-09-12_12-16-55_178831_940183/artifacts/2025-09-12_13-05-21/llm/driver_artifacts/TorchTrainer_aa638_00000_0_2025-09-12_13-05-21/error.txt |\n",
      "+--------------------------+--------------+----------------------------------------------------------------------------------------------------------------------------------------------------------------+\n",
      "\n"
     ]
    },
    {
     "ename": "TrainingFailedError",
     "evalue": "The Ray Train run failed. Please inspect the previous error messages for a cause. After fixing the issue (assuming that the error is not caused by your own application logic, but rather an error such as OOM), you can restart the run from scratch or continue this run.\nTo continue this run, you can use: `trainer = TorchTrainer.restore(\"/work/ngkuissi/ray_results/llm\")`.\nTo start a new run that will retry on training failures, set `train.RunConfig(failure_config=train.FailureConfig(max_failures))` in the Trainer's `run_config` with `max_failures > 0`, or `max_failures = -1` for unlimited retries.",
     "output_type": "error",
     "traceback": [
      "\u001b[0;31m---------------------------------------------------------------------------\u001b[0m",
      "\u001b[0;31mRayTaskError(RuntimeError)\u001b[0m                Traceback (most recent call last)",
      "\u001b[0;31mRayTaskError(RuntimeError)\u001b[0m: \u001b[36mray::_Inner.train()\u001b[39m (pid=1006349, ip=172.27.14.77, actor_id=d98f22b6e5028c80a2070c7f01000000, repr=TorchTrainer)\n  File \"/mnt/hpc/work/ngkuissi/Made-With-ML/venv/lib/python3.10/site-packages/ray/tune/trainable/trainable.py\", line 330, in train\n    raise skipped from exception_cause(skipped)\n  File \"/mnt/hpc/work/ngkuissi/Made-With-ML/venv/lib/python3.10/site-packages/ray/train/_internal/utils.py\", line 57, in check_for_failure\n    ray.get(object_ref)\nray.exceptions.RayTaskError(RuntimeError): \u001b[36mray::_RayTrainWorker__execute.get_next()\u001b[39m (pid=1006513, ip=172.27.14.77, actor_id=6123922444b94b0cc506ddef01000000, repr=<ray.train._internal.worker_group.RayTrainWorker object at 0x7f624286ce20>)\n  File \"/mnt/hpc/work/ngkuissi/Made-With-ML/venv/lib/python3.10/site-packages/ray/train/_internal/worker_group.py\", line 33, in __execute\n    raise skipped from exception_cause(skipped)\n  File \"/mnt/hpc/work/ngkuissi/Made-With-ML/venv/lib/python3.10/site-packages/ray/train/_internal/utils.py\", line 176, in discard_return_wrapper\n    train_func(*args, **kwargs)\n  File \"/tmp/ipykernel_940183/1706363213.py\", line 25, in train_loop_per_worker\n  File \"/tmp/ipykernel_940183/2184749869.py\", line 7, in train_step\n  File \"/mnt/hpc/work/ngkuissi/Made-With-ML/venv/lib/python3.10/site-packages/torch/nn/modules/module.py\", line 1501, in _call_impl\n    return forward_call(*args, **kwargs)\n  File \"/tmp/ipykernel_940183/2985851235.py\", line 13, in forward\n  File \"/mnt/hpc/work/ngkuissi/Made-With-ML/venv/lib/python3.10/site-packages/torch/nn/modules/module.py\", line 1501, in _call_impl\n    return forward_call(*args, **kwargs)\n  File \"/mnt/hpc/work/ngkuissi/Made-With-ML/venv/lib/python3.10/site-packages/torch/nn/modules/linear.py\", line 114, in forward\n    return F.linear(input, self.weight, self.bias)\nRuntimeError: Expected all tensors to be on the same device, but found at least two devices, cpu and cuda:0! (when checking argument for argument mat1 in method wrapper_CUDA_addmm)",
      "\nThe above exception was the direct cause of the following exception:\n",
      "\u001b[0;31mTrainingFailedError\u001b[0m                       Traceback (most recent call last)",
      "Cell \u001b[0;32mIn[101], line 1\u001b[0m\n\u001b[0;32m----> 1\u001b[0m results \u001b[38;5;241m=\u001b[39m \u001b[43mtrainer\u001b[49m\u001b[38;5;241;43m.\u001b[39;49m\u001b[43mfit\u001b[49m\u001b[43m(\u001b[49m\u001b[43m)\u001b[49m\n",
      "File \u001b[0;32m/mnt/hpc/work/ngkuissi/Made-With-ML/venv/lib/python3.10/site-packages/ray/train/base_trainer.py:720\u001b[0m, in \u001b[0;36mBaseTrainer.fit\u001b[0;34m(self)\u001b[0m\n\u001b[1;32m    716\u001b[0m result \u001b[38;5;241m=\u001b[39m result_grid[\u001b[38;5;241m0\u001b[39m]\n\u001b[1;32m    717\u001b[0m \u001b[38;5;28;01mif\u001b[39;00m result\u001b[38;5;241m.\u001b[39merror:\n\u001b[1;32m    718\u001b[0m     \u001b[38;5;66;03m# Raise trainable errors to the user with a message to restore\u001b[39;00m\n\u001b[1;32m    719\u001b[0m     \u001b[38;5;66;03m# or configure `FailureConfig` in a new run.\u001b[39;00m\n\u001b[0;32m--> 720\u001b[0m     \u001b[38;5;28;01mraise\u001b[39;00m TrainingFailedError(\n\u001b[1;32m    721\u001b[0m         \u001b[38;5;124m\"\u001b[39m\u001b[38;5;130;01m\\n\u001b[39;00m\u001b[38;5;124m\"\u001b[39m\u001b[38;5;241m.\u001b[39mjoin([restore_msg, TrainingFailedError\u001b[38;5;241m.\u001b[39m_FAILURE_CONFIG_MSG])\n\u001b[1;32m    722\u001b[0m     ) \u001b[38;5;28;01mfrom\u001b[39;00m\u001b[38;5;250m \u001b[39m\u001b[38;5;21;01mresult\u001b[39;00m\u001b[38;5;21;01m.\u001b[39;00m\u001b[38;5;21;01merror\u001b[39;00m\n\u001b[1;32m    723\u001b[0m \u001b[38;5;28;01mreturn\u001b[39;00m result\n",
      "\u001b[0;31mTrainingFailedError\u001b[0m: The Ray Train run failed. Please inspect the previous error messages for a cause. After fixing the issue (assuming that the error is not caused by your own application logic, but rather an error such as OOM), you can restart the run from scratch or continue this run.\nTo continue this run, you can use: `trainer = TorchTrainer.restore(\"/work/ngkuissi/ray_results/llm\")`.\nTo start a new run that will retry on training failures, set `train.RunConfig(failure_config=train.FailureConfig(max_failures))` in the Trainer's `run_config` with `max_failures > 0`, or `max_failures = -1` for unlimited retries."
     ]
    }
   ],
   "source": [
    "results = trainer.fit()"
   ]
  },
  {
   "cell_type": "code",
   "execution_count": 50,
   "id": "46d0127b",
   "metadata": {},
   "outputs": [
    {
     "data": {
      "text/plain": [
       "Index(['message', 'timestamp', 'checkpoint_dir_name', 'done',\n",
       "       'training_iteration', 'trial_id', 'date', 'time_this_iter_s',\n",
       "       'time_total_s', 'pid', 'hostname', 'node_ip', 'time_since_restore',\n",
       "       'iterations_since_restore', 'config/train_loop_config/dropout_p',\n",
       "       'config/train_loop_config/lr', 'config/train_loop_config/lr_factor',\n",
       "       'config/train_loop_config/lr_patience',\n",
       "       'config/train_loop_config/num_epochs',\n",
       "       'config/train_loop_config/batch_size',\n",
       "       'config/train_loop_config/num_classes',\n",
       "       'config/train_loop_config/device', 'epoch', 'lr', 'train_loss',\n",
       "       'val_loss', 'should_checkpoint'],\n",
       "      dtype='object')"
      ]
     },
     "execution_count": 50,
     "metadata": {},
     "output_type": "execute_result"
    }
   ],
   "source": [
    "results.metrics_dataframe.columns"
   ]
  },
  {
   "cell_type": "code",
   "execution_count": 51,
   "id": "60180f01",
   "metadata": {},
   "outputs": [
    {
     "data": {
      "text/html": [
       "<div>\n",
       "<style scoped>\n",
       "    .dataframe tbody tr th:only-of-type {\n",
       "        vertical-align: middle;\n",
       "    }\n",
       "\n",
       "    .dataframe tbody tr th {\n",
       "        vertical-align: top;\n",
       "    }\n",
       "\n",
       "    .dataframe thead th {\n",
       "        text-align: right;\n",
       "    }\n",
       "</style>\n",
       "<table border=\"1\" class=\"dataframe\">\n",
       "  <thead>\n",
       "    <tr style=\"text-align: right;\">\n",
       "      <th></th>\n",
       "      <th>epoch</th>\n",
       "      <th>train_loss</th>\n",
       "      <th>val_loss</th>\n",
       "    </tr>\n",
       "  </thead>\n",
       "  <tbody>\n",
       "    <tr>\n",
       "      <th>0</th>\n",
       "      <td>NaN</td>\n",
       "      <td>NaN</td>\n",
       "      <td>NaN</td>\n",
       "    </tr>\n",
       "    <tr>\n",
       "      <th>1</th>\n",
       "      <td>0.0</td>\n",
       "      <td>1.278447</td>\n",
       "      <td>1.118461</td>\n",
       "    </tr>\n",
       "    <tr>\n",
       "      <th>2</th>\n",
       "      <td>1.0</td>\n",
       "      <td>1.014070</td>\n",
       "      <td>0.667756</td>\n",
       "    </tr>\n",
       "    <tr>\n",
       "      <th>3</th>\n",
       "      <td>2.0</td>\n",
       "      <td>0.585977</td>\n",
       "      <td>0.613653</td>\n",
       "    </tr>\n",
       "    <tr>\n",
       "      <th>4</th>\n",
       "      <td>3.0</td>\n",
       "      <td>0.293521</td>\n",
       "      <td>0.533704</td>\n",
       "    </tr>\n",
       "    <tr>\n",
       "      <th>5</th>\n",
       "      <td>4.0</td>\n",
       "      <td>0.150316</td>\n",
       "      <td>0.473259</td>\n",
       "    </tr>\n",
       "    <tr>\n",
       "      <th>6</th>\n",
       "      <td>5.0</td>\n",
       "      <td>0.077945</td>\n",
       "      <td>0.524334</td>\n",
       "    </tr>\n",
       "    <tr>\n",
       "      <th>7</th>\n",
       "      <td>6.0</td>\n",
       "      <td>0.038293</td>\n",
       "      <td>0.579658</td>\n",
       "    </tr>\n",
       "    <tr>\n",
       "      <th>8</th>\n",
       "      <td>7.0</td>\n",
       "      <td>0.022495</td>\n",
       "      <td>0.582006</td>\n",
       "    </tr>\n",
       "    <tr>\n",
       "      <th>9</th>\n",
       "      <td>8.0</td>\n",
       "      <td>0.006200</td>\n",
       "      <td>0.551338</td>\n",
       "    </tr>\n",
       "    <tr>\n",
       "      <th>10</th>\n",
       "      <td>9.0</td>\n",
       "      <td>0.017417</td>\n",
       "      <td>0.592461</td>\n",
       "    </tr>\n",
       "  </tbody>\n",
       "</table>\n",
       "</div>"
      ],
      "text/plain": [
       "    epoch  train_loss  val_loss\n",
       "0     NaN         NaN       NaN\n",
       "1     0.0    1.278447  1.118461\n",
       "2     1.0    1.014070  0.667756\n",
       "3     2.0    0.585977  0.613653\n",
       "4     3.0    0.293521  0.533704\n",
       "5     4.0    0.150316  0.473259\n",
       "6     5.0    0.077945  0.524334\n",
       "7     6.0    0.038293  0.579658\n",
       "8     7.0    0.022495  0.582006\n",
       "9     8.0    0.006200  0.551338\n",
       "10    9.0    0.017417  0.592461"
      ]
     },
     "execution_count": 51,
     "metadata": {},
     "output_type": "execute_result"
    }
   ],
   "source": [
    "results.metrics_dataframe[['epoch', 'train_loss', 'val_loss']]"
   ]
  },
  {
   "cell_type": "code",
   "execution_count": 52,
   "id": "fca9217d",
   "metadata": {},
   "outputs": [
    {
     "data": {
      "text/plain": [
       "[(Checkpoint(filesystem=local, path=/work/ngkuissi/ray_results/llm/TorchTrainer_0e39d_00000_0_2025-09-12_12-32-21/checkpoint_000004),\n",
       "  {'epoch': 4,\n",
       "   'lr': 0.0001,\n",
       "   'train_loss': 0.15031552463769912,\n",
       "   'val_loss': 0.47325916588306427,\n",
       "   'timestamp': 1757694769,\n",
       "   'checkpoint_dir_name': 'checkpoint_000004',\n",
       "   'should_checkpoint': True,\n",
       "   'done': False,\n",
       "   'training_iteration': 6,\n",
       "   'trial_id': '0e39d_00000',\n",
       "   'date': '2025-09-12_12-32-49',\n",
       "   'time_this_iter_s': 2.6137330532073975,\n",
       "   'time_total_s': 22.434314727783203,\n",
       "   'pid': 964091,\n",
       "   'hostname': 'gpu-pt1-04',\n",
       "   'node_ip': '172.27.14.77',\n",
       "   'config': {'train_loop_config': {'dropout_p': 0.5,\n",
       "     'lr': 0.0001,\n",
       "     'lr_factor': 0.8,\n",
       "     'lr_patience': 3,\n",
       "     'num_epochs': 10,\n",
       "     'batch_size': 128,\n",
       "     'num_classes': 4,\n",
       "     'device': 'cuda'}},\n",
       "   'time_since_restore': 22.434314727783203,\n",
       "   'iterations_since_restore': 6})]"
      ]
     },
     "execution_count": 52,
     "metadata": {},
     "output_type": "execute_result"
    }
   ],
   "source": [
    "results.best_checkpoints"
   ]
  },
  {
   "cell_type": "code",
   "execution_count": 62,
   "id": "3677944f",
   "metadata": {},
   "outputs": [],
   "source": [
    "from ray.train.torch import TorchPredictor\n",
    "from sklearn.metrics import precision_recall_fscore_support"
   ]
  },
  {
   "cell_type": "code",
   "execution_count": 65,
   "id": "acd66754",
   "metadata": {},
   "outputs": [
    {
     "name": "stderr",
     "output_type": "stream",
     "text": [
      "/mnt/hpc/work/ngkuissi/Made-With-ML/venv/lib/python3.10/site-packages/huggingface_hub/file_download.py:945: FutureWarning: `resume_download` is deprecated and will be removed in version 1.0.0. Downloads always resume when possible. If you want to force a new download, use `force_download=True`.\n",
      "  warnings.warn(\n",
      "Some weights of the model checkpoint at allenai/scibert_scivocab_uncased were not used when initializing BertModel: ['cls.predictions.bias', 'cls.predictions.transform.LayerNorm.bias', 'cls.predictions.transform.LayerNorm.weight', 'cls.seq_relationship.weight', 'cls.predictions.decoder.bias', 'cls.predictions.decoder.weight', 'cls.seq_relationship.bias', 'cls.predictions.transform.dense.weight', 'cls.predictions.transform.dense.bias']\n",
      "- This IS expected if you are initializing BertModel from the checkpoint of a model trained on another task or with another architecture (e.g. initializing a BertForSequenceClassification model from a BertForPreTraining model).\n",
      "- This IS NOT expected if you are initializing BertModel from the checkpoint of a model that you expect to be exactly identical (initializing a BertForSequenceClassification model from a BertForSequenceClassification model).\n"
     ]
    }
   ],
   "source": [
    "llm = BertModel.from_pretrained(\"allenai/scibert_scivocab_uncased\", return_dict=False).cuda()\n",
    "model = FinetunnedLLM(llm, 0.5, llm.config.hidden_size, 4)"
   ]
  },
  {
   "cell_type": "code",
   "execution_count": 130,
   "id": "14c95f42",
   "metadata": {},
   "outputs": [
    {
     "data": {
      "text/plain": [
       "[(Checkpoint(filesystem=local, path=/work/ngkuissi/ray_results/llm/TorchTrainer_0e39d_00000_0_2025-09-12_12-32-21/checkpoint_000004),\n",
       "  {'epoch': 4,\n",
       "   'lr': 0.0001,\n",
       "   'train_loss': 0.15031552463769912,\n",
       "   'val_loss': 0.47325916588306427,\n",
       "   'timestamp': 1757694769,\n",
       "   'checkpoint_dir_name': 'checkpoint_000004',\n",
       "   'should_checkpoint': True,\n",
       "   'done': False,\n",
       "   'training_iteration': 6,\n",
       "   'trial_id': '0e39d_00000',\n",
       "   'date': '2025-09-12_12-32-49',\n",
       "   'time_this_iter_s': 2.6137330532073975,\n",
       "   'time_total_s': 22.434314727783203,\n",
       "   'pid': 964091,\n",
       "   'hostname': 'gpu-pt1-04',\n",
       "   'node_ip': '172.27.14.77',\n",
       "   'config': {'train_loop_config': {'dropout_p': 0.5,\n",
       "     'lr': 0.0001,\n",
       "     'lr_factor': 0.8,\n",
       "     'lr_patience': 3,\n",
       "     'num_epochs': 10,\n",
       "     'batch_size': 128,\n",
       "     'num_classes': 4,\n",
       "     'device': 'cuda'}},\n",
       "   'time_since_restore': 22.434314727783203,\n",
       "   'iterations_since_restore': 6})]"
      ]
     },
     "execution_count": 130,
     "metadata": {},
     "output_type": "execute_result"
    }
   ],
   "source": [
    "results.best_checkpoints"
   ]
  },
  {
   "cell_type": "code",
   "execution_count": null,
   "id": "1deb9e8d",
   "metadata": {},
   "outputs": [],
   "source": [
    "best_checkpoint = results.best_checkpoints[0][0].path + \"/model.pt\"\n",
    "state_dict = torch.load(best_checkpoint)\n",
    "model.load_state_dict(state_dict)"
   ]
  },
  {
   "cell_type": "code",
   "execution_count": 136,
   "id": "f65b6855",
   "metadata": {},
   "outputs": [
    {
     "data": {
      "text/plain": [
       "FinetunnedLLM(\n",
       "  (llm): BertModel(\n",
       "    (embeddings): BertEmbeddings(\n",
       "      (word_embeddings): Embedding(31090, 768, padding_idx=0)\n",
       "      (position_embeddings): Embedding(512, 768)\n",
       "      (token_type_embeddings): Embedding(2, 768)\n",
       "      (LayerNorm): LayerNorm((768,), eps=1e-12, elementwise_affine=True)\n",
       "      (dropout): Dropout(p=0.1, inplace=False)\n",
       "    )\n",
       "    (encoder): BertEncoder(\n",
       "      (layer): ModuleList(\n",
       "        (0-11): 12 x BertLayer(\n",
       "          (attention): BertAttention(\n",
       "            (self): BertSelfAttention(\n",
       "              (query): Linear(in_features=768, out_features=768, bias=True)\n",
       "              (key): Linear(in_features=768, out_features=768, bias=True)\n",
       "              (value): Linear(in_features=768, out_features=768, bias=True)\n",
       "              (dropout): Dropout(p=0.1, inplace=False)\n",
       "            )\n",
       "            (output): BertSelfOutput(\n",
       "              (dense): Linear(in_features=768, out_features=768, bias=True)\n",
       "              (LayerNorm): LayerNorm((768,), eps=1e-12, elementwise_affine=True)\n",
       "              (dropout): Dropout(p=0.1, inplace=False)\n",
       "            )\n",
       "          )\n",
       "          (intermediate): BertIntermediate(\n",
       "            (dense): Linear(in_features=768, out_features=3072, bias=True)\n",
       "            (intermediate_act_fn): GELUActivation()\n",
       "          )\n",
       "          (output): BertOutput(\n",
       "            (dense): Linear(in_features=3072, out_features=768, bias=True)\n",
       "            (LayerNorm): LayerNorm((768,), eps=1e-12, elementwise_affine=True)\n",
       "            (dropout): Dropout(p=0.1, inplace=False)\n",
       "          )\n",
       "        )\n",
       "      )\n",
       "    )\n",
       "    (pooler): BertPooler(\n",
       "      (dense): Linear(in_features=768, out_features=768, bias=True)\n",
       "      (activation): Tanh()\n",
       "    )\n",
       "  )\n",
       "  (dropout): Dropout(p=0.5, inplace=False)\n",
       "  (classifier): Linear(in_features=768, out_features=4, bias=True)\n",
       ")"
      ]
     },
     "execution_count": 136,
     "metadata": {},
     "output_type": "execute_result"
    }
   ],
   "source": [
    "model"
   ]
  },
  {
   "cell_type": "code",
   "execution_count": 138,
   "id": "c6dcf42e",
   "metadata": {},
   "outputs": [],
   "source": [
    "HOLDOUT_LOC = \"https://raw.githubusercontent.com/GokuMohandas/Made-With-ML/main/datasets/holdout.csv\"\n",
    "test_ds = ray.data.read_csv(HOLDOUT_LOC)\n",
    "preprocessed_ds = preprocessor.transform(test_ds)"
   ]
  },
  {
   "cell_type": "code",
   "execution_count": 186,
   "id": "c9d3c6cd",
   "metadata": {},
   "outputs": [
    {
     "name": "stderr",
     "output_type": "stream",
     "text": [
      "2025-09-12 15:08:31,121\tINFO streaming_executor.py:108 -- Starting execution of Dataset. Full logs are in /tmp/ray/session_2025-09-12_12-16-55_178831_940183/logs/ray-data\n",
      "2025-09-12 15:08:31,122\tINFO streaming_executor.py:109 -- Execution plan of Dataset: InputDataBuffer[Input] -> TaskPoolMapOperator[ReadCSV] -> TaskPoolMapOperator[CustomPreprocessor->Project]\n"
     ]
    },
    {
     "data": {
      "application/vnd.jupyter.widget-view+json": {
       "model_id": "22c0625d5d0f4071a44d5e550317dff2",
       "version_major": 2,
       "version_minor": 0
      },
      "text/plain": [
       "Running 0: 0.00 row [00:00, ? row/s]"
      ]
     },
     "metadata": {},
     "output_type": "display_data"
    },
    {
     "data": {
      "application/vnd.jupyter.widget-view+json": {
       "model_id": "ebca65b1622948e69608bd87d4ff55fa",
       "version_major": 2,
       "version_minor": 0
      },
      "text/plain": [
       "- ReadCSV->SplitBlocks(192) 1: 0.00 row [00:00, ? row/s]"
      ]
     },
     "metadata": {},
     "output_type": "display_data"
    },
    {
     "data": {
      "application/vnd.jupyter.widget-view+json": {
       "model_id": "9ea130cb90f14af8b0cfc91b1688202a",
       "version_major": 2,
       "version_minor": 0
      },
      "text/plain": [
       "- CustomPreprocessor->Project 2: 0.00 row [00:00, ? row/s]"
      ]
     },
     "metadata": {},
     "output_type": "display_data"
    }
   ],
   "source": [
    "preprocessed_ds = preprocessor.transform(test_ds)\n",
    "values = preprocessed_ds.select_columns(cols=[\"target\"]).take_all()\n",
    "y_true = np.stack([item[\"target\"] for item in values])"
   ]
  },
  {
   "cell_type": "code",
   "execution_count": 187,
   "id": "2424fe0d",
   "metadata": {},
   "outputs": [
    {
     "data": {
      "text/plain": [
       "array([3, 3, 3, 0, 1, 0, 0, 0, 0, 1, 0, 0, 1, 3, 0, 0, 1, 1, 3, 1, 3, 0,\n",
       "       3, 1, 0, 1, 1, 2, 2, 1, 1, 1, 1, 1, 1, 0, 0, 0, 0, 0, 2, 2, 1, 0,\n",
       "       0, 3, 2, 1, 0, 1, 1, 3, 3, 0, 1, 3, 1, 3, 3, 3, 3, 0, 0, 0, 0, 1,\n",
       "       1, 0, 1, 2, 0, 1, 3, 0, 0, 1, 1, 1, 1, 1, 0, 0, 1, 0, 2, 0, 0, 0,\n",
       "       0, 3, 0, 0, 1, 0, 1, 1, 3, 1, 0, 1, 0, 1, 0, 3, 0, 0, 0, 0, 0, 1,\n",
       "       0, 0, 1, 1, 1, 1, 3, 0, 1, 0, 1, 0, 1, 3, 3, 3, 1, 0, 1, 1, 1, 1,\n",
       "       0, 1, 1, 1, 0, 2, 1, 1, 1, 1, 1, 2, 1, 0, 3, 0, 1, 1, 2, 2, 1, 0,\n",
       "       0, 0, 0, 0, 0, 1, 1, 1, 0, 1, 2, 2, 1, 0, 0, 2, 1, 3, 1, 1, 1, 0,\n",
       "       0, 1, 0, 1, 0, 3, 0, 1, 1, 0, 2, 1, 2, 1, 1])"
      ]
     },
     "execution_count": 187,
     "metadata": {},
     "output_type": "execute_result"
    }
   ],
   "source": [
    "y_true"
   ]
  },
  {
   "cell_type": "code",
   "execution_count": 161,
   "id": "5d8cce3e",
   "metadata": {},
   "outputs": [],
   "source": [
    "model = model.to(\"cuda\")"
   ]
  },
  {
   "cell_type": "code",
   "execution_count": 179,
   "id": "dbe17d15",
   "metadata": {},
   "outputs": [
    {
     "name": "stderr",
     "output_type": "stream",
     "text": [
      "2025-09-12 14:07:16,974\tINFO streaming_executor.py:108 -- Starting execution of Dataset. Full logs are in /tmp/ray/session_2025-09-12_12-16-55_178831_940183/logs/ray-data\n",
      "2025-09-12 14:07:16,974\tINFO streaming_executor.py:109 -- Execution plan of Dataset: InputDataBuffer[Input] -> TaskPoolMapOperator[ReadCSV] -> TaskPoolMapOperator[CustomPreprocessor]\n"
     ]
    },
    {
     "data": {
      "application/vnd.jupyter.widget-view+json": {
       "model_id": "9068fe9bccf245d49fdbda5d52b62820",
       "version_major": 2,
       "version_minor": 0
      },
      "text/plain": [
       "Running 0: 0.00 row [00:00, ? row/s]"
      ]
     },
     "metadata": {},
     "output_type": "display_data"
    },
    {
     "data": {
      "application/vnd.jupyter.widget-view+json": {
       "model_id": "e5a9e3ad9459435282db685b49f431a3",
       "version_major": 2,
       "version_minor": 0
      },
      "text/plain": [
       "- ReadCSV->SplitBlocks(192) 1: 0.00 row [00:00, ? row/s]"
      ]
     },
     "metadata": {},
     "output_type": "display_data"
    },
    {
     "data": {
      "application/vnd.jupyter.widget-view+json": {
       "model_id": "9f482c8dd51e46968d87acf07263168e",
       "version_major": 2,
       "version_minor": 0
      },
      "text/plain": [
       "- CustomPreprocessor 2: 0.00 row [00:00, ? row/s]"
      ]
     },
     "metadata": {},
     "output_type": "display_data"
    }
   ],
   "source": [
    "ds_generator = preprocessed_ds.iter_torch_batches(batch_size=128, collate_fn=collate_fn)\n",
    "y_pred = None\n",
    "model.eval()\n",
    "with torch.inference_mode():\n",
    "    for i, batch in enumerate(ds_generator):\n",
    "        z = model(batch)\n",
    "        if y_pred is not None:\n",
    "            y_pred = torch.concat([y_pred, torch.argmax(z, dim=-1)], dim=0)\n",
    "        else:\n",
    "            y_pred = torch.argmax(z, dim=-1)"
   ]
  },
  {
   "cell_type": "code",
   "execution_count": 180,
   "id": "cd221093",
   "metadata": {},
   "outputs": [],
   "source": [
    "y_pred = y_pred.cpu().numpy()"
   ]
  },
  {
   "cell_type": "code",
   "execution_count": 182,
   "id": "a2590066",
   "metadata": {},
   "outputs": [],
   "source": [
    "metrics = precision_recall_fscore_support(y_true, y_pred, average=\"weighted\")"
   ]
  },
  {
   "cell_type": "code",
   "execution_count": 184,
   "id": "ee5adb5a",
   "metadata": {},
   "outputs": [
    {
     "data": {
      "text/plain": [
       "{'precision': 0.9132518906340897,\n",
       " 'recall': 0.9057591623036649,\n",
       " 'f1': 0.9054612316063202}"
      ]
     },
     "execution_count": 184,
     "metadata": {},
     "output_type": "execute_result"
    }
   ],
   "source": [
    "{\"precision\": metrics[0], \"recall\": metrics[1], \"f1\": metrics[2]}"
   ]
  },
  {
   "cell_type": "code",
   "execution_count": 188,
   "id": "939ac9d3",
   "metadata": {},
   "outputs": [],
   "source": [
    "def evaluate(ds, model, preprocessor=preprocessor, device=\"cuda\"):\n",
    "    # y_true\n",
    "    preprocessed_ds = preprocessor.transform(ds)\n",
    "    values = preprocessed_ds.select_columns(cols=[\"target\"]).take_all()\n",
    "    y_true = np.stack([item[\"target\"] for item in values])\n",
    "    \n",
    "    # y_pred\n",
    "    model = model.to(device)\n",
    "    ds_generator = preprocessed_ds.iter_torch_batches(batch_size=128, collate_fn=lambda x: collate_fn(x, device=device))\n",
    "    y_pred = None\n",
    "    model.eval()\n",
    "    with torch.inference_mode():\n",
    "        for i, batch in enumerate(ds_generator):\n",
    "            z = model(batch)\n",
    "            if y_pred is not None:\n",
    "                y_pred = torch.concat([y_pred, torch.argmax(z, dim=-1)], dim=0)\n",
    "            else:\n",
    "                y_pred = torch.argmax(z, dim=-1)\n",
    "    \n",
    "    y_pred = y_pred.cpu().numpy()\n",
    "    metrics = precision_recall_fscore_support(y_true, y_pred, average=\"weighted\")\n",
    "    return {\"precision\": metrics[0], \"recall\": metrics[1], \"f1\": metrics[2]}"
   ]
  },
  {
   "cell_type": "code",
   "execution_count": 189,
   "id": "f66529c3",
   "metadata": {},
   "outputs": [
    {
     "name": "stderr",
     "output_type": "stream",
     "text": [
      "2025-09-12 15:11:04,379\tINFO streaming_executor.py:108 -- Starting execution of Dataset. Full logs are in /tmp/ray/session_2025-09-12_12-16-55_178831_940183/logs/ray-data\n",
      "2025-09-12 15:11:04,380\tINFO streaming_executor.py:109 -- Execution plan of Dataset: InputDataBuffer[Input] -> TaskPoolMapOperator[ReadCSV] -> TaskPoolMapOperator[CustomPreprocessor->Project]\n"
     ]
    },
    {
     "data": {
      "application/vnd.jupyter.widget-view+json": {
       "model_id": "3ce6822549db4f2ead53dd278de6f11c",
       "version_major": 2,
       "version_minor": 0
      },
      "text/plain": [
       "Running 0: 0.00 row [00:00, ? row/s]"
      ]
     },
     "metadata": {},
     "output_type": "display_data"
    },
    {
     "data": {
      "application/vnd.jupyter.widget-view+json": {
       "model_id": "689c8b570fab4abb9d9934c502f6c0a1",
       "version_major": 2,
       "version_minor": 0
      },
      "text/plain": [
       "- ReadCSV->SplitBlocks(192) 1: 0.00 row [00:00, ? row/s]"
      ]
     },
     "metadata": {},
     "output_type": "display_data"
    },
    {
     "data": {
      "application/vnd.jupyter.widget-view+json": {
       "model_id": "d5f6bbcdc6c94b35ac41276fca11d0ad",
       "version_major": 2,
       "version_minor": 0
      },
      "text/plain": [
       "- CustomPreprocessor->Project 2: 0.00 row [00:00, ? row/s]"
      ]
     },
     "metadata": {},
     "output_type": "display_data"
    },
    {
     "name": "stderr",
     "output_type": "stream",
     "text": [
      "2025-09-12 15:11:06,580\tINFO streaming_executor.py:108 -- Starting execution of Dataset. Full logs are in /tmp/ray/session_2025-09-12_12-16-55_178831_940183/logs/ray-data\n",
      "2025-09-12 15:11:06,581\tINFO streaming_executor.py:109 -- Execution plan of Dataset: InputDataBuffer[Input] -> TaskPoolMapOperator[ReadCSV] -> TaskPoolMapOperator[CustomPreprocessor]\n"
     ]
    },
    {
     "data": {
      "application/vnd.jupyter.widget-view+json": {
       "model_id": "060fb802a7f241c1a6f166071e2a14ac",
       "version_major": 2,
       "version_minor": 0
      },
      "text/plain": [
       "Running 0: 0.00 row [00:00, ? row/s]"
      ]
     },
     "metadata": {},
     "output_type": "display_data"
    },
    {
     "data": {
      "application/vnd.jupyter.widget-view+json": {
       "model_id": "cf4dc836c8a54cfebd98c56eb58a28b6",
       "version_major": 2,
       "version_minor": 0
      },
      "text/plain": [
       "- ReadCSV->SplitBlocks(192) 1: 0.00 row [00:00, ? row/s]"
      ]
     },
     "metadata": {},
     "output_type": "display_data"
    },
    {
     "data": {
      "application/vnd.jupyter.widget-view+json": {
       "model_id": "d4ce9b46ae984522babf7336677332bb",
       "version_major": 2,
       "version_minor": 0
      },
      "text/plain": [
       "- CustomPreprocessor 2: 0.00 row [00:00, ? row/s]"
      ]
     },
     "metadata": {},
     "output_type": "display_data"
    },
    {
     "data": {
      "text/plain": [
       "{'precision': 0.9132518906340897,\n",
       " 'recall': 0.9057591623036649,\n",
       " 'f1': 0.9054612316063202}"
      ]
     },
     "execution_count": 189,
     "metadata": {},
     "output_type": "execute_result"
    }
   ],
   "source": [
    "evaluate(test_ds, model)"
   ]
  },
  {
   "cell_type": "markdown",
   "id": "3848b15a",
   "metadata": {},
   "source": [
    "## Inference"
   ]
  },
  {
   "cell_type": "code",
   "execution_count": 195,
   "id": "dac1ec21",
   "metadata": {},
   "outputs": [],
   "source": [
    "import pandas as pd"
   ]
  },
  {
   "cell_type": "code",
   "execution_count": 190,
   "id": "6672fa17",
   "metadata": {},
   "outputs": [
    {
     "data": {
      "text/plain": [
       "{0: 'computer-vision',\n",
       " 1: 'natural-language-processing',\n",
       " 2: 'mlops',\n",
       " 3: 'other'}"
      ]
     },
     "execution_count": 190,
     "metadata": {},
     "output_type": "execute_result"
    }
   ],
   "source": [
    "preprocessor.index_to_class"
   ]
  },
  {
   "cell_type": "code",
   "execution_count": 192,
   "id": "10f3c6a9",
   "metadata": {},
   "outputs": [],
   "source": [
    "def format_prob(prob, index_to_class):\n",
    "    d = {}\n",
    "    for i, item in enumerate(prob):\n",
    "        d[index_to_class[i]] = item\n",
    "    return d"
   ]
  },
  {
   "cell_type": "code",
   "execution_count": 212,
   "id": "5909497d",
   "metadata": {},
   "outputs": [],
   "source": [
    "def predict_prob(df, model, preprocessor=preprocessor, device=\"cuda\"):\n",
    "    \n",
    "    processed = preprocessor._transform_pandas(df)\n",
    "    processed = collate_fn(processed, device)\n",
    "    model = model.to(device)\n",
    "    output = model(processed)\n",
    "    output = output.cpu().detach()\n",
    "    y_prob = output.softmax(dim=1).numpy()\n",
    "    \n",
    "    res = []\n",
    "    for i, prob in enumerate(y_prob):\n",
    "        tag = decode([prob.argmax()], preprocessor.index_to_class)[0]\n",
    "        res.append({\"prediction\": tag, \"probabilities\": format_prob(prob, preprocessor.index_to_class)})\n",
    "    return res\n",
    "    "
   ]
  },
  {
   "cell_type": "code",
   "execution_count": 213,
   "id": "c4054758",
   "metadata": {},
   "outputs": [],
   "source": [
    "title = \"Transfer learning with transformers\"\n",
    "description = \"Using transformers for transfer learning on text classification tasks.\"\n",
    "sample_df = pd.DataFrame([{\"title\": title, \"description\": description, \"tag\": \"natural-language-processing\"}])"
   ]
  },
  {
   "cell_type": "code",
   "execution_count": 214,
   "metadata": {},
   "outputs": [
    {
     "data": {
      "text/plain": [
       "[{'prediction': 'natural-language-processing',\n",
       "  'probabilities': {'computer-vision': 0.0018231588,\n",
       "   'natural-language-processing': 0.9936919,\n",
       "   'mlops': 0.0021260863,\n",
       "   'other': 0.002358786}}]"
      ]
     },
     "execution_count": 214,
     "metadata": {},
     "output_type": "execute_result"
    }
   ],
   "source": [
    "predict_prob(sample_df, model)"
   ]
  },
  {
   "cell_type": "code",
   "execution_count": null,
   "id": "6bb048cb",
   "metadata": {},
   "outputs": [],
   "source": []
  },
  {
   "cell_type": "code",
   "execution_count": null,
   "id": "93eed85f",
   "metadata": {},
   "outputs": [],
   "source": []
  },
  {
   "cell_type": "code",
   "execution_count": null,
   "metadata": {},
   "outputs": [],
   "source": []
  },
  {
   "cell_type": "markdown",
   "id": "81b52711",
   "metadata": {},
   "source": []
  }
 ],
 "metadata": {
  "kernelspec": {
   "display_name": "venv",
   "language": "python",
   "name": "venv"
  },
  "language_info": {
   "codemirror_mode": {
    "name": "ipython",
    "version": 3
   },
   "file_extension": ".py",
   "mimetype": "text/x-python",
   "name": "python",
   "nbconvert_exporter": "python",
   "pygments_lexer": "ipython3",
   "version": "3.10.12"
  }
 },
 "nbformat": 4,
 "nbformat_minor": 5
}
