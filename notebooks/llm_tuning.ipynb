{
 "cells": [
  {
   "cell_type": "code",
   "execution_count": 1,
   "id": "3e07dcf9",
   "metadata": {},
   "outputs": [],
   "source": [
    "import ray"
   ]
  },
  {
   "cell_type": "code",
   "execution_count": 2,
   "id": "ad6913f4",
   "metadata": {},
   "outputs": [
    {
     "name": "stderr",
     "output_type": "stream",
     "text": [
      "2025-09-15 12:30:12,535\tINFO worker.py:1942 -- Started a local Ray instance. View the dashboard at \u001b[1m\u001b[32m127.0.0.1:8266 \u001b[39m\u001b[22m\n"
     ]
    },
    {
     "data": {
      "application/vnd.jupyter.widget-view+json": {
       "model_id": "3e2d397d55cb419ca359dadddf81b2fa",
       "version_major": 2,
       "version_minor": 0
      },
      "text/html": [
       "<div class=\"lm-Widget p-Widget lm-Panel p-Panel jp-Cell-outputWrapper\">\n",
       "    <div style=\"margin-left: 50px;display: flex;flex-direction: row;align-items: center\">\n",
       "        <div class=\"jp-RenderedHTMLCommon\" style=\"display: flex; flex-direction: row;\">\n",
       "  <svg viewBox=\"0 0 567 224\" fill=\"none\" xmlns=\"http://www.w3.org/2000/svg\" style=\"height: 3em;\">\n",
       "    <g clip-path=\"url(#clip0_4338_178347)\">\n",
       "        <path d=\"M341.29 165.561H355.29L330.13 129.051C345.63 123.991 354.21 112.051 354.21 94.2307C354.21 71.3707 338.72 58.1807 311.88 58.1807H271V165.561H283.27V131.661H311.8C314.25 131.661 316.71 131.501 319.01 131.351L341.25 165.561H341.29ZM283.29 119.851V70.0007H311.82C331.3 70.0007 342.34 78.2907 342.34 94.5507C342.34 111.271 331.34 119.861 311.82 119.861L283.29 119.851ZM451.4 138.411L463.4 165.561H476.74L428.74 58.1807H416L367.83 165.561H380.83L392.83 138.411H451.4ZM446.19 126.601H398L422 72.1407L446.24 126.601H446.19ZM526.11 128.741L566.91 58.1807H554.35L519.99 114.181L485.17 58.1807H472.44L514.01 129.181V165.541H526.13V128.741H526.11Z\" fill=\"var(--jp-ui-font-color0)\"/>\n",
       "        <path d=\"M82.35 104.44C84.0187 97.8827 87.8248 92.0678 93.1671 87.9146C98.5094 83.7614 105.083 81.5067 111.85 81.5067C118.617 81.5067 125.191 83.7614 130.533 87.9146C135.875 92.0678 139.681 97.8827 141.35 104.44H163.75C164.476 101.562 165.622 98.8057 167.15 96.2605L127.45 56.5605C121.071 60.3522 113.526 61.6823 106.235 60.3005C98.9443 58.9187 92.4094 54.9203 87.8602 49.0574C83.3109 43.1946 81.0609 35.8714 81.5332 28.4656C82.0056 21.0599 85.1679 14.0819 90.4252 8.8446C95.6824 3.60726 102.672 0.471508 110.08 0.0272655C117.487 -0.416977 124.802 1.86091 130.647 6.4324C136.493 11.0039 140.467 17.5539 141.821 24.8501C143.175 32.1463 141.816 39.6859 138 46.0505L177.69 85.7505C182.31 82.9877 187.58 81.4995 192.962 81.4375C198.345 81.3755 203.648 82.742 208.33 85.3976C213.012 88.0532 216.907 91.9029 219.616 96.5544C222.326 101.206 223.753 106.492 223.753 111.875C223.753 117.258 222.326 122.545 219.616 127.197C216.907 131.848 213.012 135.698 208.33 138.353C203.648 141.009 198.345 142.375 192.962 142.313C187.58 142.251 182.31 140.763 177.69 138L138 177.7C141.808 184.071 143.155 191.614 141.79 198.91C140.424 206.205 136.44 212.75 130.585 217.313C124.731 221.875 117.412 224.141 110.004 223.683C102.596 223.226 95.6103 220.077 90.3621 214.828C85.1139 209.58 81.9647 202.595 81.5072 195.187C81.0497 187.779 83.3154 180.459 87.878 174.605C92.4405 168.751 98.9853 164.766 106.281 163.401C113.576 162.035 121.119 163.383 127.49 167.19L167.19 127.49C165.664 124.941 164.518 122.182 163.79 119.3H141.39C139.721 125.858 135.915 131.673 130.573 135.826C125.231 139.98 118.657 142.234 111.89 142.234C105.123 142.234 98.5494 139.98 93.2071 135.826C87.8648 131.673 84.0587 125.858 82.39 119.3H60C58.1878 126.495 53.8086 132.78 47.6863 136.971C41.5641 141.163 34.1211 142.972 26.7579 142.059C19.3947 141.146 12.6191 137.574 7.70605 132.014C2.79302 126.454 0.0813599 119.29 0.0813599 111.87C0.0813599 104.451 2.79302 97.2871 7.70605 91.7272C12.6191 86.1673 19.3947 82.5947 26.7579 81.6817C34.1211 80.7686 41.5641 82.5781 47.6863 86.7696C53.8086 90.9611 58.1878 97.2456 60 104.44H82.35ZM100.86 204.32C103.407 206.868 106.759 208.453 110.345 208.806C113.93 209.159 117.527 208.258 120.522 206.256C123.517 204.254 125.725 201.276 126.771 197.828C127.816 194.38 127.633 190.677 126.253 187.349C124.874 184.021 122.383 181.274 119.205 179.577C116.027 177.88 112.359 177.337 108.826 178.042C105.293 178.746 102.113 180.654 99.8291 183.44C97.5451 186.226 96.2979 189.718 96.3 193.32C96.2985 195.364 96.7006 197.388 97.4831 199.275C98.2656 201.163 99.4132 202.877 100.86 204.32ZM204.32 122.88C206.868 120.333 208.453 116.981 208.806 113.396C209.159 109.811 208.258 106.214 206.256 103.219C204.254 100.223 201.275 98.0151 197.827 96.97C194.38 95.9249 190.676 96.1077 187.348 97.4873C184.02 98.8669 181.274 101.358 179.577 104.536C177.879 107.714 177.337 111.382 178.041 114.915C178.746 118.448 180.653 121.627 183.439 123.911C186.226 126.195 189.717 127.443 193.32 127.44C195.364 127.443 197.388 127.042 199.275 126.259C201.163 125.476 202.878 124.328 204.32 122.88ZM122.88 19.4205C120.333 16.8729 116.981 15.2876 113.395 14.9347C109.81 14.5817 106.213 15.483 103.218 17.4849C100.223 19.4868 98.0146 22.4654 96.9696 25.9131C95.9245 29.3608 96.1073 33.0642 97.4869 36.3922C98.8665 39.7202 101.358 42.4668 104.535 44.1639C107.713 45.861 111.381 46.4036 114.914 45.6992C118.447 44.9949 121.627 43.0871 123.911 40.301C126.195 37.515 127.442 34.0231 127.44 30.4205C127.44 28.3772 127.038 26.3539 126.255 24.4664C125.473 22.5788 124.326 20.8642 122.88 19.4205ZM19.42 100.86C16.8725 103.408 15.2872 106.76 14.9342 110.345C14.5813 113.93 15.4826 117.527 17.4844 120.522C19.4863 123.518 22.4649 125.726 25.9127 126.771C29.3604 127.816 33.0638 127.633 36.3918 126.254C39.7198 124.874 42.4664 122.383 44.1635 119.205C45.8606 116.027 46.4032 112.359 45.6988 108.826C44.9944 105.293 43.0866 102.114 40.3006 99.8296C37.5145 97.5455 34.0227 96.2983 30.42 96.3005C26.2938 96.3018 22.337 97.9421 19.42 100.86ZM100.86 100.86C98.3125 103.408 96.7272 106.76 96.3742 110.345C96.0213 113.93 96.9226 117.527 98.9244 120.522C100.926 123.518 103.905 125.726 107.353 126.771C110.8 127.816 114.504 127.633 117.832 126.254C121.16 124.874 123.906 122.383 125.604 119.205C127.301 116.027 127.843 112.359 127.139 108.826C126.434 105.293 124.527 102.114 121.741 99.8296C118.955 97.5455 115.463 96.2983 111.86 96.3005C109.817 96.299 107.793 96.701 105.905 97.4835C104.018 98.2661 102.303 99.4136 100.86 100.86Z\" fill=\"#00AEEF\"/>\n",
       "    </g>\n",
       "    <defs>\n",
       "        <clipPath id=\"clip0_4338_178347\">\n",
       "            <rect width=\"566.93\" height=\"223.75\" fill=\"white\"/>\n",
       "        </clipPath>\n",
       "    </defs>\n",
       "  </svg>\n",
       "</div>\n",
       "\n",
       "        <table class=\"jp-RenderedHTMLCommon\" style=\"border-collapse: collapse;color: var(--jp-ui-font-color1);font-size: var(--jp-ui-font-size1);\">\n",
       "    <tr>\n",
       "        <td style=\"text-align: left\"><b>Python version:</b></td>\n",
       "        <td style=\"text-align: left\"><b>3.10.12</b></td>\n",
       "    </tr>\n",
       "    <tr>\n",
       "        <td style=\"text-align: left\"><b>Ray version:</b></td>\n",
       "        <td style=\"text-align: left\"><b>2.49.1</b></td>\n",
       "    </tr>\n",
       "    <tr>\n",
       "    <td style=\"text-align: left\"><b>Dashboard:</b></td>\n",
       "    <td style=\"text-align: left\"><b><a href=\"http://127.0.0.1:8266\" target=\"_blank\">http://127.0.0.1:8266</a></b></td>\n",
       "</tr>\n",
       "\n",
       "</table>\n",
       "\n",
       "    </div>\n",
       "</div>\n"
      ],
      "text/plain": [
       "RayContext(dashboard_url='127.0.0.1:8266', python_version='3.10.12', ray_version='2.49.1', ray_commit='c057f1ea836f3e93f110e895029caa32136fc156')"
      ]
     },
     "execution_count": 2,
     "metadata": {},
     "output_type": "execute_result"
    },
    {
     "name": "stderr",
     "output_type": "stream",
     "text": [
      "\u001b[36m(RayTrainWorker pid=5962)\u001b[0m Setting up process group for: env:// [rank=0, world_size=1]\n",
      "\u001b[36m(TorchTrainer pid=5811)\u001b[0m Started distributed worker processes: \n",
      "\u001b[36m(TorchTrainer pid=5811)\u001b[0m - (node_id=4514140190772872c09e0301ea56f51c2c34c1de0e071a4ab3fbd0ab, ip=127.0.0.1, pid=5962) world_rank=0, local_rank=0, node_rank=0\n",
      "\u001b[36m(RayTrainWorker pid=5962)\u001b[0m /Users/ngkuissi/Dev/learning/Made-With-ML/venv/lib/python3.10/site-packages/huggingface_hub/file_download.py:945: FutureWarning: `resume_download` is deprecated and will be removed in version 1.0.0. Downloads always resume when possible. If you want to force a new download, use `force_download=True`.\n",
      "\u001b[36m(RayTrainWorker pid=5962)\u001b[0m   warnings.warn(\n",
      "\u001b[36m(RayTrainWorker pid=5962)\u001b[0m Some weights of the model checkpoint at allenai/scibert_scivocab_uncased were not used when initializing BertModel: ['cls.seq_relationship.bias', 'cls.predictions.bias', 'cls.predictions.decoder.weight', 'cls.predictions.transform.LayerNorm.bias', 'cls.predictions.transform.dense.weight', 'cls.predictions.transform.LayerNorm.weight', 'cls.seq_relationship.weight', 'cls.predictions.decoder.bias', 'cls.predictions.transform.dense.bias']\n",
      "\u001b[36m(RayTrainWorker pid=5962)\u001b[0m - This IS expected if you are initializing BertModel from the checkpoint of a model trained on another task or with another architecture (e.g. initializing a BertForSequenceClassification model from a BertForPreTraining model).\n",
      "\u001b[36m(RayTrainWorker pid=5962)\u001b[0m - This IS NOT expected if you are initializing BertModel from the checkpoint of a model that you expect to be exactly identical (initializing a BertForSequenceClassification model from a BertForSequenceClassification model).\n",
      "\u001b[36m(RayTrainWorker pid=5962)\u001b[0m Moving model to device: cpu\n",
      "\u001b[36m(RayTrainWorker pid=5962)\u001b[0m /Users/ngkuissi/Dev/learning/Made-With-ML/venv/lib/python3.10/site-packages/ray/data/iterator.py:441: RayDeprecationWarning: Passing a function to `iter_torch_batches(collate_fn)` is deprecated in Ray 2.47. Please switch to using a callable class that inherits from `ArrowBatchCollateFn`, `NumpyBatchCollateFn`, or `PandasBatchCollateFn`.\n",
      "\u001b[36m(RayTrainWorker pid=5962)\u001b[0m   warnings.warn(\n",
      "\u001b[36m(SplitCoordinator pid=6041)\u001b[0m Registered dataset logger for dataset train_30_0\n",
      "\u001b[36m(SplitCoordinator pid=6041)\u001b[0m Starting execution of Dataset train_30_0. Full logs are in /tmp/ray/session_2025-09-15_12-30-08_614560_3457/logs/ray-data\n",
      "\u001b[36m(SplitCoordinator pid=6041)\u001b[0m Execution plan of Dataset train_30_0: InputDataBuffer[Input] -> OutputSplitter[split(1, equal=True)]\n",
      "\u001b[36m(SplitCoordinator pid=6041)\u001b[0m ⚠️  Ray's object store is configured to use only 25.3% of available memory (2.0GiB out of 7.9GiB total). For optimal Ray Data performance, we recommend setting the object store to at least 50% of available memory. You can do this by setting the 'object_store_memory' parameter when calling ray.init() or by setting the RAY_DEFAULT_OBJECT_STORE_MEMORY_PROPORTION environment variable.\n",
      "\u001b[36m(RayTrainWorker pid=5962)\u001b[0m /var/folders/7r/vsv5qx453z3931l81y_t76y80000gn/T/ipykernel_3457/700331434.py:7: UserWarning: Creating a tensor from a list of numpy.ndarrays is extremely slow. Please consider converting the list to a single numpy.ndarray with numpy.array() before converting to a tensor. (Triggered internally at /Users/runner/work/pytorch/pytorch/pytorch/torch/csrc/utils/tensor_new.cpp:256.)\n",
      "\u001b[36m(SplitCoordinator pid=6041)\u001b[0m ✔️  Dataset train_30_0 execution finished in 0.41 seconds\n",
      "\u001b[36m(RayTrainWorker pid=13155)\u001b[0m Setting up process group for: env:// [rank=0, world_size=1]\n",
      "\u001b[36m(TorchTrainer pid=12986)\u001b[0m Started distributed worker processes: \n",
      "\u001b[36m(TorchTrainer pid=12986)\u001b[0m - (node_id=4514140190772872c09e0301ea56f51c2c34c1de0e071a4ab3fbd0ab, ip=127.0.0.1, pid=13155) world_rank=0, local_rank=0, node_rank=0\n",
      "\u001b[36m(RayTrainWorker pid=13155)\u001b[0m /Users/ngkuissi/Dev/learning/Made-With-ML/venv/lib/python3.10/site-packages/huggingface_hub/file_download.py:945: FutureWarning: `resume_download` is deprecated and will be removed in version 1.0.0. Downloads always resume when possible. If you want to force a new download, use `force_download=True`.\n",
      "\u001b[36m(RayTrainWorker pid=13155)\u001b[0m   warnings.warn(\n",
      "\u001b[36m(RayTrainWorker pid=13155)\u001b[0m Some weights of the model checkpoint at allenai/scibert_scivocab_uncased were not used when initializing BertModel: ['cls.predictions.transform.dense.bias', 'cls.predictions.transform.LayerNorm.weight', 'cls.predictions.decoder.weight', 'cls.predictions.transform.dense.weight', 'cls.predictions.bias', 'cls.predictions.transform.LayerNorm.bias', 'cls.predictions.decoder.bias', 'cls.seq_relationship.bias', 'cls.seq_relationship.weight']\n",
      "\u001b[36m(RayTrainWorker pid=13155)\u001b[0m - This IS expected if you are initializing BertModel from the checkpoint of a model trained on another task or with another architecture (e.g. initializing a BertForSequenceClassification model from a BertForPreTraining model).\n",
      "\u001b[36m(RayTrainWorker pid=13155)\u001b[0m - This IS NOT expected if you are initializing BertModel from the checkpoint of a model that you expect to be exactly identical (initializing a BertForSequenceClassification model from a BertForSequenceClassification model).\n",
      "\u001b[36m(RayTrainWorker pid=13155)\u001b[0m Moving model to device: cpu\n",
      "\u001b[36m(RayTrainWorker pid=13155)\u001b[0m /Users/ngkuissi/Dev/learning/Made-With-ML/venv/lib/python3.10/site-packages/ray/data/iterator.py:441: RayDeprecationWarning: Passing a function to `iter_torch_batches(collate_fn)` is deprecated in Ray 2.47. Please switch to using a callable class that inherits from `ArrowBatchCollateFn`, `NumpyBatchCollateFn`, or `PandasBatchCollateFn`.\n",
      "\u001b[36m(RayTrainWorker pid=13155)\u001b[0m   warnings.warn(\n",
      "\u001b[36m(SplitCoordinator pid=13233)\u001b[0m Registered dataset logger for dataset train_55_0\n",
      "\u001b[36m(SplitCoordinator pid=13233)\u001b[0m Starting execution of Dataset train_55_0. Full logs are in /tmp/ray/session_2025-09-15_12-30-08_614560_3457/logs/ray-data\n",
      "\u001b[36m(SplitCoordinator pid=13233)\u001b[0m Execution plan of Dataset train_55_0: InputDataBuffer[Input] -> OutputSplitter[split(1, equal=True)]\n",
      "\u001b[36m(SplitCoordinator pid=13233)\u001b[0m ⚠️  Ray's object store is configured to use only 25.3% of available memory (2.0GiB out of 7.9GiB total). For optimal Ray Data performance, we recommend setting the object store to at least 50% of available memory. You can do this by setting the 'object_store_memory' parameter when calling ray.init() or by setting the RAY_DEFAULT_OBJECT_STORE_MEMORY_PROPORTION environment variable.\n",
      "\u001b[36m(RayTrainWorker pid=13155)\u001b[0m /var/folders/7r/vsv5qx453z3931l81y_t76y80000gn/T/ipykernel_3457/700331434.py:7: UserWarning: Creating a tensor from a list of numpy.ndarrays is extremely slow. Please consider converting the list to a single numpy.ndarray with numpy.array() before converting to a tensor. (Triggered internally at /Users/runner/work/pytorch/pytorch/pytorch/torch/csrc/utils/tensor_new.cpp:256.)\n",
      "\u001b[36m(SplitCoordinator pid=13233)\u001b[0m ✔️  Dataset train_55_0 execution finished in 0.18 seconds\n",
      "\u001b[36m(TorchTrainer pid=14752)\u001b[0m Started distributed worker processes: \n",
      "\u001b[36m(TorchTrainer pid=14752)\u001b[0m - (node_id=4514140190772872c09e0301ea56f51c2c34c1de0e071a4ab3fbd0ab, ip=127.0.0.1, pid=14828) world_rank=0, local_rank=0, node_rank=0\n",
      "\u001b[36m(RayTrainWorker pid=14828)\u001b[0m Setting up process group for: env:// [rank=0, world_size=1]\n",
      "\u001b[36m(RayTrainWorker pid=14828)\u001b[0m /Users/ngkuissi/Dev/learning/Made-With-ML/venv/lib/python3.10/site-packages/huggingface_hub/file_download.py:945: FutureWarning: `resume_download` is deprecated and will be removed in version 1.0.0. Downloads always resume when possible. If you want to force a new download, use `force_download=True`.\n",
      "\u001b[36m(RayTrainWorker pid=14828)\u001b[0m   warnings.warn(\n",
      "\u001b[36m(RayTrainWorker pid=14828)\u001b[0m Some weights of the model checkpoint at allenai/scibert_scivocab_uncased were not used when initializing BertModel: ['cls.seq_relationship.weight', 'cls.predictions.transform.dense.weight', 'cls.predictions.bias', 'cls.predictions.transform.dense.bias', 'cls.predictions.decoder.bias', 'cls.predictions.transform.LayerNorm.bias', 'cls.predictions.decoder.weight', 'cls.seq_relationship.bias', 'cls.predictions.transform.LayerNorm.weight']\n",
      "\u001b[36m(RayTrainWorker pid=14828)\u001b[0m - This IS expected if you are initializing BertModel from the checkpoint of a model trained on another task or with another architecture (e.g. initializing a BertForSequenceClassification model from a BertForPreTraining model).\n",
      "\u001b[36m(RayTrainWorker pid=14828)\u001b[0m - This IS NOT expected if you are initializing BertModel from the checkpoint of a model that you expect to be exactly identical (initializing a BertForSequenceClassification model from a BertForSequenceClassification model).\n",
      "\u001b[36m(RayTrainWorker pid=14828)\u001b[0m Moving model to device: cpu\n",
      "\u001b[36m(RayTrainWorker pid=14828)\u001b[0m /Users/ngkuissi/Dev/learning/Made-With-ML/venv/lib/python3.10/site-packages/ray/data/iterator.py:441: RayDeprecationWarning: Passing a function to `iter_torch_batches(collate_fn)` is deprecated in Ray 2.47. Please switch to using a callable class that inherits from `ArrowBatchCollateFn`, `NumpyBatchCollateFn`, or `PandasBatchCollateFn`.\n",
      "\u001b[36m(RayTrainWorker pid=14828)\u001b[0m   warnings.warn(\n",
      "\u001b[36m(SplitCoordinator pid=14865)\u001b[0m Registered dataset logger for dataset train_76_0\n",
      "\u001b[36m(SplitCoordinator pid=14865)\u001b[0m Starting execution of Dataset train_76_0. Full logs are in /tmp/ray/session_2025-09-15_12-30-08_614560_3457/logs/ray-data\n",
      "\u001b[36m(SplitCoordinator pid=14865)\u001b[0m Execution plan of Dataset train_76_0: InputDataBuffer[Input] -> OutputSplitter[split(1, equal=True)]\n",
      "\u001b[36m(SplitCoordinator pid=14865)\u001b[0m ⚠️  Ray's object store is configured to use only 25.3% of available memory (2.0GiB out of 7.9GiB total). For optimal Ray Data performance, we recommend setting the object store to at least 50% of available memory. You can do this by setting the 'object_store_memory' parameter when calling ray.init() or by setting the RAY_DEFAULT_OBJECT_STORE_MEMORY_PROPORTION environment variable.\n",
      "\u001b[36m(RayTrainWorker pid=14828)\u001b[0m /var/folders/7r/vsv5qx453z3931l81y_t76y80000gn/T/ipykernel_3457/700331434.py:7: UserWarning: Creating a tensor from a list of numpy.ndarrays is extremely slow. Please consider converting the list to a single numpy.ndarray with numpy.array() before converting to a tensor. (Triggered internally at /Users/runner/work/pytorch/pytorch/pytorch/torch/csrc/utils/tensor_new.cpp:256.)\n",
      "\u001b[36m(SplitCoordinator pid=14865)\u001b[0m ✔️  Dataset train_76_0 execution finished in 0.14 seconds\n",
      "\u001b[36m(SplitCoordinator pid=14864)\u001b[0m Registered dataset logger for dataset val_78_0\n",
      "\u001b[36m(SplitCoordinator pid=14864)\u001b[0m Starting execution of Dataset val_78_0. Full logs are in /tmp/ray/session_2025-09-15_12-30-08_614560_3457/logs/ray-data\n",
      "\u001b[36m(SplitCoordinator pid=14864)\u001b[0m Execution plan of Dataset val_78_0: InputDataBuffer[Input] -> OutputSplitter[split(1, equal=True)]\n",
      "\u001b[36m(SplitCoordinator pid=14864)\u001b[0m ⚠️  Ray's object store is configured to use only 25.3% of available memory (2.0GiB out of 7.9GiB total). For optimal Ray Data performance, we recommend setting the object store to at least 50% of available memory. You can do this by setting the 'object_store_memory' parameter when calling ray.init() or by setting the RAY_DEFAULT_OBJECT_STORE_MEMORY_PROPORTION environment variable.\n",
      "\u001b[36m(SplitCoordinator pid=14864)\u001b[0m ✔️  Dataset val_78_0 execution finished in 0.18 seconds\n",
      "\u001b[36m(RayTrainWorker pid=14828)\u001b[0m Checkpoint successfully created at: Checkpoint(filesystem=local, path=/Users/ngkuissi/ray_results/llm/TorchTrainer_85d4f_00000_0_2025-09-15_12-39-17/checkpoint_000000)\n",
      "\u001b[36m(SplitCoordinator pid=14865)\u001b[0m Registered dataset logger for dataset train_76_1\n",
      "\u001b[36m(SplitCoordinator pid=14864)\u001b[0m Starting execution of Dataset val_78_1. Full logs are in /tmp/ray/session_2025-09-15_12-30-08_614560_3457/logs/ray-data\u001b[32m [repeated 2x across cluster] (Ray deduplicates logs by default. Set RAY_DEDUP_LOGS=0 to disable log deduplication, or see https://docs.ray.io/en/master/ray-observability/user-guides/configure-logging.html#log-deduplication for more options.)\u001b[0m\n",
      "\u001b[36m(SplitCoordinator pid=14864)\u001b[0m Execution plan of Dataset val_78_1: InputDataBuffer[Input] -> OutputSplitter[split(1, equal=True)]\u001b[32m [repeated 2x across cluster]\u001b[0m\n",
      "\u001b[36m(SplitCoordinator pid=14865)\u001b[0m ✔️  Dataset train_76_1 execution finished in 0.19 seconds\n",
      "\u001b[36m(SplitCoordinator pid=14864)\u001b[0m Registered dataset logger for dataset val_78_1\n",
      "\u001b[36m(SplitCoordinator pid=14864)\u001b[0m ✔️  Dataset val_78_1 execution finished in 0.23 seconds\n",
      "\u001b[36m(RayTrainWorker pid=14828)\u001b[0m Checkpoint successfully created at: Checkpoint(filesystem=local, path=/Users/ngkuissi/ray_results/llm/TorchTrainer_85d4f_00000_0_2025-09-15_12-39-17/checkpoint_000001)\n",
      "\u001b[36m(SplitCoordinator pid=14865)\u001b[0m Registered dataset logger for dataset train_76_2\n",
      "\u001b[36m(SplitCoordinator pid=14865)\u001b[0m Starting execution of Dataset train_76_2. Full logs are in /tmp/ray/session_2025-09-15_12-30-08_614560_3457/logs/ray-data\n",
      "\u001b[36m(SplitCoordinator pid=14865)\u001b[0m Execution plan of Dataset train_76_2: InputDataBuffer[Input] -> OutputSplitter[split(1, equal=True)]\n",
      "\u001b[36m(SplitCoordinator pid=14865)\u001b[0m ✔️  Dataset train_76_2 execution finished in 0.26 seconds\n",
      "\u001b[36m(SplitCoordinator pid=14864)\u001b[0m Registered dataset logger for dataset val_78_2\n",
      "\u001b[36m(SplitCoordinator pid=14864)\u001b[0m Starting execution of Dataset val_78_2. Full logs are in /tmp/ray/session_2025-09-15_12-30-08_614560_3457/logs/ray-data\n",
      "\u001b[36m(SplitCoordinator pid=14864)\u001b[0m Execution plan of Dataset val_78_2: InputDataBuffer[Input] -> OutputSplitter[split(1, equal=True)]\n",
      "\u001b[36m(SplitCoordinator pid=14864)\u001b[0m ✔️  Dataset val_78_2 execution finished in 0.31 seconds\n",
      "\u001b[36m(RayTrainWorker pid=14828)\u001b[0m Checkpoint successfully created at: Checkpoint(filesystem=local, path=/Users/ngkuissi/ray_results/llm/TorchTrainer_85d4f_00000_0_2025-09-15_12-39-17/checkpoint_000002)\n",
      "\u001b[36m(SplitCoordinator pid=14865)\u001b[0m Registered dataset logger for dataset train_76_3\n",
      "\u001b[36m(SplitCoordinator pid=14864)\u001b[0m Starting execution of Dataset val_78_3. Full logs are in /tmp/ray/session_2025-09-15_12-30-08_614560_3457/logs/ray-data\u001b[32m [repeated 2x across cluster]\u001b[0m\n",
      "\u001b[36m(SplitCoordinator pid=14864)\u001b[0m Execution plan of Dataset val_78_3: InputDataBuffer[Input] -> OutputSplitter[split(1, equal=True)]\u001b[32m [repeated 2x across cluster]\u001b[0m\n",
      "\u001b[36m(SplitCoordinator pid=14865)\u001b[0m ✔️  Dataset train_76_3 execution finished in 0.20 seconds\n",
      "\u001b[36m(SplitCoordinator pid=14864)\u001b[0m Registered dataset logger for dataset val_78_3\n",
      "\u001b[36m(SplitCoordinator pid=14864)\u001b[0m ✔️  Dataset val_78_3 execution finished in 0.23 seconds\n",
      "\u001b[36m(RayTrainWorker pid=14828)\u001b[0m Checkpoint successfully created at: Checkpoint(filesystem=local, path=/Users/ngkuissi/ray_results/llm/TorchTrainer_85d4f_00000_0_2025-09-15_12-39-17/checkpoint_000003)\n",
      "\u001b[36m(SplitCoordinator pid=14865)\u001b[0m Registered dataset logger for dataset train_76_4\n",
      "\u001b[36m(SplitCoordinator pid=14864)\u001b[0m Starting execution of Dataset val_78_4. Full logs are in /tmp/ray/session_2025-09-15_12-30-08_614560_3457/logs/ray-data\u001b[32m [repeated 2x across cluster]\u001b[0m\n",
      "\u001b[36m(SplitCoordinator pid=14864)\u001b[0m Execution plan of Dataset val_78_4: InputDataBuffer[Input] -> OutputSplitter[split(1, equal=True)]\u001b[32m [repeated 2x across cluster]\u001b[0m\n",
      "\u001b[36m(SplitCoordinator pid=14865)\u001b[0m ✔️  Dataset train_76_4 execution finished in 0.20 seconds\n",
      "\u001b[36m(SplitCoordinator pid=14864)\u001b[0m Registered dataset logger for dataset val_78_4\n",
      "\u001b[36m(SplitCoordinator pid=14864)\u001b[0m ✔️  Dataset val_78_4 execution finished in 0.20 seconds\n",
      "\u001b[36m(RayTrainWorker pid=14828)\u001b[0m Checkpoint successfully created at: Checkpoint(filesystem=local, path=/Users/ngkuissi/ray_results/llm/TorchTrainer_85d4f_00000_0_2025-09-15_12-39-17/checkpoint_000004)\n",
      "\u001b[36m(SplitCoordinator pid=14865)\u001b[0m Registered dataset logger for dataset train_76_5\n",
      "\u001b[36m(SplitCoordinator pid=14864)\u001b[0m Starting execution of Dataset val_78_5. Full logs are in /tmp/ray/session_2025-09-15_12-30-08_614560_3457/logs/ray-data\u001b[32m [repeated 2x across cluster]\u001b[0m\n",
      "\u001b[36m(SplitCoordinator pid=14864)\u001b[0m Execution plan of Dataset val_78_5: InputDataBuffer[Input] -> OutputSplitter[split(1, equal=True)]\u001b[32m [repeated 2x across cluster]\u001b[0m\n",
      "\u001b[36m(SplitCoordinator pid=14865)\u001b[0m ✔️  Dataset train_76_5 execution finished in 0.21 seconds\n",
      "\u001b[36m(SplitCoordinator pid=14864)\u001b[0m Registered dataset logger for dataset val_78_5\n",
      "\u001b[36m(SplitCoordinator pid=14864)\u001b[0m ✔️  Dataset val_78_5 execution finished in 0.17 seconds\n",
      "\u001b[36m(RayTrainWorker pid=14828)\u001b[0m Checkpoint successfully created at: Checkpoint(filesystem=local, path=/Users/ngkuissi/ray_results/llm/TorchTrainer_85d4f_00000_0_2025-09-15_12-39-17/checkpoint_000005)\n",
      "\u001b[36m(SplitCoordinator pid=14865)\u001b[0m Registered dataset logger for dataset train_76_6\n",
      "\u001b[36m(SplitCoordinator pid=14865)\u001b[0m Starting execution of Dataset train_76_6. Full logs are in /tmp/ray/session_2025-09-15_12-30-08_614560_3457/logs/ray-data\n",
      "\u001b[36m(SplitCoordinator pid=14865)\u001b[0m Execution plan of Dataset train_76_6: InputDataBuffer[Input] -> OutputSplitter[split(1, equal=True)]\n",
      "\u001b[36m(SplitCoordinator pid=14865)\u001b[0m ✔️  Dataset train_76_6 execution finished in 0.22 seconds\n",
      "\u001b[36m(SplitCoordinator pid=14864)\u001b[0m Registered dataset logger for dataset val_78_6\n",
      "\u001b[36m(SplitCoordinator pid=14864)\u001b[0m Starting execution of Dataset val_78_6. Full logs are in /tmp/ray/session_2025-09-15_12-30-08_614560_3457/logs/ray-data\n",
      "\u001b[36m(SplitCoordinator pid=14864)\u001b[0m Execution plan of Dataset val_78_6: InputDataBuffer[Input] -> OutputSplitter[split(1, equal=True)]\n",
      "\u001b[36m(SplitCoordinator pid=14864)\u001b[0m ✔️  Dataset val_78_6 execution finished in 0.24 seconds\n",
      "\u001b[36m(RayTrainWorker pid=14828)\u001b[0m Checkpoint successfully created at: Checkpoint(filesystem=local, path=/Users/ngkuissi/ray_results/llm/TorchTrainer_85d4f_00000_0_2025-09-15_12-39-17/checkpoint_000006)\n",
      "\u001b[36m(SplitCoordinator pid=14865)\u001b[0m Registered dataset logger for dataset train_76_7\n",
      "\u001b[36m(SplitCoordinator pid=14865)\u001b[0m Starting execution of Dataset train_76_7. Full logs are in /tmp/ray/session_2025-09-15_12-30-08_614560_3457/logs/ray-data\n",
      "\u001b[36m(SplitCoordinator pid=14865)\u001b[0m Execution plan of Dataset train_76_7: InputDataBuffer[Input] -> OutputSplitter[split(1, equal=True)]\n",
      "\u001b[36m(SplitCoordinator pid=14865)\u001b[0m ✔️  Dataset train_76_7 execution finished in 0.22 seconds\n",
      "\u001b[36m(SplitCoordinator pid=14864)\u001b[0m Registered dataset logger for dataset val_78_7\n",
      "\u001b[36m(SplitCoordinator pid=14864)\u001b[0m Starting execution of Dataset val_78_7. Full logs are in /tmp/ray/session_2025-09-15_12-30-08_614560_3457/logs/ray-data\n",
      "\u001b[36m(SplitCoordinator pid=14864)\u001b[0m Execution plan of Dataset val_78_7: InputDataBuffer[Input] -> OutputSplitter[split(1, equal=True)]\n",
      "\u001b[36m(SplitCoordinator pid=14864)\u001b[0m ✔️  Dataset val_78_7 execution finished in 0.31 seconds\n",
      "\u001b[36m(RayTrainWorker pid=14828)\u001b[0m Checkpoint successfully created at: Checkpoint(filesystem=local, path=/Users/ngkuissi/ray_results/llm/TorchTrainer_85d4f_00000_0_2025-09-15_12-39-17/checkpoint_000007)\n",
      "\u001b[36m(SplitCoordinator pid=14865)\u001b[0m Registered dataset logger for dataset train_76_8\n",
      "\u001b[36m(SplitCoordinator pid=14864)\u001b[0m Starting execution of Dataset val_78_8. Full logs are in /tmp/ray/session_2025-09-15_12-30-08_614560_3457/logs/ray-data\u001b[32m [repeated 2x across cluster]\u001b[0m\n",
      "\u001b[36m(SplitCoordinator pid=14864)\u001b[0m Execution plan of Dataset val_78_8: InputDataBuffer[Input] -> OutputSplitter[split(1, equal=True)]\u001b[32m [repeated 2x across cluster]\u001b[0m\n",
      "\u001b[36m(SplitCoordinator pid=14865)\u001b[0m ✔️  Dataset train_76_8 execution finished in 0.21 seconds\n",
      "\u001b[36m(SplitCoordinator pid=14864)\u001b[0m Registered dataset logger for dataset val_78_8\n",
      "\u001b[36m(SplitCoordinator pid=14864)\u001b[0m ✔️  Dataset val_78_8 execution finished in 0.15 seconds\n",
      "\u001b[36m(RayTrainWorker pid=14828)\u001b[0m Checkpoint successfully created at: Checkpoint(filesystem=local, path=/Users/ngkuissi/ray_results/llm/TorchTrainer_85d4f_00000_0_2025-09-15_12-39-17/checkpoint_000008)\n",
      "\u001b[36m(SplitCoordinator pid=14865)\u001b[0m Registered dataset logger for dataset train_76_9\n",
      "\u001b[36m(SplitCoordinator pid=14864)\u001b[0m Starting execution of Dataset val_78_9. Full logs are in /tmp/ray/session_2025-09-15_12-30-08_614560_3457/logs/ray-data\u001b[32m [repeated 2x across cluster]\u001b[0m\n",
      "\u001b[36m(SplitCoordinator pid=14864)\u001b[0m Execution plan of Dataset val_78_9: InputDataBuffer[Input] -> OutputSplitter[split(1, equal=True)]\u001b[32m [repeated 2x across cluster]\u001b[0m\n",
      "\u001b[36m(SplitCoordinator pid=14865)\u001b[0m ✔️  Dataset train_76_9 execution finished in 0.22 seconds\n",
      "\u001b[36m(SplitCoordinator pid=14864)\u001b[0m Registered dataset logger for dataset val_78_9\n",
      "\u001b[36m(SplitCoordinator pid=14864)\u001b[0m ✔️  Dataset val_78_9 execution finished in 0.15 seconds\n",
      "\u001b[36m(RayTrainWorker pid=14828)\u001b[0m Checkpoint successfully created at: Checkpoint(filesystem=local, path=/Users/ngkuissi/ray_results/llm/TorchTrainer_85d4f_00000_0_2025-09-15_12-39-17/checkpoint_000009)\n",
      "\u001b[36m(TrainTrainable pid=29978)\u001b[0m /Users/ngkuissi/Dev/learning/Made-With-ML/venv/lib/python3.10/site-packages/mlflow/utils/requirements_utils.py:12: UserWarning: pkg_resources is deprecated as an API. See https://setuptools.pypa.io/en/latest/pkg_resources.html. The pkg_resources package is slated for removal as early as 2025-11-30. Refrain from using this package or pin to Setuptools<81.\n",
      "\u001b[36m(TrainTrainable pid=29978)\u001b[0m   import pkg_resources\n",
      "\u001b[36m(TorchTrainer pid=29978)\u001b[0m /Users/ngkuissi/Dev/learning/Made-With-ML/venv/lib/python3.10/site-packages/ray/train/base_trainer.py:584: RayDeprecationWarning: `ray.train.RunConfig(callbacks: List[ray.tune.Callback])` is deprecated. Ray Train no longer accepts Ray Tune callbacks, since the Ray Train execution backend is being separated from Ray Tune. See this issue for more context and migration options: https://github.com/ray-project/ray/issues/49454. Disable these warnings by setting the environment variable: RAY_TRAIN_ENABLE_V2_MIGRATION_WARNINGS=0\n",
      "\u001b[36m(TorchTrainer pid=29978)\u001b[0m   _log_deprecation_warning(CALLBACKS_DEPRECATION_MESSAGE)\n",
      "\u001b[36m(RayTrainWorker pid=30093)\u001b[0m Setting up process group for: env:// [rank=0, world_size=1]\n",
      "\u001b[36m(TorchTrainer pid=29978)\u001b[0m Started distributed worker processes: \n",
      "\u001b[36m(TorchTrainer pid=29978)\u001b[0m - (node_id=4514140190772872c09e0301ea56f51c2c34c1de0e071a4ab3fbd0ab, ip=127.0.0.1, pid=30093) world_rank=0, local_rank=0, node_rank=0\n",
      "\u001b[36m(RayTrainWorker pid=30093)\u001b[0m /Users/ngkuissi/Dev/learning/Made-With-ML/venv/lib/python3.10/site-packages/huggingface_hub/file_download.py:945: FutureWarning: `resume_download` is deprecated and will be removed in version 1.0.0. Downloads always resume when possible. If you want to force a new download, use `force_download=True`.\n",
      "\u001b[36m(RayTrainWorker pid=30093)\u001b[0m   warnings.warn(\n",
      "\u001b[36m(RayTrainWorker pid=30093)\u001b[0m Some weights of the model checkpoint at allenai/scibert_scivocab_uncased were not used when initializing BertModel: ['cls.predictions.transform.dense.bias', 'cls.predictions.decoder.bias', 'cls.seq_relationship.bias', 'cls.predictions.transform.dense.weight', 'cls.seq_relationship.weight', 'cls.predictions.transform.LayerNorm.bias', 'cls.predictions.bias', 'cls.predictions.decoder.weight', 'cls.predictions.transform.LayerNorm.weight']\n",
      "\u001b[36m(RayTrainWorker pid=30093)\u001b[0m - This IS expected if you are initializing BertModel from the checkpoint of a model trained on another task or with another architecture (e.g. initializing a BertForSequenceClassification model from a BertForPreTraining model).\n",
      "\u001b[36m(RayTrainWorker pid=30093)\u001b[0m - This IS NOT expected if you are initializing BertModel from the checkpoint of a model that you expect to be exactly identical (initializing a BertForSequenceClassification model from a BertForSequenceClassification model).\n",
      "\u001b[36m(RayTrainWorker pid=30093)\u001b[0m Moving model to device: cpu\n",
      "\u001b[36m(RayTrainWorker pid=30093)\u001b[0m /Users/ngkuissi/Dev/learning/Made-With-ML/venv/lib/python3.10/site-packages/ray/data/iterator.py:441: RayDeprecationWarning: Passing a function to `iter_torch_batches(collate_fn)` is deprecated in Ray 2.47. Please switch to using a callable class that inherits from `ArrowBatchCollateFn`, `NumpyBatchCollateFn`, or `PandasBatchCollateFn`.\n",
      "\u001b[36m(RayTrainWorker pid=30093)\u001b[0m   warnings.warn(\n",
      "\u001b[36m(SplitCoordinator pid=30213)\u001b[0m Registered dataset logger for dataset train_123_0\n",
      "\u001b[36m(SplitCoordinator pid=30213)\u001b[0m Starting execution of Dataset train_123_0. Full logs are in /tmp/ray/session_2025-09-15_12-30-08_614560_3457/logs/ray-data\n",
      "\u001b[36m(SplitCoordinator pid=30213)\u001b[0m Execution plan of Dataset train_123_0: InputDataBuffer[Input] -> OutputSplitter[split(1, equal=True)]\n",
      "\u001b[36m(SplitCoordinator pid=30213)\u001b[0m ⚠️  Ray's object store is configured to use only 25.3% of available memory (2.0GiB out of 7.9GiB total). For optimal Ray Data performance, we recommend setting the object store to at least 50% of available memory. You can do this by setting the 'object_store_memory' parameter when calling ray.init() or by setting the RAY_DEFAULT_OBJECT_STORE_MEMORY_PROPORTION environment variable.\n",
      "\u001b[36m(RayTrainWorker pid=30093)\u001b[0m /var/folders/7r/vsv5qx453z3931l81y_t76y80000gn/T/ipykernel_3457/700331434.py:7: UserWarning: Creating a tensor from a list of numpy.ndarrays is extremely slow. Please consider converting the list to a single numpy.ndarray with numpy.array() before converting to a tensor. (Triggered internally at /Users/runner/work/pytorch/pytorch/pytorch/torch/csrc/utils/tensor_new.cpp:256.)\n",
      "\u001b[36m(SplitCoordinator pid=30213)\u001b[0m ✔️  Dataset train_123_0 execution finished in 0.22 seconds\n",
      "\u001b[36m(SplitCoordinator pid=30214)\u001b[0m Registered dataset logger for dataset val_125_0\n",
      "\u001b[36m(SplitCoordinator pid=30214)\u001b[0m Starting execution of Dataset val_125_0. Full logs are in /tmp/ray/session_2025-09-15_12-30-08_614560_3457/logs/ray-data\n",
      "\u001b[36m(SplitCoordinator pid=30214)\u001b[0m Execution plan of Dataset val_125_0: InputDataBuffer[Input] -> OutputSplitter[split(1, equal=True)]\n",
      "\u001b[36m(SplitCoordinator pid=30214)\u001b[0m ⚠️  Ray's object store is configured to use only 25.3% of available memory (2.0GiB out of 7.9GiB total). For optimal Ray Data performance, we recommend setting the object store to at least 50% of available memory. You can do this by setting the 'object_store_memory' parameter when calling ray.init() or by setting the RAY_DEFAULT_OBJECT_STORE_MEMORY_PROPORTION environment variable.\n",
      "\u001b[36m(SplitCoordinator pid=30214)\u001b[0m ✔️  Dataset val_125_0 execution finished in 0.35 seconds\n",
      "\u001b[36m(RayTrainWorker pid=30093)\u001b[0m Checkpoint successfully created at: Checkpoint(filesystem=local, path=/Users/ngkuissi/ray_results/TorchTrainer_2025-09-15_12-52-08/TorchTrainer_516e1_00000_0_2025-09-15_12-52-08/checkpoint_000000)\n",
      "\u001b[36m(SplitCoordinator pid=30213)\u001b[0m Registered dataset logger for dataset train_123_1\n",
      "\u001b[36m(SplitCoordinator pid=30213)\u001b[0m Starting execution of Dataset train_123_1. Full logs are in /tmp/ray/session_2025-09-15_12-30-08_614560_3457/logs/ray-data\n",
      "\u001b[36m(SplitCoordinator pid=30213)\u001b[0m Execution plan of Dataset train_123_1: InputDataBuffer[Input] -> OutputSplitter[split(1, equal=True)]\n",
      "\u001b[36m(SplitCoordinator pid=30213)\u001b[0m ✔️  Dataset train_123_1 execution finished in 0.20 seconds\n",
      "\u001b[36m(SplitCoordinator pid=30214)\u001b[0m Registered dataset logger for dataset val_125_1\n",
      "\u001b[36m(SplitCoordinator pid=30214)\u001b[0m Starting execution of Dataset val_125_1. Full logs are in /tmp/ray/session_2025-09-15_12-30-08_614560_3457/logs/ray-data\n",
      "\u001b[36m(SplitCoordinator pid=30214)\u001b[0m Execution plan of Dataset val_125_1: InputDataBuffer[Input] -> OutputSplitter[split(1, equal=True)]\n",
      "\u001b[36m(SplitCoordinator pid=30214)\u001b[0m ✔️  Dataset val_125_1 execution finished in 0.24 seconds\n",
      "\u001b[36m(RayTrainWorker pid=30093)\u001b[0m Checkpoint successfully created at: Checkpoint(filesystem=local, path=/Users/ngkuissi/ray_results/TorchTrainer_2025-09-15_12-52-08/TorchTrainer_516e1_00000_0_2025-09-15_12-52-08/checkpoint_000001)\n",
      "\u001b[36m(SplitCoordinator pid=30213)\u001b[0m Registered dataset logger for dataset train_123_2\n",
      "\u001b[36m(SplitCoordinator pid=30214)\u001b[0m Starting execution of Dataset val_125_2. Full logs are in /tmp/ray/session_2025-09-15_12-30-08_614560_3457/logs/ray-data\u001b[32m [repeated 2x across cluster]\u001b[0m\n",
      "\u001b[36m(SplitCoordinator pid=30214)\u001b[0m Execution plan of Dataset val_125_2: InputDataBuffer[Input] -> OutputSplitter[split(1, equal=True)]\u001b[32m [repeated 2x across cluster]\u001b[0m\n",
      "\u001b[36m(SplitCoordinator pid=30213)\u001b[0m ✔️  Dataset train_123_2 execution finished in 0.17 seconds\n",
      "\u001b[36m(SplitCoordinator pid=30214)\u001b[0m Registered dataset logger for dataset val_125_2\n",
      "\u001b[36m(SplitCoordinator pid=30214)\u001b[0m ✔️  Dataset val_125_2 execution finished in 0.17 seconds\n",
      "\u001b[36m(RayTrainWorker pid=30093)\u001b[0m Checkpoint successfully created at: Checkpoint(filesystem=local, path=/Users/ngkuissi/ray_results/TorchTrainer_2025-09-15_12-52-08/TorchTrainer_516e1_00000_0_2025-09-15_12-52-08/checkpoint_000002)\n",
      "\u001b[36m(SplitCoordinator pid=30213)\u001b[0m Registered dataset logger for dataset train_123_3\n",
      "\u001b[36m(SplitCoordinator pid=30213)\u001b[0m Starting execution of Dataset train_123_3. Full logs are in /tmp/ray/session_2025-09-15_12-30-08_614560_3457/logs/ray-data\n",
      "\u001b[36m(SplitCoordinator pid=30213)\u001b[0m Execution plan of Dataset train_123_3: InputDataBuffer[Input] -> OutputSplitter[split(1, equal=True)]\n",
      "\u001b[36m(SplitCoordinator pid=30213)\u001b[0m ✔️  Dataset train_123_3 execution finished in 0.21 seconds\n",
      "\u001b[36m(SplitCoordinator pid=30214)\u001b[0m Registered dataset logger for dataset val_125_3\n",
      "\u001b[36m(SplitCoordinator pid=30214)\u001b[0m Starting execution of Dataset val_125_3. Full logs are in /tmp/ray/session_2025-09-15_12-30-08_614560_3457/logs/ray-data\n",
      "\u001b[36m(SplitCoordinator pid=30214)\u001b[0m Execution plan of Dataset val_125_3: InputDataBuffer[Input] -> OutputSplitter[split(1, equal=True)]\n",
      "\u001b[36m(SplitCoordinator pid=30214)\u001b[0m ✔️  Dataset val_125_3 execution finished in 0.30 seconds\n",
      "\u001b[36m(RayTrainWorker pid=30093)\u001b[0m Checkpoint successfully created at: Checkpoint(filesystem=local, path=/Users/ngkuissi/ray_results/TorchTrainer_2025-09-15_12-52-08/TorchTrainer_516e1_00000_0_2025-09-15_12-52-08/checkpoint_000003)\n",
      "\u001b[36m(SplitCoordinator pid=30213)\u001b[0m Registered dataset logger for dataset train_123_4\n",
      "\u001b[36m(SplitCoordinator pid=30214)\u001b[0m Starting execution of Dataset val_125_4. Full logs are in /tmp/ray/session_2025-09-15_12-30-08_614560_3457/logs/ray-data\u001b[32m [repeated 2x across cluster]\u001b[0m\n",
      "\u001b[36m(SplitCoordinator pid=30214)\u001b[0m Execution plan of Dataset val_125_4: InputDataBuffer[Input] -> OutputSplitter[split(1, equal=True)]\u001b[32m [repeated 2x across cluster]\u001b[0m\n",
      "\u001b[36m(SplitCoordinator pid=30213)\u001b[0m ✔️  Dataset train_123_4 execution finished in 0.21 seconds\n",
      "\u001b[36m(SplitCoordinator pid=30214)\u001b[0m Registered dataset logger for dataset val_125_4\n",
      "\u001b[36m(SplitCoordinator pid=30214)\u001b[0m ✔️  Dataset val_125_4 execution finished in 0.31 seconds\n",
      "\u001b[36m(RayTrainWorker pid=30093)\u001b[0m Checkpoint successfully created at: Checkpoint(filesystem=local, path=/Users/ngkuissi/ray_results/TorchTrainer_2025-09-15_12-52-08/TorchTrainer_516e1_00000_0_2025-09-15_12-52-08/checkpoint_000004)\n",
      "\u001b[36m(SplitCoordinator pid=30213)\u001b[0m Registered dataset logger for dataset train_123_5\n",
      "\u001b[36m(SplitCoordinator pid=30214)\u001b[0m Starting execution of Dataset val_125_5. Full logs are in /tmp/ray/session_2025-09-15_12-30-08_614560_3457/logs/ray-data\u001b[32m [repeated 2x across cluster]\u001b[0m\n",
      "\u001b[36m(SplitCoordinator pid=30214)\u001b[0m Execution plan of Dataset val_125_5: InputDataBuffer[Input] -> OutputSplitter[split(1, equal=True)]\u001b[32m [repeated 2x across cluster]\u001b[0m\n",
      "\u001b[36m(SplitCoordinator pid=30213)\u001b[0m ✔️  Dataset train_123_5 execution finished in 0.27 seconds\n",
      "\u001b[36m(SplitCoordinator pid=30214)\u001b[0m Registered dataset logger for dataset val_125_5\n",
      "\u001b[36m(SplitCoordinator pid=30214)\u001b[0m ✔️  Dataset val_125_5 execution finished in 0.27 seconds\n",
      "\u001b[36m(RayTrainWorker pid=30093)\u001b[0m Checkpoint successfully created at: Checkpoint(filesystem=local, path=/Users/ngkuissi/ray_results/TorchTrainer_2025-09-15_12-52-08/TorchTrainer_516e1_00000_0_2025-09-15_12-52-08/checkpoint_000005)\n",
      "\u001b[36m(SplitCoordinator pid=30213)\u001b[0m Registered dataset logger for dataset train_123_6\n",
      "\u001b[36m(SplitCoordinator pid=30214)\u001b[0m Starting execution of Dataset val_125_6. Full logs are in /tmp/ray/session_2025-09-15_12-30-08_614560_3457/logs/ray-data\u001b[32m [repeated 2x across cluster]\u001b[0m\n",
      "\u001b[36m(SplitCoordinator pid=30214)\u001b[0m Execution plan of Dataset val_125_6: InputDataBuffer[Input] -> OutputSplitter[split(1, equal=True)]\u001b[32m [repeated 2x across cluster]\u001b[0m\n",
      "\u001b[36m(SplitCoordinator pid=30213)\u001b[0m ✔️  Dataset train_123_6 execution finished in 0.16 seconds\n",
      "\u001b[36m(SplitCoordinator pid=30214)\u001b[0m Registered dataset logger for dataset val_125_6\n",
      "\u001b[36m(SplitCoordinator pid=30214)\u001b[0m ✔️  Dataset val_125_6 execution finished in 0.21 seconds\n",
      "\u001b[36m(RayTrainWorker pid=30093)\u001b[0m Checkpoint successfully created at: Checkpoint(filesystem=local, path=/Users/ngkuissi/ray_results/TorchTrainer_2025-09-15_12-52-08/TorchTrainer_516e1_00000_0_2025-09-15_12-52-08/checkpoint_000006)\n",
      "\u001b[36m(SplitCoordinator pid=30213)\u001b[0m Registered dataset logger for dataset train_123_7\n",
      "\u001b[36m(SplitCoordinator pid=30214)\u001b[0m Starting execution of Dataset val_125_7. Full logs are in /tmp/ray/session_2025-09-15_12-30-08_614560_3457/logs/ray-data\u001b[32m [repeated 2x across cluster]\u001b[0m\n",
      "\u001b[36m(SplitCoordinator pid=30214)\u001b[0m Execution plan of Dataset val_125_7: InputDataBuffer[Input] -> OutputSplitter[split(1, equal=True)]\u001b[32m [repeated 2x across cluster]\u001b[0m\n",
      "\u001b[36m(SplitCoordinator pid=30213)\u001b[0m ✔️  Dataset train_123_7 execution finished in 0.25 seconds\n",
      "\u001b[36m(SplitCoordinator pid=30214)\u001b[0m Registered dataset logger for dataset val_125_7\n",
      "\u001b[36m(SplitCoordinator pid=30214)\u001b[0m ✔️  Dataset val_125_7 execution finished in 0.39 seconds\n",
      "\u001b[36m(RayTrainWorker pid=30093)\u001b[0m Checkpoint successfully created at: Checkpoint(filesystem=local, path=/Users/ngkuissi/ray_results/TorchTrainer_2025-09-15_12-52-08/TorchTrainer_516e1_00000_0_2025-09-15_12-52-08/checkpoint_000007)\n",
      "\u001b[36m(SplitCoordinator pid=30213)\u001b[0m Registered dataset logger for dataset train_123_8\n",
      "\u001b[36m(SplitCoordinator pid=30214)\u001b[0m Starting execution of Dataset val_125_8. Full logs are in /tmp/ray/session_2025-09-15_12-30-08_614560_3457/logs/ray-data\u001b[32m [repeated 2x across cluster]\u001b[0m\n",
      "\u001b[36m(SplitCoordinator pid=30214)\u001b[0m Execution plan of Dataset val_125_8: InputDataBuffer[Input] -> OutputSplitter[split(1, equal=True)]\u001b[32m [repeated 2x across cluster]\u001b[0m\n",
      "\u001b[36m(SplitCoordinator pid=30213)\u001b[0m ✔️  Dataset train_123_8 execution finished in 0.19 seconds\n",
      "\u001b[36m(SplitCoordinator pid=30214)\u001b[0m Registered dataset logger for dataset val_125_8\n",
      "\u001b[36m(SplitCoordinator pid=30214)\u001b[0m ✔️  Dataset val_125_8 execution finished in 1.08 seconds\n",
      "\u001b[36m(RayTrainWorker pid=30093)\u001b[0m Checkpoint successfully created at: Checkpoint(filesystem=local, path=/Users/ngkuissi/ray_results/TorchTrainer_2025-09-15_12-52-08/TorchTrainer_516e1_00000_0_2025-09-15_12-52-08/checkpoint_000008)\n",
      "\u001b[36m(SplitCoordinator pid=30213)\u001b[0m Registered dataset logger for dataset train_123_9\n",
      "\u001b[36m(SplitCoordinator pid=30214)\u001b[0m Starting execution of Dataset val_125_9. Full logs are in /tmp/ray/session_2025-09-15_12-30-08_614560_3457/logs/ray-data\u001b[32m [repeated 2x across cluster]\u001b[0m\n",
      "\u001b[36m(SplitCoordinator pid=30214)\u001b[0m Execution plan of Dataset val_125_9: InputDataBuffer[Input] -> OutputSplitter[split(1, equal=True)]\u001b[32m [repeated 2x across cluster]\u001b[0m\n",
      "\u001b[36m(SplitCoordinator pid=30213)\u001b[0m ✔️  Dataset train_123_9 execution finished in 0.23 seconds\n",
      "\u001b[36m(SplitCoordinator pid=30214)\u001b[0m Registered dataset logger for dataset val_125_9\n",
      "\u001b[36m(SplitCoordinator pid=30214)\u001b[0m ✔️  Dataset val_125_9 execution finished in 0.20 seconds\n",
      "\u001b[36m(RayTrainWorker pid=30093)\u001b[0m Checkpoint successfully created at: Checkpoint(filesystem=local, path=/Users/ngkuissi/ray_results/TorchTrainer_2025-09-15_12-52-08/TorchTrainer_516e1_00000_0_2025-09-15_12-52-08/checkpoint_000009)\n",
      "\u001b[36m(TrainTrainable pid=43506)\u001b[0m /Users/ngkuissi/Dev/learning/Made-With-ML/venv/lib/python3.10/site-packages/mlflow/utils/requirements_utils.py:12: UserWarning: pkg_resources is deprecated as an API. See https://setuptools.pypa.io/en/latest/pkg_resources.html. The pkg_resources package is slated for removal as early as 2025-11-30. Refrain from using this package or pin to Setuptools<81.\n",
      "\u001b[36m(TrainTrainable pid=43506)\u001b[0m   import pkg_resources\n",
      "\u001b[36m(TorchTrainer pid=43506)\u001b[0m /Users/ngkuissi/Dev/learning/Made-With-ML/venv/lib/python3.10/site-packages/ray/train/base_trainer.py:584: RayDeprecationWarning: `ray.train.RunConfig(callbacks: List[ray.tune.Callback])` is deprecated. Ray Train no longer accepts Ray Tune callbacks, since the Ray Train execution backend is being separated from Ray Tune. See this issue for more context and migration options: https://github.com/ray-project/ray/issues/49454. Disable these warnings by setting the environment variable: RAY_TRAIN_ENABLE_V2_MIGRATION_WARNINGS=0\n",
      "\u001b[36m(TorchTrainer pid=43506)\u001b[0m   _log_deprecation_warning(CALLBACKS_DEPRECATION_MESSAGE)\n",
      "\u001b[36m(TorchTrainer pid=43506)\u001b[0m Started distributed worker processes: \n",
      "\u001b[36m(TorchTrainer pid=43506)\u001b[0m - (node_id=4514140190772872c09e0301ea56f51c2c34c1de0e071a4ab3fbd0ab, ip=127.0.0.1, pid=43583) world_rank=0, local_rank=0, node_rank=0\n",
      "\u001b[36m(RayTrainWorker pid=43583)\u001b[0m Setting up process group for: env:// [rank=0, world_size=1]\n",
      "\u001b[36m(RayTrainWorker pid=43583)\u001b[0m /Users/ngkuissi/Dev/learning/Made-With-ML/venv/lib/python3.10/site-packages/huggingface_hub/file_download.py:945: FutureWarning: `resume_download` is deprecated and will be removed in version 1.0.0. Downloads always resume when possible. If you want to force a new download, use `force_download=True`.\n",
      "\u001b[36m(RayTrainWorker pid=43583)\u001b[0m   warnings.warn(\n",
      "\u001b[36m(RayTrainWorker pid=43583)\u001b[0m Some weights of the model checkpoint at allenai/scibert_scivocab_uncased were not used when initializing BertModel: ['cls.seq_relationship.bias', 'cls.predictions.bias', 'cls.predictions.transform.LayerNorm.bias', 'cls.seq_relationship.weight', 'cls.predictions.transform.dense.weight', 'cls.predictions.decoder.weight', 'cls.predictions.decoder.bias', 'cls.predictions.transform.LayerNorm.weight', 'cls.predictions.transform.dense.bias']\n",
      "\u001b[36m(RayTrainWorker pid=43583)\u001b[0m - This IS expected if you are initializing BertModel from the checkpoint of a model trained on another task or with another architecture (e.g. initializing a BertForSequenceClassification model from a BertForPreTraining model).\n",
      "\u001b[36m(RayTrainWorker pid=43583)\u001b[0m - This IS NOT expected if you are initializing BertModel from the checkpoint of a model that you expect to be exactly identical (initializing a BertForSequenceClassification model from a BertForSequenceClassification model).\n",
      "\u001b[36m(RayTrainWorker pid=43583)\u001b[0m Moving model to device: cpu\n",
      "\u001b[36m(RayTrainWorker pid=43583)\u001b[0m /Users/ngkuissi/Dev/learning/Made-With-ML/venv/lib/python3.10/site-packages/ray/data/iterator.py:441: RayDeprecationWarning: Passing a function to `iter_torch_batches(collate_fn)` is deprecated in Ray 2.47. Please switch to using a callable class that inherits from `ArrowBatchCollateFn`, `NumpyBatchCollateFn`, or `PandasBatchCollateFn`.\n",
      "\u001b[36m(RayTrainWorker pid=43583)\u001b[0m   warnings.warn(\n",
      "\u001b[36m(SplitCoordinator pid=43664)\u001b[0m Registered dataset logger for dataset train_144_0\n",
      "\u001b[36m(SplitCoordinator pid=43664)\u001b[0m Starting execution of Dataset train_144_0. Full logs are in /tmp/ray/session_2025-09-15_12-30-08_614560_3457/logs/ray-data\n",
      "\u001b[36m(SplitCoordinator pid=43664)\u001b[0m Execution plan of Dataset train_144_0: InputDataBuffer[Input] -> OutputSplitter[split(1, equal=True)]\n",
      "\u001b[36m(SplitCoordinator pid=43664)\u001b[0m ⚠️  Ray's object store is configured to use only 25.3% of available memory (2.0GiB out of 7.9GiB total). For optimal Ray Data performance, we recommend setting the object store to at least 50% of available memory. You can do this by setting the 'object_store_memory' parameter when calling ray.init() or by setting the RAY_DEFAULT_OBJECT_STORE_MEMORY_PROPORTION environment variable.\n",
      "\u001b[36m(RayTrainWorker pid=43583)\u001b[0m /var/folders/7r/vsv5qx453z3931l81y_t76y80000gn/T/ipykernel_3457/700331434.py:7: UserWarning: Creating a tensor from a list of numpy.ndarrays is extremely slow. Please consider converting the list to a single numpy.ndarray with numpy.array() before converting to a tensor. (Triggered internally at /Users/runner/work/pytorch/pytorch/pytorch/torch/csrc/utils/tensor_new.cpp:256.)\n",
      "\u001b[36m(SplitCoordinator pid=43664)\u001b[0m ✔️  Dataset train_144_0 execution finished in 0.16 seconds\n",
      "\u001b[36m(SplitCoordinator pid=43665)\u001b[0m Registered dataset logger for dataset val_146_0\n",
      "\u001b[36m(SplitCoordinator pid=43665)\u001b[0m Starting execution of Dataset val_146_0. Full logs are in /tmp/ray/session_2025-09-15_12-30-08_614560_3457/logs/ray-data\n",
      "\u001b[36m(SplitCoordinator pid=43665)\u001b[0m Execution plan of Dataset val_146_0: InputDataBuffer[Input] -> OutputSplitter[split(1, equal=True)]\n",
      "\u001b[36m(SplitCoordinator pid=43665)\u001b[0m ⚠️  Ray's object store is configured to use only 25.3% of available memory (2.0GiB out of 7.9GiB total). For optimal Ray Data performance, we recommend setting the object store to at least 50% of available memory. You can do this by setting the 'object_store_memory' parameter when calling ray.init() or by setting the RAY_DEFAULT_OBJECT_STORE_MEMORY_PROPORTION environment variable.\n",
      "\u001b[36m(SplitCoordinator pid=43665)\u001b[0m ✔️  Dataset val_146_0 execution finished in 0.16 seconds\n",
      "\u001b[36m(RayTrainWorker pid=43583)\u001b[0m Checkpoint successfully created at: Checkpoint(filesystem=local, path=/Users/ngkuissi/ray_results/TorchTrainer_2025-09-15_13-02-40/TorchTrainer_ca0f8_00000_0_2025-09-15_13-02-40/checkpoint_000000)\n",
      "\u001b[36m(SplitCoordinator pid=43664)\u001b[0m Registered dataset logger for dataset train_144_1\n",
      "\u001b[36m(SplitCoordinator pid=43665)\u001b[0m Starting execution of Dataset val_146_1. Full logs are in /tmp/ray/session_2025-09-15_12-30-08_614560_3457/logs/ray-data\u001b[32m [repeated 2x across cluster]\u001b[0m\n",
      "\u001b[36m(SplitCoordinator pid=43665)\u001b[0m Execution plan of Dataset val_146_1: InputDataBuffer[Input] -> OutputSplitter[split(1, equal=True)]\u001b[32m [repeated 2x across cluster]\u001b[0m\n",
      "\u001b[36m(SplitCoordinator pid=43664)\u001b[0m ✔️  Dataset train_144_1 execution finished in 0.19 seconds\n",
      "\u001b[36m(SplitCoordinator pid=43665)\u001b[0m Registered dataset logger for dataset val_146_1\n",
      "\u001b[36m(SplitCoordinator pid=43665)\u001b[0m ✔️  Dataset val_146_1 execution finished in 0.38 seconds\n",
      "\u001b[36m(RayTrainWorker pid=43583)\u001b[0m Checkpoint successfully created at: Checkpoint(filesystem=local, path=/Users/ngkuissi/ray_results/TorchTrainer_2025-09-15_13-02-40/TorchTrainer_ca0f8_00000_0_2025-09-15_13-02-40/checkpoint_000001)\n",
      "\u001b[36m(SplitCoordinator pid=43664)\u001b[0m Registered dataset logger for dataset train_144_2\n",
      "\u001b[36m(SplitCoordinator pid=43664)\u001b[0m Starting execution of Dataset train_144_2. Full logs are in /tmp/ray/session_2025-09-15_12-30-08_614560_3457/logs/ray-data\n",
      "\u001b[36m(SplitCoordinator pid=43664)\u001b[0m Execution plan of Dataset train_144_2: InputDataBuffer[Input] -> OutputSplitter[split(1, equal=True)]\n",
      "\u001b[36m(SplitCoordinator pid=43664)\u001b[0m ✔️  Dataset train_144_2 execution finished in 0.19 seconds\n",
      "\u001b[36m(SplitCoordinator pid=43665)\u001b[0m Registered dataset logger for dataset val_146_2\n",
      "\u001b[36m(SplitCoordinator pid=43665)\u001b[0m Starting execution of Dataset val_146_2. Full logs are in /tmp/ray/session_2025-09-15_12-30-08_614560_3457/logs/ray-data\n",
      "\u001b[36m(SplitCoordinator pid=43665)\u001b[0m Execution plan of Dataset val_146_2: InputDataBuffer[Input] -> OutputSplitter[split(1, equal=True)]\n",
      "\u001b[36m(SplitCoordinator pid=43665)\u001b[0m ✔️  Dataset val_146_2 execution finished in 0.23 seconds\n",
      "\u001b[36m(RayTrainWorker pid=43583)\u001b[0m Checkpoint successfully created at: Checkpoint(filesystem=local, path=/Users/ngkuissi/ray_results/TorchTrainer_2025-09-15_13-02-40/TorchTrainer_ca0f8_00000_0_2025-09-15_13-02-40/checkpoint_000002)\n",
      "\u001b[36m(SplitCoordinator pid=43664)\u001b[0m Registered dataset logger for dataset train_144_3\n",
      "\u001b[36m(SplitCoordinator pid=43665)\u001b[0m Starting execution of Dataset val_146_3. Full logs are in /tmp/ray/session_2025-09-15_12-30-08_614560_3457/logs/ray-data\u001b[32m [repeated 2x across cluster]\u001b[0m\n",
      "\u001b[36m(SplitCoordinator pid=43665)\u001b[0m Execution plan of Dataset val_146_3: InputDataBuffer[Input] -> OutputSplitter[split(1, equal=True)]\u001b[32m [repeated 2x across cluster]\u001b[0m\n",
      "\u001b[36m(SplitCoordinator pid=43664)\u001b[0m ✔️  Dataset train_144_3 execution finished in 0.26 seconds\n",
      "\u001b[36m(SplitCoordinator pid=43665)\u001b[0m Registered dataset logger for dataset val_146_3\n",
      "\u001b[36m(SplitCoordinator pid=43665)\u001b[0m ✔️  Dataset val_146_3 execution finished in 0.19 seconds\n",
      "\u001b[36m(RayTrainWorker pid=43583)\u001b[0m Checkpoint successfully created at: Checkpoint(filesystem=local, path=/Users/ngkuissi/ray_results/TorchTrainer_2025-09-15_13-02-40/TorchTrainer_ca0f8_00000_0_2025-09-15_13-02-40/checkpoint_000003)\n",
      "\u001b[36m(SplitCoordinator pid=43664)\u001b[0m Registered dataset logger for dataset train_144_4\n",
      "\u001b[36m(SplitCoordinator pid=43665)\u001b[0m Starting execution of Dataset val_146_4. Full logs are in /tmp/ray/session_2025-09-15_12-30-08_614560_3457/logs/ray-data\u001b[32m [repeated 2x across cluster]\u001b[0m\n",
      "\u001b[36m(SplitCoordinator pid=43665)\u001b[0m Execution plan of Dataset val_146_4: InputDataBuffer[Input] -> OutputSplitter[split(1, equal=True)]\u001b[32m [repeated 2x across cluster]\u001b[0m\n",
      "\u001b[36m(SplitCoordinator pid=43664)\u001b[0m ✔️  Dataset train_144_4 execution finished in 0.23 seconds\n",
      "\u001b[36m(SplitCoordinator pid=43665)\u001b[0m Registered dataset logger for dataset val_146_4\n",
      "\u001b[36m(SplitCoordinator pid=43665)\u001b[0m ✔️  Dataset val_146_4 execution finished in 0.25 seconds\n",
      "\u001b[36m(RayTrainWorker pid=43583)\u001b[0m Checkpoint successfully created at: Checkpoint(filesystem=local, path=/Users/ngkuissi/ray_results/TorchTrainer_2025-09-15_13-02-40/TorchTrainer_ca0f8_00000_0_2025-09-15_13-02-40/checkpoint_000004)\n",
      "\u001b[36m(SplitCoordinator pid=43664)\u001b[0m Registered dataset logger for dataset train_144_5\n",
      "\u001b[36m(SplitCoordinator pid=43665)\u001b[0m Starting execution of Dataset val_146_5. Full logs are in /tmp/ray/session_2025-09-15_12-30-08_614560_3457/logs/ray-data\u001b[32m [repeated 2x across cluster]\u001b[0m\n",
      "\u001b[36m(SplitCoordinator pid=43665)\u001b[0m Execution plan of Dataset val_146_5: InputDataBuffer[Input] -> OutputSplitter[split(1, equal=True)]\u001b[32m [repeated 2x across cluster]\u001b[0m\n",
      "\u001b[36m(SplitCoordinator pid=43664)\u001b[0m ✔️  Dataset train_144_5 execution finished in 0.24 seconds\n",
      "\u001b[36m(SplitCoordinator pid=43665)\u001b[0m Registered dataset logger for dataset val_146_5\n",
      "\u001b[36m(SplitCoordinator pid=43665)\u001b[0m ✔️  Dataset val_146_5 execution finished in 0.36 seconds\n",
      "\u001b[36m(RayTrainWorker pid=43583)\u001b[0m Checkpoint successfully created at: Checkpoint(filesystem=local, path=/Users/ngkuissi/ray_results/TorchTrainer_2025-09-15_13-02-40/TorchTrainer_ca0f8_00000_0_2025-09-15_13-02-40/checkpoint_000005)\n",
      "\u001b[36m(SplitCoordinator pid=43664)\u001b[0m Registered dataset logger for dataset train_144_6\n",
      "\u001b[36m(SplitCoordinator pid=43665)\u001b[0m Starting execution of Dataset val_146_6. Full logs are in /tmp/ray/session_2025-09-15_12-30-08_614560_3457/logs/ray-data\u001b[32m [repeated 2x across cluster]\u001b[0m\n",
      "\u001b[36m(SplitCoordinator pid=43665)\u001b[0m Execution plan of Dataset val_146_6: InputDataBuffer[Input] -> OutputSplitter[split(1, equal=True)]\u001b[32m [repeated 2x across cluster]\u001b[0m\n",
      "\u001b[36m(SplitCoordinator pid=43664)\u001b[0m ✔️  Dataset train_144_6 execution finished in 0.28 seconds\n",
      "\u001b[36m(SplitCoordinator pid=43665)\u001b[0m Registered dataset logger for dataset val_146_6\n",
      "\u001b[36m(SplitCoordinator pid=43665)\u001b[0m ✔️  Dataset val_146_6 execution finished in 0.21 seconds\n",
      "\u001b[36m(RayTrainWorker pid=43583)\u001b[0m Checkpoint successfully created at: Checkpoint(filesystem=local, path=/Users/ngkuissi/ray_results/TorchTrainer_2025-09-15_13-02-40/TorchTrainer_ca0f8_00000_0_2025-09-15_13-02-40/checkpoint_000006)\n",
      "\u001b[36m(SplitCoordinator pid=43664)\u001b[0m Registered dataset logger for dataset train_144_7\n",
      "\u001b[36m(SplitCoordinator pid=43665)\u001b[0m Starting execution of Dataset val_146_7. Full logs are in /tmp/ray/session_2025-09-15_12-30-08_614560_3457/logs/ray-data\u001b[32m [repeated 2x across cluster]\u001b[0m\n",
      "\u001b[36m(SplitCoordinator pid=43665)\u001b[0m Execution plan of Dataset val_146_7: InputDataBuffer[Input] -> OutputSplitter[split(1, equal=True)]\u001b[32m [repeated 2x across cluster]\u001b[0m\n",
      "\u001b[36m(SplitCoordinator pid=43664)\u001b[0m ✔️  Dataset train_144_7 execution finished in 0.27 seconds\n",
      "\u001b[36m(SplitCoordinator pid=43665)\u001b[0m Registered dataset logger for dataset val_146_7\n",
      "\u001b[36m(SplitCoordinator pid=43665)\u001b[0m ✔️  Dataset val_146_7 execution finished in 0.18 seconds\n",
      "\u001b[36m(RayTrainWorker pid=43583)\u001b[0m Checkpoint successfully created at: Checkpoint(filesystem=local, path=/Users/ngkuissi/ray_results/TorchTrainer_2025-09-15_13-02-40/TorchTrainer_ca0f8_00000_0_2025-09-15_13-02-40/checkpoint_000007)\n",
      "\u001b[36m(SplitCoordinator pid=43664)\u001b[0m Registered dataset logger for dataset train_144_8\n",
      "\u001b[36m(SplitCoordinator pid=43665)\u001b[0m Starting execution of Dataset val_146_8. Full logs are in /tmp/ray/session_2025-09-15_12-30-08_614560_3457/logs/ray-data\u001b[32m [repeated 2x across cluster]\u001b[0m\n",
      "\u001b[36m(SplitCoordinator pid=43665)\u001b[0m Execution plan of Dataset val_146_8: InputDataBuffer[Input] -> OutputSplitter[split(1, equal=True)]\u001b[32m [repeated 2x across cluster]\u001b[0m\n",
      "\u001b[36m(SplitCoordinator pid=43664)\u001b[0m ✔️  Dataset train_144_8 execution finished in 0.32 seconds\n",
      "\u001b[36m(SplitCoordinator pid=43665)\u001b[0m Registered dataset logger for dataset val_146_8\n",
      "\u001b[36m(SplitCoordinator pid=43665)\u001b[0m ✔️  Dataset val_146_8 execution finished in 0.28 seconds\n",
      "\u001b[36m(RayTrainWorker pid=43583)\u001b[0m Checkpoint successfully created at: Checkpoint(filesystem=local, path=/Users/ngkuissi/ray_results/TorchTrainer_2025-09-15_13-02-40/TorchTrainer_ca0f8_00000_0_2025-09-15_13-02-40/checkpoint_000008)\n",
      "\u001b[36m(SplitCoordinator pid=43664)\u001b[0m Registered dataset logger for dataset train_144_9\n",
      "\u001b[36m(SplitCoordinator pid=43664)\u001b[0m Starting execution of Dataset train_144_9. Full logs are in /tmp/ray/session_2025-09-15_12-30-08_614560_3457/logs/ray-data\n",
      "\u001b[36m(SplitCoordinator pid=43664)\u001b[0m Execution plan of Dataset train_144_9: InputDataBuffer[Input] -> OutputSplitter[split(1, equal=True)]\n",
      "\u001b[36m(SplitCoordinator pid=43664)\u001b[0m ✔️  Dataset train_144_9 execution finished in 0.31 seconds\n",
      "\u001b[36m(SplitCoordinator pid=43665)\u001b[0m Registered dataset logger for dataset val_146_9\n",
      "\u001b[36m(SplitCoordinator pid=43665)\u001b[0m Starting execution of Dataset val_146_9. Full logs are in /tmp/ray/session_2025-09-15_12-30-08_614560_3457/logs/ray-data\n",
      "\u001b[36m(SplitCoordinator pid=43665)\u001b[0m Execution plan of Dataset val_146_9: InputDataBuffer[Input] -> OutputSplitter[split(1, equal=True)]\n",
      "\u001b[36m(SplitCoordinator pid=43665)\u001b[0m ✔️  Dataset val_146_9 execution finished in 0.18 seconds\n",
      "\u001b[36m(RayTrainWorker pid=43583)\u001b[0m Checkpoint successfully created at: Checkpoint(filesystem=local, path=/Users/ngkuissi/ray_results/TorchTrainer_2025-09-15_13-02-40/TorchTrainer_ca0f8_00000_0_2025-09-15_13-02-40/checkpoint_000009)\n",
      "\u001b[36m(TrainTrainable pid=64048)\u001b[0m /Users/ngkuissi/Dev/learning/Made-With-ML/venv/lib/python3.10/site-packages/mlflow/utils/requirements_utils.py:12: UserWarning: pkg_resources is deprecated as an API. See https://setuptools.pypa.io/en/latest/pkg_resources.html. The pkg_resources package is slated for removal as early as 2025-11-30. Refrain from using this package or pin to Setuptools<81.\n",
      "\u001b[36m(TrainTrainable pid=64048)\u001b[0m   import pkg_resources\n",
      "\u001b[36m(TorchTrainer pid=64048)\u001b[0m /Users/ngkuissi/Dev/learning/Made-With-ML/venv/lib/python3.10/site-packages/ray/train/base_trainer.py:584: RayDeprecationWarning: `ray.train.RunConfig(callbacks: List[ray.tune.Callback])` is deprecated. Ray Train no longer accepts Ray Tune callbacks, since the Ray Train execution backend is being separated from Ray Tune. See this issue for more context and migration options: https://github.com/ray-project/ray/issues/49454. Disable these warnings by setting the environment variable: RAY_TRAIN_ENABLE_V2_MIGRATION_WARNINGS=0\n",
      "\u001b[36m(TorchTrainer pid=64048)\u001b[0m   _log_deprecation_warning(CALLBACKS_DEPRECATION_MESSAGE)\n",
      "\u001b[36m(TorchTrainer pid=64048)\u001b[0m Started distributed worker processes: \n",
      "\u001b[36m(TorchTrainer pid=64048)\u001b[0m - (node_id=4514140190772872c09e0301ea56f51c2c34c1de0e071a4ab3fbd0ab, ip=127.0.0.1, pid=64194) world_rank=0, local_rank=0, node_rank=0\n",
      "\u001b[36m(RayTrainWorker pid=64194)\u001b[0m Setting up process group for: env:// [rank=0, world_size=1]\n",
      "\u001b[36m(RayTrainWorker pid=64194)\u001b[0m /Users/ngkuissi/Dev/learning/Made-With-ML/venv/lib/python3.10/site-packages/huggingface_hub/file_download.py:945: FutureWarning: `resume_download` is deprecated and will be removed in version 1.0.0. Downloads always resume when possible. If you want to force a new download, use `force_download=True`.\n",
      "\u001b[36m(RayTrainWorker pid=64194)\u001b[0m   warnings.warn(\n",
      "\u001b[36m(RayTrainWorker pid=64194)\u001b[0m Some weights of the model checkpoint at allenai/scibert_scivocab_uncased were not used when initializing BertModel: ['cls.predictions.bias', 'cls.predictions.decoder.bias', 'cls.predictions.transform.dense.weight', 'cls.predictions.transform.LayerNorm.bias', 'cls.predictions.decoder.weight', 'cls.predictions.transform.LayerNorm.weight', 'cls.seq_relationship.bias', 'cls.seq_relationship.weight', 'cls.predictions.transform.dense.bias']\n",
      "\u001b[36m(RayTrainWorker pid=64194)\u001b[0m - This IS expected if you are initializing BertModel from the checkpoint of a model trained on another task or with another architecture (e.g. initializing a BertForSequenceClassification model from a BertForPreTraining model).\n",
      "\u001b[36m(RayTrainWorker pid=64194)\u001b[0m - This IS NOT expected if you are initializing BertModel from the checkpoint of a model that you expect to be exactly identical (initializing a BertForSequenceClassification model from a BertForSequenceClassification model).\n",
      "\u001b[36m(TrainTrainable pid=64195)\u001b[0m /Users/ngkuissi/Dev/learning/Made-With-ML/venv/lib/python3.10/site-packages/mlflow/utils/requirements_utils.py:12: UserWarning: pkg_resources is deprecated as an API. See https://setuptools.pypa.io/en/latest/pkg_resources.html. The pkg_resources package is slated for removal as early as 2025-11-30. Refrain from using this package or pin to Setuptools<81.\n",
      "\u001b[36m(TrainTrainable pid=64195)\u001b[0m   import pkg_resources\n",
      "\u001b[36m(TorchTrainer pid=64195)\u001b[0m /Users/ngkuissi/Dev/learning/Made-With-ML/venv/lib/python3.10/site-packages/ray/train/base_trainer.py:584: RayDeprecationWarning: `ray.train.RunConfig(callbacks: List[ray.tune.Callback])` is deprecated. Ray Train no longer accepts Ray Tune callbacks, since the Ray Train execution backend is being separated from Ray Tune. See this issue for more context and migration options: https://github.com/ray-project/ray/issues/49454. Disable these warnings by setting the environment variable: RAY_TRAIN_ENABLE_V2_MIGRATION_WARNINGS=0\n",
      "\u001b[36m(TorchTrainer pid=64195)\u001b[0m   _log_deprecation_warning(CALLBACKS_DEPRECATION_MESSAGE)\n",
      "\u001b[36m(RayTrainWorker pid=64194)\u001b[0m Moving model to device: cpu\n",
      "\u001b[36m(RayTrainWorker pid=64194)\u001b[0m /Users/ngkuissi/Dev/learning/Made-With-ML/venv/lib/python3.10/site-packages/ray/data/iterator.py:441: RayDeprecationWarning: Passing a function to `iter_torch_batches(collate_fn)` is deprecated in Ray 2.47. Please switch to using a callable class that inherits from `ArrowBatchCollateFn`, `NumpyBatchCollateFn`, or `PandasBatchCollateFn`.\n",
      "\u001b[36m(RayTrainWorker pid=64194)\u001b[0m   warnings.warn(\n",
      "\u001b[36m(SplitCoordinator pid=64273)\u001b[0m Registered dataset logger for dataset train_165_0\n",
      "\u001b[36m(SplitCoordinator pid=64273)\u001b[0m Starting execution of Dataset train_165_0. Full logs are in /tmp/ray/session_2025-09-15_12-30-08_614560_3457/logs/ray-data\n",
      "\u001b[36m(SplitCoordinator pid=64273)\u001b[0m Execution plan of Dataset train_165_0: InputDataBuffer[Input] -> OutputSplitter[split(1, equal=True)]\n",
      "\u001b[36m(SplitCoordinator pid=64273)\u001b[0m ⚠️  Ray's object store is configured to use only 25.3% of available memory (2.0GiB out of 7.9GiB total). For optimal Ray Data performance, we recommend setting the object store to at least 50% of available memory. You can do this by setting the 'object_store_memory' parameter when calling ray.init() or by setting the RAY_DEFAULT_OBJECT_STORE_MEMORY_PROPORTION environment variable.\n",
      "\u001b[36m(RayTrainWorker pid=64194)\u001b[0m /var/folders/7r/vsv5qx453z3931l81y_t76y80000gn/T/ipykernel_3457/700331434.py:7: UserWarning: Creating a tensor from a list of numpy.ndarrays is extremely slow. Please consider converting the list to a single numpy.ndarray with numpy.array() before converting to a tensor. (Triggered internally at /Users/runner/work/pytorch/pytorch/pytorch/torch/csrc/utils/tensor_new.cpp:256.)\n",
      "\u001b[36m(SplitCoordinator pid=64273)\u001b[0m ✔️  Dataset train_165_0 execution finished in 0.23 seconds\n",
      "\u001b[36m(RayTrainWorker pid=64275)\u001b[0m Setting up process group for: env:// [rank=0, world_size=1]\n",
      "\u001b[36m(TorchTrainer pid=64195)\u001b[0m Started distributed worker processes: \n",
      "\u001b[36m(TorchTrainer pid=64195)\u001b[0m - (node_id=4514140190772872c09e0301ea56f51c2c34c1de0e071a4ab3fbd0ab, ip=127.0.0.1, pid=64275) world_rank=0, local_rank=0, node_rank=0\n",
      "\u001b[36m(RayTrainWorker pid=64275)\u001b[0m /Users/ngkuissi/Dev/learning/Made-With-ML/venv/lib/python3.10/site-packages/huggingface_hub/file_download.py:945: FutureWarning: `resume_download` is deprecated and will be removed in version 1.0.0. Downloads always resume when possible. If you want to force a new download, use `force_download=True`.\n",
      "\u001b[36m(RayTrainWorker pid=64275)\u001b[0m   warnings.warn(\n",
      "\u001b[36m(RayTrainWorker pid=64275)\u001b[0m Some weights of the model checkpoint at allenai/scibert_scivocab_uncased were not used when initializing BertModel: ['cls.predictions.transform.dense.weight', 'cls.predictions.decoder.bias', 'cls.predictions.decoder.weight', 'cls.predictions.transform.dense.bias', 'cls.predictions.transform.LayerNorm.bias', 'cls.predictions.transform.LayerNorm.weight', 'cls.seq_relationship.bias', 'cls.predictions.bias', 'cls.seq_relationship.weight']\n",
      "\u001b[36m(RayTrainWorker pid=64275)\u001b[0m - This IS expected if you are initializing BertModel from the checkpoint of a model trained on another task or with another architecture (e.g. initializing a BertForSequenceClassification model from a BertForPreTraining model).\n",
      "\u001b[36m(RayTrainWorker pid=64275)\u001b[0m - This IS NOT expected if you are initializing BertModel from the checkpoint of a model that you expect to be exactly identical (initializing a BertForSequenceClassification model from a BertForSequenceClassification model).\n",
      "\u001b[36m(RayTrainWorker pid=64275)\u001b[0m Moving model to device: cpu\n",
      "\u001b[36m(RayTrainWorker pid=64275)\u001b[0m /Users/ngkuissi/Dev/learning/Made-With-ML/venv/lib/python3.10/site-packages/ray/data/iterator.py:441: RayDeprecationWarning: Passing a function to `iter_torch_batches(collate_fn)` is deprecated in Ray 2.47. Please switch to using a callable class that inherits from `ArrowBatchCollateFn`, `NumpyBatchCollateFn`, or `PandasBatchCollateFn`.\n",
      "\u001b[36m(RayTrainWorker pid=64275)\u001b[0m   warnings.warn(\n",
      "\u001b[36m(SplitCoordinator pid=64389)\u001b[0m Registered dataset logger for dataset train_169_0\n",
      "\u001b[36m(SplitCoordinator pid=64389)\u001b[0m Starting execution of Dataset train_169_0. Full logs are in /tmp/ray/session_2025-09-15_12-30-08_614560_3457/logs/ray-data\n",
      "\u001b[36m(SplitCoordinator pid=64389)\u001b[0m Execution plan of Dataset train_169_0: InputDataBuffer[Input] -> OutputSplitter[split(1, equal=True)]\n",
      "\u001b[36m(SplitCoordinator pid=64389)\u001b[0m ⚠️  Ray's object store is configured to use only 25.3% of available memory (2.0GiB out of 7.9GiB total). For optimal Ray Data performance, we recommend setting the object store to at least 50% of available memory. You can do this by setting the 'object_store_memory' parameter when calling ray.init() or by setting the RAY_DEFAULT_OBJECT_STORE_MEMORY_PROPORTION environment variable.\n",
      "\u001b[36m(RayTrainWorker pid=64275)\u001b[0m /var/folders/7r/vsv5qx453z3931l81y_t76y80000gn/T/ipykernel_3457/700331434.py:7: UserWarning: Creating a tensor from a list of numpy.ndarrays is extremely slow. Please consider converting the list to a single numpy.ndarray with numpy.array() before converting to a tensor. (Triggered internally at /Users/runner/work/pytorch/pytorch/pytorch/torch/csrc/utils/tensor_new.cpp:256.)\n",
      "\u001b[36m(SplitCoordinator pid=64389)\u001b[0m ✔️  Dataset train_169_0 execution finished in 0.33 seconds\n",
      "\u001b[36m(RayTrainWorker pid=64194)\u001b[0m Checkpoint successfully created at: Checkpoint(filesystem=local, path=/Users/ngkuissi/ray_results/TorchTrainer_2025-09-17_14-25-41/TorchTrainer_041ee198_1_dropout_p=0.5000,lr=0.0001,lr_factor=0.8000,lr_patience=3.0000_2025-09-17_14-25-51/checkpoint_000000)\n",
      "\u001b[36m(SplitCoordinator pid=64274)\u001b[0m Registered dataset logger for dataset val_167_0\n",
      "\u001b[36m(SplitCoordinator pid=64274)\u001b[0m Starting execution of Dataset val_167_0. Full logs are in /tmp/ray/session_2025-09-15_12-30-08_614560_3457/logs/ray-data\n",
      "\u001b[36m(SplitCoordinator pid=64274)\u001b[0m Execution plan of Dataset val_167_0: InputDataBuffer[Input] -> OutputSplitter[split(1, equal=True)]\n",
      "\u001b[36m(SplitCoordinator pid=64274)\u001b[0m ⚠️  Ray's object store is configured to use only 25.3% of available memory (2.0GiB out of 7.9GiB total). For optimal Ray Data performance, we recommend setting the object store to at least 50% of available memory. You can do this by setting the 'object_store_memory' parameter when calling ray.init() or by setting the RAY_DEFAULT_OBJECT_STORE_MEMORY_PROPORTION environment variable.\n",
      "\u001b[36m(SplitCoordinator pid=64274)\u001b[0m ✔️  Dataset val_167_0 execution finished in 0.31 seconds\n",
      "\u001b[36m(SplitCoordinator pid=64273)\u001b[0m Registered dataset logger for dataset train_165_1\n",
      "\u001b[36m(SplitCoordinator pid=64273)\u001b[0m Starting execution of Dataset train_165_1. Full logs are in /tmp/ray/session_2025-09-15_12-30-08_614560_3457/logs/ray-data\n",
      "\u001b[36m(SplitCoordinator pid=64273)\u001b[0m Execution plan of Dataset train_165_1: InputDataBuffer[Input] -> OutputSplitter[split(1, equal=True)]\n",
      "\u001b[36m(SplitCoordinator pid=64273)\u001b[0m ✔️  Dataset train_165_1 execution finished in 0.40 seconds\n",
      "\u001b[36m(SplitCoordinator pid=64390)\u001b[0m Registered dataset logger for dataset val_171_0\n",
      "\u001b[36m(SplitCoordinator pid=64390)\u001b[0m Starting execution of Dataset val_171_0. Full logs are in /tmp/ray/session_2025-09-15_12-30-08_614560_3457/logs/ray-data\n",
      "\u001b[36m(SplitCoordinator pid=64390)\u001b[0m Execution plan of Dataset val_171_0: InputDataBuffer[Input] -> OutputSplitter[split(1, equal=True)]\n",
      "\u001b[36m(SplitCoordinator pid=64390)\u001b[0m ⚠️  Ray's object store is configured to use only 25.3% of available memory (2.0GiB out of 7.9GiB total). For optimal Ray Data performance, we recommend setting the object store to at least 50% of available memory. You can do this by setting the 'object_store_memory' parameter when calling ray.init() or by setting the RAY_DEFAULT_OBJECT_STORE_MEMORY_PROPORTION environment variable.\n",
      "\u001b[36m(SplitCoordinator pid=64390)\u001b[0m ✔️  Dataset val_171_0 execution finished in 0.48 seconds\n",
      "\u001b[36m(RayTrainWorker pid=64275)\u001b[0m Checkpoint successfully created at: Checkpoint(filesystem=local, path=/Users/ngkuissi/ray_results/TorchTrainer_2025-09-17_14-25-41/TorchTrainer_38be6225_2_dropout_p=0.4155,lr=0.0001,lr_factor=0.3974,lr_patience=2.5098_2025-09-17_14-25-59/checkpoint_000000)\n",
      "\u001b[36m(SplitCoordinator pid=64389)\u001b[0m Registered dataset logger for dataset train_169_1\n",
      "\u001b[36m(SplitCoordinator pid=64389)\u001b[0m Starting execution of Dataset train_169_1. Full logs are in /tmp/ray/session_2025-09-15_12-30-08_614560_3457/logs/ray-data\n",
      "\u001b[36m(SplitCoordinator pid=64389)\u001b[0m Execution plan of Dataset train_169_1: InputDataBuffer[Input] -> OutputSplitter[split(1, equal=True)]\n",
      "\u001b[36m(SplitCoordinator pid=64389)\u001b[0m ✔️  Dataset train_169_1 execution finished in 0.44 seconds\n",
      "\u001b[36m(SplitCoordinator pid=64274)\u001b[0m Registered dataset logger for dataset val_167_1\n",
      "\u001b[36m(SplitCoordinator pid=64274)\u001b[0m Starting execution of Dataset val_167_1. Full logs are in /tmp/ray/session_2025-09-15_12-30-08_614560_3457/logs/ray-data\n",
      "\u001b[36m(SplitCoordinator pid=64274)\u001b[0m Execution plan of Dataset val_167_1: InputDataBuffer[Input] -> OutputSplitter[split(1, equal=True)]\n",
      "\u001b[36m(SplitCoordinator pid=64274)\u001b[0m ✔️  Dataset val_167_1 execution finished in 0.59 seconds\n",
      "\u001b[36m(RayTrainWorker pid=64194)\u001b[0m Checkpoint successfully created at: Checkpoint(filesystem=local, path=/Users/ngkuissi/ray_results/TorchTrainer_2025-09-17_14-25-41/TorchTrainer_041ee198_1_dropout_p=0.5000,lr=0.0001,lr_factor=0.8000,lr_patience=3.0000_2025-09-17_14-25-51/checkpoint_000001)\n",
      "\u001b[36m(SplitCoordinator pid=64273)\u001b[0m Registered dataset logger for dataset train_165_2\n",
      "\u001b[36m(SplitCoordinator pid=64273)\u001b[0m Starting execution of Dataset train_165_2. Full logs are in /tmp/ray/session_2025-09-15_12-30-08_614560_3457/logs/ray-data\n",
      "\u001b[36m(SplitCoordinator pid=64273)\u001b[0m Execution plan of Dataset train_165_2: InputDataBuffer[Input] -> OutputSplitter[split(1, equal=True)]\n",
      "\u001b[36m(SplitCoordinator pid=64274)\u001b[0m Starting execution of Dataset val_167_2. Full logs are in /tmp/ray/session_2025-09-15_12-30-08_614560_3457/logs/ray-data\n",
      "\u001b[36m(SplitCoordinator pid=64274)\u001b[0m Execution plan of Dataset val_167_2: InputDataBuffer[Input] -> OutputSplitter[split(1, equal=True)]\n",
      "\u001b[36m(SplitCoordinator pid=64273)\u001b[0m ✔️  Dataset train_165_2 execution finished in 0.32 seconds\n",
      "\u001b[36m(SplitCoordinator pid=64274)\u001b[0m Registered dataset logger for dataset val_167_2\n",
      "\u001b[36m(SplitCoordinator pid=64274)\u001b[0m ✔️  Dataset val_167_2 execution finished in 0.83 seconds\n",
      "\u001b[36m(RayTrainWorker pid=64194)\u001b[0m Checkpoint successfully created at: Checkpoint(filesystem=local, path=/Users/ngkuissi/ray_results/TorchTrainer_2025-09-17_14-25-41/TorchTrainer_041ee198_1_dropout_p=0.5000,lr=0.0001,lr_factor=0.8000,lr_patience=3.0000_2025-09-17_14-25-51/checkpoint_000002)\n",
      "\u001b[36m(SplitCoordinator pid=64273)\u001b[0m Registered dataset logger for dataset train_165_3\n",
      "\u001b[36m(SplitCoordinator pid=64273)\u001b[0m Starting execution of Dataset train_165_3. Full logs are in /tmp/ray/session_2025-09-15_12-30-08_614560_3457/logs/ray-data\n",
      "\u001b[36m(SplitCoordinator pid=64273)\u001b[0m Execution plan of Dataset train_165_3: InputDataBuffer[Input] -> OutputSplitter[split(1, equal=True)]\n",
      "\u001b[36m(SplitCoordinator pid=64273)\u001b[0m ✔️  Dataset train_165_3 execution finished in 0.45 seconds\n",
      "\u001b[36m(SplitCoordinator pid=64390)\u001b[0m Registered dataset logger for dataset val_171_1\n",
      "\u001b[36m(SplitCoordinator pid=64390)\u001b[0m Starting execution of Dataset val_171_1. Full logs are in /tmp/ray/session_2025-09-15_12-30-08_614560_3457/logs/ray-data\n",
      "\u001b[36m(SplitCoordinator pid=64390)\u001b[0m Execution plan of Dataset val_171_1: InputDataBuffer[Input] -> OutputSplitter[split(1, equal=True)]\n",
      "\u001b[36m(SplitCoordinator pid=64390)\u001b[0m ✔️  Dataset val_171_1 execution finished in 0.61 seconds\n",
      "\u001b[36m(RayTrainWorker pid=64275)\u001b[0m Checkpoint successfully created at: Checkpoint(filesystem=local, path=/Users/ngkuissi/ray_results/TorchTrainer_2025-09-17_14-25-41/TorchTrainer_38be6225_2_dropout_p=0.4155,lr=0.0001,lr_factor=0.3974,lr_patience=2.5098_2025-09-17_14-25-59/checkpoint_000001)\n",
      "\u001b[36m(SplitCoordinator pid=64389)\u001b[0m Registered dataset logger for dataset train_169_2\n",
      "\u001b[36m(SplitCoordinator pid=64389)\u001b[0m Starting execution of Dataset train_169_2. Full logs are in /tmp/ray/session_2025-09-15_12-30-08_614560_3457/logs/ray-data\n",
      "\u001b[36m(SplitCoordinator pid=64389)\u001b[0m Execution plan of Dataset train_169_2: InputDataBuffer[Input] -> OutputSplitter[split(1, equal=True)]\n",
      "\u001b[36m(SplitCoordinator pid=64389)\u001b[0m ✔️  Dataset train_169_2 execution finished in 0.63 seconds\n",
      "\u001b[36m(SplitCoordinator pid=64274)\u001b[0m Registered dataset logger for dataset val_167_3\n",
      "\u001b[36m(SplitCoordinator pid=64274)\u001b[0m Starting execution of Dataset val_167_3. Full logs are in /tmp/ray/session_2025-09-15_12-30-08_614560_3457/logs/ray-data\n",
      "\u001b[36m(SplitCoordinator pid=64274)\u001b[0m Execution plan of Dataset val_167_3: InputDataBuffer[Input] -> OutputSplitter[split(1, equal=True)]\n",
      "\u001b[36m(SplitCoordinator pid=64274)\u001b[0m ✔️  Dataset val_167_3 execution finished in 0.49 seconds\n",
      "\u001b[36m(RayTrainWorker pid=64194)\u001b[0m Checkpoint successfully created at: Checkpoint(filesystem=local, path=/Users/ngkuissi/ray_results/TorchTrainer_2025-09-17_14-25-41/TorchTrainer_041ee198_1_dropout_p=0.5000,lr=0.0001,lr_factor=0.8000,lr_patience=3.0000_2025-09-17_14-25-51/checkpoint_000003)\n",
      "\u001b[36m(SplitCoordinator pid=64273)\u001b[0m Registered dataset logger for dataset train_165_4\n"
     ]
    }
   ],
   "source": [
    "if ray.is_initialized():\n",
    "    ray.shutdown()\n",
    "ray.init(include_dashboard=True)"
   ]
  },
  {
   "cell_type": "code",
   "execution_count": 3,
   "id": "ab6a5005",
   "metadata": {},
   "outputs": [
    {
     "data": {
      "text/plain": [
       "{'CPU': 8.0,\n",
       " 'object_store_memory': 2147483648.0,\n",
       " 'node:127.0.0.1': 1.0,\n",
       " 'memory': 8502460416.0,\n",
       " 'node:__internal_head__': 1.0}"
      ]
     },
     "execution_count": 3,
     "metadata": {},
     "output_type": "execute_result"
    }
   ],
   "source": [
    "ray.cluster_resources()"
   ]
  },
  {
   "cell_type": "markdown",
   "id": "622985e6",
   "metadata": {},
   "source": [
    "## Finetunning our own llm"
   ]
  },
  {
   "cell_type": "code",
   "execution_count": 4,
   "id": "c6a9f6dc",
   "metadata": {},
   "outputs": [],
   "source": [
    "import os\n",
    "import random\n",
    "import torch\n",
    "import numpy as np\n",
    "import ray\n",
    "from ray.data.preprocessor import Preprocessor"
   ]
  },
  {
   "cell_type": "code",
   "execution_count": 5,
   "id": "cba1528d",
   "metadata": {},
   "outputs": [],
   "source": [
    "def set_seed(seed=42):\n",
    "    \"\"\"Set seeds for reproducibility.\"\"\"\n",
    "    np.random.seed(seed)\n",
    "    random.seed(seed)\n",
    "    torch.manual_seed(seed)\n",
    "    #torch.cuda.manual_seed(seed)\n",
    "    #eval(\"setattr(torch.backends.cudnn, 'deterministic', True)\")\n",
    "    #eval(\"setattr(torch.backends.cudnn, 'benchmark', False)\")\n",
    "    os.environ['PYTHONHASHSEED'] = str(seed)"
   ]
  },
  {
   "cell_type": "code",
   "execution_count": 6,
   "id": "3ceea06c",
   "metadata": {},
   "outputs": [],
   "source": [
    "set_seed()"
   ]
  },
  {
   "cell_type": "code",
   "execution_count": 7,
   "id": "09569994",
   "metadata": {},
   "outputs": [],
   "source": [
    "DATASET_LOC = \"https://raw.githubusercontent.com/GokuMohandas/Made-With-ML/main/datasets/dataset.csv\""
   ]
  },
  {
   "cell_type": "code",
   "execution_count": 8,
   "id": "fdbc1311",
   "metadata": {},
   "outputs": [],
   "source": [
    "def load_data(num_samples=None, loc=DATASET_LOC):\n",
    "    ds = ray.data.read_csv(loc)\n",
    "    ds = ds.random_shuffle(seed=1234)\n",
    "    ds = ray.data.from_items(ds.take(num_samples)) if num_samples else ds\n",
    "    return ds"
   ]
  },
  {
   "cell_type": "markdown",
   "id": "597bb254",
   "metadata": {},
   "source": [
    "<div style=\"border-left: 4px solid #00c896; background-color:rgb(23, 22, 22); padding: 1em; border-radius: 8px; margin: 1em 0;\">\n",
    "  <p style=\"margin: 0; font-weight: bold; color: #059669;\">💡 Tip</p>\n",
    "  <p style=\"margin: 0;\">\n",
    "    When working with very large datasets, it's a good idea to limit the number of samples in our dataset so that we can execute our code quickly and iterate on bugs, etc.  \n",
    "    This is why we have a <code>num_samples</code> input argument in our <code>load_data</code> function (<code>None</code> = no limit, all samples).\n",
    "  </p>\n",
    "</div>\n"
   ]
  },
  {
   "cell_type": "markdown",
   "id": "cb906b86",
   "metadata": {},
   "source": [
    "## Helpful functions"
   ]
  },
  {
   "cell_type": "code",
   "execution_count": 9,
   "id": "ad3c5248",
   "metadata": {},
   "outputs": [],
   "source": [
    "import numpy as np\n",
    "from transformers import BertTokenizer\n",
    "import re\n",
    "import nltk\n",
    "from nltk.corpus import stopwords"
   ]
  },
  {
   "cell_type": "code",
   "execution_count": 10,
   "id": "682f5a4b",
   "metadata": {},
   "outputs": [
    {
     "name": "stderr",
     "output_type": "stream",
     "text": [
      "[nltk_data] Downloading package stopwords to\n",
      "[nltk_data]     /Users/ngkuissi/nltk_data...\n",
      "[nltk_data]   Package stopwords is already up-to-date!\n"
     ]
    }
   ],
   "source": [
    "nltk.download(\"stopwords\")\n",
    "STOPWORDS = stopwords.words(\"english\")"
   ]
  },
  {
   "cell_type": "code",
   "execution_count": 11,
   "id": "b504086e",
   "metadata": {},
   "outputs": [
    {
     "name": "stderr",
     "output_type": "stream",
     "text": [
      "/Users/ngkuissi/Dev/learning/Made-With-ML/venv/lib/python3.10/site-packages/huggingface_hub/file_download.py:945: FutureWarning: `resume_download` is deprecated and will be removed in version 1.0.0. Downloads always resume when possible. If you want to force a new download, use `force_download=True`.\n",
      "  warnings.warn(\n"
     ]
    }
   ],
   "source": [
    "tokenizer = BertTokenizer.from_pretrained(\"allenai/scibert_scivocab_uncased\", return_dict=False)"
   ]
  },
  {
   "cell_type": "code",
   "execution_count": 12,
   "id": "80382565",
   "metadata": {},
   "outputs": [],
   "source": [
    "def tokenize(batch, tokenizer=tokenizer):\n",
    "    encoded_inputs = tokenizer(batch['text'].tolist(), return_tensors=\"np\", padding=\"longest\")\n",
    "    return dict(ids=encoded_inputs['input_ids'], mask=encoded_inputs['attention_mask'],\n",
    "                target=np.array(batch['tag']))"
   ]
  },
  {
   "cell_type": "code",
   "execution_count": 13,
   "id": "86a7e322",
   "metadata": {},
   "outputs": [],
   "source": [
    "def clean_text(text, stopwords=STOPWORDS):\n",
    "    \"\"\"Clean raw text string.\"\"\"\n",
    "    text = text.lower()\n",
    "    \n",
    "    # remove stopwords\n",
    "    pattern = re.compile(r'\\b(' + r\"|\".join(stopwords) + r\")\\b\\s*\")\n",
    "    text = pattern.sub(\"\", text)\n",
    "    \n",
    "    text = re.sub(r\"([!\\\"'#$%&()*\\+,-./:;<=>?@\\\\\\[\\]^_`{|}~])\", r\" \\1 \", text)  # add spacing\n",
    "    text = re.sub(\"[^A-Za-z0-9]+\", \" \", text)  # remove non alphanumeric chars\n",
    "    text = re.sub(\" +\", \" \", text)  # remove multiple spaces\n",
    "    text = text.strip()  # strip white space at the ends\n",
    "    text = re.sub(r\"http\\S+\", \"\", text)  #  remove links\n",
    "    \n",
    "    return text\n",
    "    "
   ]
  },
  {
   "cell_type": "code",
   "execution_count": 14,
   "id": "d574e465",
   "metadata": {},
   "outputs": [],
   "source": [
    "def preprocess(df, class_to_index):\n",
    "    \"\"\"Preprocess the data.\"\"\"\n",
    "    df[\"text\"] = df.title + \" \" + df.description  # feature engineering\n",
    "    df[\"text\"] = df.text.apply(clean_text)  # clean text\n",
    "    df = df.drop(columns=[\"id\", \"created_on\", \"title\", \"description\"], errors=\"ignore\")  # clean dataframe\n",
    "    df = df[[\"text\", \"tag\"]]  # rearrange columns\n",
    "    df[\"tag\"] = df[\"tag\"].map(class_to_index)  # label encoding\n",
    "    outputs = tokenize(df)\n",
    "    return outputs"
   ]
  },
  {
   "cell_type": "code",
   "execution_count": 15,
   "id": "dce71d63",
   "metadata": {},
   "outputs": [],
   "source": [
    "class CustomPreprocessor(Preprocessor):\n",
    "    \n",
    "    def _fit(self, ds):\n",
    "        tags = ds.unique(column=\"tag\")\n",
    "        self.class_to_index = {tag: i for i, tag in enumerate(tags)}\n",
    "        self.index_to_class = {v:k for k, v in self.class_to_index.items()}\n",
    "    \n",
    "    def _transform_pandas(self, batch):\n",
    "        return preprocess(batch, class_to_index=self.class_to_index)"
   ]
  },
  {
   "cell_type": "code",
   "execution_count": 16,
   "id": "dae7ea27",
   "metadata": {},
   "outputs": [],
   "source": [
    "def decode(indices, index_to_class):\n",
    "    return [index_to_class[idx] for idx in indices]"
   ]
  },
  {
   "cell_type": "markdown",
   "id": "1fa7c32f",
   "metadata": {},
   "source": [
    "## Model"
   ]
  },
  {
   "cell_type": "code",
   "execution_count": 17,
   "id": "382a2830",
   "metadata": {},
   "outputs": [],
   "source": [
    "import torch.nn as nn\n",
    "import torch.nn.functional as F\n",
    "from transformers import BertModel"
   ]
  },
  {
   "cell_type": "code",
   "execution_count": 18,
   "id": "785e8e4e",
   "metadata": {},
   "outputs": [
    {
     "name": "stderr",
     "output_type": "stream",
     "text": [
      "Some weights of the model checkpoint at allenai/scibert_scivocab_uncased were not used when initializing BertModel: ['cls.predictions.decoder.bias', 'cls.predictions.transform.dense.weight', 'cls.predictions.bias', 'cls.seq_relationship.weight', 'cls.predictions.decoder.weight', 'cls.predictions.transform.dense.bias', 'cls.predictions.transform.LayerNorm.bias', 'cls.seq_relationship.bias', 'cls.predictions.transform.LayerNorm.weight']\n",
      "- This IS expected if you are initializing BertModel from the checkpoint of a model trained on another task or with another architecture (e.g. initializing a BertForSequenceClassification model from a BertForPreTraining model).\n",
      "- This IS NOT expected if you are initializing BertModel from the checkpoint of a model that you expect to be exactly identical (initializing a BertForSequenceClassification model from a BertForSequenceClassification model).\n"
     ]
    }
   ],
   "source": [
    "llm = BertModel.from_pretrained(\"allenai/scibert_scivocab_uncased\", return_dict=False)\n",
    "embedding_dim = llm.config.hidden_size"
   ]
  },
  {
   "cell_type": "code",
   "execution_count": 19,
   "id": "28885a92",
   "metadata": {},
   "outputs": [],
   "source": [
    "text = \"Transfer learning with transformers for text classification.\"\n",
    "batch = tokenizer([text], return_tensors=\"pt\", padding=\"longest\")\n",
    "seq, pool = llm(input_ids=batch['input_ids'], attention_mask=batch['attention_mask'])"
   ]
  },
  {
   "cell_type": "code",
   "execution_count": 20,
   "id": "34e6b64c",
   "metadata": {},
   "outputs": [
    {
     "data": {
      "text/plain": [
       "torch.Size([1, 10, 768])"
      ]
     },
     "execution_count": 20,
     "metadata": {},
     "output_type": "execute_result"
    }
   ],
   "source": [
    "seq.shape"
   ]
  },
  {
   "cell_type": "code",
   "execution_count": 21,
   "id": "68b8a671",
   "metadata": {},
   "outputs": [
    {
     "data": {
      "text/plain": [
       "torch.Size([1, 768])"
      ]
     },
     "execution_count": 21,
     "metadata": {},
     "output_type": "execute_result"
    }
   ],
   "source": [
    "pool.shape"
   ]
  },
  {
   "cell_type": "code",
   "execution_count": 22,
   "id": "36c3aefc",
   "metadata": {},
   "outputs": [],
   "source": [
    "class FinetunnedLLM(nn.Module):\n",
    "    \n",
    "    def __init__(self, llm, dropout_p, embedding_dim, num_classes):\n",
    "        super(FinetunnedLLM, self).__init__()\n",
    "        self.llm = llm\n",
    "        self.dropout = nn.Dropout(dropout_p)\n",
    "        self.classifier = nn.Linear(embedding_dim, num_classes)\n",
    "    \n",
    "    def forward(self, batch):\n",
    "        ids, mask = batch['ids'], batch['mask']\n",
    "        _, pool = self.llm(input_ids=ids, attention_mask = mask)\n",
    "        \n",
    "        return self.classifier(self.dropout(pool))\n",
    "\n",
    "    @torch.inference_mode\n",
    "    def predict(self, batch):\n",
    "        self.eval()\n",
    "        z = self(batch)\n",
    "        return torch.argmax(z, dim=-1).cpu().numpy()\n",
    "\n",
    "    @torch.inference_mode\n",
    "    def predict_prob(self, batch):\n",
    "        self.eval()\n",
    "        z = self(batch)\n",
    "        y_probs = F.softmax(z, dim=-1).cpu().numpy()\n",
    "        return y_probs"
   ]
  },
  {
   "cell_type": "code",
   "execution_count": 23,
   "id": "8a1e89cf",
   "metadata": {},
   "outputs": [],
   "source": [
    "model = FinetunnedLLM(llm, 0.5, embedding_dim, 4)"
   ]
  },
  {
   "cell_type": "code",
   "execution_count": 24,
   "id": "cc74c944",
   "metadata": {},
   "outputs": [
    {
     "data": {
      "text/plain": [
       "True"
      ]
     },
     "execution_count": 24,
     "metadata": {},
     "output_type": "execute_result"
    }
   ],
   "source": [
    "next(model.parameters()).device == torch.device(\"cpu\")"
   ]
  },
  {
   "cell_type": "markdown",
   "id": "5b215440",
   "metadata": {},
   "source": [
    "## Data setup"
   ]
  },
  {
   "cell_type": "code",
   "execution_count": 25,
   "id": "87e59ca4",
   "metadata": {},
   "outputs": [],
   "source": [
    "ray.data.DatasetContext.get_current().execution_options.preserve_order = True\n",
    "ds = ray.data.read_csv(DATASET_LOC)\n",
    "ds = ds.random_shuffle(seed=1234)"
   ]
  },
  {
   "cell_type": "code",
   "execution_count": 26,
   "id": "f32fcf2b",
   "metadata": {},
   "outputs": [
    {
     "name": "stderr",
     "output_type": "stream",
     "text": [
      "/Users/ngkuissi/Dev/learning/Made-With-ML/venv/lib/python3.10/site-packages/mlflow/utils/requirements_utils.py:12: UserWarning: pkg_resources is deprecated as an API. See https://setuptools.pypa.io/en/latest/pkg_resources.html. The pkg_resources package is slated for removal as early as 2025-11-30. Refrain from using this package or pin to Setuptools<81.\n",
      "  import pkg_resources\n"
     ]
    }
   ],
   "source": [
    "import sys\n",
    "sys.path.append(\"..\")\n",
    "from madewithml.data import stratify_split"
   ]
  },
  {
   "cell_type": "code",
   "execution_count": 27,
   "id": "85d16440",
   "metadata": {},
   "outputs": [],
   "source": [
    "test_size = 0.2\n",
    "train_ds, val_ds = stratify_split(ds, stratify=\"tag\", test_size=test_size)"
   ]
  },
  {
   "cell_type": "code",
   "execution_count": 28,
   "id": "398e78b8",
   "metadata": {},
   "outputs": [
    {
     "name": "stderr",
     "output_type": "stream",
     "text": [
      "2025-09-15 12:30:48,562\tINFO dataset.py:3246 -- Tip: Use `take_batch()` instead of `take() / show()` to return records in pandas or numpy batch format.\n",
      "2025-09-15 12:30:48,571\tINFO logging.py:295 -- Registered dataset logger for dataset dataset_10_0\n",
      "2025-09-15 12:30:48,591\tINFO streaming_executor.py:159 -- Starting execution of Dataset dataset_10_0. Full logs are in /tmp/ray/session_2025-09-15_12-30-08_614560_3457/logs/ray-data\n",
      "2025-09-15 12:30:48,591\tINFO streaming_executor.py:160 -- Execution plan of Dataset dataset_10_0: InputDataBuffer[Input] -> TaskPoolMapOperator[ReadCSV] -> AllToAllOperator[RandomShuffle] -> AllToAllOperator[Sort] -> AllToAllOperator[MapBatches(_add_split)->MapBatches(_filter_split)->RandomShuffle] -> AllToAllOperator[Aggregate] -> LimitOperator[limit=1]\n"
     ]
    },
    {
     "data": {
      "application/vnd.jupyter.widget-view+json": {
       "model_id": "7c40c3588244417cb6d6f2868fa1d2da",
       "version_major": 2,
       "version_minor": 0
      },
      "text/plain": [
       "Running 0: 0.00 row [00:00, ? row/s]"
      ]
     },
     "metadata": {},
     "output_type": "display_data"
    },
    {
     "data": {
      "application/vnd.jupyter.widget-view+json": {
       "model_id": "3bebaa959c0c46c580e9cba9e5face9c",
       "version_major": 2,
       "version_minor": 0
      },
      "text/plain": [
       "- ReadCSV->SplitBlocks(16) 1: 0.00 row [00:00, ? row/s]"
      ]
     },
     "metadata": {},
     "output_type": "display_data"
    },
    {
     "data": {
      "application/vnd.jupyter.widget-view+json": {
       "model_id": "80b5e7b754054b80a619318c086e9197",
       "version_major": 2,
       "version_minor": 0
      },
      "text/plain": [
       "- RandomShuffle 2: 0.00 row [00:00, ? row/s]"
      ]
     },
     "metadata": {},
     "output_type": "display_data"
    },
    {
     "data": {
      "application/vnd.jupyter.widget-view+json": {
       "model_id": "6a2426804763420bbfa158657dd93ab9",
       "version_major": 2,
       "version_minor": 0
      },
      "text/plain": [
       "Shuffle Map 3:   0%|          | 0.00/1.00 [00:00<?, ? row/s]"
      ]
     },
     "metadata": {},
     "output_type": "display_data"
    },
    {
     "data": {
      "application/vnd.jupyter.widget-view+json": {
       "model_id": "f48dd624e2254e5d8869b083625c50c2",
       "version_major": 2,
       "version_minor": 0
      },
      "text/plain": [
       "Shuffle Reduce 4:   0%|          | 0.00/1.00 [00:00<?, ? row/s]"
      ]
     },
     "metadata": {},
     "output_type": "display_data"
    },
    {
     "data": {
      "application/vnd.jupyter.widget-view+json": {
       "model_id": "0d18a95ce3f24807a260ddc39213ec36",
       "version_major": 2,
       "version_minor": 0
      },
      "text/plain": [
       "- Sort 5: 0.00 row [00:00, ? row/s]"
      ]
     },
     "metadata": {},
     "output_type": "display_data"
    },
    {
     "data": {
      "application/vnd.jupyter.widget-view+json": {
       "model_id": "d51eca4c31f646e18d164e19b4e04c93",
       "version_major": 2,
       "version_minor": 0
      },
      "text/plain": [
       "Sort Sample 6:   0%|          | 0.00/1.00 [00:00<?, ? row/s]"
      ]
     },
     "metadata": {},
     "output_type": "display_data"
    },
    {
     "data": {
      "application/vnd.jupyter.widget-view+json": {
       "model_id": "1f0a17840b4e445daba04b9321d9c2a3",
       "version_major": 2,
       "version_minor": 0
      },
      "text/plain": [
       "Shuffle Map 7:   0%|          | 0.00/1.00 [00:00<?, ? row/s]"
      ]
     },
     "metadata": {},
     "output_type": "display_data"
    },
    {
     "data": {
      "application/vnd.jupyter.widget-view+json": {
       "model_id": "452edb6c82e44677ab1bcdc18569424e",
       "version_major": 2,
       "version_minor": 0
      },
      "text/plain": [
       "Shuffle Reduce 8:   0%|          | 0.00/1.00 [00:00<?, ? row/s]"
      ]
     },
     "metadata": {},
     "output_type": "display_data"
    },
    {
     "data": {
      "application/vnd.jupyter.widget-view+json": {
       "model_id": "7c2d31be459749c09496a548ed5b87bc",
       "version_major": 2,
       "version_minor": 0
      },
      "text/plain": [
       "- MapBatches(_add_split)->MapBatches(_filter_split)->RandomShuffle 9: 0.00 row [00:00, ? row/s]"
      ]
     },
     "metadata": {},
     "output_type": "display_data"
    },
    {
     "data": {
      "application/vnd.jupyter.widget-view+json": {
       "model_id": "68feebdcab0c4ba5ab474f4f00392829",
       "version_major": 2,
       "version_minor": 0
      },
      "text/plain": [
       "Shuffle Map 10:   0%|          | 0.00/1.00 [00:00<?, ? row/s]"
      ]
     },
     "metadata": {},
     "output_type": "display_data"
    },
    {
     "data": {
      "application/vnd.jupyter.widget-view+json": {
       "model_id": "c70ddc92de1f433dbe8cb08e05cf309a",
       "version_major": 2,
       "version_minor": 0
      },
      "text/plain": [
       "Shuffle Reduce 11:   0%|          | 0.00/1.00 [00:00<?, ? row/s]"
      ]
     },
     "metadata": {},
     "output_type": "display_data"
    },
    {
     "data": {
      "application/vnd.jupyter.widget-view+json": {
       "model_id": "2aa97e86aed944cdb6032718d5ef8e6c",
       "version_major": 2,
       "version_minor": 0
      },
      "text/plain": [
       "- Aggregate 12: 0.00 row [00:00, ? row/s]"
      ]
     },
     "metadata": {},
     "output_type": "display_data"
    },
    {
     "data": {
      "application/vnd.jupyter.widget-view+json": {
       "model_id": "4b962e6de3f74c6ba48eba01deac0541",
       "version_major": 2,
       "version_minor": 0
      },
      "text/plain": [
       "Sort Sample 13:   0%|          | 0.00/1.00 [00:00<?, ? row/s]"
      ]
     },
     "metadata": {},
     "output_type": "display_data"
    },
    {
     "data": {
      "application/vnd.jupyter.widget-view+json": {
       "model_id": "bdfddca383ea46e6bc578fcc52de3d25",
       "version_major": 2,
       "version_minor": 0
      },
      "text/plain": [
       "Shuffle Map 14:   0%|          | 0.00/1.00 [00:00<?, ? row/s]"
      ]
     },
     "metadata": {},
     "output_type": "display_data"
    },
    {
     "data": {
      "application/vnd.jupyter.widget-view+json": {
       "model_id": "6c4c60ff11224e20bce73cbb75fa0737",
       "version_major": 2,
       "version_minor": 0
      },
      "text/plain": [
       "Shuffle Reduce 15:   0%|          | 0.00/1.00 [00:00<?, ? row/s]"
      ]
     },
     "metadata": {},
     "output_type": "display_data"
    },
    {
     "data": {
      "application/vnd.jupyter.widget-view+json": {
       "model_id": "d9c657cf25674942a2e523a3a8fef618",
       "version_major": 2,
       "version_minor": 0
      },
      "text/plain": [
       "- limit=1 16: 0.00 row [00:00, ? row/s]"
      ]
     },
     "metadata": {},
     "output_type": "display_data"
    },
    {
     "name": "stderr",
     "output_type": "stream",
     "text": [
      "2025-09-15 12:30:48,754\tWARNING resource_manager.py:134 -- ⚠️  Ray's object store is configured to use only 25.3% of available memory (2.0GiB out of 7.9GiB total). For optimal Ray Data performance, we recommend setting the object store to at least 50% of available memory. You can do this by setting the 'object_store_memory' parameter when calling ray.init() or by setting the RAY_DEFAULT_OBJECT_STORE_MEMORY_PROPORTION environment variable.\n",
      "2025-09-15 12:30:48,844\tWARNING progress_bar.py:120 -- Truncating long operator name to 100 characters. To disable this behavior, set `ray.data.DataContext.get_current().DEFAULT_ENABLE_PROGRESS_BAR_NAME_TRUNCATION = False`.\n",
      "2025-09-15 12:30:51,428\tWARNING streaming_executor_state.py:793 -- Operator produced a RefBundle with a different schema than the previous one. Previous schema: id: int64\n",
      "created_on: timestamp[s]\n",
      "title: string\n",
      "description: string\n",
      "tag: string, new schema: . This may lead to unexpected behavior.\n",
      "2025-09-15 12:30:52,970\tINFO streaming_executor.py:279 -- ✔️  Dataset dataset_10_0 execution finished in 4.38 seconds\n"
     ]
    }
   ],
   "source": [
    "tags = train_ds.unique(column=\"tag\")\n",
    "class_to_index = {tag: i for i, tag in enumerate(tags)}"
   ]
  },
  {
   "cell_type": "code",
   "execution_count": 29,
   "id": "4fed0b82",
   "metadata": {},
   "outputs": [],
   "source": [
    "sample_ds = train_ds.map_batches(\n",
    "    preprocess,\n",
    "    fn_kwargs={\"class_to_index\": class_to_index},\n",
    "    batch_format=\"pandas\"\n",
    ")"
   ]
  },
  {
   "cell_type": "markdown",
   "id": "f4eae6cc",
   "metadata": {},
   "source": [
    "## Batching"
   ]
  },
  {
   "cell_type": "code",
   "execution_count": 30,
   "id": "e7cd6356",
   "metadata": {},
   "outputs": [],
   "source": [
    "from ray.train.torch import get_device"
   ]
  },
  {
   "cell_type": "code",
   "execution_count": 31,
   "id": "8240a82e",
   "metadata": {},
   "outputs": [],
   "source": [
    "device = \"cuda\" if torch.cuda.is_available() else \"mps\" if torch.backends.mps.is_available else \"cpu\""
   ]
  },
  {
   "cell_type": "code",
   "execution_count": 32,
   "id": "724c6294",
   "metadata": {},
   "outputs": [
    {
     "data": {
      "text/plain": [
       "'mps'"
      ]
     },
     "execution_count": 32,
     "metadata": {},
     "output_type": "execute_result"
    }
   ],
   "source": [
    "device"
   ]
  },
  {
   "cell_type": "code",
   "execution_count": 33,
   "id": "35142d9a",
   "metadata": {},
   "outputs": [],
   "source": [
    "def pad_array(arr, dtype=np.int32):\n",
    "    max_len = max([len(row) for row in arr])\n",
    "    padded_arr = np.zeros((arr.shape[0], max_len), dtype=dtype)\n",
    "    for i, row in enumerate(arr):\n",
    "        padded_arr[i, :len(row)]= row\n",
    "    return padded_arr"
   ]
  },
  {
   "cell_type": "code",
   "execution_count": 34,
   "id": "ebfc85e3",
   "metadata": {},
   "outputs": [],
   "source": [
    "def collate_fn(batch, device=device):\n",
    "    batch[\"ids\"] = pad_array(batch[\"ids\"])\n",
    "    batch[\"mask\"] = pad_array(batch[\"mask\"])\n",
    "    dtypes = {\"ids\": torch.int32, \"mask\": torch.int32, \"target\": torch.int64}\n",
    "    tensor_batch = {}\n",
    "    for key, arr in batch.items():\n",
    "        tensor_batch[key] = torch.as_tensor(list(arr), dtype=dtypes[key], device=device)\n",
    "    return tensor_batch\n",
    "    "
   ]
  },
  {
   "cell_type": "code",
   "execution_count": 35,
   "id": "c9e2129b",
   "metadata": {},
   "outputs": [
    {
     "name": "stderr",
     "output_type": "stream",
     "text": [
      "2025-09-15 12:31:00,244\tINFO logging.py:295 -- Registered dataset logger for dataset dataset_12_0\n",
      "2025-09-15 12:31:00,253\tINFO streaming_executor.py:159 -- Starting execution of Dataset dataset_12_0. Full logs are in /tmp/ray/session_2025-09-15_12-30-08_614560_3457/logs/ray-data\n",
      "2025-09-15 12:31:00,254\tINFO streaming_executor.py:160 -- Execution plan of Dataset dataset_12_0: InputDataBuffer[Input] -> TaskPoolMapOperator[ReadCSV] -> AllToAllOperator[RandomShuffle] -> AllToAllOperator[Sort] -> AllToAllOperator[MapBatches(_add_split)->MapBatches(_filter_split)->RandomShuffle] -> TaskPoolMapOperator[MapBatches(preprocess)] -> LimitOperator[limit=128]\n"
     ]
    },
    {
     "data": {
      "application/vnd.jupyter.widget-view+json": {
       "model_id": "e25c9246718445099a2dee5a1cef7170",
       "version_major": 2,
       "version_minor": 0
      },
      "text/plain": [
       "Running 0: 0.00 row [00:00, ? row/s]"
      ]
     },
     "metadata": {},
     "output_type": "display_data"
    },
    {
     "data": {
      "application/vnd.jupyter.widget-view+json": {
       "model_id": "03c2e37ad0d740869c2362f1aa6a1567",
       "version_major": 2,
       "version_minor": 0
      },
      "text/plain": [
       "- ReadCSV->SplitBlocks(16) 1: 0.00 row [00:00, ? row/s]"
      ]
     },
     "metadata": {},
     "output_type": "display_data"
    },
    {
     "data": {
      "application/vnd.jupyter.widget-view+json": {
       "model_id": "753f3863d3b14f798e8b5801c4b437e6",
       "version_major": 2,
       "version_minor": 0
      },
      "text/plain": [
       "- RandomShuffle 2: 0.00 row [00:00, ? row/s]"
      ]
     },
     "metadata": {},
     "output_type": "display_data"
    },
    {
     "data": {
      "application/vnd.jupyter.widget-view+json": {
       "model_id": "16736f6a1b7b47448918f7df30d893c4",
       "version_major": 2,
       "version_minor": 0
      },
      "text/plain": [
       "Shuffle Map 3:   0%|          | 0.00/1.00 [00:00<?, ? row/s]"
      ]
     },
     "metadata": {},
     "output_type": "display_data"
    },
    {
     "data": {
      "application/vnd.jupyter.widget-view+json": {
       "model_id": "dd6aedfc3eb2430ab739fd84bcde455c",
       "version_major": 2,
       "version_minor": 0
      },
      "text/plain": [
       "Shuffle Reduce 4:   0%|          | 0.00/1.00 [00:00<?, ? row/s]"
      ]
     },
     "metadata": {},
     "output_type": "display_data"
    },
    {
     "data": {
      "application/vnd.jupyter.widget-view+json": {
       "model_id": "abb4a6102592407a885f0fbe2834c714",
       "version_major": 2,
       "version_minor": 0
      },
      "text/plain": [
       "- Sort 5: 0.00 row [00:00, ? row/s]"
      ]
     },
     "metadata": {},
     "output_type": "display_data"
    },
    {
     "data": {
      "application/vnd.jupyter.widget-view+json": {
       "model_id": "a67f6c8feb7d4c1b94eba6f56db51484",
       "version_major": 2,
       "version_minor": 0
      },
      "text/plain": [
       "Sort Sample 6:   0%|          | 0.00/1.00 [00:00<?, ? row/s]"
      ]
     },
     "metadata": {},
     "output_type": "display_data"
    },
    {
     "data": {
      "application/vnd.jupyter.widget-view+json": {
       "model_id": "51b45e5450ef4102bd4312d992b77e2b",
       "version_major": 2,
       "version_minor": 0
      },
      "text/plain": [
       "Shuffle Map 7:   0%|          | 0.00/1.00 [00:00<?, ? row/s]"
      ]
     },
     "metadata": {},
     "output_type": "display_data"
    },
    {
     "data": {
      "application/vnd.jupyter.widget-view+json": {
       "model_id": "8f41132286a34c958615e82840a7d68c",
       "version_major": 2,
       "version_minor": 0
      },
      "text/plain": [
       "Shuffle Reduce 8:   0%|          | 0.00/1.00 [00:00<?, ? row/s]"
      ]
     },
     "metadata": {},
     "output_type": "display_data"
    },
    {
     "data": {
      "application/vnd.jupyter.widget-view+json": {
       "model_id": "b30f56c446d248f9be67a2bda9a5b4a8",
       "version_major": 2,
       "version_minor": 0
      },
      "text/plain": [
       "- MapBatches(_add_split)->MapBatches(_filter_split)->RandomShuffle 9: 0.00 row [00:00, ? row/s]"
      ]
     },
     "metadata": {},
     "output_type": "display_data"
    },
    {
     "data": {
      "application/vnd.jupyter.widget-view+json": {
       "model_id": "ad6eafd3dd35449886b926df65602406",
       "version_major": 2,
       "version_minor": 0
      },
      "text/plain": [
       "Shuffle Map 10:   0%|          | 0.00/1.00 [00:00<?, ? row/s]"
      ]
     },
     "metadata": {},
     "output_type": "display_data"
    },
    {
     "data": {
      "application/vnd.jupyter.widget-view+json": {
       "model_id": "1976b59be405416d855b8310fae72c05",
       "version_major": 2,
       "version_minor": 0
      },
      "text/plain": [
       "Shuffle Reduce 11:   0%|          | 0.00/1.00 [00:00<?, ? row/s]"
      ]
     },
     "metadata": {},
     "output_type": "display_data"
    },
    {
     "data": {
      "application/vnd.jupyter.widget-view+json": {
       "model_id": "0abc082fcdb7472d8dcc54ecc7d6fa52",
       "version_major": 2,
       "version_minor": 0
      },
      "text/plain": [
       "- MapBatches(preprocess) 12: 0.00 row [00:00, ? row/s]"
      ]
     },
     "metadata": {},
     "output_type": "display_data"
    },
    {
     "data": {
      "application/vnd.jupyter.widget-view+json": {
       "model_id": "0b97a2cc44bb43b187eb01bc98a9a3c8",
       "version_major": 2,
       "version_minor": 0
      },
      "text/plain": [
       "- limit=128 13: 0.00 row [00:00, ? row/s]"
      ]
     },
     "metadata": {},
     "output_type": "display_data"
    },
    {
     "name": "stderr",
     "output_type": "stream",
     "text": [
      "2025-09-15 12:31:01,977\tWARNING streaming_executor_state.py:793 -- Operator produced a RefBundle with a different schema than the previous one. Previous schema: id: int64\n",
      "created_on: timestamp[s]\n",
      "title: string\n",
      "description: string\n",
      "tag: string, new schema: . This may lead to unexpected behavior.\n",
      "2025-09-15 12:31:02,589\tWARNING streaming_executor_state.py:793 -- Operator produced a RefBundle with a different schema than the previous one. Previous schema: ids: extension<ray.data.arrow_tensor_v2<ArrowTensorTypeV2>>\n",
      "mask: extension<ray.data.arrow_tensor_v2<ArrowTensorTypeV2>>\n",
      "target: int64, new schema: ids: extension<ray.data.arrow_tensor_v2<ArrowTensorTypeV2>>\n",
      "mask: extension<ray.data.arrow_tensor_v2<ArrowTensorTypeV2>>\n",
      "target: int64. This may lead to unexpected behavior.\n",
      "2025-09-15 12:31:02,913\tINFO streaming_executor.py:279 -- ✔️  Dataset dataset_12_0 execution finished in 2.66 seconds\n"
     ]
    }
   ],
   "source": [
    "sample_batch = sample_ds.take_batch(128)"
   ]
  },
  {
   "cell_type": "code",
   "execution_count": 36,
   "id": "0cecbe56",
   "metadata": {},
   "outputs": [
    {
     "name": "stderr",
     "output_type": "stream",
     "text": [
      "/var/folders/7r/vsv5qx453z3931l81y_t76y80000gn/T/ipykernel_3457/700331434.py:7: UserWarning: Creating a tensor from a list of numpy.ndarrays is extremely slow. Please consider converting the list to a single numpy.ndarray with numpy.array() before converting to a tensor. (Triggered internally at /Users/runner/work/pytorch/pytorch/pytorch/torch/csrc/utils/tensor_new.cpp:256.)\n",
      "  tensor_batch[key] = torch.as_tensor(list(arr), dtype=dtypes[key], device=device)\n"
     ]
    },
    {
     "data": {
      "text/plain": [
       "{'ids': tensor([[  102, 13568, 11404,  ...,     0,     0,     0],\n",
       "         [  102,   437, 17574,  ...,     0,     0,     0],\n",
       "         [  102,  6265, 21930,  ...,     0,     0,     0],\n",
       "         ...,\n",
       "         [  102, 17251, 30128,  ...,  4928,   103,     0],\n",
       "         [  102,  6693,  8215,  ...,     0,     0,     0],\n",
       "         [  102,  3246,   251,  ...,     0,     0,     0]], device='mps:0',\n",
       "        dtype=torch.int32),\n",
       " 'mask': tensor([[1, 1, 1,  ..., 0, 0, 0],\n",
       "         [1, 1, 1,  ..., 0, 0, 0],\n",
       "         [1, 1, 1,  ..., 0, 0, 0],\n",
       "         ...,\n",
       "         [1, 1, 1,  ..., 1, 1, 0],\n",
       "         [1, 1, 1,  ..., 0, 0, 0],\n",
       "         [1, 1, 1,  ..., 0, 0, 0]], device='mps:0', dtype=torch.int32),\n",
       " 'target': tensor([3, 1, 3, 3, 3, 2, 2, 2, 3, 2, 3, 3, 3, 3, 3, 3, 1, 2, 2, 2, 1, 1, 2, 3,\n",
       "         2, 1, 2, 2, 1, 3, 2, 3, 2, 2, 2, 3, 2, 3, 0, 2, 3, 3, 2, 1, 3, 3, 2, 3,\n",
       "         3, 3, 3, 3, 3, 3, 2, 2, 1, 0, 1, 3, 2, 3, 0, 1, 2, 2, 2, 2, 1, 2, 2, 2,\n",
       "         2, 0, 2, 3, 1, 2, 3, 0, 2, 3, 3, 2, 1, 3, 3, 2, 3, 3, 3, 3, 3, 3, 3, 2,\n",
       "         2, 1, 0, 1, 3, 2, 3, 0, 1, 2, 2, 2, 2, 1, 2, 2, 2, 2, 0, 2, 3, 1, 2, 3,\n",
       "         0, 3, 3, 3, 2, 3, 2, 2], device='mps:0')}"
      ]
     },
     "execution_count": 36,
     "metadata": {},
     "output_type": "execute_result"
    }
   ],
   "source": [
    "collate_fn(sample_batch)"
   ]
  },
  {
   "cell_type": "markdown",
   "id": "3eb67c53",
   "metadata": {},
   "source": [
    "## Utilities"
   ]
  },
  {
   "cell_type": "code",
   "execution_count": 46,
   "id": "9fbcc65a",
   "metadata": {},
   "outputs": [],
   "source": [
    "from ray.air import session\n",
    "from ray.air.config import CheckpointConfig, RunConfig, ScalingConfig\n",
    "from ray.train.torch import prepare_model\n",
    "from ray.train.torch import TorchCheckpoint, TorchTrainer\n",
    "import torch.nn.functional as F"
   ]
  },
  {
   "cell_type": "code",
   "execution_count": 95,
   "id": "e03353ab",
   "metadata": {},
   "outputs": [],
   "source": [
    "def train_step(ds, model, batch_size, num_classes, loss_fn, optimizer):\n",
    "    model.train()\n",
    "    loss = 0.0\n",
    "    ds_generator = ds.iter_torch_batches(batch_size=batch_size, collate_fn=collate_fn)\n",
    "    device = next(model.parameters()).device\n",
    "    for i, batch in enumerate(ds_generator):\n",
    "        batch['ids'] = batch['ids'].to(device)\n",
    "        batch['mask'] = batch['mask'].to(device)\n",
    "        batch['target'] = batch['target'].to(device)\n",
    "        optimizer.zero_grad()\n",
    "        z = model(batch)\n",
    "        targets = batch['target']\n",
    "        e_loss = loss_fn(z.view(-1, z.shape[-1]), targets)\n",
    "        e_loss.backward()\n",
    "        optimizer.step()\n",
    "        loss += (e_loss.detach().item() - loss) / (i + 1)\n",
    "    return loss"
   ]
  },
  {
   "cell_type": "code",
   "execution_count": 96,
   "id": "15acda71",
   "metadata": {},
   "outputs": [],
   "source": [
    "def eval_step(ds, batch_size, model, num_classes, loss_fn):\n",
    "    model.eval()\n",
    "    loss = 0.0\n",
    "    y_trues, y_preds = [], []\n",
    "    ds_generator = ds.iter_torch_batches(batch_size=batch_size, collate_fn=collate_fn)\n",
    "    device = next(model.parameters()).device\n",
    "    with torch.inference_mode():\n",
    "        for i, batch in enumerate(ds_generator):\n",
    "            batch['ids'] = batch['ids'].to(device)\n",
    "            batch['mask'] = batch['mask'].to(device)\n",
    "            batch['target'] = batch['target'].to(device)\n",
    "            z = model(batch)\n",
    "            targets = batch['target']\n",
    "            e_loss = loss_fn(z.view(-1, z.shape[-1]), targets).item()\n",
    "            loss += (e_loss - loss) / (i + 1)\n",
    "            y_trues.extend(batch['target'].cpu().numpy())\n",
    "            y_preds.extend(torch.argmax(z, dim=-1).cpu().numpy())\n",
    "            \n",
    "    return loss, np.vstack(y_trues), np.vstack(y_preds)\n",
    "            "
   ]
  },
  {
   "cell_type": "code",
   "execution_count": 97,
   "id": "30978532",
   "metadata": {},
   "outputs": [],
   "source": [
    "def train_loop_per_worker(config):\n",
    "    dropout = config['dropout_p']\n",
    "    lr = config['lr']\n",
    "    lr_factor = config['lr_factor']\n",
    "    lr_patience = config['lr_patience']\n",
    "    num_epochs = config['num_epochs']\n",
    "    batch_size = config['batch_size']\n",
    "    num_classes = config['num_classes']\n",
    "    device = config['device']\n",
    "    \n",
    "    #set_seed()\n",
    "    train_ds = session.get_dataset_shard(\"train\")\n",
    "    val_ds = session.get_dataset_shard(\"val\")\n",
    "    \n",
    "    llm = BertModel.from_pretrained(\"allenai/scibert_scivocab_uncased\", return_dict=False).to(device)\n",
    "    model = FinetunnedLLM(llm, dropout, llm.config.hidden_size, num_classes)\n",
    "    model = prepare_model(model)\n",
    "    model = model.to(device)\n",
    "    \n",
    "    loss_fn = nn.CrossEntropyLoss()\n",
    "    optimizer = torch.optim.Adam(model.parameters(), lr=lr)\n",
    "    scheduler = torch.optim.lr_scheduler.ReduceLROnPlateau(optimizer, mode=\"min\", factor=lr_factor, patience=lr_patience)\n",
    "    \n",
    "    batch_size_per_worker = batch_size // session.get_world_size()\n",
    "    for epoch in range(num_epochs):\n",
    "        train_loss = train_step(train_ds, model, batch_size_per_worker, num_classes, loss_fn, optimizer)\n",
    "        val_loss, _, _ = eval_step(val_ds, batch_size_per_worker, model, num_classes, loss_fn)\n",
    "        scheduler.step(val_loss)\n",
    "        \n",
    "        metrics = dict(epoch=epoch, lr=optimizer.param_groups[0][\"lr\"], train_loss=train_loss, val_loss=val_loss)\n",
    "        checkpoint = TorchCheckpoint.from_state_dict(model.state_dict())\n",
    "        session.report(metrics, checkpoint=checkpoint)\n",
    "    "
   ]
  },
  {
   "cell_type": "code",
   "execution_count": 98,
   "id": "c0d3e304",
   "metadata": {},
   "outputs": [],
   "source": [
    "train_loop_config = {\n",
    "    \"dropout_p\": 0.5,\n",
    "    \"lr\": 1e-4,\n",
    "    \"lr_factor\": 0.8,\n",
    "    \"lr_patience\": 3,\n",
    "    \"num_epochs\": 10,\n",
    "    \"batch_size\": 128,\n",
    "    \"num_classes\": 4,\n",
    "    \"device\": device\n",
    "}"
   ]
  },
  {
   "cell_type": "code",
   "execution_count": 99,
   "id": "56a53bce",
   "metadata": {},
   "outputs": [],
   "source": [
    "num_workers = 1\n",
    "if device == \"cuda\":\n",
    "    resources_per_worker = {\"CPU\": 10, \"GPU\": 1}\n",
    "else:\n",
    "    resources_per_worker = {\"CPU\": 3}"
   ]
  },
  {
   "cell_type": "code",
   "execution_count": 100,
   "id": "7786f31f",
   "metadata": {},
   "outputs": [],
   "source": [
    "from ray.train import ScalingConfig\n",
    "\n",
    "scaling_config = ScalingConfig(\n",
    "    num_workers=num_workers,\n",
    "    use_gpu=bool(resources_per_worker.get(\"GPU\", 0)),\n",
    "    resources_per_worker=resources_per_worker,\n",
    ")"
   ]
  },
  {
   "cell_type": "code",
   "execution_count": 101,
   "id": "6b7f6c13",
   "metadata": {},
   "outputs": [],
   "source": [
    "checkpoint_config = CheckpointConfig(num_to_keep=1, checkpoint_score_attribute=\"val_loss\", checkpoint_score_order=\"min\")"
   ]
  },
  {
   "cell_type": "code",
   "execution_count": 102,
   "id": "ef2db3e8",
   "metadata": {},
   "outputs": [],
   "source": [
    "run_config = RunConfig(name=\"llm\", storage_path=\"~/ray_results\", checkpoint_config=checkpoint_config)"
   ]
  },
  {
   "cell_type": "markdown",
   "id": "e0e43399",
   "metadata": {},
   "source": [
    "## Training"
   ]
  },
  {
   "cell_type": "code",
   "execution_count": 103,
   "id": "75966038",
   "metadata": {},
   "outputs": [],
   "source": [
    "ds = load_data()\n",
    "train_ds, val_ds = stratify_split(ds, stratify=\"tag\", test_size=test_size)"
   ]
  },
  {
   "cell_type": "code",
   "execution_count": 104,
   "id": "7dc29f65",
   "metadata": {},
   "outputs": [
    {
     "name": "stderr",
     "output_type": "stream",
     "text": [
      "2025-09-15 12:39:12,023\tINFO logging.py:295 -- Registered dataset logger for dataset dataset_69_0\n",
      "2025-09-15 12:39:12,042\tINFO streaming_executor.py:159 -- Starting execution of Dataset dataset_69_0. Full logs are in /tmp/ray/session_2025-09-15_12-30-08_614560_3457/logs/ray-data\n",
      "2025-09-15 12:39:12,042\tINFO streaming_executor.py:160 -- Execution plan of Dataset dataset_69_0: InputDataBuffer[Input] -> TaskPoolMapOperator[ReadCSV] -> AllToAllOperator[RandomShuffle] -> AllToAllOperator[Sort] -> AllToAllOperator[MapBatches(_add_split)->MapBatches(_filter_split)->RandomShuffle] -> AllToAllOperator[Aggregate] -> LimitOperator[limit=1]\n"
     ]
    },
    {
     "data": {
      "application/vnd.jupyter.widget-view+json": {
       "model_id": "93f75ee5525d44129f7a2089f3e39c26",
       "version_major": 2,
       "version_minor": 0
      },
      "text/plain": [
       "Running 0: 0.00 row [00:00, ? row/s]"
      ]
     },
     "metadata": {},
     "output_type": "display_data"
    },
    {
     "data": {
      "application/vnd.jupyter.widget-view+json": {
       "model_id": "787c7d8e7ce34e9fa26475338ef879e1",
       "version_major": 2,
       "version_minor": 0
      },
      "text/plain": [
       "- ReadCSV->SplitBlocks(16) 1: 0.00 row [00:00, ? row/s]"
      ]
     },
     "metadata": {},
     "output_type": "display_data"
    },
    {
     "data": {
      "application/vnd.jupyter.widget-view+json": {
       "model_id": "307eb1211e0d4dc48d0c12c1b713ee1c",
       "version_major": 2,
       "version_minor": 0
      },
      "text/plain": [
       "- RandomShuffle 2: 0.00 row [00:00, ? row/s]"
      ]
     },
     "metadata": {},
     "output_type": "display_data"
    },
    {
     "data": {
      "application/vnd.jupyter.widget-view+json": {
       "model_id": "ad89a91cf72f4021a4d8c50a8c3bc1ae",
       "version_major": 2,
       "version_minor": 0
      },
      "text/plain": [
       "Shuffle Map 3:   0%|          | 0.00/1.00 [00:00<?, ? row/s]"
      ]
     },
     "metadata": {},
     "output_type": "display_data"
    },
    {
     "data": {
      "application/vnd.jupyter.widget-view+json": {
       "model_id": "6bd3aff1e50c43e6a3b32bc08a045ede",
       "version_major": 2,
       "version_minor": 0
      },
      "text/plain": [
       "Shuffle Reduce 4:   0%|          | 0.00/1.00 [00:00<?, ? row/s]"
      ]
     },
     "metadata": {},
     "output_type": "display_data"
    },
    {
     "data": {
      "application/vnd.jupyter.widget-view+json": {
       "model_id": "07ea91da228a4fcc8b49048d1e4f11be",
       "version_major": 2,
       "version_minor": 0
      },
      "text/plain": [
       "- Sort 5: 0.00 row [00:00, ? row/s]"
      ]
     },
     "metadata": {},
     "output_type": "display_data"
    },
    {
     "data": {
      "application/vnd.jupyter.widget-view+json": {
       "model_id": "2310002d7b2f4865b8452924c7a8567c",
       "version_major": 2,
       "version_minor": 0
      },
      "text/plain": [
       "Sort Sample 6:   0%|          | 0.00/1.00 [00:00<?, ? row/s]"
      ]
     },
     "metadata": {},
     "output_type": "display_data"
    },
    {
     "data": {
      "application/vnd.jupyter.widget-view+json": {
       "model_id": "e50fde70e49e445c97f52254ded64e92",
       "version_major": 2,
       "version_minor": 0
      },
      "text/plain": [
       "Shuffle Map 7:   0%|          | 0.00/1.00 [00:00<?, ? row/s]"
      ]
     },
     "metadata": {},
     "output_type": "display_data"
    },
    {
     "data": {
      "application/vnd.jupyter.widget-view+json": {
       "model_id": "8413c3b635804e9b89b775d104676382",
       "version_major": 2,
       "version_minor": 0
      },
      "text/plain": [
       "Shuffle Reduce 8:   0%|          | 0.00/1.00 [00:00<?, ? row/s]"
      ]
     },
     "metadata": {},
     "output_type": "display_data"
    },
    {
     "data": {
      "application/vnd.jupyter.widget-view+json": {
       "model_id": "b01477b5470642e38f9e8373765a3e41",
       "version_major": 2,
       "version_minor": 0
      },
      "text/plain": [
       "- MapBatches(_add_split)->MapBatches(_filter_split)->RandomShuffle 9: 0.00 row [00:00, ? row/s]"
      ]
     },
     "metadata": {},
     "output_type": "display_data"
    },
    {
     "data": {
      "application/vnd.jupyter.widget-view+json": {
       "model_id": "4b09dd960110430bb59e8972a7ab3a50",
       "version_major": 2,
       "version_minor": 0
      },
      "text/plain": [
       "Shuffle Map 10:   0%|          | 0.00/1.00 [00:00<?, ? row/s]"
      ]
     },
     "metadata": {},
     "output_type": "display_data"
    },
    {
     "data": {
      "application/vnd.jupyter.widget-view+json": {
       "model_id": "ede467dd35194ebe8e6290875c9e6f2a",
       "version_major": 2,
       "version_minor": 0
      },
      "text/plain": [
       "Shuffle Reduce 11:   0%|          | 0.00/1.00 [00:00<?, ? row/s]"
      ]
     },
     "metadata": {},
     "output_type": "display_data"
    },
    {
     "data": {
      "application/vnd.jupyter.widget-view+json": {
       "model_id": "824a30addded4577ae7bd8cb7d5cb0a4",
       "version_major": 2,
       "version_minor": 0
      },
      "text/plain": [
       "- Aggregate 12: 0.00 row [00:00, ? row/s]"
      ]
     },
     "metadata": {},
     "output_type": "display_data"
    },
    {
     "data": {
      "application/vnd.jupyter.widget-view+json": {
       "model_id": "9683ad1b37184937bb5d625e528baa64",
       "version_major": 2,
       "version_minor": 0
      },
      "text/plain": [
       "Sort Sample 13:   0%|          | 0.00/1.00 [00:00<?, ? row/s]"
      ]
     },
     "metadata": {},
     "output_type": "display_data"
    },
    {
     "data": {
      "application/vnd.jupyter.widget-view+json": {
       "model_id": "b9edfc12a3d04476962159cf5fd30150",
       "version_major": 2,
       "version_minor": 0
      },
      "text/plain": [
       "Shuffle Map 14:   0%|          | 0.00/1.00 [00:00<?, ? row/s]"
      ]
     },
     "metadata": {},
     "output_type": "display_data"
    },
    {
     "data": {
      "application/vnd.jupyter.widget-view+json": {
       "model_id": "b5d1ec8837c944d3bef0e90710172851",
       "version_major": 2,
       "version_minor": 0
      },
      "text/plain": [
       "Shuffle Reduce 15:   0%|          | 0.00/1.00 [00:00<?, ? row/s]"
      ]
     },
     "metadata": {},
     "output_type": "display_data"
    },
    {
     "data": {
      "application/vnd.jupyter.widget-view+json": {
       "model_id": "29df267c00bc41df94826a90783637f8",
       "version_major": 2,
       "version_minor": 0
      },
      "text/plain": [
       "- limit=1 16: 0.00 row [00:00, ? row/s]"
      ]
     },
     "metadata": {},
     "output_type": "display_data"
    },
    {
     "name": "stderr",
     "output_type": "stream",
     "text": [
      "2025-09-15 12:39:13,075\tWARNING streaming_executor_state.py:793 -- Operator produced a RefBundle with a different schema than the previous one. Previous schema: id: int64\n",
      "created_on: timestamp[s]\n",
      "title: string\n",
      "description: string\n",
      "tag: string, new schema: . This may lead to unexpected behavior.\n",
      "2025-09-15 12:39:14,322\tINFO streaming_executor.py:279 -- ✔️  Dataset dataset_69_0 execution finished in 2.28 seconds\n"
     ]
    }
   ],
   "source": [
    "preprocessor = CustomPreprocessor()\n",
    "train_ds = preprocessor.fit_transform(train_ds)\n",
    "val_ds = preprocessor.transform(val_ds)"
   ]
  },
  {
   "cell_type": "code",
   "execution_count": 105,
   "id": "067ce3cd",
   "metadata": {},
   "outputs": [
    {
     "name": "stderr",
     "output_type": "stream",
     "text": [
      "2025-09-15 12:39:14,501\tINFO logging.py:295 -- Registered dataset logger for dataset dataset_72_0\n",
      "2025-09-15 12:39:14,515\tINFO streaming_executor.py:159 -- Starting execution of Dataset dataset_72_0. Full logs are in /tmp/ray/session_2025-09-15_12-30-08_614560_3457/logs/ray-data\n",
      "2025-09-15 12:39:14,517\tINFO streaming_executor.py:160 -- Execution plan of Dataset dataset_72_0: InputDataBuffer[Input] -> TaskPoolMapOperator[ReadCSV] -> AllToAllOperator[RandomShuffle] -> AllToAllOperator[Sort] -> AllToAllOperator[MapBatches(_add_split)->MapBatches(_filter_split)->RandomShuffle] -> TaskPoolMapOperator[CustomPreprocessor]\n"
     ]
    },
    {
     "data": {
      "application/vnd.jupyter.widget-view+json": {
       "model_id": "3376777ae6c94566bb6e50b5a40ecbc5",
       "version_major": 2,
       "version_minor": 0
      },
      "text/plain": [
       "Running 0: 0.00 row [00:00, ? row/s]"
      ]
     },
     "metadata": {},
     "output_type": "display_data"
    },
    {
     "data": {
      "application/vnd.jupyter.widget-view+json": {
       "model_id": "7628e72e66844fcf9e802a569b4b76e6",
       "version_major": 2,
       "version_minor": 0
      },
      "text/plain": [
       "- ReadCSV->SplitBlocks(16) 1: 0.00 row [00:00, ? row/s]"
      ]
     },
     "metadata": {},
     "output_type": "display_data"
    },
    {
     "data": {
      "application/vnd.jupyter.widget-view+json": {
       "model_id": "ae5de9298b1c4b3b8c8c70392fdfa522",
       "version_major": 2,
       "version_minor": 0
      },
      "text/plain": [
       "- RandomShuffle 2: 0.00 row [00:00, ? row/s]"
      ]
     },
     "metadata": {},
     "output_type": "display_data"
    },
    {
     "data": {
      "application/vnd.jupyter.widget-view+json": {
       "model_id": "7fe5fb76edd1405883a4e002dc86b1b0",
       "version_major": 2,
       "version_minor": 0
      },
      "text/plain": [
       "Shuffle Map 3:   0%|          | 0.00/1.00 [00:00<?, ? row/s]"
      ]
     },
     "metadata": {},
     "output_type": "display_data"
    },
    {
     "data": {
      "application/vnd.jupyter.widget-view+json": {
       "model_id": "23a25f481eee4be79f57e921a89dd1e4",
       "version_major": 2,
       "version_minor": 0
      },
      "text/plain": [
       "Shuffle Reduce 4:   0%|          | 0.00/1.00 [00:00<?, ? row/s]"
      ]
     },
     "metadata": {},
     "output_type": "display_data"
    },
    {
     "data": {
      "application/vnd.jupyter.widget-view+json": {
       "model_id": "c274261c64f0491a8ce90e410ad0c90d",
       "version_major": 2,
       "version_minor": 0
      },
      "text/plain": [
       "- Sort 5: 0.00 row [00:00, ? row/s]"
      ]
     },
     "metadata": {},
     "output_type": "display_data"
    },
    {
     "data": {
      "application/vnd.jupyter.widget-view+json": {
       "model_id": "545807ac58ea444eb86925ebe715172f",
       "version_major": 2,
       "version_minor": 0
      },
      "text/plain": [
       "Sort Sample 6:   0%|          | 0.00/1.00 [00:00<?, ? row/s]"
      ]
     },
     "metadata": {},
     "output_type": "display_data"
    },
    {
     "data": {
      "application/vnd.jupyter.widget-view+json": {
       "model_id": "49cb6d36500d431f81b75b180c1b7c93",
       "version_major": 2,
       "version_minor": 0
      },
      "text/plain": [
       "Shuffle Map 7:   0%|          | 0.00/1.00 [00:00<?, ? row/s]"
      ]
     },
     "metadata": {},
     "output_type": "display_data"
    },
    {
     "data": {
      "application/vnd.jupyter.widget-view+json": {
       "model_id": "b1b478b284f0421a9f18b5c8fba494ed",
       "version_major": 2,
       "version_minor": 0
      },
      "text/plain": [
       "Shuffle Reduce 8:   0%|          | 0.00/1.00 [00:00<?, ? row/s]"
      ]
     },
     "metadata": {},
     "output_type": "display_data"
    },
    {
     "data": {
      "application/vnd.jupyter.widget-view+json": {
       "model_id": "ed0b0d172f334d2084501d28ff8aceb9",
       "version_major": 2,
       "version_minor": 0
      },
      "text/plain": [
       "- MapBatches(_add_split)->MapBatches(_filter_split)->RandomShuffle 9: 0.00 row [00:00, ? row/s]"
      ]
     },
     "metadata": {},
     "output_type": "display_data"
    },
    {
     "data": {
      "application/vnd.jupyter.widget-view+json": {
       "model_id": "54fac8a0fa11469c91db6c0b9cd13c0e",
       "version_major": 2,
       "version_minor": 0
      },
      "text/plain": [
       "Shuffle Map 10:   0%|          | 0.00/1.00 [00:00<?, ? row/s]"
      ]
     },
     "metadata": {},
     "output_type": "display_data"
    },
    {
     "data": {
      "application/vnd.jupyter.widget-view+json": {
       "model_id": "0ba56844ea434996b8473d42c55b8200",
       "version_major": 2,
       "version_minor": 0
      },
      "text/plain": [
       "Shuffle Reduce 11:   0%|          | 0.00/1.00 [00:00<?, ? row/s]"
      ]
     },
     "metadata": {},
     "output_type": "display_data"
    },
    {
     "data": {
      "application/vnd.jupyter.widget-view+json": {
       "model_id": "f84c4fea17844d0dac6c68fe1d5383ea",
       "version_major": 2,
       "version_minor": 0
      },
      "text/plain": [
       "- CustomPreprocessor 12: 0.00 row [00:00, ? row/s]"
      ]
     },
     "metadata": {},
     "output_type": "display_data"
    },
    {
     "name": "stderr",
     "output_type": "stream",
     "text": [
      "2025-09-15 12:39:15,458\tWARNING streaming_executor_state.py:793 -- Operator produced a RefBundle with a different schema than the previous one. Previous schema: id: int64\n",
      "created_on: timestamp[s]\n",
      "title: string\n",
      "description: string\n",
      "tag: string, new schema: . This may lead to unexpected behavior.\n",
      "2025-09-15 12:39:16,076\tWARNING streaming_executor_state.py:793 -- Operator produced a RefBundle with a different schema than the previous one. Previous schema: ids: extension<ray.data.arrow_tensor_v2<ArrowTensorTypeV2>>\n",
      "mask: extension<ray.data.arrow_tensor_v2<ArrowTensorTypeV2>>\n",
      "target: int64, new schema: ids: extension<ray.data.arrow_tensor_v2<ArrowTensorTypeV2>>\n",
      "mask: extension<ray.data.arrow_tensor_v2<ArrowTensorTypeV2>>\n",
      "target: int64. This may lead to unexpected behavior.\n",
      "2025-09-15 12:39:16,178\tINFO streaming_executor.py:279 -- ✔️  Dataset dataset_72_0 execution finished in 1.66 seconds\n",
      "2025-09-15 12:39:16,226\tINFO logging.py:295 -- Registered dataset logger for dataset dataset_74_0\n",
      "2025-09-15 12:39:16,233\tINFO streaming_executor.py:159 -- Starting execution of Dataset dataset_74_0. Full logs are in /tmp/ray/session_2025-09-15_12-30-08_614560_3457/logs/ray-data\n",
      "2025-09-15 12:39:16,234\tINFO streaming_executor.py:160 -- Execution plan of Dataset dataset_74_0: InputDataBuffer[Input] -> TaskPoolMapOperator[ReadCSV] -> AllToAllOperator[RandomShuffle] -> AllToAllOperator[Sort] -> AllToAllOperator[MapBatches(_add_split)->MapBatches(_filter_split)->RandomShuffle] -> TaskPoolMapOperator[CustomPreprocessor]\n"
     ]
    },
    {
     "data": {
      "application/vnd.jupyter.widget-view+json": {
       "model_id": "f965d0ac2b6b4d86beca28cb9527d46b",
       "version_major": 2,
       "version_minor": 0
      },
      "text/plain": [
       "Running 0: 0.00 row [00:00, ? row/s]"
      ]
     },
     "metadata": {},
     "output_type": "display_data"
    },
    {
     "data": {
      "application/vnd.jupyter.widget-view+json": {
       "model_id": "9db5e514afc44a9a83ae0097f224c7d5",
       "version_major": 2,
       "version_minor": 0
      },
      "text/plain": [
       "- ReadCSV->SplitBlocks(16) 1: 0.00 row [00:00, ? row/s]"
      ]
     },
     "metadata": {},
     "output_type": "display_data"
    },
    {
     "data": {
      "application/vnd.jupyter.widget-view+json": {
       "model_id": "1579b3e628b3400dbd8345f1927a0537",
       "version_major": 2,
       "version_minor": 0
      },
      "text/plain": [
       "- RandomShuffle 2: 0.00 row [00:00, ? row/s]"
      ]
     },
     "metadata": {},
     "output_type": "display_data"
    },
    {
     "data": {
      "application/vnd.jupyter.widget-view+json": {
       "model_id": "6ec7dd3304e44256a681559104cc3598",
       "version_major": 2,
       "version_minor": 0
      },
      "text/plain": [
       "Shuffle Map 3:   0%|          | 0.00/1.00 [00:00<?, ? row/s]"
      ]
     },
     "metadata": {},
     "output_type": "display_data"
    },
    {
     "data": {
      "application/vnd.jupyter.widget-view+json": {
       "model_id": "e5cbc5dcf9f84975bd6410264ba17c46",
       "version_major": 2,
       "version_minor": 0
      },
      "text/plain": [
       "Shuffle Reduce 4:   0%|          | 0.00/1.00 [00:00<?, ? row/s]"
      ]
     },
     "metadata": {},
     "output_type": "display_data"
    },
    {
     "data": {
      "application/vnd.jupyter.widget-view+json": {
       "model_id": "aded5d4b18784d9783d66d8ec90f874b",
       "version_major": 2,
       "version_minor": 0
      },
      "text/plain": [
       "- Sort 5: 0.00 row [00:00, ? row/s]"
      ]
     },
     "metadata": {},
     "output_type": "display_data"
    },
    {
     "data": {
      "application/vnd.jupyter.widget-view+json": {
       "model_id": "0603874daa9b428e81360ef68d6faf92",
       "version_major": 2,
       "version_minor": 0
      },
      "text/plain": [
       "Sort Sample 6:   0%|          | 0.00/1.00 [00:00<?, ? row/s]"
      ]
     },
     "metadata": {},
     "output_type": "display_data"
    },
    {
     "data": {
      "application/vnd.jupyter.widget-view+json": {
       "model_id": "0c40d647c0c245af96dedd1dc7feb3cf",
       "version_major": 2,
       "version_minor": 0
      },
      "text/plain": [
       "Shuffle Map 7:   0%|          | 0.00/1.00 [00:00<?, ? row/s]"
      ]
     },
     "metadata": {},
     "output_type": "display_data"
    },
    {
     "data": {
      "application/vnd.jupyter.widget-view+json": {
       "model_id": "e0b8772cd96f4310948ded73e1fe6f05",
       "version_major": 2,
       "version_minor": 0
      },
      "text/plain": [
       "Shuffle Reduce 8:   0%|          | 0.00/1.00 [00:00<?, ? row/s]"
      ]
     },
     "metadata": {},
     "output_type": "display_data"
    },
    {
     "data": {
      "application/vnd.jupyter.widget-view+json": {
       "model_id": "ec0c8b2b46114ff1baa186e9384c7257",
       "version_major": 2,
       "version_minor": 0
      },
      "text/plain": [
       "- MapBatches(_add_split)->MapBatches(_filter_split)->RandomShuffle 9: 0.00 row [00:00, ? row/s]"
      ]
     },
     "metadata": {},
     "output_type": "display_data"
    },
    {
     "data": {
      "application/vnd.jupyter.widget-view+json": {
       "model_id": "e5fc97b78b4a43c0a08681522695f9e5",
       "version_major": 2,
       "version_minor": 0
      },
      "text/plain": [
       "Shuffle Map 10:   0%|          | 0.00/1.00 [00:00<?, ? row/s]"
      ]
     },
     "metadata": {},
     "output_type": "display_data"
    },
    {
     "data": {
      "application/vnd.jupyter.widget-view+json": {
       "model_id": "53916b878f5f4e75af08c8a58e8204cd",
       "version_major": 2,
       "version_minor": 0
      },
      "text/plain": [
       "Shuffle Reduce 11:   0%|          | 0.00/1.00 [00:00<?, ? row/s]"
      ]
     },
     "metadata": {},
     "output_type": "display_data"
    },
    {
     "data": {
      "application/vnd.jupyter.widget-view+json": {
       "model_id": "6f1952945c1f40bb95c35b67ee37e7e3",
       "version_major": 2,
       "version_minor": 0
      },
      "text/plain": [
       "- CustomPreprocessor 12: 0.00 row [00:00, ? row/s]"
      ]
     },
     "metadata": {},
     "output_type": "display_data"
    },
    {
     "name": "stderr",
     "output_type": "stream",
     "text": [
      "2025-09-15 12:39:17,184\tWARNING streaming_executor_state.py:793 -- Operator produced a RefBundle with a different schema than the previous one. Previous schema: id: int64\n",
      "created_on: timestamp[s]\n",
      "title: string\n",
      "description: string\n",
      "tag: string, new schema: . This may lead to unexpected behavior.\n",
      "2025-09-15 12:39:17,578\tWARNING streaming_executor_state.py:793 -- Operator produced a RefBundle with a different schema than the previous one. Previous schema: ids: extension<ray.data.arrow_tensor_v2<ArrowTensorTypeV2>>\n",
      "mask: extension<ray.data.arrow_tensor_v2<ArrowTensorTypeV2>>\n",
      "target: int64, new schema: ids: extension<ray.data.arrow_tensor_v2<ArrowTensorTypeV2>>\n",
      "mask: extension<ray.data.arrow_tensor_v2<ArrowTensorTypeV2>>\n",
      "target: int64. This may lead to unexpected behavior.\n",
      "2025-09-15 12:39:17,655\tINFO streaming_executor.py:279 -- ✔️  Dataset dataset_74_0 execution finished in 1.42 seconds\n"
     ]
    }
   ],
   "source": [
    "train_ds = train_ds.materialize()\n",
    "val_ds = val_ds.materialize()"
   ]
  },
  {
   "cell_type": "code",
   "execution_count": 106,
   "id": "fdffef6a",
   "metadata": {},
   "outputs": [],
   "source": [
    "from ray.train import DataConfig"
   ]
  },
  {
   "cell_type": "code",
   "execution_count": 107,
   "id": "83d291de",
   "metadata": {},
   "outputs": [],
   "source": [
    "dataset_config = DataConfig([\"train\", \"val\"])"
   ]
  },
  {
   "cell_type": "code",
   "execution_count": 108,
   "id": "df11a869",
   "metadata": {},
   "outputs": [],
   "source": [
    "trainer = TorchTrainer(\n",
    "    train_loop_per_worker=train_loop_per_worker,\n",
    "    train_loop_config=train_loop_config,\n",
    "    scaling_config=scaling_config,\n",
    "    run_config= run_config,\n",
    "    datasets= {\"train\": train_ds, \"val\": val_ds},\n",
    "    dataset_config=dataset_config,\n",
    "    #preprocessor=preprocessor   \n",
    ")"
   ]
  },
  {
   "cell_type": "code",
   "execution_count": 109,
   "id": "0e34d12c",
   "metadata": {},
   "outputs": [
    {
     "name": "stderr",
     "output_type": "stream",
     "text": [
      "2025-09-15 12:39:17,874\tINFO tune.py:616 -- [output] This uses the legacy output and progress reporter, as Jupyter notebooks are not supported by the new engine, yet. For more information, please see https://github.com/ray-project/ray/issues/36949\n",
      "2025-09-15 12:39:17,878\tWARNING callback.py:143 -- The TensorboardX logger cannot be instantiated because either TensorboardX or one of it's dependencies is not installed. Please make sure you have the latest version of TensorboardX installed: `pip install -U tensorboardx`\n"
     ]
    },
    {
     "name": "stdout",
     "output_type": "stream",
     "text": [
      "== Status ==\n",
      "Current time: 2025-09-15 12:39:18 (running for 00:00:00.13)\n",
      "Using FIFO scheduling algorithm.\n",
      "Logical resource usage: 4.0/8 CPUs, 0/0 GPUs\n",
      "Result logdir: /tmp/ray/session_2025-09-15_12-30-08_614560_3457/artifacts/2025-09-15_12-39-17/llm/driver_artifacts\n",
      "Number of trials: 1/1 (1 PENDING)\n",
      "\n",
      "\n",
      "== Status ==\n",
      "Current time: 2025-09-15 12:39:23 (running for 00:00:05.13)\n",
      "Using FIFO scheduling algorithm.\n",
      "Logical resource usage: 4.0/8 CPUs, 0/0 GPUs\n",
      "Result logdir: /tmp/ray/session_2025-09-15_12-30-08_614560_3457/artifacts/2025-09-15_12-39-17/llm/driver_artifacts\n",
      "Number of trials: 1/1 (1 RUNNING)\n",
      "\n",
      "\n",
      "== Status ==\n",
      "Current time: 2025-09-15 12:39:28 (running for 00:00:10.22)\n",
      "Using FIFO scheduling algorithm.\n",
      "Logical resource usage: 4.0/8 CPUs, 0/0 GPUs\n",
      "Result logdir: /tmp/ray/session_2025-09-15_12-30-08_614560_3457/artifacts/2025-09-15_12-39-17/llm/driver_artifacts\n",
      "Number of trials: 1/1 (1 RUNNING)\n",
      "\n",
      "\n"
     ]
    },
    {
     "data": {
      "application/vnd.jupyter.widget-view+json": {
       "model_id": "1d8adbb4a456403fae1f67e368fa9671",
       "version_major": 2,
       "version_minor": 0
      },
      "text/plain": [
       "(pid=14865) Running 0: 0.00 row [00:00, ? row/s]"
      ]
     },
     "metadata": {},
     "output_type": "display_data"
    },
    {
     "data": {
      "application/vnd.jupyter.widget-view+json": {
       "model_id": "ae93805a08614e0889ad2923da0b7715",
       "version_major": 2,
       "version_minor": 0
      },
      "text/plain": [
       "(pid=14865) - split(1, equal=True) 1: 0.00 row [00:00, ? row/s]"
      ]
     },
     "metadata": {},
     "output_type": "display_data"
    },
    {
     "name": "stdout",
     "output_type": "stream",
     "text": [
      "== Status ==\n",
      "Current time: 2025-09-15 12:39:33 (running for 00:00:15.33)\n",
      "Using FIFO scheduling algorithm.\n",
      "Logical resource usage: 4.0/8 CPUs, 0/0 GPUs\n",
      "Result logdir: /tmp/ray/session_2025-09-15_12-30-08_614560_3457/artifacts/2025-09-15_12-39-17/llm/driver_artifacts\n",
      "Number of trials: 1/1 (1 RUNNING)\n",
      "\n",
      "\n"
     ]
    },
    {
     "data": {
      "application/vnd.jupyter.widget-view+json": {
       "model_id": "44329a7be5854019844d79acb81c76e7",
       "version_major": 2,
       "version_minor": 0
      },
      "text/plain": [
       "(pid=14864) Running 0: 0.00 row [00:00, ? row/s]"
      ]
     },
     "metadata": {},
     "output_type": "display_data"
    },
    {
     "data": {
      "application/vnd.jupyter.widget-view+json": {
       "model_id": "4ed75327a392490c845c71ce52e3bbc4",
       "version_major": 2,
       "version_minor": 0
      },
      "text/plain": [
       "(pid=14864) - split(1, equal=True) 1: 0.00 row [00:00, ? row/s]"
      ]
     },
     "metadata": {},
     "output_type": "display_data"
    },
    {
     "name": "stdout",
     "output_type": "stream",
     "text": [
      "== Status ==\n",
      "Current time: 2025-09-15 12:39:38 (running for 00:00:20.39)\n",
      "Using FIFO scheduling algorithm.\n",
      "Logical resource usage: 4.0/8 CPUs, 0/0 GPUs\n",
      "Result logdir: /tmp/ray/session_2025-09-15_12-30-08_614560_3457/artifacts/2025-09-15_12-39-17/llm/driver_artifacts\n",
      "Number of trials: 1/1 (1 RUNNING)\n",
      "\n",
      "\n"
     ]
    },
    {
     "data": {
      "application/vnd.jupyter.widget-view+json": {
       "model_id": "98eec2c8d03a42e4bab081293c261742",
       "version_major": 2,
       "version_minor": 0
      },
      "text/plain": [
       "(pid=14865) Running 0: 0.00 row [00:00, ? row/s]"
      ]
     },
     "metadata": {},
     "output_type": "display_data"
    },
    {
     "name": "stderr",
     "output_type": "stream",
     "text": [
      "2025-09-15 12:39:39,658\tWARNING experiment_state.py:206 -- Experiment state snapshotting has been triggered multiple times in the last 5.0 seconds and may become a bottleneck. A snapshot is forced if `CheckpointConfig(num_to_keep)` is set, and a trial has checkpointed >= `num_to_keep` times since the last snapshot.\n",
      "You may want to consider increasing the `CheckpointConfig(num_to_keep)` or decreasing the frequency of saving checkpoints.\n",
      "You can suppress this warning by setting the environment variable TUNE_WARN_EXCESSIVE_EXPERIMENT_CHECKPOINT_SYNC_THRESHOLD_S to a smaller value than the current threshold (5.0). Set it to 0 to completely suppress this warning.\n"
     ]
    },
    {
     "data": {
      "application/vnd.jupyter.widget-view+json": {
       "model_id": "626fb52d789a49859f9e4987e4e04e32",
       "version_major": 2,
       "version_minor": 0
      },
      "text/plain": [
       "(pid=14865) - split(1, equal=True) 1: 0.00 row [00:00, ? row/s]"
      ]
     },
     "metadata": {},
     "output_type": "display_data"
    },
    {
     "name": "stdout",
     "output_type": "stream",
     "text": [
      "== Status ==\n",
      "Current time: 2025-09-15 12:39:43 (running for 00:00:25.41)\n",
      "Using FIFO scheduling algorithm.\n",
      "Logical resource usage: 4.0/8 CPUs, 0/0 GPUs\n",
      "Result logdir: /tmp/ray/session_2025-09-15_12-30-08_614560_3457/artifacts/2025-09-15_12-39-17/llm/driver_artifacts\n",
      "Number of trials: 1/1 (1 RUNNING)\n",
      "\n",
      "\n",
      "== Status ==\n",
      "Current time: 2025-09-15 12:39:48 (running for 00:00:30.50)\n",
      "Using FIFO scheduling algorithm.\n",
      "Logical resource usage: 4.0/8 CPUs, 0/0 GPUs\n",
      "Result logdir: /tmp/ray/session_2025-09-15_12-30-08_614560_3457/artifacts/2025-09-15_12-39-17/llm/driver_artifacts\n",
      "Number of trials: 1/1 (1 RUNNING)\n",
      "\n",
      "\n"
     ]
    },
    {
     "data": {
      "application/vnd.jupyter.widget-view+json": {
       "model_id": "578e22062a6546809a89b886bb0983ed",
       "version_major": 2,
       "version_minor": 0
      },
      "text/plain": [
       "(pid=14864) Running 0: 0.00 row [00:00, ? row/s]"
      ]
     },
     "metadata": {},
     "output_type": "display_data"
    },
    {
     "data": {
      "application/vnd.jupyter.widget-view+json": {
       "model_id": "5af96292ec7c4a8399da43e990c69248",
       "version_major": 2,
       "version_minor": 0
      },
      "text/plain": [
       "(pid=14864) - split(1, equal=True) 1: 0.00 row [00:00, ? row/s]"
      ]
     },
     "metadata": {},
     "output_type": "display_data"
    },
    {
     "name": "stderr",
     "output_type": "stream",
     "text": [
      "2025-09-15 12:39:51,621\tWARNING experiment_state.py:206 -- Experiment state snapshotting has been triggered multiple times in the last 5.0 seconds and may become a bottleneck. A snapshot is forced if `CheckpointConfig(num_to_keep)` is set, and a trial has checkpointed >= `num_to_keep` times since the last snapshot.\n",
      "You may want to consider increasing the `CheckpointConfig(num_to_keep)` or decreasing the frequency of saving checkpoints.\n",
      "You can suppress this warning by setting the environment variable TUNE_WARN_EXCESSIVE_EXPERIMENT_CHECKPOINT_SYNC_THRESHOLD_S to a smaller value than the current threshold (5.0). Set it to 0 to completely suppress this warning.\n"
     ]
    },
    {
     "data": {
      "application/vnd.jupyter.widget-view+json": {
       "model_id": "62aeac9f986546de8f07b449114add82",
       "version_major": 2,
       "version_minor": 0
      },
      "text/plain": [
       "(pid=14865) Running 0: 0.00 row [00:00, ? row/s]"
      ]
     },
     "metadata": {},
     "output_type": "display_data"
    },
    {
     "data": {
      "application/vnd.jupyter.widget-view+json": {
       "model_id": "a654484f26bf46bb9de12f52b2d88167",
       "version_major": 2,
       "version_minor": 0
      },
      "text/plain": [
       "(pid=14865) - split(1, equal=True) 1: 0.00 row [00:00, ? row/s]"
      ]
     },
     "metadata": {},
     "output_type": "display_data"
    },
    {
     "name": "stdout",
     "output_type": "stream",
     "text": [
      "== Status ==\n",
      "Current time: 2025-09-15 12:39:53 (running for 00:00:35.52)\n",
      "Using FIFO scheduling algorithm.\n",
      "Logical resource usage: 4.0/8 CPUs, 0/0 GPUs\n",
      "Result logdir: /tmp/ray/session_2025-09-15_12-30-08_614560_3457/artifacts/2025-09-15_12-39-17/llm/driver_artifacts\n",
      "Number of trials: 1/1 (1 RUNNING)\n",
      "\n",
      "\n",
      "== Status ==\n",
      "Current time: 2025-09-15 12:39:58 (running for 00:00:40.61)\n",
      "Using FIFO scheduling algorithm.\n",
      "Logical resource usage: 4.0/8 CPUs, 0/0 GPUs\n",
      "Result logdir: /tmp/ray/session_2025-09-15_12-30-08_614560_3457/artifacts/2025-09-15_12-39-17/llm/driver_artifacts\n",
      "Number of trials: 1/1 (1 RUNNING)\n",
      "\n",
      "\n"
     ]
    },
    {
     "data": {
      "application/vnd.jupyter.widget-view+json": {
       "model_id": "021ccf5182754786834f71029476b779",
       "version_major": 2,
       "version_minor": 0
      },
      "text/plain": [
       "(pid=14864) Running 0: 0.00 row [00:00, ? row/s]"
      ]
     },
     "metadata": {},
     "output_type": "display_data"
    },
    {
     "data": {
      "application/vnd.jupyter.widget-view+json": {
       "model_id": "7fb572ed0fae4859a7c591082414d1cc",
       "version_major": 2,
       "version_minor": 0
      },
      "text/plain": [
       "(pid=14864) - split(1, equal=True) 1: 0.00 row [00:00, ? row/s]"
      ]
     },
     "metadata": {},
     "output_type": "display_data"
    },
    {
     "name": "stdout",
     "output_type": "stream",
     "text": [
      "== Status ==\n",
      "Current time: 2025-09-15 12:40:03 (running for 00:00:45.68)\n",
      "Using FIFO scheduling algorithm.\n",
      "Logical resource usage: 4.0/8 CPUs, 0/0 GPUs\n",
      "Result logdir: /tmp/ray/session_2025-09-15_12-30-08_614560_3457/artifacts/2025-09-15_12-39-17/llm/driver_artifacts\n",
      "Number of trials: 1/1 (1 RUNNING)\n",
      "\n",
      "\n"
     ]
    },
    {
     "name": "stderr",
     "output_type": "stream",
     "text": [
      "2025-09-15 12:40:05,788\tWARNING experiment_state.py:206 -- Experiment state snapshotting has been triggered multiple times in the last 5.0 seconds and may become a bottleneck. A snapshot is forced if `CheckpointConfig(num_to_keep)` is set, and a trial has checkpointed >= `num_to_keep` times since the last snapshot.\n",
      "You may want to consider increasing the `CheckpointConfig(num_to_keep)` or decreasing the frequency of saving checkpoints.\n",
      "You can suppress this warning by setting the environment variable TUNE_WARN_EXCESSIVE_EXPERIMENT_CHECKPOINT_SYNC_THRESHOLD_S to a smaller value than the current threshold (5.0). Set it to 0 to completely suppress this warning.\n"
     ]
    },
    {
     "data": {
      "application/vnd.jupyter.widget-view+json": {
       "model_id": "f7a77d00e2a64e31a63a484d8c350ce3",
       "version_major": 2,
       "version_minor": 0
      },
      "text/plain": [
       "(pid=14865) Running 0: 0.00 row [00:00, ? row/s]"
      ]
     },
     "metadata": {},
     "output_type": "display_data"
    },
    {
     "data": {
      "application/vnd.jupyter.widget-view+json": {
       "model_id": "82c44caba77747ca9bccb15da9cddedd",
       "version_major": 2,
       "version_minor": 0
      },
      "text/plain": [
       "(pid=14865) - split(1, equal=True) 1: 0.00 row [00:00, ? row/s]"
      ]
     },
     "metadata": {},
     "output_type": "display_data"
    },
    {
     "name": "stdout",
     "output_type": "stream",
     "text": [
      "== Status ==\n",
      "Current time: 2025-09-15 12:40:08 (running for 00:00:50.73)\n",
      "Using FIFO scheduling algorithm.\n",
      "Logical resource usage: 4.0/8 CPUs, 0/0 GPUs\n",
      "Result logdir: /tmp/ray/session_2025-09-15_12-30-08_614560_3457/artifacts/2025-09-15_12-39-17/llm/driver_artifacts\n",
      "Number of trials: 1/1 (1 RUNNING)\n",
      "\n",
      "\n",
      "== Status ==\n",
      "Current time: 2025-09-15 12:40:13 (running for 00:00:55.81)\n",
      "Using FIFO scheduling algorithm.\n",
      "Logical resource usage: 4.0/8 CPUs, 0/0 GPUs\n",
      "Result logdir: /tmp/ray/session_2025-09-15_12-30-08_614560_3457/artifacts/2025-09-15_12-39-17/llm/driver_artifacts\n",
      "Number of trials: 1/1 (1 RUNNING)\n",
      "\n",
      "\n"
     ]
    },
    {
     "data": {
      "application/vnd.jupyter.widget-view+json": {
       "model_id": "924b9575b13942d0a5c1ebe1781d0766",
       "version_major": 2,
       "version_minor": 0
      },
      "text/plain": [
       "(pid=14864) Running 0: 0.00 row [00:00, ? row/s]"
      ]
     },
     "metadata": {},
     "output_type": "display_data"
    },
    {
     "data": {
      "application/vnd.jupyter.widget-view+json": {
       "model_id": "872e0b32b789456aa49de02abefee0c1",
       "version_major": 2,
       "version_minor": 0
      },
      "text/plain": [
       "(pid=14864) - split(1, equal=True) 1: 0.00 row [00:00, ? row/s]"
      ]
     },
     "metadata": {},
     "output_type": "display_data"
    },
    {
     "name": "stdout",
     "output_type": "stream",
     "text": [
      "== Status ==\n",
      "Current time: 2025-09-15 12:40:18 (running for 00:01:00.83)\n",
      "Using FIFO scheduling algorithm.\n",
      "Logical resource usage: 4.0/8 CPUs, 0/0 GPUs\n",
      "Result logdir: /tmp/ray/session_2025-09-15_12-30-08_614560_3457/artifacts/2025-09-15_12-39-17/llm/driver_artifacts\n",
      "Number of trials: 1/1 (1 RUNNING)\n",
      "\n",
      "\n"
     ]
    },
    {
     "name": "stderr",
     "output_type": "stream",
     "text": [
      "2025-09-15 12:40:20,746\tWARNING experiment_state.py:206 -- Experiment state snapshotting has been triggered multiple times in the last 5.0 seconds and may become a bottleneck. A snapshot is forced if `CheckpointConfig(num_to_keep)` is set, and a trial has checkpointed >= `num_to_keep` times since the last snapshot.\n",
      "You may want to consider increasing the `CheckpointConfig(num_to_keep)` or decreasing the frequency of saving checkpoints.\n",
      "You can suppress this warning by setting the environment variable TUNE_WARN_EXCESSIVE_EXPERIMENT_CHECKPOINT_SYNC_THRESHOLD_S to a smaller value than the current threshold (5.0). Set it to 0 to completely suppress this warning.\n"
     ]
    },
    {
     "data": {
      "application/vnd.jupyter.widget-view+json": {
       "model_id": "30a116b1368f41fb81d6be92ca1437ee",
       "version_major": 2,
       "version_minor": 0
      },
      "text/plain": [
       "(pid=14865) Running 0: 0.00 row [00:00, ? row/s]"
      ]
     },
     "metadata": {},
     "output_type": "display_data"
    },
    {
     "data": {
      "application/vnd.jupyter.widget-view+json": {
       "model_id": "58e717708b93438aaa33bffbadc5ef6a",
       "version_major": 2,
       "version_minor": 0
      },
      "text/plain": [
       "(pid=14865) - split(1, equal=True) 1: 0.00 row [00:00, ? row/s]"
      ]
     },
     "metadata": {},
     "output_type": "display_data"
    },
    {
     "name": "stdout",
     "output_type": "stream",
     "text": [
      "== Status ==\n",
      "Current time: 2025-09-15 12:40:23 (running for 00:01:05.87)\n",
      "Using FIFO scheduling algorithm.\n",
      "Logical resource usage: 4.0/8 CPUs, 0/0 GPUs\n",
      "Result logdir: /tmp/ray/session_2025-09-15_12-30-08_614560_3457/artifacts/2025-09-15_12-39-17/llm/driver_artifacts\n",
      "Number of trials: 1/1 (1 RUNNING)\n",
      "\n",
      "\n"
     ]
    },
    {
     "data": {
      "application/vnd.jupyter.widget-view+json": {
       "model_id": "96976349709f4446bb5f0c1dc24a43ef",
       "version_major": 2,
       "version_minor": 0
      },
      "text/plain": [
       "(pid=14864) Running 0: 0.00 row [00:00, ? row/s]"
      ]
     },
     "metadata": {},
     "output_type": "display_data"
    },
    {
     "data": {
      "application/vnd.jupyter.widget-view+json": {
       "model_id": "ea241d11dc3344c5a7f67bbd7b427377",
       "version_major": 2,
       "version_minor": 0
      },
      "text/plain": [
       "(pid=14864) - split(1, equal=True) 1: 0.00 row [00:00, ? row/s]"
      ]
     },
     "metadata": {},
     "output_type": "display_data"
    },
    {
     "name": "stdout",
     "output_type": "stream",
     "text": [
      "== Status ==\n",
      "Current time: 2025-09-15 12:40:28 (running for 00:01:10.97)\n",
      "Using FIFO scheduling algorithm.\n",
      "Logical resource usage: 4.0/8 CPUs, 0/0 GPUs\n",
      "Result logdir: /tmp/ray/session_2025-09-15_12-30-08_614560_3457/artifacts/2025-09-15_12-39-17/llm/driver_artifacts\n",
      "Number of trials: 1/1 (1 RUNNING)\n",
      "\n",
      "\n"
     ]
    },
    {
     "name": "stderr",
     "output_type": "stream",
     "text": [
      "2025-09-15 12:40:30,901\tWARNING experiment_state.py:206 -- Experiment state snapshotting has been triggered multiple times in the last 5.0 seconds and may become a bottleneck. A snapshot is forced if `CheckpointConfig(num_to_keep)` is set, and a trial has checkpointed >= `num_to_keep` times since the last snapshot.\n",
      "You may want to consider increasing the `CheckpointConfig(num_to_keep)` or decreasing the frequency of saving checkpoints.\n",
      "You can suppress this warning by setting the environment variable TUNE_WARN_EXCESSIVE_EXPERIMENT_CHECKPOINT_SYNC_THRESHOLD_S to a smaller value than the current threshold (5.0). Set it to 0 to completely suppress this warning.\n"
     ]
    },
    {
     "data": {
      "application/vnd.jupyter.widget-view+json": {
       "model_id": "e82ad2afd2424556a35daa0b326b81a0",
       "version_major": 2,
       "version_minor": 0
      },
      "text/plain": [
       "(pid=14865) Running 0: 0.00 row [00:00, ? row/s]"
      ]
     },
     "metadata": {},
     "output_type": "display_data"
    },
    {
     "data": {
      "application/vnd.jupyter.widget-view+json": {
       "model_id": "11827fab1ff04a85837be2212a1df771",
       "version_major": 2,
       "version_minor": 0
      },
      "text/plain": [
       "(pid=14865) - split(1, equal=True) 1: 0.00 row [00:00, ? row/s]"
      ]
     },
     "metadata": {},
     "output_type": "display_data"
    },
    {
     "name": "stdout",
     "output_type": "stream",
     "text": [
      "== Status ==\n",
      "Current time: 2025-09-15 12:40:33 (running for 00:01:16.06)\n",
      "Using FIFO scheduling algorithm.\n",
      "Logical resource usage: 4.0/8 CPUs, 0/0 GPUs\n",
      "Result logdir: /tmp/ray/session_2025-09-15_12-30-08_614560_3457/artifacts/2025-09-15_12-39-17/llm/driver_artifacts\n",
      "Number of trials: 1/1 (1 RUNNING)\n",
      "\n",
      "\n",
      "== Status ==\n",
      "Current time: 2025-09-15 12:40:39 (running for 00:01:21.13)\n",
      "Using FIFO scheduling algorithm.\n",
      "Logical resource usage: 4.0/8 CPUs, 0/0 GPUs\n",
      "Result logdir: /tmp/ray/session_2025-09-15_12-30-08_614560_3457/artifacts/2025-09-15_12-39-17/llm/driver_artifacts\n",
      "Number of trials: 1/1 (1 RUNNING)\n",
      "\n",
      "\n"
     ]
    },
    {
     "data": {
      "application/vnd.jupyter.widget-view+json": {
       "model_id": "251031cb8ced436ba568af4ec4a12c6d",
       "version_major": 2,
       "version_minor": 0
      },
      "text/plain": [
       "(pid=14864) Running 0: 0.00 row [00:00, ? row/s]"
      ]
     },
     "metadata": {},
     "output_type": "display_data"
    },
    {
     "data": {
      "application/vnd.jupyter.widget-view+json": {
       "model_id": "5e914ca38ee6444b9e0295203e0732aa",
       "version_major": 2,
       "version_minor": 0
      },
      "text/plain": [
       "(pid=14864) - split(1, equal=True) 1: 0.00 row [00:00, ? row/s]"
      ]
     },
     "metadata": {},
     "output_type": "display_data"
    },
    {
     "name": "stderr",
     "output_type": "stream",
     "text": [
      "2025-09-15 12:40:41,109\tWARNING experiment_state.py:206 -- Experiment state snapshotting has been triggered multiple times in the last 5.0 seconds and may become a bottleneck. A snapshot is forced if `CheckpointConfig(num_to_keep)` is set, and a trial has checkpointed >= `num_to_keep` times since the last snapshot.\n",
      "You may want to consider increasing the `CheckpointConfig(num_to_keep)` or decreasing the frequency of saving checkpoints.\n",
      "You can suppress this warning by setting the environment variable TUNE_WARN_EXCESSIVE_EXPERIMENT_CHECKPOINT_SYNC_THRESHOLD_S to a smaller value than the current threshold (5.0). Set it to 0 to completely suppress this warning.\n"
     ]
    },
    {
     "data": {
      "application/vnd.jupyter.widget-view+json": {
       "model_id": "d03e8514273d493b8d05f53ed67b7da4",
       "version_major": 2,
       "version_minor": 0
      },
      "text/plain": [
       "(pid=14865) Running 0: 0.00 row [00:00, ? row/s]"
      ]
     },
     "metadata": {},
     "output_type": "display_data"
    },
    {
     "data": {
      "application/vnd.jupyter.widget-view+json": {
       "model_id": "33a470ddf4934e819c386ff2479efac5",
       "version_major": 2,
       "version_minor": 0
      },
      "text/plain": [
       "(pid=14865) - split(1, equal=True) 1: 0.00 row [00:00, ? row/s]"
      ]
     },
     "metadata": {},
     "output_type": "display_data"
    },
    {
     "name": "stdout",
     "output_type": "stream",
     "text": [
      "== Status ==\n",
      "Current time: 2025-09-15 12:40:44 (running for 00:01:26.15)\n",
      "Using FIFO scheduling algorithm.\n",
      "Logical resource usage: 4.0/8 CPUs, 0/0 GPUs\n",
      "Result logdir: /tmp/ray/session_2025-09-15_12-30-08_614560_3457/artifacts/2025-09-15_12-39-17/llm/driver_artifacts\n",
      "Number of trials: 1/1 (1 RUNNING)\n",
      "\n",
      "\n",
      "== Status ==\n",
      "Current time: 2025-09-15 12:40:49 (running for 00:01:31.16)\n",
      "Using FIFO scheduling algorithm.\n",
      "Logical resource usage: 4.0/8 CPUs, 0/0 GPUs\n",
      "Result logdir: /tmp/ray/session_2025-09-15_12-30-08_614560_3457/artifacts/2025-09-15_12-39-17/llm/driver_artifacts\n",
      "Number of trials: 1/1 (1 RUNNING)\n",
      "\n",
      "\n"
     ]
    },
    {
     "data": {
      "application/vnd.jupyter.widget-view+json": {
       "model_id": "76461c3de0f64163904d509b029823c6",
       "version_major": 2,
       "version_minor": 0
      },
      "text/plain": [
       "(pid=14864) Running 0: 0.00 row [00:00, ? row/s]"
      ]
     },
     "metadata": {},
     "output_type": "display_data"
    },
    {
     "data": {
      "application/vnd.jupyter.widget-view+json": {
       "model_id": "946ce18fc8d843dcb2a8bcf364203a50",
       "version_major": 2,
       "version_minor": 0
      },
      "text/plain": [
       "(pid=14864) - split(1, equal=True) 1: 0.00 row [00:00, ? row/s]"
      ]
     },
     "metadata": {},
     "output_type": "display_data"
    },
    {
     "name": "stderr",
     "output_type": "stream",
     "text": [
      "2025-09-15 12:40:51,289\tWARNING experiment_state.py:206 -- Experiment state snapshotting has been triggered multiple times in the last 5.0 seconds and may become a bottleneck. A snapshot is forced if `CheckpointConfig(num_to_keep)` is set, and a trial has checkpointed >= `num_to_keep` times since the last snapshot.\n",
      "You may want to consider increasing the `CheckpointConfig(num_to_keep)` or decreasing the frequency of saving checkpoints.\n",
      "You can suppress this warning by setting the environment variable TUNE_WARN_EXCESSIVE_EXPERIMENT_CHECKPOINT_SYNC_THRESHOLD_S to a smaller value than the current threshold (5.0). Set it to 0 to completely suppress this warning.\n"
     ]
    },
    {
     "data": {
      "application/vnd.jupyter.widget-view+json": {
       "model_id": "ccab3236ca1a4368896459333c8883e0",
       "version_major": 2,
       "version_minor": 0
      },
      "text/plain": [
       "(pid=14865) Running 0: 0.00 row [00:00, ? row/s]"
      ]
     },
     "metadata": {},
     "output_type": "display_data"
    },
    {
     "data": {
      "application/vnd.jupyter.widget-view+json": {
       "model_id": "4cd8921848704ff1a499320b551ffa59",
       "version_major": 2,
       "version_minor": 0
      },
      "text/plain": [
       "(pid=14865) - split(1, equal=True) 1: 0.00 row [00:00, ? row/s]"
      ]
     },
     "metadata": {},
     "output_type": "display_data"
    },
    {
     "name": "stdout",
     "output_type": "stream",
     "text": [
      "== Status ==\n",
      "Current time: 2025-09-15 12:40:54 (running for 00:01:36.23)\n",
      "Using FIFO scheduling algorithm.\n",
      "Logical resource usage: 4.0/8 CPUs, 0/0 GPUs\n",
      "Result logdir: /tmp/ray/session_2025-09-15_12-30-08_614560_3457/artifacts/2025-09-15_12-39-17/llm/driver_artifacts\n",
      "Number of trials: 1/1 (1 RUNNING)\n",
      "\n",
      "\n",
      "== Status ==\n",
      "Current time: 2025-09-15 12:40:59 (running for 00:01:41.29)\n",
      "Using FIFO scheduling algorithm.\n",
      "Logical resource usage: 4.0/8 CPUs, 0/0 GPUs\n",
      "Result logdir: /tmp/ray/session_2025-09-15_12-30-08_614560_3457/artifacts/2025-09-15_12-39-17/llm/driver_artifacts\n",
      "Number of trials: 1/1 (1 RUNNING)\n",
      "\n",
      "\n"
     ]
    },
    {
     "data": {
      "application/vnd.jupyter.widget-view+json": {
       "model_id": "e6b0c89049404ccca26ac15a1ad06b32",
       "version_major": 2,
       "version_minor": 0
      },
      "text/plain": [
       "(pid=14864) Running 0: 0.00 row [00:00, ? row/s]"
      ]
     },
     "metadata": {},
     "output_type": "display_data"
    },
    {
     "data": {
      "application/vnd.jupyter.widget-view+json": {
       "model_id": "022b31febc9143b2a5bfaee968005c98",
       "version_major": 2,
       "version_minor": 0
      },
      "text/plain": [
       "(pid=14864) - split(1, equal=True) 1: 0.00 row [00:00, ? row/s]"
      ]
     },
     "metadata": {},
     "output_type": "display_data"
    },
    {
     "name": "stderr",
     "output_type": "stream",
     "text": [
      "2025-09-15 12:41:02,144\tWARNING experiment_state.py:206 -- Experiment state snapshotting has been triggered multiple times in the last 5.0 seconds and may become a bottleneck. A snapshot is forced if `CheckpointConfig(num_to_keep)` is set, and a trial has checkpointed >= `num_to_keep` times since the last snapshot.\n",
      "You may want to consider increasing the `CheckpointConfig(num_to_keep)` or decreasing the frequency of saving checkpoints.\n",
      "You can suppress this warning by setting the environment variable TUNE_WARN_EXCESSIVE_EXPERIMENT_CHECKPOINT_SYNC_THRESHOLD_S to a smaller value than the current threshold (5.0). Set it to 0 to completely suppress this warning.\n"
     ]
    },
    {
     "data": {
      "application/vnd.jupyter.widget-view+json": {
       "model_id": "ee10373fb71f4247a82bcf9531af63ea",
       "version_major": 2,
       "version_minor": 0
      },
      "text/plain": [
       "(pid=14865) Running 0: 0.00 row [00:00, ? row/s]"
      ]
     },
     "metadata": {},
     "output_type": "display_data"
    },
    {
     "data": {
      "application/vnd.jupyter.widget-view+json": {
       "model_id": "1b7c5670dda8447aab74218ed6a048aa",
       "version_major": 2,
       "version_minor": 0
      },
      "text/plain": [
       "(pid=14865) - split(1, equal=True) 1: 0.00 row [00:00, ? row/s]"
      ]
     },
     "metadata": {},
     "output_type": "display_data"
    },
    {
     "name": "stdout",
     "output_type": "stream",
     "text": [
      "== Status ==\n",
      "Current time: 2025-09-15 12:41:04 (running for 00:01:46.34)\n",
      "Using FIFO scheduling algorithm.\n",
      "Logical resource usage: 4.0/8 CPUs, 0/0 GPUs\n",
      "Result logdir: /tmp/ray/session_2025-09-15_12-30-08_614560_3457/artifacts/2025-09-15_12-39-17/llm/driver_artifacts\n",
      "Number of trials: 1/1 (1 RUNNING)\n",
      "\n",
      "\n",
      "== Status ==\n",
      "Current time: 2025-09-15 12:41:09 (running for 00:01:51.42)\n",
      "Using FIFO scheduling algorithm.\n",
      "Logical resource usage: 4.0/8 CPUs, 0/0 GPUs\n",
      "Result logdir: /tmp/ray/session_2025-09-15_12-30-08_614560_3457/artifacts/2025-09-15_12-39-17/llm/driver_artifacts\n",
      "Number of trials: 1/1 (1 RUNNING)\n",
      "\n",
      "\n"
     ]
    },
    {
     "data": {
      "application/vnd.jupyter.widget-view+json": {
       "model_id": "b7b5f9ae6f84439aaf21809fa8f12760",
       "version_major": 2,
       "version_minor": 0
      },
      "text/plain": [
       "(pid=14864) Running 0: 0.00 row [00:00, ? row/s]"
      ]
     },
     "metadata": {},
     "output_type": "display_data"
    },
    {
     "data": {
      "application/vnd.jupyter.widget-view+json": {
       "model_id": "a6f09f8d4e3a4abbb2bb31ea7dcdfad0",
       "version_major": 2,
       "version_minor": 0
      },
      "text/plain": [
       "(pid=14864) - split(1, equal=True) 1: 0.00 row [00:00, ? row/s]"
      ]
     },
     "metadata": {},
     "output_type": "display_data"
    },
    {
     "name": "stderr",
     "output_type": "stream",
     "text": [
      "2025-09-15 12:41:13,797\tWARNING experiment_state.py:206 -- Experiment state snapshotting has been triggered multiple times in the last 5.0 seconds and may become a bottleneck. A snapshot is forced if `CheckpointConfig(num_to_keep)` is set, and a trial has checkpointed >= `num_to_keep` times since the last snapshot.\n",
      "You may want to consider increasing the `CheckpointConfig(num_to_keep)` or decreasing the frequency of saving checkpoints.\n",
      "You can suppress this warning by setting the environment variable TUNE_WARN_EXCESSIVE_EXPERIMENT_CHECKPOINT_SYNC_THRESHOLD_S to a smaller value than the current threshold (5.0). Set it to 0 to completely suppress this warning.\n"
     ]
    },
    {
     "data": {
      "application/vnd.jupyter.widget-view+json": {
       "model_id": "e5699d9b86674831908c339833e95763",
       "version_major": 2,
       "version_minor": 0
      },
      "text/plain": [
       "(pid=14865) Running 0: 0.00 row [00:00, ? row/s]"
      ]
     },
     "metadata": {},
     "output_type": "display_data"
    },
    {
     "data": {
      "application/vnd.jupyter.widget-view+json": {
       "model_id": "b18a3d29920340e6a616a70258e11317",
       "version_major": 2,
       "version_minor": 0
      },
      "text/plain": [
       "(pid=14865) - split(1, equal=True) 1: 0.00 row [00:00, ? row/s]"
      ]
     },
     "metadata": {},
     "output_type": "display_data"
    },
    {
     "name": "stdout",
     "output_type": "stream",
     "text": [
      "== Status ==\n",
      "Current time: 2025-09-15 12:41:14 (running for 00:01:56.44)\n",
      "Using FIFO scheduling algorithm.\n",
      "Logical resource usage: 4.0/8 CPUs, 0/0 GPUs\n",
      "Result logdir: /tmp/ray/session_2025-09-15_12-30-08_614560_3457/artifacts/2025-09-15_12-39-17/llm/driver_artifacts\n",
      "Number of trials: 1/1 (1 RUNNING)\n",
      "\n",
      "\n",
      "== Status ==\n",
      "Current time: 2025-09-15 12:41:19 (running for 00:02:01.51)\n",
      "Using FIFO scheduling algorithm.\n",
      "Logical resource usage: 4.0/8 CPUs, 0/0 GPUs\n",
      "Result logdir: /tmp/ray/session_2025-09-15_12-30-08_614560_3457/artifacts/2025-09-15_12-39-17/llm/driver_artifacts\n",
      "Number of trials: 1/1 (1 RUNNING)\n",
      "\n",
      "\n"
     ]
    },
    {
     "data": {
      "application/vnd.jupyter.widget-view+json": {
       "model_id": "fc50c584d57b4bdca65853868e21e18d",
       "version_major": 2,
       "version_minor": 0
      },
      "text/plain": [
       "(pid=14864) Running 0: 0.00 row [00:00, ? row/s]"
      ]
     },
     "metadata": {},
     "output_type": "display_data"
    },
    {
     "data": {
      "application/vnd.jupyter.widget-view+json": {
       "model_id": "e6fe0089886b4a74a34a547d34153382",
       "version_major": 2,
       "version_minor": 0
      },
      "text/plain": [
       "(pid=14864) - split(1, equal=True) 1: 0.00 row [00:00, ? row/s]"
      ]
     },
     "metadata": {},
     "output_type": "display_data"
    },
    {
     "name": "stderr",
     "output_type": "stream",
     "text": [
      "2025-09-15 12:41:24,197\tWARNING experiment_state.py:206 -- Experiment state snapshotting has been triggered multiple times in the last 5.0 seconds and may become a bottleneck. A snapshot is forced if `CheckpointConfig(num_to_keep)` is set, and a trial has checkpointed >= `num_to_keep` times since the last snapshot.\n",
      "You may want to consider increasing the `CheckpointConfig(num_to_keep)` or decreasing the frequency of saving checkpoints.\n",
      "You can suppress this warning by setting the environment variable TUNE_WARN_EXCESSIVE_EXPERIMENT_CHECKPOINT_SYNC_THRESHOLD_S to a smaller value than the current threshold (5.0). Set it to 0 to completely suppress this warning.\n"
     ]
    },
    {
     "name": "stdout",
     "output_type": "stream",
     "text": [
      "== Status ==\n",
      "Current time: 2025-09-15 12:41:24 (running for 00:02:06.53)\n",
      "Using FIFO scheduling algorithm.\n",
      "Logical resource usage: 4.0/8 CPUs, 0/0 GPUs\n",
      "Result logdir: /tmp/ray/session_2025-09-15_12-30-08_614560_3457/artifacts/2025-09-15_12-39-17/llm/driver_artifacts\n",
      "Number of trials: 1/1 (1 RUNNING)\n",
      "\n",
      "\n"
     ]
    },
    {
     "name": "stderr",
     "output_type": "stream",
     "text": [
      "2025-09-15 12:41:25,523\tINFO tune.py:1009 -- Wrote the latest version of all result files and experiment state to '/Users/ngkuissi/ray_results/llm' in 0.0241s.\n",
      "2025-09-15 12:41:25,534\tINFO tune.py:1041 -- Total run time: 127.66 seconds (127.62 seconds for the tuning loop).\n"
     ]
    },
    {
     "name": "stdout",
     "output_type": "stream",
     "text": [
      "== Status ==\n",
      "Current time: 2025-09-15 12:41:25 (running for 00:02:07.64)\n",
      "Using FIFO scheduling algorithm.\n",
      "Logical resource usage: 4.0/8 CPUs, 0/0 GPUs\n",
      "Result logdir: /tmp/ray/session_2025-09-15_12-30-08_614560_3457/artifacts/2025-09-15_12-39-17/llm/driver_artifacts\n",
      "Number of trials: 1/1 (1 TERMINATED)\n",
      "\n",
      "\n"
     ]
    }
   ],
   "source": [
    "results = trainer.fit()"
   ]
  },
  {
   "cell_type": "code",
   "execution_count": 110,
   "id": "46d0127b",
   "metadata": {},
   "outputs": [
    {
     "data": {
      "text/plain": [
       "Index(['epoch', 'lr', 'train_loss', 'val_loss', 'timestamp',\n",
       "       'checkpoint_dir_name', 'should_checkpoint', 'done',\n",
       "       'training_iteration', 'trial_id', 'date', 'time_this_iter_s',\n",
       "       'time_total_s', 'pid', 'hostname', 'node_ip', 'time_since_restore',\n",
       "       'iterations_since_restore', 'config/train_loop_config/dropout_p',\n",
       "       'config/train_loop_config/lr', 'config/train_loop_config/lr_factor',\n",
       "       'config/train_loop_config/lr_patience',\n",
       "       'config/train_loop_config/num_epochs',\n",
       "       'config/train_loop_config/batch_size',\n",
       "       'config/train_loop_config/num_classes',\n",
       "       'config/train_loop_config/device'],\n",
       "      dtype='object')"
      ]
     },
     "execution_count": 110,
     "metadata": {},
     "output_type": "execute_result"
    }
   ],
   "source": [
    "results.metrics_dataframe.columns"
   ]
  },
  {
   "cell_type": "code",
   "execution_count": 111,
   "id": "60180f01",
   "metadata": {},
   "outputs": [
    {
     "data": {
      "text/html": [
       "<div>\n",
       "<style scoped>\n",
       "    .dataframe tbody tr th:only-of-type {\n",
       "        vertical-align: middle;\n",
       "    }\n",
       "\n",
       "    .dataframe tbody tr th {\n",
       "        vertical-align: top;\n",
       "    }\n",
       "\n",
       "    .dataframe thead th {\n",
       "        text-align: right;\n",
       "    }\n",
       "</style>\n",
       "<table border=\"1\" class=\"dataframe\">\n",
       "  <thead>\n",
       "    <tr style=\"text-align: right;\">\n",
       "      <th></th>\n",
       "      <th>epoch</th>\n",
       "      <th>train_loss</th>\n",
       "      <th>val_loss</th>\n",
       "    </tr>\n",
       "  </thead>\n",
       "  <tbody>\n",
       "    <tr>\n",
       "      <th>0</th>\n",
       "      <td>0</td>\n",
       "      <td>1.298656</td>\n",
       "      <td>1.348185</td>\n",
       "    </tr>\n",
       "    <tr>\n",
       "      <th>1</th>\n",
       "      <td>1</td>\n",
       "      <td>1.279565</td>\n",
       "      <td>1.162291</td>\n",
       "    </tr>\n",
       "    <tr>\n",
       "      <th>2</th>\n",
       "      <td>2</td>\n",
       "      <td>1.130297</td>\n",
       "      <td>0.845694</td>\n",
       "    </tr>\n",
       "    <tr>\n",
       "      <th>3</th>\n",
       "      <td>3</td>\n",
       "      <td>0.823525</td>\n",
       "      <td>0.659376</td>\n",
       "    </tr>\n",
       "    <tr>\n",
       "      <th>4</th>\n",
       "      <td>4</td>\n",
       "      <td>0.520582</td>\n",
       "      <td>0.482941</td>\n",
       "    </tr>\n",
       "    <tr>\n",
       "      <th>5</th>\n",
       "      <td>5</td>\n",
       "      <td>0.303644</td>\n",
       "      <td>0.489036</td>\n",
       "    </tr>\n",
       "    <tr>\n",
       "      <th>6</th>\n",
       "      <td>6</td>\n",
       "      <td>0.178201</td>\n",
       "      <td>0.433394</td>\n",
       "    </tr>\n",
       "    <tr>\n",
       "      <th>7</th>\n",
       "      <td>7</td>\n",
       "      <td>0.081183</td>\n",
       "      <td>0.416853</td>\n",
       "    </tr>\n",
       "    <tr>\n",
       "      <th>8</th>\n",
       "      <td>8</td>\n",
       "      <td>0.029168</td>\n",
       "      <td>0.451430</td>\n",
       "    </tr>\n",
       "    <tr>\n",
       "      <th>9</th>\n",
       "      <td>9</td>\n",
       "      <td>0.012867</td>\n",
       "      <td>0.435537</td>\n",
       "    </tr>\n",
       "  </tbody>\n",
       "</table>\n",
       "</div>"
      ],
      "text/plain": [
       "   epoch  train_loss  val_loss\n",
       "0      0    1.298656  1.348185\n",
       "1      1    1.279565  1.162291\n",
       "2      2    1.130297  0.845694\n",
       "3      3    0.823525  0.659376\n",
       "4      4    0.520582  0.482941\n",
       "5      5    0.303644  0.489036\n",
       "6      6    0.178201  0.433394\n",
       "7      7    0.081183  0.416853\n",
       "8      8    0.029168  0.451430\n",
       "9      9    0.012867  0.435537"
      ]
     },
     "execution_count": 111,
     "metadata": {},
     "output_type": "execute_result"
    }
   ],
   "source": [
    "results.metrics_dataframe[['epoch', 'train_loss', 'val_loss']]"
   ]
  },
  {
   "cell_type": "code",
   "execution_count": 112,
   "id": "fca9217d",
   "metadata": {},
   "outputs": [
    {
     "data": {
      "text/plain": [
       "[(Checkpoint(filesystem=local, path=/Users/ngkuissi/ray_results/llm/TorchTrainer_85d4f_00000_0_2025-09-15_12-39-17/checkpoint_000007),\n",
       "  {'epoch': 7,\n",
       "   'lr': 0.0001,\n",
       "   'train_loss': 0.0811827726662159,\n",
       "   'val_loss': 0.4168533682823181,\n",
       "   'timestamp': 1757954461,\n",
       "   'checkpoint_dir_name': 'checkpoint_000007',\n",
       "   'should_checkpoint': True,\n",
       "   'done': False,\n",
       "   'training_iteration': 8,\n",
       "   'trial_id': '85d4f_00000',\n",
       "   'date': '2025-09-15_12-41-01',\n",
       "   'time_this_iter_s': 10.688474893569946,\n",
       "   'time_total_s': 99.50343370437622,\n",
       "   'pid': 14752,\n",
       "   'hostname': 'Nathans-Laptop.local',\n",
       "   'node_ip': '127.0.0.1',\n",
       "   'config': {'train_loop_config': {'dropout_p': 0.5,\n",
       "     'lr': 0.0001,\n",
       "     'lr_factor': 0.8,\n",
       "     'lr_patience': 3,\n",
       "     'num_epochs': 10,\n",
       "     'batch_size': 128,\n",
       "     'num_classes': 4,\n",
       "     'device': 'mps'}},\n",
       "   'time_since_restore': 99.50343370437622,\n",
       "   'iterations_since_restore': 8})]"
      ]
     },
     "execution_count": 112,
     "metadata": {},
     "output_type": "execute_result"
    }
   ],
   "source": [
    "results.best_checkpoints"
   ]
  },
  {
   "cell_type": "code",
   "execution_count": 113,
   "id": "3677944f",
   "metadata": {},
   "outputs": [],
   "source": [
    "from ray.train.torch import TorchPredictor\n",
    "from sklearn.metrics import precision_recall_fscore_support"
   ]
  },
  {
   "cell_type": "code",
   "execution_count": 114,
   "id": "acd66754",
   "metadata": {},
   "outputs": [
    {
     "name": "stderr",
     "output_type": "stream",
     "text": [
      "/Users/ngkuissi/Dev/learning/Made-With-ML/venv/lib/python3.10/site-packages/huggingface_hub/file_download.py:945: FutureWarning: `resume_download` is deprecated and will be removed in version 1.0.0. Downloads always resume when possible. If you want to force a new download, use `force_download=True`.\n",
      "  warnings.warn(\n",
      "Some weights of the model checkpoint at allenai/scibert_scivocab_uncased were not used when initializing BertModel: ['cls.predictions.decoder.bias', 'cls.predictions.transform.dense.weight', 'cls.predictions.bias', 'cls.seq_relationship.weight', 'cls.predictions.decoder.weight', 'cls.predictions.transform.dense.bias', 'cls.predictions.transform.LayerNorm.bias', 'cls.seq_relationship.bias', 'cls.predictions.transform.LayerNorm.weight']\n",
      "- This IS expected if you are initializing BertModel from the checkpoint of a model trained on another task or with another architecture (e.g. initializing a BertForSequenceClassification model from a BertForPreTraining model).\n",
      "- This IS NOT expected if you are initializing BertModel from the checkpoint of a model that you expect to be exactly identical (initializing a BertForSequenceClassification model from a BertForSequenceClassification model).\n"
     ]
    }
   ],
   "source": [
    "llm = BertModel.from_pretrained(\"allenai/scibert_scivocab_uncased\", return_dict=False).to(device)\n",
    "model = FinetunnedLLM(llm, 0.5, llm.config.hidden_size, 4)"
   ]
  },
  {
   "cell_type": "code",
   "execution_count": 115,
   "id": "14c95f42",
   "metadata": {},
   "outputs": [
    {
     "data": {
      "text/plain": [
       "[(Checkpoint(filesystem=local, path=/Users/ngkuissi/ray_results/llm/TorchTrainer_85d4f_00000_0_2025-09-15_12-39-17/checkpoint_000007),\n",
       "  {'epoch': 7,\n",
       "   'lr': 0.0001,\n",
       "   'train_loss': 0.0811827726662159,\n",
       "   'val_loss': 0.4168533682823181,\n",
       "   'timestamp': 1757954461,\n",
       "   'checkpoint_dir_name': 'checkpoint_000007',\n",
       "   'should_checkpoint': True,\n",
       "   'done': False,\n",
       "   'training_iteration': 8,\n",
       "   'trial_id': '85d4f_00000',\n",
       "   'date': '2025-09-15_12-41-01',\n",
       "   'time_this_iter_s': 10.688474893569946,\n",
       "   'time_total_s': 99.50343370437622,\n",
       "   'pid': 14752,\n",
       "   'hostname': 'Nathans-Laptop.local',\n",
       "   'node_ip': '127.0.0.1',\n",
       "   'config': {'train_loop_config': {'dropout_p': 0.5,\n",
       "     'lr': 0.0001,\n",
       "     'lr_factor': 0.8,\n",
       "     'lr_patience': 3,\n",
       "     'num_epochs': 10,\n",
       "     'batch_size': 128,\n",
       "     'num_classes': 4,\n",
       "     'device': 'mps'}},\n",
       "   'time_since_restore': 99.50343370437622,\n",
       "   'iterations_since_restore': 8})]"
      ]
     },
     "execution_count": 115,
     "metadata": {},
     "output_type": "execute_result"
    }
   ],
   "source": [
    "results.best_checkpoints"
   ]
  },
  {
   "cell_type": "code",
   "execution_count": 116,
   "id": "1deb9e8d",
   "metadata": {},
   "outputs": [
    {
     "data": {
      "text/plain": [
       "<All keys matched successfully>"
      ]
     },
     "execution_count": 116,
     "metadata": {},
     "output_type": "execute_result"
    }
   ],
   "source": [
    "best_checkpoint = results.best_checkpoints[0][0].path + \"/model.pt\"\n",
    "state_dict = torch.load(best_checkpoint)\n",
    "model.load_state_dict(state_dict)"
   ]
  },
  {
   "cell_type": "code",
   "execution_count": 117,
   "id": "f65b6855",
   "metadata": {},
   "outputs": [
    {
     "data": {
      "text/plain": [
       "FinetunnedLLM(\n",
       "  (llm): BertModel(\n",
       "    (embeddings): BertEmbeddings(\n",
       "      (word_embeddings): Embedding(31090, 768, padding_idx=0)\n",
       "      (position_embeddings): Embedding(512, 768)\n",
       "      (token_type_embeddings): Embedding(2, 768)\n",
       "      (LayerNorm): LayerNorm((768,), eps=1e-12, elementwise_affine=True)\n",
       "      (dropout): Dropout(p=0.1, inplace=False)\n",
       "    )\n",
       "    (encoder): BertEncoder(\n",
       "      (layer): ModuleList(\n",
       "        (0-11): 12 x BertLayer(\n",
       "          (attention): BertAttention(\n",
       "            (self): BertSelfAttention(\n",
       "              (query): Linear(in_features=768, out_features=768, bias=True)\n",
       "              (key): Linear(in_features=768, out_features=768, bias=True)\n",
       "              (value): Linear(in_features=768, out_features=768, bias=True)\n",
       "              (dropout): Dropout(p=0.1, inplace=False)\n",
       "            )\n",
       "            (output): BertSelfOutput(\n",
       "              (dense): Linear(in_features=768, out_features=768, bias=True)\n",
       "              (LayerNorm): LayerNorm((768,), eps=1e-12, elementwise_affine=True)\n",
       "              (dropout): Dropout(p=0.1, inplace=False)\n",
       "            )\n",
       "          )\n",
       "          (intermediate): BertIntermediate(\n",
       "            (dense): Linear(in_features=768, out_features=3072, bias=True)\n",
       "            (intermediate_act_fn): GELUActivation()\n",
       "          )\n",
       "          (output): BertOutput(\n",
       "            (dense): Linear(in_features=3072, out_features=768, bias=True)\n",
       "            (LayerNorm): LayerNorm((768,), eps=1e-12, elementwise_affine=True)\n",
       "            (dropout): Dropout(p=0.1, inplace=False)\n",
       "          )\n",
       "        )\n",
       "      )\n",
       "    )\n",
       "    (pooler): BertPooler(\n",
       "      (dense): Linear(in_features=768, out_features=768, bias=True)\n",
       "      (activation): Tanh()\n",
       "    )\n",
       "  )\n",
       "  (dropout): Dropout(p=0.5, inplace=False)\n",
       "  (classifier): Linear(in_features=768, out_features=4, bias=True)\n",
       ")"
      ]
     },
     "execution_count": 117,
     "metadata": {},
     "output_type": "execute_result"
    }
   ],
   "source": [
    "model"
   ]
  },
  {
   "cell_type": "code",
   "execution_count": 118,
   "id": "c6dcf42e",
   "metadata": {},
   "outputs": [],
   "source": [
    "HOLDOUT_LOC = \"https://raw.githubusercontent.com/GokuMohandas/Made-With-ML/main/datasets/holdout.csv\"\n",
    "test_ds = ray.data.read_csv(HOLDOUT_LOC)\n",
    "preprocessed_ds = preprocessor.transform(test_ds)"
   ]
  },
  {
   "cell_type": "code",
   "execution_count": 119,
   "id": "c9d3c6cd",
   "metadata": {},
   "outputs": [
    {
     "name": "stderr",
     "output_type": "stream",
     "text": [
      "2025-09-15 12:41:57,133\tINFO logging.py:295 -- Registered dataset logger for dataset dataset_83_0\n"
     ]
    },
    {
     "name": "stderr",
     "output_type": "stream",
     "text": [
      "2025-09-15 12:41:57,149\tINFO streaming_executor.py:159 -- Starting execution of Dataset dataset_83_0. Full logs are in /tmp/ray/session_2025-09-15_12-30-08_614560_3457/logs/ray-data\n",
      "2025-09-15 12:41:57,150\tINFO streaming_executor.py:160 -- Execution plan of Dataset dataset_83_0: InputDataBuffer[Input] -> TaskPoolMapOperator[ReadCSV] -> TaskPoolMapOperator[CustomPreprocessor->Project]\n"
     ]
    },
    {
     "data": {
      "application/vnd.jupyter.widget-view+json": {
       "model_id": "9516d8e208c54c6cb12e6f561e6edd66",
       "version_major": 2,
       "version_minor": 0
      },
      "text/plain": [
       "Running 0: 0.00 row [00:00, ? row/s]"
      ]
     },
     "metadata": {},
     "output_type": "display_data"
    },
    {
     "data": {
      "application/vnd.jupyter.widget-view+json": {
       "model_id": "825ab4ff168f4822bb1358a5148fd2b6",
       "version_major": 2,
       "version_minor": 0
      },
      "text/plain": [
       "- ReadCSV->SplitBlocks(16) 1: 0.00 row [00:00, ? row/s]"
      ]
     },
     "metadata": {},
     "output_type": "display_data"
    },
    {
     "data": {
      "application/vnd.jupyter.widget-view+json": {
       "model_id": "f7df0ef6bf894582be9598fab252dee7",
       "version_major": 2,
       "version_minor": 0
      },
      "text/plain": [
       "- CustomPreprocessor->Project 2: 0.00 row [00:00, ? row/s]"
      ]
     },
     "metadata": {},
     "output_type": "display_data"
    },
    {
     "name": "stderr",
     "output_type": "stream",
     "text": [
      "2025-09-15 12:41:58,191\tINFO streaming_executor.py:279 -- ✔️  Dataset dataset_83_0 execution finished in 1.04 seconds\n"
     ]
    }
   ],
   "source": [
    "preprocessed_ds = preprocessor.transform(test_ds)\n",
    "values = preprocessed_ds.select_columns(cols=[\"target\"]).take_all()\n",
    "y_true = np.stack([item[\"target\"] for item in values])"
   ]
  },
  {
   "cell_type": "code",
   "execution_count": 120,
   "id": "2424fe0d",
   "metadata": {},
   "outputs": [
    {
     "data": {
      "text/plain": [
       "array([1, 1, 1, 3, 2, 3, 3, 3, 3, 2, 3, 3, 2, 1, 3, 3, 2, 2, 1, 2, 1, 3,\n",
       "       1, 2, 3, 2, 2, 0, 0, 2, 2, 2, 2, 2, 2, 3, 3, 3, 3, 3, 0, 0, 2, 3,\n",
       "       3, 1, 0, 2, 3, 2, 2, 1, 1, 3, 2, 1, 2, 1, 1, 1, 1, 3, 3, 3, 3, 2,\n",
       "       2, 3, 2, 0, 3, 2, 1, 3, 3, 2, 2, 2, 2, 2, 3, 3, 2, 3, 0, 3, 3, 3,\n",
       "       3, 1, 3, 3, 2, 3, 2, 2, 1, 2, 3, 2, 3, 2, 3, 1, 3, 3, 3, 3, 3, 2,\n",
       "       3, 3, 2, 2, 2, 2, 1, 3, 2, 3, 2, 3, 2, 1, 1, 1, 2, 3, 2, 2, 2, 2,\n",
       "       3, 2, 2, 2, 3, 0, 2, 2, 2, 2, 2, 0, 2, 3, 1, 3, 2, 2, 0, 0, 2, 3,\n",
       "       3, 3, 3, 3, 3, 2, 2, 2, 3, 2, 0, 0, 2, 3, 3, 0, 2, 1, 2, 2, 2, 3,\n",
       "       3, 2, 3, 2, 3, 1, 3, 2, 2, 3, 0, 2, 0, 2, 2])"
      ]
     },
     "execution_count": 120,
     "metadata": {},
     "output_type": "execute_result"
    }
   ],
   "source": [
    "y_true"
   ]
  },
  {
   "cell_type": "code",
   "execution_count": 121,
   "id": "5d8cce3e",
   "metadata": {},
   "outputs": [],
   "source": [
    "model = model.to(device)"
   ]
  },
  {
   "cell_type": "code",
   "execution_count": 122,
   "id": "dbe17d15",
   "metadata": {},
   "outputs": [
    {
     "name": "stderr",
     "output_type": "stream",
     "text": [
      "/Users/ngkuissi/Dev/learning/Made-With-ML/venv/lib/python3.10/site-packages/ray/data/iterator.py:441: RayDeprecationWarning: Passing a function to `iter_torch_batches(collate_fn)` is deprecated in Ray 2.47. Please switch to using a callable class that inherits from `ArrowBatchCollateFn`, `NumpyBatchCollateFn`, or `PandasBatchCollateFn`.\n",
      "  warnings.warn(\n",
      "2025-09-15 12:42:00,499\tINFO logging.py:295 -- Registered dataset logger for dataset dataset_82_0\n",
      "2025-09-15 12:42:00,504\tINFO streaming_executor.py:159 -- Starting execution of Dataset dataset_82_0. Full logs are in /tmp/ray/session_2025-09-15_12-30-08_614560_3457/logs/ray-data\n",
      "2025-09-15 12:42:00,505\tINFO streaming_executor.py:160 -- Execution plan of Dataset dataset_82_0: InputDataBuffer[Input] -> TaskPoolMapOperator[ReadCSV] -> TaskPoolMapOperator[CustomPreprocessor]\n"
     ]
    },
    {
     "data": {
      "application/vnd.jupyter.widget-view+json": {
       "model_id": "a825593206294b32a11408eb53d28c57",
       "version_major": 2,
       "version_minor": 0
      },
      "text/plain": [
       "Running 0: 0.00 row [00:00, ? row/s]"
      ]
     },
     "metadata": {},
     "output_type": "display_data"
    },
    {
     "data": {
      "application/vnd.jupyter.widget-view+json": {
       "model_id": "7dbfa19309d7473abafedd5089ed7972",
       "version_major": 2,
       "version_minor": 0
      },
      "text/plain": [
       "- ReadCSV->SplitBlocks(16) 1: 0.00 row [00:00, ? row/s]"
      ]
     },
     "metadata": {},
     "output_type": "display_data"
    },
    {
     "data": {
      "application/vnd.jupyter.widget-view+json": {
       "model_id": "32d6930161bc47c082d2cb90b5de8fe4",
       "version_major": 2,
       "version_minor": 0
      },
      "text/plain": [
       "- CustomPreprocessor 2: 0.00 row [00:00, ? row/s]"
      ]
     },
     "metadata": {},
     "output_type": "display_data"
    },
    {
     "name": "stderr",
     "output_type": "stream",
     "text": [
      "2025-09-15 12:42:00,820\tWARNING streaming_executor_state.py:793 -- Operator produced a RefBundle with a different schema than the previous one. Previous schema: ids: extension<ray.data.arrow_tensor_v2<ArrowTensorTypeV2>>\n",
      "mask: extension<ray.data.arrow_tensor_v2<ArrowTensorTypeV2>>\n",
      "target: int64, new schema: ids: extension<ray.data.arrow_tensor_v2<ArrowTensorTypeV2>>\n",
      "mask: extension<ray.data.arrow_tensor_v2<ArrowTensorTypeV2>>\n",
      "target: int64. This may lead to unexpected behavior.\n",
      "2025-09-15 12:42:01,045\tINFO streaming_executor.py:279 -- ✔️  Dataset dataset_82_0 execution finished in 0.54 seconds\n"
     ]
    }
   ],
   "source": [
    "ds_generator = preprocessed_ds.iter_torch_batches(batch_size=128, collate_fn=collate_fn)\n",
    "y_pred = None\n",
    "model.eval()\n",
    "with torch.inference_mode():\n",
    "    for i, batch in enumerate(ds_generator):\n",
    "        batch['ids'] = batch['ids'].to(device)\n",
    "        batch['mask'] = batch['mask'].to(device)\n",
    "        z = model(batch)\n",
    "        if y_pred is not None:\n",
    "            y_pred = torch.concat([y_pred, torch.argmax(z, dim=-1)], dim=0)\n",
    "        else:\n",
    "            y_pred = torch.argmax(z, dim=-1)"
   ]
  },
  {
   "cell_type": "code",
   "execution_count": 123,
   "id": "cd221093",
   "metadata": {},
   "outputs": [],
   "source": [
    "y_pred = y_pred.cpu().numpy()"
   ]
  },
  {
   "cell_type": "code",
   "execution_count": 124,
   "id": "a2590066",
   "metadata": {},
   "outputs": [],
   "source": [
    "metrics = precision_recall_fscore_support(y_true, y_pred, average=\"weighted\")"
   ]
  },
  {
   "cell_type": "code",
   "execution_count": 125,
   "id": "ee5adb5a",
   "metadata": {},
   "outputs": [
    {
     "data": {
      "text/plain": [
       "{'precision': 0.9369889807859304,\n",
       " 'recall': 0.93717277486911,\n",
       " 'f1': 0.9367971189393501}"
      ]
     },
     "execution_count": 125,
     "metadata": {},
     "output_type": "execute_result"
    }
   ],
   "source": [
    "{\"precision\": metrics[0], \"recall\": metrics[1], \"f1\": metrics[2]}"
   ]
  },
  {
   "cell_type": "code",
   "execution_count": 128,
   "id": "939ac9d3",
   "metadata": {},
   "outputs": [],
   "source": [
    "def evaluate(ds, model, preprocessor=preprocessor, device=device):\n",
    "    # y_true\n",
    "    preprocessed_ds = preprocessor.transform(ds)\n",
    "    values = preprocessed_ds.select_columns(cols=[\"target\"]).take_all()\n",
    "    y_true = np.stack([item[\"target\"] for item in values])\n",
    "    \n",
    "    # y_pred\n",
    "    model = model.to(device)\n",
    "    ds_generator = preprocessed_ds.iter_torch_batches(batch_size=128, collate_fn=lambda x: collate_fn(x, device=device))\n",
    "    y_pred = None\n",
    "    model.eval()\n",
    "    with torch.inference_mode():\n",
    "        for i, batch in enumerate(ds_generator):\n",
    "            batch['ids'] = batch['ids'].to(device)\n",
    "            batch['mask'] = batch['mask'].to(device)\n",
    "            z = model(batch)\n",
    "            if y_pred is not None:\n",
    "                y_pred = torch.concat([y_pred, torch.argmax(z, dim=-1)], dim=0)\n",
    "            else:\n",
    "                y_pred = torch.argmax(z, dim=-1)\n",
    "    \n",
    "    y_pred = y_pred.cpu().numpy()\n",
    "    metrics = precision_recall_fscore_support(y_true, y_pred, average=\"weighted\")\n",
    "    return {\"precision\": metrics[0], \"recall\": metrics[1], \"f1\": metrics[2]}"
   ]
  },
  {
   "cell_type": "code",
   "execution_count": 129,
   "id": "f66529c3",
   "metadata": {},
   "outputs": [
    {
     "name": "stderr",
     "output_type": "stream",
     "text": [
      "2025-09-15 12:42:40,588\tINFO logging.py:295 -- Registered dataset logger for dataset dataset_87_0\n",
      "2025-09-15 12:42:40,596\tINFO streaming_executor.py:159 -- Starting execution of Dataset dataset_87_0. Full logs are in /tmp/ray/session_2025-09-15_12-30-08_614560_3457/logs/ray-data\n",
      "2025-09-15 12:42:40,597\tINFO streaming_executor.py:160 -- Execution plan of Dataset dataset_87_0: InputDataBuffer[Input] -> TaskPoolMapOperator[ReadCSV] -> TaskPoolMapOperator[CustomPreprocessor->Project]\n"
     ]
    },
    {
     "data": {
      "application/vnd.jupyter.widget-view+json": {
       "model_id": "63bda0833130434ba2b61136476a90cd",
       "version_major": 2,
       "version_minor": 0
      },
      "text/plain": [
       "Running 0: 0.00 row [00:00, ? row/s]"
      ]
     },
     "metadata": {},
     "output_type": "display_data"
    },
    {
     "data": {
      "application/vnd.jupyter.widget-view+json": {
       "model_id": "91927235bdfa490fbd637bb783a7ecd1",
       "version_major": 2,
       "version_minor": 0
      },
      "text/plain": [
       "- ReadCSV->SplitBlocks(16) 1: 0.00 row [00:00, ? row/s]"
      ]
     },
     "metadata": {},
     "output_type": "display_data"
    },
    {
     "data": {
      "application/vnd.jupyter.widget-view+json": {
       "model_id": "7d32457119bd4159aed03ca970974b99",
       "version_major": 2,
       "version_minor": 0
      },
      "text/plain": [
       "- CustomPreprocessor->Project 2: 0.00 row [00:00, ? row/s]"
      ]
     },
     "metadata": {},
     "output_type": "display_data"
    },
    {
     "name": "stderr",
     "output_type": "stream",
     "text": [
      "2025-09-15 12:42:41,156\tINFO streaming_executor.py:279 -- ✔️  Dataset dataset_87_0 execution finished in 0.56 seconds\n",
      "2025-09-15 12:42:41,180\tINFO logging.py:295 -- Registered dataset logger for dataset dataset_86_0\n",
      "2025-09-15 12:42:41,185\tINFO streaming_executor.py:159 -- Starting execution of Dataset dataset_86_0. Full logs are in /tmp/ray/session_2025-09-15_12-30-08_614560_3457/logs/ray-data\n",
      "2025-09-15 12:42:41,186\tINFO streaming_executor.py:160 -- Execution plan of Dataset dataset_86_0: InputDataBuffer[Input] -> TaskPoolMapOperator[ReadCSV] -> TaskPoolMapOperator[CustomPreprocessor]\n"
     ]
    },
    {
     "data": {
      "application/vnd.jupyter.widget-view+json": {
       "model_id": "b5db01121d2040eaba284e512e1663a2",
       "version_major": 2,
       "version_minor": 0
      },
      "text/plain": [
       "Running 0: 0.00 row [00:00, ? row/s]"
      ]
     },
     "metadata": {},
     "output_type": "display_data"
    },
    {
     "data": {
      "application/vnd.jupyter.widget-view+json": {
       "model_id": "1153ec8be09f431dac958e250a3b3ffb",
       "version_major": 2,
       "version_minor": 0
      },
      "text/plain": [
       "- ReadCSV->SplitBlocks(16) 1: 0.00 row [00:00, ? row/s]"
      ]
     },
     "metadata": {},
     "output_type": "display_data"
    },
    {
     "data": {
      "application/vnd.jupyter.widget-view+json": {
       "model_id": "877b19baff294e87b64793298bae68bf",
       "version_major": 2,
       "version_minor": 0
      },
      "text/plain": [
       "- CustomPreprocessor 2: 0.00 row [00:00, ? row/s]"
      ]
     },
     "metadata": {},
     "output_type": "display_data"
    },
    {
     "name": "stderr",
     "output_type": "stream",
     "text": [
      "2025-09-15 12:42:41,448\tWARNING streaming_executor_state.py:793 -- Operator produced a RefBundle with a different schema than the previous one. Previous schema: ids: extension<ray.data.arrow_tensor_v2<ArrowTensorTypeV2>>\n",
      "mask: extension<ray.data.arrow_tensor_v2<ArrowTensorTypeV2>>\n",
      "target: int64, new schema: ids: extension<ray.data.arrow_tensor_v2<ArrowTensorTypeV2>>\n",
      "mask: extension<ray.data.arrow_tensor_v2<ArrowTensorTypeV2>>\n",
      "target: int64. This may lead to unexpected behavior.\n",
      "2025-09-15 12:42:41,636\tINFO streaming_executor.py:279 -- ✔️  Dataset dataset_86_0 execution finished in 0.45 seconds\n"
     ]
    },
    {
     "data": {
      "text/plain": [
       "{'precision': 0.9369889807859304,\n",
       " 'recall': 0.93717277486911,\n",
       " 'f1': 0.9367971189393501}"
      ]
     },
     "execution_count": 129,
     "metadata": {},
     "output_type": "execute_result"
    }
   ],
   "source": [
    "evaluate(test_ds, model)"
   ]
  },
  {
   "cell_type": "markdown",
   "id": "3848b15a",
   "metadata": {},
   "source": [
    "## Inference"
   ]
  },
  {
   "cell_type": "code",
   "execution_count": 130,
   "id": "dac1ec21",
   "metadata": {},
   "outputs": [],
   "source": [
    "import pandas as pd"
   ]
  },
  {
   "cell_type": "code",
   "execution_count": 131,
   "id": "6672fa17",
   "metadata": {},
   "outputs": [
    {
     "data": {
      "text/plain": [
       "{0: 'mlops',\n",
       " 1: 'other',\n",
       " 2: 'natural-language-processing',\n",
       " 3: 'computer-vision'}"
      ]
     },
     "execution_count": 131,
     "metadata": {},
     "output_type": "execute_result"
    }
   ],
   "source": [
    "preprocessor.index_to_class"
   ]
  },
  {
   "cell_type": "code",
   "execution_count": 132,
   "id": "10f3c6a9",
   "metadata": {},
   "outputs": [],
   "source": [
    "def format_prob(prob, index_to_class):\n",
    "    d = {}\n",
    "    for i, item in enumerate(prob):\n",
    "        d[index_to_class[i]] = item\n",
    "    return d"
   ]
  },
  {
   "cell_type": "code",
   "execution_count": 133,
   "id": "5909497d",
   "metadata": {},
   "outputs": [],
   "source": [
    "def predict_prob(df, model, preprocessor=preprocessor, device=device):\n",
    "    \n",
    "    processed = preprocessor._transform_pandas(df)\n",
    "    processed = collate_fn(processed, device)\n",
    "    model = model.to(device)\n",
    "    output = model(processed)\n",
    "    output = output.cpu().detach()\n",
    "    y_prob = output.softmax(dim=1).numpy()\n",
    "    \n",
    "    res = []\n",
    "    for i, prob in enumerate(y_prob):\n",
    "        tag = decode([prob.argmax()], preprocessor.index_to_class)[0]\n",
    "        res.append({\"prediction\": tag, \"probabilities\": format_prob(prob, preprocessor.index_to_class)})\n",
    "    return res\n",
    "    "
   ]
  },
  {
   "cell_type": "code",
   "execution_count": 134,
   "id": "c4054758",
   "metadata": {},
   "outputs": [],
   "source": [
    "title = \"Transfer learning with transformers\"\n",
    "description = \"Using transformers for transfer learning on text classification tasks.\"\n",
    "sample_df = pd.DataFrame([{\"title\": title, \"description\": description, \"tag\": \"natural-language-processing\"}])"
   ]
  },
  {
   "cell_type": "code",
   "execution_count": 135,
   "metadata": {},
   "outputs": [
    {
     "data": {
      "text/plain": [
       "[{'prediction': 'natural-language-processing',\n",
       "  'probabilities': {'mlops': 0.0010815858,\n",
       "   'other': 0.0015012306,\n",
       "   'natural-language-processing': 0.99653804,\n",
       "   'computer-vision': 0.00087906554}}]"
      ]
     },
     "execution_count": 135,
     "metadata": {},
     "output_type": "execute_result"
    }
   ],
   "source": [
    "predict_prob(sample_df, model)"
   ]
  },
  {
   "cell_type": "markdown",
   "id": "6bb048cb",
   "metadata": {},
   "source": [
    "# MLFLOW"
   ]
  },
  {
   "cell_type": "code",
   "execution_count": 152,
   "id": "93eed85f",
   "metadata": {},
   "outputs": [],
   "source": [
    "import mlflow\n",
    "from pathlib import Path\n",
    "from ray.air.integrations.mlflow import MLflowLoggerCallback\n",
    "import time"
   ]
  },
  {
   "cell_type": "code",
   "execution_count": 153,
   "id": "0df2995f",
   "metadata": {},
   "outputs": [],
   "source": [
    "MODEL_REGISTERY = Path(\"tmp/mlflow\")\n",
    "MODEL_REGISTERY.mkdir(exist_ok=True, parents=True)"
   ]
  },
  {
   "cell_type": "code",
   "execution_count": 172,
   "id": "a4729def",
   "metadata": {},
   "outputs": [],
   "source": [
    "MLFLOW_TRACKING_URI = \"file:\" + str(MODEL_REGISTERY.absolute())\n",
    "mlflow.set_tracking_uri(MLFLOW_TRACKING_URI)"
   ]
  },
  {
   "cell_type": "code",
   "execution_count": 173,
   "id": "6d9c6415",
   "metadata": {},
   "outputs": [
    {
     "data": {
      "text/plain": [
       "'file:/Users/ngkuissi/Dev/learning/Made-With-ML/notebooks/tmp/mlflow'"
      ]
     },
     "execution_count": 173,
     "metadata": {},
     "output_type": "execute_result"
    }
   ],
   "source": [
    "MLFLOW_TRACKING_URI"
   ]
  },
  {
   "cell_type": "code",
   "execution_count": 174,
   "id": "0dd5a8db",
   "metadata": {},
   "outputs": [
    {
     "name": "stdout",
     "output_type": "stream",
     "text": [
      "file:/Users/ngkuissi/Dev/learning/Made-With-ML/notebooks/tmp/mlflow\n"
     ]
    }
   ],
   "source": [
    "print(mlflow.get_tracking_uri())"
   ]
  },
  {
   "cell_type": "code",
   "execution_count": 175,
   "id": "d81f3357",
   "metadata": {},
   "outputs": [
    {
     "name": "stderr",
     "output_type": "stream",
     "text": [
      "2025/09/15 13:02:03 INFO mlflow.tracking.fluent: Experiment with name 'llm-1757955723' does not exist. Creating a new experiment.\n"
     ]
    }
   ],
   "source": [
    "experiment_name = f\"llm-{int(time.time())}\"\n",
    "mlflow.set_experiment(experiment_name)\n",
    "mlflow_callback = MLflowLoggerCallback(\n",
    "    mlflow.get_tracking_uri(),\n",
    "    experiment_name=experiment_name,\n",
    "    save_artifact=True\n",
    ")"
   ]
  },
  {
   "cell_type": "code",
   "execution_count": 176,
   "id": "d6de4864",
   "metadata": {},
   "outputs": [],
   "source": [
    "run_config = RunConfig(\n",
    "    checkpoint_config=checkpoint_config,\n",
    "    callbacks=[mlflow_callback]\n",
    ")"
   ]
  },
  {
   "cell_type": "code",
   "execution_count": 177,
   "id": "e2c8f17b",
   "metadata": {},
   "outputs": [],
   "source": [
    "ds = load_data()\n",
    "train_ds, val_ds = stratify_split(ds, stratify=\"tag\", test_size=test_size)"
   ]
  },
  {
   "cell_type": "code",
   "execution_count": 178,
   "id": "b067746d",
   "metadata": {},
   "outputs": [
    {
     "name": "stderr",
     "output_type": "stream",
     "text": [
      "2025-09-15 13:02:13,102\tINFO logging.py:295 -- Registered dataset logger for dataset dataset_137_0\n",
      "2025-09-15 13:02:13,119\tINFO streaming_executor.py:159 -- Starting execution of Dataset dataset_137_0. Full logs are in /tmp/ray/session_2025-09-15_12-30-08_614560_3457/logs/ray-data\n",
      "2025-09-15 13:02:13,119\tINFO streaming_executor.py:160 -- Execution plan of Dataset dataset_137_0: InputDataBuffer[Input] -> TaskPoolMapOperator[ReadCSV] -> AllToAllOperator[RandomShuffle] -> AllToAllOperator[Sort] -> AllToAllOperator[MapBatches(_add_split)->MapBatches(_filter_split)->RandomShuffle] -> AllToAllOperator[Aggregate] -> LimitOperator[limit=1]\n"
     ]
    },
    {
     "data": {
      "application/vnd.jupyter.widget-view+json": {
       "model_id": "35684581740e4a979f5cd3381a733771",
       "version_major": 2,
       "version_minor": 0
      },
      "text/plain": [
       "Running 0: 0.00 row [00:00, ? row/s]"
      ]
     },
     "metadata": {},
     "output_type": "display_data"
    },
    {
     "data": {
      "application/vnd.jupyter.widget-view+json": {
       "model_id": "709f9640bc684d4e8c43b8796db29221",
       "version_major": 2,
       "version_minor": 0
      },
      "text/plain": [
       "- ReadCSV->SplitBlocks(16) 1: 0.00 row [00:00, ? row/s]"
      ]
     },
     "metadata": {},
     "output_type": "display_data"
    },
    {
     "data": {
      "application/vnd.jupyter.widget-view+json": {
       "model_id": "db535e51acd04934beefaf914cedd925",
       "version_major": 2,
       "version_minor": 0
      },
      "text/plain": [
       "- RandomShuffle 2: 0.00 row [00:00, ? row/s]"
      ]
     },
     "metadata": {},
     "output_type": "display_data"
    },
    {
     "data": {
      "application/vnd.jupyter.widget-view+json": {
       "model_id": "695e874aacbf47d7b5e8609483ee5dba",
       "version_major": 2,
       "version_minor": 0
      },
      "text/plain": [
       "Shuffle Map 3:   0%|          | 0.00/1.00 [00:00<?, ? row/s]"
      ]
     },
     "metadata": {},
     "output_type": "display_data"
    },
    {
     "data": {
      "application/vnd.jupyter.widget-view+json": {
       "model_id": "c50eb3e08ebb4a4ca902a161c01329a3",
       "version_major": 2,
       "version_minor": 0
      },
      "text/plain": [
       "Shuffle Reduce 4:   0%|          | 0.00/1.00 [00:00<?, ? row/s]"
      ]
     },
     "metadata": {},
     "output_type": "display_data"
    },
    {
     "data": {
      "application/vnd.jupyter.widget-view+json": {
       "model_id": "9dc8d5e4dd30420c9180e0f353a78b16",
       "version_major": 2,
       "version_minor": 0
      },
      "text/plain": [
       "- Sort 5: 0.00 row [00:00, ? row/s]"
      ]
     },
     "metadata": {},
     "output_type": "display_data"
    },
    {
     "data": {
      "application/vnd.jupyter.widget-view+json": {
       "model_id": "bbca2c23d99c4adebcf5ea3b9c5b21fc",
       "version_major": 2,
       "version_minor": 0
      },
      "text/plain": [
       "Sort Sample 6:   0%|          | 0.00/1.00 [00:00<?, ? row/s]"
      ]
     },
     "metadata": {},
     "output_type": "display_data"
    },
    {
     "data": {
      "application/vnd.jupyter.widget-view+json": {
       "model_id": "cbcf315cd4344a64be4823adcb88e973",
       "version_major": 2,
       "version_minor": 0
      },
      "text/plain": [
       "Shuffle Map 7:   0%|          | 0.00/1.00 [00:00<?, ? row/s]"
      ]
     },
     "metadata": {},
     "output_type": "display_data"
    },
    {
     "data": {
      "application/vnd.jupyter.widget-view+json": {
       "model_id": "9a597741a05b4638904281eb02eafb50",
       "version_major": 2,
       "version_minor": 0
      },
      "text/plain": [
       "Shuffle Reduce 8:   0%|          | 0.00/1.00 [00:00<?, ? row/s]"
      ]
     },
     "metadata": {},
     "output_type": "display_data"
    },
    {
     "data": {
      "application/vnd.jupyter.widget-view+json": {
       "model_id": "1dc56168483e4efc815f09bea73ebfc5",
       "version_major": 2,
       "version_minor": 0
      },
      "text/plain": [
       "- MapBatches(_add_split)->MapBatches(_filter_split)->RandomShuffle 9: 0.00 row [00:00, ? row/s]"
      ]
     },
     "metadata": {},
     "output_type": "display_data"
    },
    {
     "data": {
      "application/vnd.jupyter.widget-view+json": {
       "model_id": "7003478a15f94032bf50276386323a42",
       "version_major": 2,
       "version_minor": 0
      },
      "text/plain": [
       "Shuffle Map 10:   0%|          | 0.00/1.00 [00:00<?, ? row/s]"
      ]
     },
     "metadata": {},
     "output_type": "display_data"
    },
    {
     "data": {
      "application/vnd.jupyter.widget-view+json": {
       "model_id": "bcc989ec0cc2404bb53504a50225d7c4",
       "version_major": 2,
       "version_minor": 0
      },
      "text/plain": [
       "Shuffle Reduce 11:   0%|          | 0.00/1.00 [00:00<?, ? row/s]"
      ]
     },
     "metadata": {},
     "output_type": "display_data"
    },
    {
     "data": {
      "application/vnd.jupyter.widget-view+json": {
       "model_id": "2a1ca5b0b08d4610812089116ae0631e",
       "version_major": 2,
       "version_minor": 0
      },
      "text/plain": [
       "- Aggregate 12: 0.00 row [00:00, ? row/s]"
      ]
     },
     "metadata": {},
     "output_type": "display_data"
    },
    {
     "data": {
      "application/vnd.jupyter.widget-view+json": {
       "model_id": "38c22cb6ebf049a69099e2d2928fb2db",
       "version_major": 2,
       "version_minor": 0
      },
      "text/plain": [
       "Sort Sample 13:   0%|          | 0.00/1.00 [00:00<?, ? row/s]"
      ]
     },
     "metadata": {},
     "output_type": "display_data"
    },
    {
     "data": {
      "application/vnd.jupyter.widget-view+json": {
       "model_id": "bd5883cc9af04607a7e305fb2316cd95",
       "version_major": 2,
       "version_minor": 0
      },
      "text/plain": [
       "Shuffle Map 14:   0%|          | 0.00/1.00 [00:00<?, ? row/s]"
      ]
     },
     "metadata": {},
     "output_type": "display_data"
    },
    {
     "data": {
      "application/vnd.jupyter.widget-view+json": {
       "model_id": "792b089e45fd40089e61c27f4aef97f0",
       "version_major": 2,
       "version_minor": 0
      },
      "text/plain": [
       "Shuffle Reduce 15:   0%|          | 0.00/1.00 [00:00<?, ? row/s]"
      ]
     },
     "metadata": {},
     "output_type": "display_data"
    },
    {
     "data": {
      "application/vnd.jupyter.widget-view+json": {
       "model_id": "c9c3cbf56423457da6cda74751b17475",
       "version_major": 2,
       "version_minor": 0
      },
      "text/plain": [
       "- limit=1 16: 0.00 row [00:00, ? row/s]"
      ]
     },
     "metadata": {},
     "output_type": "display_data"
    },
    {
     "name": "stderr",
     "output_type": "stream",
     "text": [
      "2025-09-15 13:02:14,735\tWARNING streaming_executor_state.py:793 -- Operator produced a RefBundle with a different schema than the previous one. Previous schema: id: int64\n",
      "created_on: timestamp[s]\n",
      "title: string\n",
      "description: string\n",
      "tag: string, new schema: . This may lead to unexpected behavior.\n",
      "2025-09-15 13:02:15,252\tINFO streaming_executor.py:279 -- ✔️  Dataset dataset_137_0 execution finished in 2.13 seconds\n"
     ]
    }
   ],
   "source": [
    "preprocessor = CustomPreprocessor()\n",
    "train_ds = preprocessor.fit_transform(train_ds)\n",
    "val_ds = preprocessor.transform(val_ds)"
   ]
  },
  {
   "cell_type": "code",
   "execution_count": 179,
   "id": "1cf58fbd",
   "metadata": {},
   "outputs": [
    {
     "name": "stderr",
     "output_type": "stream",
     "text": [
      "2025-09-15 13:02:15,463\tINFO logging.py:295 -- Registered dataset logger for dataset dataset_140_0\n",
      "2025-09-15 13:02:15,484\tINFO streaming_executor.py:159 -- Starting execution of Dataset dataset_140_0. Full logs are in /tmp/ray/session_2025-09-15_12-30-08_614560_3457/logs/ray-data\n",
      "2025-09-15 13:02:15,485\tINFO streaming_executor.py:160 -- Execution plan of Dataset dataset_140_0: InputDataBuffer[Input] -> TaskPoolMapOperator[ReadCSV] -> AllToAllOperator[RandomShuffle] -> AllToAllOperator[Sort] -> AllToAllOperator[MapBatches(_add_split)->MapBatches(_filter_split)->RandomShuffle] -> TaskPoolMapOperator[CustomPreprocessor]\n"
     ]
    },
    {
     "data": {
      "application/vnd.jupyter.widget-view+json": {
       "model_id": "07c70128a47140d48c10ded8661cef64",
       "version_major": 2,
       "version_minor": 0
      },
      "text/plain": [
       "Running 0: 0.00 row [00:00, ? row/s]"
      ]
     },
     "metadata": {},
     "output_type": "display_data"
    },
    {
     "data": {
      "application/vnd.jupyter.widget-view+json": {
       "model_id": "10e5df48d21947ccb6343c2051d8c4af",
       "version_major": 2,
       "version_minor": 0
      },
      "text/plain": [
       "- ReadCSV->SplitBlocks(16) 1: 0.00 row [00:00, ? row/s]"
      ]
     },
     "metadata": {},
     "output_type": "display_data"
    },
    {
     "data": {
      "application/vnd.jupyter.widget-view+json": {
       "model_id": "a9888a032ecb44009f30dba30c8e8cb0",
       "version_major": 2,
       "version_minor": 0
      },
      "text/plain": [
       "- RandomShuffle 2: 0.00 row [00:00, ? row/s]"
      ]
     },
     "metadata": {},
     "output_type": "display_data"
    },
    {
     "data": {
      "application/vnd.jupyter.widget-view+json": {
       "model_id": "872c0c9b533e40ea9fbeaeed3090a049",
       "version_major": 2,
       "version_minor": 0
      },
      "text/plain": [
       "Shuffle Map 3:   0%|          | 0.00/1.00 [00:00<?, ? row/s]"
      ]
     },
     "metadata": {},
     "output_type": "display_data"
    },
    {
     "data": {
      "application/vnd.jupyter.widget-view+json": {
       "model_id": "53930c2acbb7406c95973181aa424b6a",
       "version_major": 2,
       "version_minor": 0
      },
      "text/plain": [
       "Shuffle Reduce 4:   0%|          | 0.00/1.00 [00:00<?, ? row/s]"
      ]
     },
     "metadata": {},
     "output_type": "display_data"
    },
    {
     "data": {
      "application/vnd.jupyter.widget-view+json": {
       "model_id": "63b220139e5b43e9aa7a77de572e447e",
       "version_major": 2,
       "version_minor": 0
      },
      "text/plain": [
       "- Sort 5: 0.00 row [00:00, ? row/s]"
      ]
     },
     "metadata": {},
     "output_type": "display_data"
    },
    {
     "data": {
      "application/vnd.jupyter.widget-view+json": {
       "model_id": "f0150a6304f343aca742fec7a5419cec",
       "version_major": 2,
       "version_minor": 0
      },
      "text/plain": [
       "Sort Sample 6:   0%|          | 0.00/1.00 [00:00<?, ? row/s]"
      ]
     },
     "metadata": {},
     "output_type": "display_data"
    },
    {
     "data": {
      "application/vnd.jupyter.widget-view+json": {
       "model_id": "9e9c190d53524740a34c33d2d06f251b",
       "version_major": 2,
       "version_minor": 0
      },
      "text/plain": [
       "Shuffle Map 7:   0%|          | 0.00/1.00 [00:00<?, ? row/s]"
      ]
     },
     "metadata": {},
     "output_type": "display_data"
    },
    {
     "data": {
      "application/vnd.jupyter.widget-view+json": {
       "model_id": "e6404f7ff94b4b5bb8224bca93151f6f",
       "version_major": 2,
       "version_minor": 0
      },
      "text/plain": [
       "Shuffle Reduce 8:   0%|          | 0.00/1.00 [00:00<?, ? row/s]"
      ]
     },
     "metadata": {},
     "output_type": "display_data"
    },
    {
     "data": {
      "application/vnd.jupyter.widget-view+json": {
       "model_id": "7f3018c07cab4a9facbe1c301bd68318",
       "version_major": 2,
       "version_minor": 0
      },
      "text/plain": [
       "- MapBatches(_add_split)->MapBatches(_filter_split)->RandomShuffle 9: 0.00 row [00:00, ? row/s]"
      ]
     },
     "metadata": {},
     "output_type": "display_data"
    },
    {
     "data": {
      "application/vnd.jupyter.widget-view+json": {
       "model_id": "b12b29efbc154c50b70f2108a7017834",
       "version_major": 2,
       "version_minor": 0
      },
      "text/plain": [
       "Shuffle Map 10:   0%|          | 0.00/1.00 [00:00<?, ? row/s]"
      ]
     },
     "metadata": {},
     "output_type": "display_data"
    },
    {
     "data": {
      "application/vnd.jupyter.widget-view+json": {
       "model_id": "36494ff5eaae4caf85e0fa97a9163a44",
       "version_major": 2,
       "version_minor": 0
      },
      "text/plain": [
       "Shuffle Reduce 11:   0%|          | 0.00/1.00 [00:00<?, ? row/s]"
      ]
     },
     "metadata": {},
     "output_type": "display_data"
    },
    {
     "data": {
      "application/vnd.jupyter.widget-view+json": {
       "model_id": "827f7f017f074a22b6de373e2fae2bb9",
       "version_major": 2,
       "version_minor": 0
      },
      "text/plain": [
       "- CustomPreprocessor 12: 0.00 row [00:00, ? row/s]"
      ]
     },
     "metadata": {},
     "output_type": "display_data"
    },
    {
     "name": "stderr",
     "output_type": "stream",
     "text": [
      "2025-09-15 13:02:16,621\tWARNING streaming_executor_state.py:793 -- Operator produced a RefBundle with a different schema than the previous one. Previous schema: id: int64\n",
      "created_on: timestamp[s]\n",
      "title: string\n",
      "description: string\n",
      "tag: string, new schema: . This may lead to unexpected behavior.\n",
      "2025-09-15 13:02:17,119\tWARNING streaming_executor_state.py:793 -- Operator produced a RefBundle with a different schema than the previous one. Previous schema: ids: extension<ray.data.arrow_tensor_v2<ArrowTensorTypeV2>>\n",
      "mask: extension<ray.data.arrow_tensor_v2<ArrowTensorTypeV2>>\n",
      "target: int64, new schema: ids: extension<ray.data.arrow_tensor_v2<ArrowTensorTypeV2>>\n",
      "mask: extension<ray.data.arrow_tensor_v2<ArrowTensorTypeV2>>\n",
      "target: int64. This may lead to unexpected behavior.\n",
      "2025-09-15 13:02:17,292\tINFO streaming_executor.py:279 -- ✔️  Dataset dataset_140_0 execution finished in 1.81 seconds\n",
      "2025-09-15 13:02:17,371\tINFO logging.py:295 -- Registered dataset logger for dataset dataset_142_0\n",
      "2025-09-15 13:02:17,380\tINFO streaming_executor.py:159 -- Starting execution of Dataset dataset_142_0. Full logs are in /tmp/ray/session_2025-09-15_12-30-08_614560_3457/logs/ray-data\n",
      "2025-09-15 13:02:17,381\tINFO streaming_executor.py:160 -- Execution plan of Dataset dataset_142_0: InputDataBuffer[Input] -> TaskPoolMapOperator[ReadCSV] -> AllToAllOperator[RandomShuffle] -> AllToAllOperator[Sort] -> AllToAllOperator[MapBatches(_add_split)->MapBatches(_filter_split)->RandomShuffle] -> TaskPoolMapOperator[CustomPreprocessor]\n"
     ]
    },
    {
     "data": {
      "application/vnd.jupyter.widget-view+json": {
       "model_id": "87bde5281d8c41c4910499d8fe15a030",
       "version_major": 2,
       "version_minor": 0
      },
      "text/plain": [
       "Running 0: 0.00 row [00:00, ? row/s]"
      ]
     },
     "metadata": {},
     "output_type": "display_data"
    },
    {
     "data": {
      "application/vnd.jupyter.widget-view+json": {
       "model_id": "77025c3373094d09973a8dcf5656e924",
       "version_major": 2,
       "version_minor": 0
      },
      "text/plain": [
       "- ReadCSV->SplitBlocks(16) 1: 0.00 row [00:00, ? row/s]"
      ]
     },
     "metadata": {},
     "output_type": "display_data"
    },
    {
     "data": {
      "application/vnd.jupyter.widget-view+json": {
       "model_id": "2d89c5bfc3244e4baf277da46e730b22",
       "version_major": 2,
       "version_minor": 0
      },
      "text/plain": [
       "- RandomShuffle 2: 0.00 row [00:00, ? row/s]"
      ]
     },
     "metadata": {},
     "output_type": "display_data"
    },
    {
     "data": {
      "application/vnd.jupyter.widget-view+json": {
       "model_id": "bc5a4f63b79d4727a8046aa2e1860ac4",
       "version_major": 2,
       "version_minor": 0
      },
      "text/plain": [
       "Shuffle Map 3:   0%|          | 0.00/1.00 [00:00<?, ? row/s]"
      ]
     },
     "metadata": {},
     "output_type": "display_data"
    },
    {
     "data": {
      "application/vnd.jupyter.widget-view+json": {
       "model_id": "41f83e1692d14799882391e226825ff3",
       "version_major": 2,
       "version_minor": 0
      },
      "text/plain": [
       "Shuffle Reduce 4:   0%|          | 0.00/1.00 [00:00<?, ? row/s]"
      ]
     },
     "metadata": {},
     "output_type": "display_data"
    },
    {
     "data": {
      "application/vnd.jupyter.widget-view+json": {
       "model_id": "c3be35546cde42e08351886a96fadcbc",
       "version_major": 2,
       "version_minor": 0
      },
      "text/plain": [
       "- Sort 5: 0.00 row [00:00, ? row/s]"
      ]
     },
     "metadata": {},
     "output_type": "display_data"
    },
    {
     "data": {
      "application/vnd.jupyter.widget-view+json": {
       "model_id": "fc6bc73d79a54fd6a607b3bdf6f72c5a",
       "version_major": 2,
       "version_minor": 0
      },
      "text/plain": [
       "Sort Sample 6:   0%|          | 0.00/1.00 [00:00<?, ? row/s]"
      ]
     },
     "metadata": {},
     "output_type": "display_data"
    },
    {
     "data": {
      "application/vnd.jupyter.widget-view+json": {
       "model_id": "a511daf215de45009167d61656049b33",
       "version_major": 2,
       "version_minor": 0
      },
      "text/plain": [
       "Shuffle Map 7:   0%|          | 0.00/1.00 [00:00<?, ? row/s]"
      ]
     },
     "metadata": {},
     "output_type": "display_data"
    },
    {
     "data": {
      "application/vnd.jupyter.widget-view+json": {
       "model_id": "ea5667c532c44f88889515f78ae8399c",
       "version_major": 2,
       "version_minor": 0
      },
      "text/plain": [
       "Shuffle Reduce 8:   0%|          | 0.00/1.00 [00:00<?, ? row/s]"
      ]
     },
     "metadata": {},
     "output_type": "display_data"
    },
    {
     "data": {
      "application/vnd.jupyter.widget-view+json": {
       "model_id": "13e498c8987d47f0877898ea7c2692f8",
       "version_major": 2,
       "version_minor": 0
      },
      "text/plain": [
       "- MapBatches(_add_split)->MapBatches(_filter_split)->RandomShuffle 9: 0.00 row [00:00, ? row/s]"
      ]
     },
     "metadata": {},
     "output_type": "display_data"
    },
    {
     "data": {
      "application/vnd.jupyter.widget-view+json": {
       "model_id": "2db942a37a2e40d5a7b1dd9a5c6c4a3e",
       "version_major": 2,
       "version_minor": 0
      },
      "text/plain": [
       "Shuffle Map 10:   0%|          | 0.00/1.00 [00:00<?, ? row/s]"
      ]
     },
     "metadata": {},
     "output_type": "display_data"
    },
    {
     "data": {
      "application/vnd.jupyter.widget-view+json": {
       "model_id": "d50a01efa9814125af76c423893ba79c",
       "version_major": 2,
       "version_minor": 0
      },
      "text/plain": [
       "Shuffle Reduce 11:   0%|          | 0.00/1.00 [00:00<?, ? row/s]"
      ]
     },
     "metadata": {},
     "output_type": "display_data"
    },
    {
     "data": {
      "application/vnd.jupyter.widget-view+json": {
       "model_id": "e191ac3f598041248c64a298aebe599d",
       "version_major": 2,
       "version_minor": 0
      },
      "text/plain": [
       "- CustomPreprocessor 12: 0.00 row [00:00, ? row/s]"
      ]
     },
     "metadata": {},
     "output_type": "display_data"
    },
    {
     "name": "stderr",
     "output_type": "stream",
     "text": [
      "2025-09-15 13:02:18,851\tWARNING streaming_executor_state.py:793 -- Operator produced a RefBundle with a different schema than the previous one. Previous schema: id: int64\n",
      "created_on: timestamp[s]\n",
      "title: string\n",
      "description: string\n",
      "tag: string, new schema: . This may lead to unexpected behavior.\n",
      "2025-09-15 13:02:19,254\tWARNING streaming_executor_state.py:793 -- Operator produced a RefBundle with a different schema than the previous one. Previous schema: ids: extension<ray.data.arrow_tensor_v2<ArrowTensorTypeV2>>\n",
      "mask: extension<ray.data.arrow_tensor_v2<ArrowTensorTypeV2>>\n",
      "target: int64, new schema: ids: extension<ray.data.arrow_tensor_v2<ArrowTensorTypeV2>>\n",
      "mask: extension<ray.data.arrow_tensor_v2<ArrowTensorTypeV2>>\n",
      "target: int64. This may lead to unexpected behavior.\n",
      "2025-09-15 13:02:19,393\tINFO streaming_executor.py:279 -- ✔️  Dataset dataset_142_0 execution finished in 2.01 seconds\n"
     ]
    }
   ],
   "source": [
    "train_ds = train_ds.materialize()\n",
    "val_ds = val_ds.materialize()"
   ]
  },
  {
   "cell_type": "code",
   "execution_count": 180,
   "id": "7a64c0d8",
   "metadata": {},
   "outputs": [
    {
     "name": "stderr",
     "output_type": "stream",
     "text": [
      "/Users/ngkuissi/Dev/learning/Made-With-ML/venv/lib/python3.10/site-packages/ray/train/base_trainer.py:584: RayDeprecationWarning: `ray.train.RunConfig(callbacks: List[ray.tune.Callback])` is deprecated. Ray Train no longer accepts Ray Tune callbacks, since the Ray Train execution backend is being separated from Ray Tune. See this issue for more context and migration options: https://github.com/ray-project/ray/issues/49454. Disable these warnings by setting the environment variable: RAY_TRAIN_ENABLE_V2_MIGRATION_WARNINGS=0\n",
      "  _log_deprecation_warning(CALLBACKS_DEPRECATION_MESSAGE)\n"
     ]
    }
   ],
   "source": [
    "trainer = TorchTrainer(\n",
    "    train_loop_per_worker=train_loop_per_worker,\n",
    "    train_loop_config=train_loop_config,\n",
    "    scaling_config=scaling_config,\n",
    "    run_config= run_config,\n",
    "    datasets= {\"train\": train_ds, \"val\": val_ds},\n",
    "    dataset_config=dataset_config,\n",
    "    #preprocessor=preprocessor   \n",
    ")"
   ]
  },
  {
   "cell_type": "code",
   "execution_count": 181,
   "id": "50715007",
   "metadata": {},
   "outputs": [
    {
     "name": "stderr",
     "output_type": "stream",
     "text": [
      "2025-09-15 13:02:40,834\tINFO tune.py:616 -- [output] This uses the legacy output and progress reporter, as Jupyter notebooks are not supported by the new engine, yet. For more information, please see https://github.com/ray-project/ray/issues/36949\n",
      "2025-09-15 13:02:40,838\tWARNING callback.py:143 -- The TensorboardX logger cannot be instantiated because either TensorboardX or one of it's dependencies is not installed. Please make sure you have the latest version of TensorboardX installed: `pip install -U tensorboardx`\n"
     ]
    },
    {
     "name": "stdout",
     "output_type": "stream",
     "text": [
      "== Status ==\n",
      "Current time: 2025-09-15 13:02:40 (running for 00:00:00.12)\n",
      "Using FIFO scheduling algorithm.\n",
      "Logical resource usage: 4.0/8 CPUs, 0/0 GPUs\n",
      "Result logdir: /tmp/ray/session_2025-09-15_12-30-08_614560_3457/artifacts/2025-09-15_13-02-40/TorchTrainer_2025-09-15_13-02-40/driver_artifacts\n",
      "Number of trials: 1/1 (1 PENDING)\n",
      "\n",
      "\n",
      "== Status ==\n",
      "Current time: 2025-09-15 13:02:46 (running for 00:00:05.20)\n",
      "Using FIFO scheduling algorithm.\n",
      "Logical resource usage: 4.0/8 CPUs, 0/0 GPUs\n",
      "Result logdir: /tmp/ray/session_2025-09-15_12-30-08_614560_3457/artifacts/2025-09-15_13-02-40/TorchTrainer_2025-09-15_13-02-40/driver_artifacts\n",
      "Number of trials: 1/1 (1 RUNNING)\n",
      "\n",
      "\n",
      "== Status ==\n",
      "Current time: 2025-09-15 13:02:51 (running for 00:00:10.28)\n",
      "Using FIFO scheduling algorithm.\n",
      "Logical resource usage: 4.0/8 CPUs, 0/0 GPUs\n",
      "Result logdir: /tmp/ray/session_2025-09-15_12-30-08_614560_3457/artifacts/2025-09-15_13-02-40/TorchTrainer_2025-09-15_13-02-40/driver_artifacts\n",
      "Number of trials: 1/1 (1 RUNNING)\n",
      "\n",
      "\n"
     ]
    },
    {
     "data": {
      "application/vnd.jupyter.widget-view+json": {
       "model_id": "8ab44bb2fdd84ce0ac4db6840df26199",
       "version_major": 2,
       "version_minor": 0
      },
      "text/plain": [
       "(pid=43664) Running 0: 0.00 row [00:00, ? row/s]"
      ]
     },
     "metadata": {},
     "output_type": "display_data"
    },
    {
     "data": {
      "application/vnd.jupyter.widget-view+json": {
       "model_id": "a8f9034a4bf84eada831cb1879de7593",
       "version_major": 2,
       "version_minor": 0
      },
      "text/plain": [
       "(pid=43664) - split(1, equal=True) 1: 0.00 row [00:00, ? row/s]"
      ]
     },
     "metadata": {},
     "output_type": "display_data"
    },
    {
     "name": "stdout",
     "output_type": "stream",
     "text": [
      "== Status ==\n",
      "Current time: 2025-09-15 13:02:56 (running for 00:00:15.72)\n",
      "Using FIFO scheduling algorithm.\n",
      "Logical resource usage: 4.0/8 CPUs, 0/0 GPUs\n",
      "Result logdir: /tmp/ray/session_2025-09-15_12-30-08_614560_3457/artifacts/2025-09-15_13-02-40/TorchTrainer_2025-09-15_13-02-40/driver_artifacts\n",
      "Number of trials: 1/1 (1 RUNNING)\n",
      "\n",
      "\n"
     ]
    },
    {
     "data": {
      "application/vnd.jupyter.widget-view+json": {
       "model_id": "98c1fbbcc80144cb9acaf27efa7b5516",
       "version_major": 2,
       "version_minor": 0
      },
      "text/plain": [
       "(pid=43665) Running 0: 0.00 row [00:00, ? row/s]"
      ]
     },
     "metadata": {},
     "output_type": "display_data"
    },
    {
     "data": {
      "application/vnd.jupyter.widget-view+json": {
       "model_id": "7a4c56ab5a45451dbe2cacca1ab3b346",
       "version_major": 2,
       "version_minor": 0
      },
      "text/plain": [
       "(pid=43665) - split(1, equal=True) 1: 0.00 row [00:00, ? row/s]"
      ]
     },
     "metadata": {},
     "output_type": "display_data"
    },
    {
     "name": "stdout",
     "output_type": "stream",
     "text": [
      "== Status ==\n",
      "Current time: 2025-09-15 13:03:01 (running for 00:00:20.73)\n",
      "Using FIFO scheduling algorithm.\n",
      "Logical resource usage: 4.0/8 CPUs, 0/0 GPUs\n",
      "Result logdir: /tmp/ray/session_2025-09-15_12-30-08_614560_3457/artifacts/2025-09-15_13-02-40/TorchTrainer_2025-09-15_13-02-40/driver_artifacts\n",
      "Number of trials: 1/1 (1 RUNNING)\n",
      "\n",
      "\n"
     ]
    },
    {
     "name": "stderr",
     "output_type": "stream",
     "text": [
      "2025-09-15 13:03:03,373\tWARNING experiment_state.py:206 -- Experiment state snapshotting has been triggered multiple times in the last 5.0 seconds and may become a bottleneck. A snapshot is forced if `CheckpointConfig(num_to_keep)` is set, and a trial has checkpointed >= `num_to_keep` times since the last snapshot.\n",
      "You may want to consider increasing the `CheckpointConfig(num_to_keep)` or decreasing the frequency of saving checkpoints.\n",
      "You can suppress this warning by setting the environment variable TUNE_WARN_EXCESSIVE_EXPERIMENT_CHECKPOINT_SYNC_THRESHOLD_S to a smaller value than the current threshold (5.0). Set it to 0 to completely suppress this warning.\n"
     ]
    },
    {
     "data": {
      "application/vnd.jupyter.widget-view+json": {
       "model_id": "b579b7fc5248494cb6349c6bdd64b76f",
       "version_major": 2,
       "version_minor": 0
      },
      "text/plain": [
       "(pid=43664) Running 0: 0.00 row [00:00, ? row/s]"
      ]
     },
     "metadata": {},
     "output_type": "display_data"
    },
    {
     "data": {
      "application/vnd.jupyter.widget-view+json": {
       "model_id": "872333a86ac04ef2b0bdf67cc34fc740",
       "version_major": 2,
       "version_minor": 0
      },
      "text/plain": [
       "(pid=43664) - split(1, equal=True) 1: 0.00 row [00:00, ? row/s]"
      ]
     },
     "metadata": {},
     "output_type": "display_data"
    },
    {
     "name": "stdout",
     "output_type": "stream",
     "text": [
      "== Status ==\n",
      "Current time: 2025-09-15 13:03:06 (running for 00:00:25.76)\n",
      "Using FIFO scheduling algorithm.\n",
      "Logical resource usage: 4.0/8 CPUs, 0/0 GPUs\n",
      "Result logdir: /tmp/ray/session_2025-09-15_12-30-08_614560_3457/artifacts/2025-09-15_13-02-40/TorchTrainer_2025-09-15_13-02-40/driver_artifacts\n",
      "Number of trials: 1/1 (1 RUNNING)\n",
      "\n",
      "\n",
      "== Status ==\n",
      "Current time: 2025-09-15 13:03:11 (running for 00:00:30.85)\n",
      "Using FIFO scheduling algorithm.\n",
      "Logical resource usage: 4.0/8 CPUs, 0/0 GPUs\n",
      "Result logdir: /tmp/ray/session_2025-09-15_12-30-08_614560_3457/artifacts/2025-09-15_13-02-40/TorchTrainer_2025-09-15_13-02-40/driver_artifacts\n",
      "Number of trials: 1/1 (1 RUNNING)\n",
      "\n",
      "\n"
     ]
    },
    {
     "data": {
      "application/vnd.jupyter.widget-view+json": {
       "model_id": "d6dcf6086a9c41a5b0ff147833a30e99",
       "version_major": 2,
       "version_minor": 0
      },
      "text/plain": [
       "(pid=43665) Running 0: 0.00 row [00:00, ? row/s]"
      ]
     },
     "metadata": {},
     "output_type": "display_data"
    },
    {
     "data": {
      "application/vnd.jupyter.widget-view+json": {
       "model_id": "e1802ca219b84c8081099911313a5dab",
       "version_major": 2,
       "version_minor": 0
      },
      "text/plain": [
       "(pid=43665) - split(1, equal=True) 1: 0.00 row [00:00, ? row/s]"
      ]
     },
     "metadata": {},
     "output_type": "display_data"
    },
    {
     "name": "stdout",
     "output_type": "stream",
     "text": [
      "== Status ==\n",
      "Current time: 2025-09-15 13:03:16 (running for 00:00:35.89)\n",
      "Using FIFO scheduling algorithm.\n",
      "Logical resource usage: 4.0/8 CPUs, 0/0 GPUs\n",
      "Result logdir: /tmp/ray/session_2025-09-15_12-30-08_614560_3457/artifacts/2025-09-15_13-02-40/TorchTrainer_2025-09-15_13-02-40/driver_artifacts\n",
      "Number of trials: 1/1 (1 RUNNING)\n",
      "\n",
      "\n"
     ]
    },
    {
     "data": {
      "application/vnd.jupyter.widget-view+json": {
       "model_id": "c59aac8330ef414cb927d5a533928252",
       "version_major": 2,
       "version_minor": 0
      },
      "text/plain": [
       "(pid=43664) Running 0: 0.00 row [00:00, ? row/s]"
      ]
     },
     "metadata": {},
     "output_type": "display_data"
    },
    {
     "data": {
      "application/vnd.jupyter.widget-view+json": {
       "model_id": "2736ee1dc9454da385b47db5cb01d27d",
       "version_major": 2,
       "version_minor": 0
      },
      "text/plain": [
       "(pid=43664) - split(1, equal=True) 1: 0.00 row [00:00, ? row/s]"
      ]
     },
     "metadata": {},
     "output_type": "display_data"
    },
    {
     "name": "stdout",
     "output_type": "stream",
     "text": [
      "== Status ==\n",
      "Current time: 2025-09-15 13:03:21 (running for 00:00:40.96)\n",
      "Using FIFO scheduling algorithm.\n",
      "Logical resource usage: 4.0/8 CPUs, 0/0 GPUs\n",
      "Result logdir: /tmp/ray/session_2025-09-15_12-30-08_614560_3457/artifacts/2025-09-15_13-02-40/TorchTrainer_2025-09-15_13-02-40/driver_artifacts\n",
      "Number of trials: 1/1 (1 RUNNING)\n",
      "\n",
      "\n",
      "== Status ==\n",
      "Current time: 2025-09-15 13:03:26 (running for 00:00:46.05)\n",
      "Using FIFO scheduling algorithm.\n",
      "Logical resource usage: 4.0/8 CPUs, 0/0 GPUs\n",
      "Result logdir: /tmp/ray/session_2025-09-15_12-30-08_614560_3457/artifacts/2025-09-15_13-02-40/TorchTrainer_2025-09-15_13-02-40/driver_artifacts\n",
      "Number of trials: 1/1 (1 RUNNING)\n",
      "\n",
      "\n"
     ]
    },
    {
     "data": {
      "application/vnd.jupyter.widget-view+json": {
       "model_id": "3bb9536f53e74ae4a5654be14a04f71d",
       "version_major": 2,
       "version_minor": 0
      },
      "text/plain": [
       "(pid=43665) Running 0: 0.00 row [00:00, ? row/s]"
      ]
     },
     "metadata": {},
     "output_type": "display_data"
    },
    {
     "data": {
      "application/vnd.jupyter.widget-view+json": {
       "model_id": "53966d50aab644bdb4f383040086ead1",
       "version_major": 2,
       "version_minor": 0
      },
      "text/plain": [
       "(pid=43665) - split(1, equal=True) 1: 0.00 row [00:00, ? row/s]"
      ]
     },
     "metadata": {},
     "output_type": "display_data"
    },
    {
     "name": "stdout",
     "output_type": "stream",
     "text": [
      "== Status ==\n",
      "Current time: 2025-09-15 13:03:31 (running for 00:00:51.05)\n",
      "Using FIFO scheduling algorithm.\n",
      "Logical resource usage: 4.0/8 CPUs, 0/0 GPUs\n",
      "Result logdir: /tmp/ray/session_2025-09-15_12-30-08_614560_3457/artifacts/2025-09-15_13-02-40/TorchTrainer_2025-09-15_13-02-40/driver_artifacts\n",
      "Number of trials: 1/1 (1 RUNNING)\n",
      "\n",
      "\n"
     ]
    },
    {
     "data": {
      "application/vnd.jupyter.widget-view+json": {
       "model_id": "da89ca972f664b60b7c9425513b7ef25",
       "version_major": 2,
       "version_minor": 0
      },
      "text/plain": [
       "(pid=43664) Running 0: 0.00 row [00:00, ? row/s]"
      ]
     },
     "metadata": {},
     "output_type": "display_data"
    },
    {
     "data": {
      "application/vnd.jupyter.widget-view+json": {
       "model_id": "99b0e71445a74fd3bf66d41193b78718",
       "version_major": 2,
       "version_minor": 0
      },
      "text/plain": [
       "(pid=43664) - split(1, equal=True) 1: 0.00 row [00:00, ? row/s]"
      ]
     },
     "metadata": {},
     "output_type": "display_data"
    },
    {
     "name": "stdout",
     "output_type": "stream",
     "text": [
      "== Status ==\n",
      "Current time: 2025-09-15 13:03:36 (running for 00:00:56.07)\n",
      "Using FIFO scheduling algorithm.\n",
      "Logical resource usage: 4.0/8 CPUs, 0/0 GPUs\n",
      "Result logdir: /tmp/ray/session_2025-09-15_12-30-08_614560_3457/artifacts/2025-09-15_13-02-40/TorchTrainer_2025-09-15_13-02-40/driver_artifacts\n",
      "Number of trials: 1/1 (1 RUNNING)\n",
      "\n",
      "\n",
      "== Status ==\n",
      "Current time: 2025-09-15 13:03:41 (running for 00:01:01.09)\n",
      "Using FIFO scheduling algorithm.\n",
      "Logical resource usage: 4.0/8 CPUs, 0/0 GPUs\n",
      "Result logdir: /tmp/ray/session_2025-09-15_12-30-08_614560_3457/artifacts/2025-09-15_13-02-40/TorchTrainer_2025-09-15_13-02-40/driver_artifacts\n",
      "Number of trials: 1/1 (1 RUNNING)\n",
      "\n",
      "\n"
     ]
    },
    {
     "data": {
      "application/vnd.jupyter.widget-view+json": {
       "model_id": "b2e08c02813b43eb92fba6f71819c986",
       "version_major": 2,
       "version_minor": 0
      },
      "text/plain": [
       "(pid=43665) Running 0: 0.00 row [00:00, ? row/s]"
      ]
     },
     "metadata": {},
     "output_type": "display_data"
    },
    {
     "data": {
      "application/vnd.jupyter.widget-view+json": {
       "model_id": "4eea346c7cbc4a109197ec60f23993cc",
       "version_major": 2,
       "version_minor": 0
      },
      "text/plain": [
       "(pid=43665) - split(1, equal=True) 1: 0.00 row [00:00, ? row/s]"
      ]
     },
     "metadata": {},
     "output_type": "display_data"
    },
    {
     "data": {
      "application/vnd.jupyter.widget-view+json": {
       "model_id": "10be68f1337d4e299ee3036d8d3bc3e6",
       "version_major": 2,
       "version_minor": 0
      },
      "text/plain": [
       "(pid=43664) Running 0: 0.00 row [00:00, ? row/s]"
      ]
     },
     "metadata": {},
     "output_type": "display_data"
    },
    {
     "name": "stderr",
     "output_type": "stream",
     "text": [
      "2025-09-15 13:03:44,720\tWARNING experiment_state.py:206 -- Experiment state snapshotting has been triggered multiple times in the last 5.0 seconds and may become a bottleneck. A snapshot is forced if `CheckpointConfig(num_to_keep)` is set, and a trial has checkpointed >= `num_to_keep` times since the last snapshot.\n",
      "You may want to consider increasing the `CheckpointConfig(num_to_keep)` or decreasing the frequency of saving checkpoints.\n",
      "You can suppress this warning by setting the environment variable TUNE_WARN_EXCESSIVE_EXPERIMENT_CHECKPOINT_SYNC_THRESHOLD_S to a smaller value than the current threshold (5.0). Set it to 0 to completely suppress this warning.\n"
     ]
    },
    {
     "data": {
      "application/vnd.jupyter.widget-view+json": {
       "model_id": "da00cbd690b747419385626e050383c3",
       "version_major": 2,
       "version_minor": 0
      },
      "text/plain": [
       "(pid=43664) - split(1, equal=True) 1: 0.00 row [00:00, ? row/s]"
      ]
     },
     "metadata": {},
     "output_type": "display_data"
    },
    {
     "name": "stdout",
     "output_type": "stream",
     "text": [
      "== Status ==\n",
      "Current time: 2025-09-15 13:03:47 (running for 00:01:06.16)\n",
      "Using FIFO scheduling algorithm.\n",
      "Logical resource usage: 4.0/8 CPUs, 0/0 GPUs\n",
      "Result logdir: /tmp/ray/session_2025-09-15_12-30-08_614560_3457/artifacts/2025-09-15_13-02-40/TorchTrainer_2025-09-15_13-02-40/driver_artifacts\n",
      "Number of trials: 1/1 (1 RUNNING)\n",
      "\n",
      "\n",
      "== Status ==\n",
      "Current time: 2025-09-15 13:03:52 (running for 00:01:11.26)\n",
      "Using FIFO scheduling algorithm.\n",
      "Logical resource usage: 4.0/8 CPUs, 0/0 GPUs\n",
      "Result logdir: /tmp/ray/session_2025-09-15_12-30-08_614560_3457/artifacts/2025-09-15_13-02-40/TorchTrainer_2025-09-15_13-02-40/driver_artifacts\n",
      "Number of trials: 1/1 (1 RUNNING)\n",
      "\n",
      "\n"
     ]
    },
    {
     "data": {
      "application/vnd.jupyter.widget-view+json": {
       "model_id": "8383f8babd4a454b9357b3fdaaaf96e7",
       "version_major": 2,
       "version_minor": 0
      },
      "text/plain": [
       "(pid=43665) Running 0: 0.00 row [00:00, ? row/s]"
      ]
     },
     "metadata": {},
     "output_type": "display_data"
    },
    {
     "data": {
      "application/vnd.jupyter.widget-view+json": {
       "model_id": "bbcdf799e4484bdca2d2622c1f64d004",
       "version_major": 2,
       "version_minor": 0
      },
      "text/plain": [
       "(pid=43665) - split(1, equal=True) 1: 0.00 row [00:00, ? row/s]"
      ]
     },
     "metadata": {},
     "output_type": "display_data"
    },
    {
     "data": {
      "application/vnd.jupyter.widget-view+json": {
       "model_id": "d2d63c39b02a474c9d27deb083f5d846",
       "version_major": 2,
       "version_minor": 0
      },
      "text/plain": [
       "(pid=43664) Running 0: 0.00 row [00:00, ? row/s]"
      ]
     },
     "metadata": {},
     "output_type": "display_data"
    },
    {
     "data": {
      "application/vnd.jupyter.widget-view+json": {
       "model_id": "13e24deec41f4e839e80060da8257ff6",
       "version_major": 2,
       "version_minor": 0
      },
      "text/plain": [
       "(pid=43664) - split(1, equal=True) 1: 0.00 row [00:00, ? row/s]"
      ]
     },
     "metadata": {},
     "output_type": "display_data"
    },
    {
     "name": "stderr",
     "output_type": "stream",
     "text": [
      "2025-09-15 13:03:55,005\tWARNING experiment_state.py:206 -- Experiment state snapshotting has been triggered multiple times in the last 5.0 seconds and may become a bottleneck. A snapshot is forced if `CheckpointConfig(num_to_keep)` is set, and a trial has checkpointed >= `num_to_keep` times since the last snapshot.\n",
      "You may want to consider increasing the `CheckpointConfig(num_to_keep)` or decreasing the frequency of saving checkpoints.\n",
      "You can suppress this warning by setting the environment variable TUNE_WARN_EXCESSIVE_EXPERIMENT_CHECKPOINT_SYNC_THRESHOLD_S to a smaller value than the current threshold (5.0). Set it to 0 to completely suppress this warning.\n"
     ]
    },
    {
     "name": "stdout",
     "output_type": "stream",
     "text": [
      "== Status ==\n",
      "Current time: 2025-09-15 13:03:57 (running for 00:01:16.36)\n",
      "Using FIFO scheduling algorithm.\n",
      "Logical resource usage: 4.0/8 CPUs, 0/0 GPUs\n",
      "Result logdir: /tmp/ray/session_2025-09-15_12-30-08_614560_3457/artifacts/2025-09-15_13-02-40/TorchTrainer_2025-09-15_13-02-40/driver_artifacts\n",
      "Number of trials: 1/1 (1 RUNNING)\n",
      "\n",
      "\n",
      "== Status ==\n",
      "Current time: 2025-09-15 13:04:02 (running for 00:01:21.45)\n",
      "Using FIFO scheduling algorithm.\n",
      "Logical resource usage: 4.0/8 CPUs, 0/0 GPUs\n",
      "Result logdir: /tmp/ray/session_2025-09-15_12-30-08_614560_3457/artifacts/2025-09-15_13-02-40/TorchTrainer_2025-09-15_13-02-40/driver_artifacts\n",
      "Number of trials: 1/1 (1 RUNNING)\n",
      "\n",
      "\n",
      "== Status ==\n",
      "Current time: 2025-09-15 13:04:07 (running for 00:01:26.48)\n",
      "Using FIFO scheduling algorithm.\n",
      "Logical resource usage: 4.0/8 CPUs, 0/0 GPUs\n",
      "Result logdir: /tmp/ray/session_2025-09-15_12-30-08_614560_3457/artifacts/2025-09-15_13-02-40/TorchTrainer_2025-09-15_13-02-40/driver_artifacts\n",
      "Number of trials: 1/1 (1 RUNNING)\n",
      "\n",
      "\n",
      "== Status ==\n",
      "Current time: 2025-09-15 13:04:12 (running for 00:01:31.57)\n",
      "Using FIFO scheduling algorithm.\n",
      "Logical resource usage: 4.0/8 CPUs, 0/0 GPUs\n",
      "Result logdir: /tmp/ray/session_2025-09-15_12-30-08_614560_3457/artifacts/2025-09-15_13-02-40/TorchTrainer_2025-09-15_13-02-40/driver_artifacts\n",
      "Number of trials: 1/1 (1 RUNNING)\n",
      "\n",
      "\n"
     ]
    },
    {
     "data": {
      "application/vnd.jupyter.widget-view+json": {
       "model_id": "76578247300c484ab7782c58ef1e19b3",
       "version_major": 2,
       "version_minor": 0
      },
      "text/plain": [
       "(pid=43665) Running 0: 0.00 row [00:00, ? row/s]"
      ]
     },
     "metadata": {},
     "output_type": "display_data"
    },
    {
     "data": {
      "application/vnd.jupyter.widget-view+json": {
       "model_id": "e210fe8d20594829a3ced942f8af68ed",
       "version_major": 2,
       "version_minor": 0
      },
      "text/plain": [
       "(pid=43665) - split(1, equal=True) 1: 0.00 row [00:00, ? row/s]"
      ]
     },
     "metadata": {},
     "output_type": "display_data"
    },
    {
     "data": {
      "application/vnd.jupyter.widget-view+json": {
       "model_id": "f884fd543a1c49629508d737f68083b2",
       "version_major": 2,
       "version_minor": 0
      },
      "text/plain": [
       "(pid=43664) Running 0: 0.00 row [00:00, ? row/s]"
      ]
     },
     "metadata": {},
     "output_type": "display_data"
    },
    {
     "data": {
      "application/vnd.jupyter.widget-view+json": {
       "model_id": "d140f20bfa544949a256c5a9198b00f5",
       "version_major": 2,
       "version_minor": 0
      },
      "text/plain": [
       "(pid=43664) - split(1, equal=True) 1: 0.00 row [00:00, ? row/s]"
      ]
     },
     "metadata": {},
     "output_type": "display_data"
    },
    {
     "name": "stderr",
     "output_type": "stream",
     "text": [
      "2025-09-15 13:04:16,305\tWARNING experiment_state.py:206 -- Experiment state snapshotting has been triggered multiple times in the last 5.0 seconds and may become a bottleneck. A snapshot is forced if `CheckpointConfig(num_to_keep)` is set, and a trial has checkpointed >= `num_to_keep` times since the last snapshot.\n",
      "You may want to consider increasing the `CheckpointConfig(num_to_keep)` or decreasing the frequency of saving checkpoints.\n",
      "You can suppress this warning by setting the environment variable TUNE_WARN_EXCESSIVE_EXPERIMENT_CHECKPOINT_SYNC_THRESHOLD_S to a smaller value than the current threshold (5.0). Set it to 0 to completely suppress this warning.\n"
     ]
    },
    {
     "name": "stdout",
     "output_type": "stream",
     "text": [
      "== Status ==\n",
      "Current time: 2025-09-15 13:04:17 (running for 00:01:36.61)\n",
      "Using FIFO scheduling algorithm.\n",
      "Logical resource usage: 4.0/8 CPUs, 0/0 GPUs\n",
      "Result logdir: /tmp/ray/session_2025-09-15_12-30-08_614560_3457/artifacts/2025-09-15_13-02-40/TorchTrainer_2025-09-15_13-02-40/driver_artifacts\n",
      "Number of trials: 1/1 (1 RUNNING)\n",
      "\n",
      "\n",
      "== Status ==\n",
      "Current time: 2025-09-15 13:04:22 (running for 00:01:41.63)\n",
      "Using FIFO scheduling algorithm.\n",
      "Logical resource usage: 4.0/8 CPUs, 0/0 GPUs\n",
      "Result logdir: /tmp/ray/session_2025-09-15_12-30-08_614560_3457/artifacts/2025-09-15_13-02-40/TorchTrainer_2025-09-15_13-02-40/driver_artifacts\n",
      "Number of trials: 1/1 (1 RUNNING)\n",
      "\n",
      "\n",
      "== Status ==\n",
      "Current time: 2025-09-15 13:04:27 (running for 00:01:46.65)\n",
      "Using FIFO scheduling algorithm.\n",
      "Logical resource usage: 4.0/8 CPUs, 0/0 GPUs\n",
      "Result logdir: /tmp/ray/session_2025-09-15_12-30-08_614560_3457/artifacts/2025-09-15_13-02-40/TorchTrainer_2025-09-15_13-02-40/driver_artifacts\n",
      "Number of trials: 1/1 (1 RUNNING)\n",
      "\n",
      "\n"
     ]
    },
    {
     "data": {
      "application/vnd.jupyter.widget-view+json": {
       "model_id": "38515078de684e71bf7b15ccf9cccbc9",
       "version_major": 2,
       "version_minor": 0
      },
      "text/plain": [
       "(pid=43665) Running 0: 0.00 row [00:00, ? row/s]"
      ]
     },
     "metadata": {},
     "output_type": "display_data"
    },
    {
     "data": {
      "application/vnd.jupyter.widget-view+json": {
       "model_id": "3d37de6cc48246f6ad1b95227a6409d8",
       "version_major": 2,
       "version_minor": 0
      },
      "text/plain": [
       "(pid=43665) - split(1, equal=True) 1: 0.00 row [00:00, ? row/s]"
      ]
     },
     "metadata": {},
     "output_type": "display_data"
    },
    {
     "name": "stdout",
     "output_type": "stream",
     "text": [
      "== Status ==\n",
      "Current time: 2025-09-15 13:04:32 (running for 00:01:51.70)\n",
      "Using FIFO scheduling algorithm.\n",
      "Logical resource usage: 4.0/8 CPUs, 0/0 GPUs\n",
      "Result logdir: /tmp/ray/session_2025-09-15_12-30-08_614560_3457/artifacts/2025-09-15_13-02-40/TorchTrainer_2025-09-15_13-02-40/driver_artifacts\n",
      "Number of trials: 1/1 (1 RUNNING)\n",
      "\n",
      "\n"
     ]
    },
    {
     "data": {
      "application/vnd.jupyter.widget-view+json": {
       "model_id": "cda43ca30ea444f38d112006b536062a",
       "version_major": 2,
       "version_minor": 0
      },
      "text/plain": [
       "(pid=43664) Running 0: 0.00 row [00:00, ? row/s]"
      ]
     },
     "metadata": {},
     "output_type": "display_data"
    },
    {
     "data": {
      "application/vnd.jupyter.widget-view+json": {
       "model_id": "55ca75eda7f646c78b9691e0d3954947",
       "version_major": 2,
       "version_minor": 0
      },
      "text/plain": [
       "(pid=43664) - split(1, equal=True) 1: 0.00 row [00:00, ? row/s]"
      ]
     },
     "metadata": {},
     "output_type": "display_data"
    },
    {
     "name": "stdout",
     "output_type": "stream",
     "text": [
      "== Status ==\n",
      "Current time: 2025-09-15 13:04:37 (running for 00:01:56.79)\n",
      "Using FIFO scheduling algorithm.\n",
      "Logical resource usage: 4.0/8 CPUs, 0/0 GPUs\n",
      "Result logdir: /tmp/ray/session_2025-09-15_12-30-08_614560_3457/artifacts/2025-09-15_13-02-40/TorchTrainer_2025-09-15_13-02-40/driver_artifacts\n",
      "Number of trials: 1/1 (1 RUNNING)\n",
      "\n",
      "\n",
      "== Status ==\n",
      "Current time: 2025-09-15 13:04:42 (running for 00:02:01.89)\n",
      "Using FIFO scheduling algorithm.\n",
      "Logical resource usage: 4.0/8 CPUs, 0/0 GPUs\n",
      "Result logdir: /tmp/ray/session_2025-09-15_12-30-08_614560_3457/artifacts/2025-09-15_13-02-40/TorchTrainer_2025-09-15_13-02-40/driver_artifacts\n",
      "Number of trials: 1/1 (1 RUNNING)\n",
      "\n",
      "\n"
     ]
    },
    {
     "data": {
      "application/vnd.jupyter.widget-view+json": {
       "model_id": "37016239e6804c77b26559f0b5247531",
       "version_major": 2,
       "version_minor": 0
      },
      "text/plain": [
       "(pid=43665) Running 0: 0.00 row [00:00, ? row/s]"
      ]
     },
     "metadata": {},
     "output_type": "display_data"
    },
    {
     "data": {
      "application/vnd.jupyter.widget-view+json": {
       "model_id": "dc7efd6be8764070b03a81974a390818",
       "version_major": 2,
       "version_minor": 0
      },
      "text/plain": [
       "(pid=43665) - split(1, equal=True) 1: 0.00 row [00:00, ? row/s]"
      ]
     },
     "metadata": {},
     "output_type": "display_data"
    },
    {
     "name": "stdout",
     "output_type": "stream",
     "text": [
      "== Status ==\n",
      "Current time: 2025-09-15 13:04:47 (running for 00:02:06.93)\n",
      "Using FIFO scheduling algorithm.\n",
      "Logical resource usage: 4.0/8 CPUs, 0/0 GPUs\n",
      "Result logdir: /tmp/ray/session_2025-09-15_12-30-08_614560_3457/artifacts/2025-09-15_13-02-40/TorchTrainer_2025-09-15_13-02-40/driver_artifacts\n",
      "Number of trials: 1/1 (1 RUNNING)\n",
      "\n",
      "\n"
     ]
    },
    {
     "name": "stderr",
     "output_type": "stream",
     "text": [
      "2025-09-15 13:04:47,975\tWARNING experiment_state.py:206 -- Experiment state snapshotting has been triggered multiple times in the last 5.0 seconds and may become a bottleneck. A snapshot is forced if `CheckpointConfig(num_to_keep)` is set, and a trial has checkpointed >= `num_to_keep` times since the last snapshot.\n",
      "You may want to consider increasing the `CheckpointConfig(num_to_keep)` or decreasing the frequency of saving checkpoints.\n",
      "You can suppress this warning by setting the environment variable TUNE_WARN_EXCESSIVE_EXPERIMENT_CHECKPOINT_SYNC_THRESHOLD_S to a smaller value than the current threshold (5.0). Set it to 0 to completely suppress this warning.\n"
     ]
    },
    {
     "data": {
      "application/vnd.jupyter.widget-view+json": {
       "model_id": "fc839eb76d0a418cb57a0076b91554d5",
       "version_major": 2,
       "version_minor": 0
      },
      "text/plain": [
       "(pid=43664) Running 0: 0.00 row [00:00, ? row/s]"
      ]
     },
     "metadata": {},
     "output_type": "display_data"
    },
    {
     "data": {
      "application/vnd.jupyter.widget-view+json": {
       "model_id": "f79b690b7dcb4404b7caf96e8a6482e4",
       "version_major": 2,
       "version_minor": 0
      },
      "text/plain": [
       "(pid=43664) - split(1, equal=True) 1: 0.00 row [00:00, ? row/s]"
      ]
     },
     "metadata": {},
     "output_type": "display_data"
    },
    {
     "name": "stdout",
     "output_type": "stream",
     "text": [
      "== Status ==\n",
      "Current time: 2025-09-15 13:04:52 (running for 00:02:11.93)\n",
      "Using FIFO scheduling algorithm.\n",
      "Logical resource usage: 4.0/8 CPUs, 0/0 GPUs\n",
      "Result logdir: /tmp/ray/session_2025-09-15_12-30-08_614560_3457/artifacts/2025-09-15_13-02-40/TorchTrainer_2025-09-15_13-02-40/driver_artifacts\n",
      "Number of trials: 1/1 (1 RUNNING)\n",
      "\n",
      "\n",
      "== Status ==\n",
      "Current time: 2025-09-15 13:04:57 (running for 00:02:17.05)\n",
      "Using FIFO scheduling algorithm.\n",
      "Logical resource usage: 4.0/8 CPUs, 0/0 GPUs\n",
      "Result logdir: /tmp/ray/session_2025-09-15_12-30-08_614560_3457/artifacts/2025-09-15_13-02-40/TorchTrainer_2025-09-15_13-02-40/driver_artifacts\n",
      "Number of trials: 1/1 (1 RUNNING)\n",
      "\n",
      "\n",
      "== Status ==\n",
      "Current time: 2025-09-15 13:05:02 (running for 00:02:22.07)\n",
      "Using FIFO scheduling algorithm.\n",
      "Logical resource usage: 4.0/8 CPUs, 0/0 GPUs\n",
      "Result logdir: /tmp/ray/session_2025-09-15_12-30-08_614560_3457/artifacts/2025-09-15_13-02-40/TorchTrainer_2025-09-15_13-02-40/driver_artifacts\n",
      "Number of trials: 1/1 (1 RUNNING)\n",
      "\n",
      "\n"
     ]
    },
    {
     "data": {
      "application/vnd.jupyter.widget-view+json": {
       "model_id": "a6dc69bbfd6b46e7a7220c0e99da4ba5",
       "version_major": 2,
       "version_minor": 0
      },
      "text/plain": [
       "(pid=43665) Running 0: 0.00 row [00:00, ? row/s]"
      ]
     },
     "metadata": {},
     "output_type": "display_data"
    },
    {
     "data": {
      "application/vnd.jupyter.widget-view+json": {
       "model_id": "a2af06f062ea444489929ed9776197a7",
       "version_major": 2,
       "version_minor": 0
      },
      "text/plain": [
       "(pid=43665) - split(1, equal=True) 1: 0.00 row [00:00, ? row/s]"
      ]
     },
     "metadata": {},
     "output_type": "display_data"
    },
    {
     "data": {
      "application/vnd.jupyter.widget-view+json": {
       "model_id": "c817e4c583874f09ba65f17a00a306a5",
       "version_major": 2,
       "version_minor": 0
      },
      "text/plain": [
       "(pid=43664) Running 0: 0.00 row [00:00, ? row/s]"
      ]
     },
     "metadata": {},
     "output_type": "display_data"
    },
    {
     "data": {
      "application/vnd.jupyter.widget-view+json": {
       "model_id": "a6c25f0c20af42a6bddbc6d2e7fbf163",
       "version_major": 2,
       "version_minor": 0
      },
      "text/plain": [
       "(pid=43664) - split(1, equal=True) 1: 0.00 row [00:00, ? row/s]"
      ]
     },
     "metadata": {},
     "output_type": "display_data"
    },
    {
     "name": "stdout",
     "output_type": "stream",
     "text": [
      "== Status ==\n",
      "Current time: 2025-09-15 13:05:07 (running for 00:02:27.14)\n",
      "Using FIFO scheduling algorithm.\n",
      "Logical resource usage: 4.0/8 CPUs, 0/0 GPUs\n",
      "Result logdir: /tmp/ray/session_2025-09-15_12-30-08_614560_3457/artifacts/2025-09-15_13-02-40/TorchTrainer_2025-09-15_13-02-40/driver_artifacts\n",
      "Number of trials: 1/1 (1 RUNNING)\n",
      "\n",
      "\n",
      "== Status ==\n",
      "Current time: 2025-09-15 13:05:13 (running for 00:02:32.17)\n",
      "Using FIFO scheduling algorithm.\n",
      "Logical resource usage: 4.0/8 CPUs, 0/0 GPUs\n",
      "Result logdir: /tmp/ray/session_2025-09-15_12-30-08_614560_3457/artifacts/2025-09-15_13-02-40/TorchTrainer_2025-09-15_13-02-40/driver_artifacts\n",
      "Number of trials: 1/1 (1 RUNNING)\n",
      "\n",
      "\n",
      "== Status ==\n",
      "Current time: 2025-09-15 13:05:18 (running for 00:02:37.17)\n",
      "Using FIFO scheduling algorithm.\n",
      "Logical resource usage: 4.0/8 CPUs, 0/0 GPUs\n",
      "Result logdir: /tmp/ray/session_2025-09-15_12-30-08_614560_3457/artifacts/2025-09-15_13-02-40/TorchTrainer_2025-09-15_13-02-40/driver_artifacts\n",
      "Number of trials: 1/1 (1 RUNNING)\n",
      "\n",
      "\n"
     ]
    },
    {
     "data": {
      "application/vnd.jupyter.widget-view+json": {
       "model_id": "cbfee123cd3248a1a890c10eb2e6a878",
       "version_major": 2,
       "version_minor": 0
      },
      "text/plain": [
       "(pid=43665) Running 0: 0.00 row [00:00, ? row/s]"
      ]
     },
     "metadata": {},
     "output_type": "display_data"
    },
    {
     "data": {
      "application/vnd.jupyter.widget-view+json": {
       "model_id": "19cc8c1266ab49fda8ce2adb00340f84",
       "version_major": 2,
       "version_minor": 0
      },
      "text/plain": [
       "(pid=43665) - split(1, equal=True) 1: 0.00 row [00:00, ? row/s]"
      ]
     },
     "metadata": {},
     "output_type": "display_data"
    },
    {
     "name": "stderr",
     "output_type": "stream",
     "text": [
      "2025-09-15 13:05:21,626\tWARNING experiment_state.py:206 -- Experiment state snapshotting has been triggered multiple times in the last 5.0 seconds and may become a bottleneck. A snapshot is forced if `CheckpointConfig(num_to_keep)` is set, and a trial has checkpointed >= `num_to_keep` times since the last snapshot.\n",
      "You may want to consider increasing the `CheckpointConfig(num_to_keep)` or decreasing the frequency of saving checkpoints.\n",
      "You can suppress this warning by setting the environment variable TUNE_WARN_EXCESSIVE_EXPERIMENT_CHECKPOINT_SYNC_THRESHOLD_S to a smaller value than the current threshold (5.0). Set it to 0 to completely suppress this warning.\n"
     ]
    },
    {
     "name": "stdout",
     "output_type": "stream",
     "text": [
      "copying /tmp/ray/session_2025-09-15_12-30-08_614560_3457/artifacts/2025-09-15_13-02-40/TorchTrainer_2025-09-15_13-02-40/driver_artifacts/TorchTrainer_ca0f8_00000_0_2025-09-15_13-02-40/result.json -> /Users/ngkuissi/Dev/learning/Made-With-ML/notebooks/tmp/mlflow/924140208947310253/159c5a13ceab43bda0a04a9b91caa14f/artifacts\n",
      "copying /tmp/ray/session_2025-09-15_12-30-08_614560_3457/artifacts/2025-09-15_13-02-40/TorchTrainer_2025-09-15_13-02-40/driver_artifacts/TorchTrainer_ca0f8_00000_0_2025-09-15_13-02-40/params.pkl -> /Users/ngkuissi/Dev/learning/Made-With-ML/notebooks/tmp/mlflow/924140208947310253/159c5a13ceab43bda0a04a9b91caa14f/artifacts\n",
      "copying /tmp/ray/session_2025-09-15_12-30-08_614560_3457/artifacts/2025-09-15_13-02-40/TorchTrainer_2025-09-15_13-02-40/driver_artifacts/TorchTrainer_ca0f8_00000_0_2025-09-15_13-02-40/params.json -> /Users/ngkuissi/Dev/learning/Made-With-ML/notebooks/tmp/mlflow/924140208947310253/159c5a13ceab43bda0a04a9b91caa14f/artifacts\n",
      "copying /tmp/ray/session_2025-09-15_12-30-08_614560_3457/artifacts/2025-09-15_13-02-40/TorchTrainer_2025-09-15_13-02-40/driver_artifacts/TorchTrainer_ca0f8_00000_0_2025-09-15_13-02-40/progress.csv -> /Users/ngkuissi/Dev/learning/Made-With-ML/notebooks/tmp/mlflow/924140208947310253/159c5a13ceab43bda0a04a9b91caa14f/artifacts\n"
     ]
    },
    {
     "name": "stderr",
     "output_type": "stream",
     "text": [
      "2025-09-15 13:05:22,785\tINFO tune.py:1009 -- Wrote the latest version of all result files and experiment state to '/Users/ngkuissi/ray_results/TorchTrainer_2025-09-15_13-02-40' in 0.0040s.\n",
      "2025-09-15 13:05:22,821\tINFO tune.py:1041 -- Total run time: 161.99 seconds (161.94 seconds for the tuning loop).\n"
     ]
    },
    {
     "name": "stdout",
     "output_type": "stream",
     "text": [
      "== Status ==\n",
      "Current time: 2025-09-15 13:05:22 (running for 00:02:41.94)\n",
      "Using FIFO scheduling algorithm.\n",
      "Logical resource usage: 4.0/8 CPUs, 0/0 GPUs\n",
      "Result logdir: /tmp/ray/session_2025-09-15_12-30-08_614560_3457/artifacts/2025-09-15_13-02-40/TorchTrainer_2025-09-15_13-02-40/driver_artifacts\n",
      "Number of trials: 1/1 (1 TERMINATED)\n",
      "\n",
      "\n"
     ]
    }
   ],
   "source": [
    "results = trainer.fit()"
   ]
  },
  {
   "cell_type": "code",
   "execution_count": 182,
   "id": "696be779",
   "metadata": {},
   "outputs": [
    {
     "data": {
      "text/html": [
       "<div>\n",
       "<style scoped>\n",
       "    .dataframe tbody tr th:only-of-type {\n",
       "        vertical-align: middle;\n",
       "    }\n",
       "\n",
       "    .dataframe tbody tr th {\n",
       "        vertical-align: top;\n",
       "    }\n",
       "\n",
       "    .dataframe thead th {\n",
       "        text-align: right;\n",
       "    }\n",
       "</style>\n",
       "<table border=\"1\" class=\"dataframe\">\n",
       "  <thead>\n",
       "    <tr style=\"text-align: right;\">\n",
       "      <th></th>\n",
       "      <th>epoch</th>\n",
       "      <th>lr</th>\n",
       "      <th>train_loss</th>\n",
       "      <th>val_loss</th>\n",
       "      <th>timestamp</th>\n",
       "      <th>checkpoint_dir_name</th>\n",
       "      <th>should_checkpoint</th>\n",
       "      <th>done</th>\n",
       "      <th>training_iteration</th>\n",
       "      <th>trial_id</th>\n",
       "      <th>...</th>\n",
       "      <th>time_since_restore</th>\n",
       "      <th>iterations_since_restore</th>\n",
       "      <th>config/train_loop_config/dropout_p</th>\n",
       "      <th>config/train_loop_config/lr</th>\n",
       "      <th>config/train_loop_config/lr_factor</th>\n",
       "      <th>config/train_loop_config/lr_patience</th>\n",
       "      <th>config/train_loop_config/num_epochs</th>\n",
       "      <th>config/train_loop_config/batch_size</th>\n",
       "      <th>config/train_loop_config/num_classes</th>\n",
       "      <th>config/train_loop_config/device</th>\n",
       "    </tr>\n",
       "  </thead>\n",
       "  <tbody>\n",
       "    <tr>\n",
       "      <th>0</th>\n",
       "      <td>0</td>\n",
       "      <td>0.00010</td>\n",
       "      <td>1.324052</td>\n",
       "      <td>1.156449</td>\n",
       "      <td>1757955782</td>\n",
       "      <td>checkpoint_000000</td>\n",
       "      <td>True</td>\n",
       "      <td>False</td>\n",
       "      <td>1</td>\n",
       "      <td>ca0f8_00000</td>\n",
       "      <td>...</td>\n",
       "      <td>17.612937</td>\n",
       "      <td>1</td>\n",
       "      <td>0.5</td>\n",
       "      <td>0.0001</td>\n",
       "      <td>0.8</td>\n",
       "      <td>3</td>\n",
       "      <td>10</td>\n",
       "      <td>128</td>\n",
       "      <td>4</td>\n",
       "      <td>mps</td>\n",
       "    </tr>\n",
       "    <tr>\n",
       "      <th>1</th>\n",
       "      <td>1</td>\n",
       "      <td>0.00010</td>\n",
       "      <td>1.061896</td>\n",
       "      <td>0.747005</td>\n",
       "      <td>1757955798</td>\n",
       "      <td>checkpoint_000001</td>\n",
       "      <td>True</td>\n",
       "      <td>False</td>\n",
       "      <td>2</td>\n",
       "      <td>ca0f8_00000</td>\n",
       "      <td>...</td>\n",
       "      <td>33.065001</td>\n",
       "      <td>2</td>\n",
       "      <td>0.5</td>\n",
       "      <td>0.0001</td>\n",
       "      <td>0.8</td>\n",
       "      <td>3</td>\n",
       "      <td>10</td>\n",
       "      <td>128</td>\n",
       "      <td>4</td>\n",
       "      <td>mps</td>\n",
       "    </tr>\n",
       "    <tr>\n",
       "      <th>2</th>\n",
       "      <td>2</td>\n",
       "      <td>0.00010</td>\n",
       "      <td>0.621647</td>\n",
       "      <td>0.393996</td>\n",
       "      <td>1757955813</td>\n",
       "      <td>checkpoint_000002</td>\n",
       "      <td>True</td>\n",
       "      <td>False</td>\n",
       "      <td>3</td>\n",
       "      <td>ca0f8_00000</td>\n",
       "      <td>...</td>\n",
       "      <td>47.960903</td>\n",
       "      <td>3</td>\n",
       "      <td>0.5</td>\n",
       "      <td>0.0001</td>\n",
       "      <td>0.8</td>\n",
       "      <td>3</td>\n",
       "      <td>10</td>\n",
       "      <td>128</td>\n",
       "      <td>4</td>\n",
       "      <td>mps</td>\n",
       "    </tr>\n",
       "    <tr>\n",
       "      <th>3</th>\n",
       "      <td>3</td>\n",
       "      <td>0.00010</td>\n",
       "      <td>0.333326</td>\n",
       "      <td>0.343746</td>\n",
       "      <td>1757955824</td>\n",
       "      <td>checkpoint_000003</td>\n",
       "      <td>True</td>\n",
       "      <td>False</td>\n",
       "      <td>4</td>\n",
       "      <td>ca0f8_00000</td>\n",
       "      <td>...</td>\n",
       "      <td>58.423026</td>\n",
       "      <td>4</td>\n",
       "      <td>0.5</td>\n",
       "      <td>0.0001</td>\n",
       "      <td>0.8</td>\n",
       "      <td>3</td>\n",
       "      <td>10</td>\n",
       "      <td>128</td>\n",
       "      <td>4</td>\n",
       "      <td>mps</td>\n",
       "    </tr>\n",
       "    <tr>\n",
       "      <th>4</th>\n",
       "      <td>4</td>\n",
       "      <td>0.00010</td>\n",
       "      <td>0.163670</td>\n",
       "      <td>0.243425</td>\n",
       "      <td>1757955834</td>\n",
       "      <td>checkpoint_000004</td>\n",
       "      <td>True</td>\n",
       "      <td>False</td>\n",
       "      <td>5</td>\n",
       "      <td>ca0f8_00000</td>\n",
       "      <td>...</td>\n",
       "      <td>68.557185</td>\n",
       "      <td>5</td>\n",
       "      <td>0.5</td>\n",
       "      <td>0.0001</td>\n",
       "      <td>0.8</td>\n",
       "      <td>3</td>\n",
       "      <td>10</td>\n",
       "      <td>128</td>\n",
       "      <td>4</td>\n",
       "      <td>mps</td>\n",
       "    </tr>\n",
       "    <tr>\n",
       "      <th>5</th>\n",
       "      <td>5</td>\n",
       "      <td>0.00010</td>\n",
       "      <td>0.080955</td>\n",
       "      <td>0.264231</td>\n",
       "      <td>1757955855</td>\n",
       "      <td>checkpoint_000005</td>\n",
       "      <td>True</td>\n",
       "      <td>False</td>\n",
       "      <td>6</td>\n",
       "      <td>ca0f8_00000</td>\n",
       "      <td>...</td>\n",
       "      <td>89.637968</td>\n",
       "      <td>6</td>\n",
       "      <td>0.5</td>\n",
       "      <td>0.0001</td>\n",
       "      <td>0.8</td>\n",
       "      <td>3</td>\n",
       "      <td>10</td>\n",
       "      <td>128</td>\n",
       "      <td>4</td>\n",
       "      <td>mps</td>\n",
       "    </tr>\n",
       "    <tr>\n",
       "      <th>6</th>\n",
       "      <td>6</td>\n",
       "      <td>0.00010</td>\n",
       "      <td>0.051695</td>\n",
       "      <td>0.258584</td>\n",
       "      <td>1757955872</td>\n",
       "      <td>checkpoint_000006</td>\n",
       "      <td>True</td>\n",
       "      <td>False</td>\n",
       "      <td>7</td>\n",
       "      <td>ca0f8_00000</td>\n",
       "      <td>...</td>\n",
       "      <td>106.271100</td>\n",
       "      <td>7</td>\n",
       "      <td>0.5</td>\n",
       "      <td>0.0001</td>\n",
       "      <td>0.8</td>\n",
       "      <td>3</td>\n",
       "      <td>10</td>\n",
       "      <td>128</td>\n",
       "      <td>4</td>\n",
       "      <td>mps</td>\n",
       "    </tr>\n",
       "    <tr>\n",
       "      <th>7</th>\n",
       "      <td>7</td>\n",
       "      <td>0.00010</td>\n",
       "      <td>0.020969</td>\n",
       "      <td>0.342157</td>\n",
       "      <td>1757955887</td>\n",
       "      <td>checkpoint_000007</td>\n",
       "      <td>True</td>\n",
       "      <td>False</td>\n",
       "      <td>8</td>\n",
       "      <td>ca0f8_00000</td>\n",
       "      <td>...</td>\n",
       "      <td>121.103904</td>\n",
       "      <td>8</td>\n",
       "      <td>0.5</td>\n",
       "      <td>0.0001</td>\n",
       "      <td>0.8</td>\n",
       "      <td>3</td>\n",
       "      <td>10</td>\n",
       "      <td>128</td>\n",
       "      <td>4</td>\n",
       "      <td>mps</td>\n",
       "    </tr>\n",
       "    <tr>\n",
       "      <th>8</th>\n",
       "      <td>8</td>\n",
       "      <td>0.00008</td>\n",
       "      <td>0.030471</td>\n",
       "      <td>0.327466</td>\n",
       "      <td>1757955907</td>\n",
       "      <td>checkpoint_000008</td>\n",
       "      <td>True</td>\n",
       "      <td>False</td>\n",
       "      <td>9</td>\n",
       "      <td>ca0f8_00000</td>\n",
       "      <td>...</td>\n",
       "      <td>140.887608</td>\n",
       "      <td>9</td>\n",
       "      <td>0.5</td>\n",
       "      <td>0.0001</td>\n",
       "      <td>0.8</td>\n",
       "      <td>3</td>\n",
       "      <td>10</td>\n",
       "      <td>128</td>\n",
       "      <td>4</td>\n",
       "      <td>mps</td>\n",
       "    </tr>\n",
       "    <tr>\n",
       "      <th>9</th>\n",
       "      <td>9</td>\n",
       "      <td>0.00008</td>\n",
       "      <td>0.013599</td>\n",
       "      <td>0.365207</td>\n",
       "      <td>1757955921</td>\n",
       "      <td>checkpoint_000009</td>\n",
       "      <td>True</td>\n",
       "      <td>False</td>\n",
       "      <td>10</td>\n",
       "      <td>ca0f8_00000</td>\n",
       "      <td>...</td>\n",
       "      <td>154.397435</td>\n",
       "      <td>10</td>\n",
       "      <td>0.5</td>\n",
       "      <td>0.0001</td>\n",
       "      <td>0.8</td>\n",
       "      <td>3</td>\n",
       "      <td>10</td>\n",
       "      <td>128</td>\n",
       "      <td>4</td>\n",
       "      <td>mps</td>\n",
       "    </tr>\n",
       "  </tbody>\n",
       "</table>\n",
       "<p>10 rows × 26 columns</p>\n",
       "</div>"
      ],
      "text/plain": [
       "   epoch       lr  train_loss  val_loss   timestamp checkpoint_dir_name   \n",
       "0      0  0.00010    1.324052  1.156449  1757955782   checkpoint_000000  \\\n",
       "1      1  0.00010    1.061896  0.747005  1757955798   checkpoint_000001   \n",
       "2      2  0.00010    0.621647  0.393996  1757955813   checkpoint_000002   \n",
       "3      3  0.00010    0.333326  0.343746  1757955824   checkpoint_000003   \n",
       "4      4  0.00010    0.163670  0.243425  1757955834   checkpoint_000004   \n",
       "5      5  0.00010    0.080955  0.264231  1757955855   checkpoint_000005   \n",
       "6      6  0.00010    0.051695  0.258584  1757955872   checkpoint_000006   \n",
       "7      7  0.00010    0.020969  0.342157  1757955887   checkpoint_000007   \n",
       "8      8  0.00008    0.030471  0.327466  1757955907   checkpoint_000008   \n",
       "9      9  0.00008    0.013599  0.365207  1757955921   checkpoint_000009   \n",
       "\n",
       "   should_checkpoint   done  training_iteration     trial_id  ...   \n",
       "0               True  False                   1  ca0f8_00000  ...  \\\n",
       "1               True  False                   2  ca0f8_00000  ...   \n",
       "2               True  False                   3  ca0f8_00000  ...   \n",
       "3               True  False                   4  ca0f8_00000  ...   \n",
       "4               True  False                   5  ca0f8_00000  ...   \n",
       "5               True  False                   6  ca0f8_00000  ...   \n",
       "6               True  False                   7  ca0f8_00000  ...   \n",
       "7               True  False                   8  ca0f8_00000  ...   \n",
       "8               True  False                   9  ca0f8_00000  ...   \n",
       "9               True  False                  10  ca0f8_00000  ...   \n",
       "\n",
       "  time_since_restore  iterations_since_restore   \n",
       "0          17.612937                         1  \\\n",
       "1          33.065001                         2   \n",
       "2          47.960903                         3   \n",
       "3          58.423026                         4   \n",
       "4          68.557185                         5   \n",
       "5          89.637968                         6   \n",
       "6         106.271100                         7   \n",
       "7         121.103904                         8   \n",
       "8         140.887608                         9   \n",
       "9         154.397435                        10   \n",
       "\n",
       "   config/train_loop_config/dropout_p  config/train_loop_config/lr   \n",
       "0                                 0.5                       0.0001  \\\n",
       "1                                 0.5                       0.0001   \n",
       "2                                 0.5                       0.0001   \n",
       "3                                 0.5                       0.0001   \n",
       "4                                 0.5                       0.0001   \n",
       "5                                 0.5                       0.0001   \n",
       "6                                 0.5                       0.0001   \n",
       "7                                 0.5                       0.0001   \n",
       "8                                 0.5                       0.0001   \n",
       "9                                 0.5                       0.0001   \n",
       "\n",
       "  config/train_loop_config/lr_factor config/train_loop_config/lr_patience   \n",
       "0                                0.8                                    3  \\\n",
       "1                                0.8                                    3   \n",
       "2                                0.8                                    3   \n",
       "3                                0.8                                    3   \n",
       "4                                0.8                                    3   \n",
       "5                                0.8                                    3   \n",
       "6                                0.8                                    3   \n",
       "7                                0.8                                    3   \n",
       "8                                0.8                                    3   \n",
       "9                                0.8                                    3   \n",
       "\n",
       "   config/train_loop_config/num_epochs  config/train_loop_config/batch_size   \n",
       "0                                   10                                  128  \\\n",
       "1                                   10                                  128   \n",
       "2                                   10                                  128   \n",
       "3                                   10                                  128   \n",
       "4                                   10                                  128   \n",
       "5                                   10                                  128   \n",
       "6                                   10                                  128   \n",
       "7                                   10                                  128   \n",
       "8                                   10                                  128   \n",
       "9                                   10                                  128   \n",
       "\n",
       "   config/train_loop_config/num_classes  config/train_loop_config/device  \n",
       "0                                     4                              mps  \n",
       "1                                     4                              mps  \n",
       "2                                     4                              mps  \n",
       "3                                     4                              mps  \n",
       "4                                     4                              mps  \n",
       "5                                     4                              mps  \n",
       "6                                     4                              mps  \n",
       "7                                     4                              mps  \n",
       "8                                     4                              mps  \n",
       "9                                     4                              mps  \n",
       "\n",
       "[10 rows x 26 columns]"
      ]
     },
     "execution_count": 182,
     "metadata": {},
     "output_type": "execute_result"
    }
   ],
   "source": [
    "results.metrics_dataframe"
   ]
  },
  {
   "cell_type": "code",
   "execution_count": 183,
   "id": "4ae0a8a6",
   "metadata": {},
   "outputs": [],
   "source": [
    "sorted_runs = mlflow.search_runs(experiment_names=[experiment_name],\n",
    "                                        order_by=['metrics.val_loss ASC'])"
   ]
  },
  {
   "cell_type": "code",
   "execution_count": 184,
   "metadata": {},
   "outputs": [
    {
     "data": {
      "text/html": [
       "<div>\n",
       "<style scoped>\n",
       "    .dataframe tbody tr th:only-of-type {\n",
       "        vertical-align: middle;\n",
       "    }\n",
       "\n",
       "    .dataframe tbody tr th {\n",
       "        vertical-align: top;\n",
       "    }\n",
       "\n",
       "    .dataframe thead th {\n",
       "        text-align: right;\n",
       "    }\n",
       "</style>\n",
       "<table border=\"1\" class=\"dataframe\">\n",
       "  <thead>\n",
       "    <tr style=\"text-align: right;\">\n",
       "      <th></th>\n",
       "      <th>run_id</th>\n",
       "      <th>experiment_id</th>\n",
       "      <th>status</th>\n",
       "      <th>artifact_uri</th>\n",
       "      <th>start_time</th>\n",
       "      <th>end_time</th>\n",
       "      <th>metrics.pid</th>\n",
       "      <th>metrics.lr</th>\n",
       "      <th>metrics.epoch</th>\n",
       "      <th>metrics.train_loss</th>\n",
       "      <th>...</th>\n",
       "      <th>params.train_loop_config/lr_factor</th>\n",
       "      <th>params.train_loop_config/lr_patience</th>\n",
       "      <th>params.train_loop_config/dropout_p</th>\n",
       "      <th>params.train_loop_config/num_epochs</th>\n",
       "      <th>params.train_loop_config/device</th>\n",
       "      <th>params.train_loop_config/batch_size</th>\n",
       "      <th>params.train_loop_config/lr</th>\n",
       "      <th>params.train_loop_config/num_classes</th>\n",
       "      <th>tags.trial_name</th>\n",
       "      <th>tags.mlflow.runName</th>\n",
       "    </tr>\n",
       "  </thead>\n",
       "  <tbody>\n",
       "    <tr>\n",
       "      <th>0</th>\n",
       "      <td>159c5a13ceab43bda0a04a9b91caa14f</td>\n",
       "      <td>924140208947310253</td>\n",
       "      <td>FINISHED</td>\n",
       "      <td>file:///Users/ngkuissi/Dev/learning/Made-With-...</td>\n",
       "      <td>2025-09-15 17:02:45.621000+00:00</td>\n",
       "      <td>2025-09-15 17:05:22.773000+00:00</td>\n",
       "      <td>43506.0</td>\n",
       "      <td>0.00008</td>\n",
       "      <td>9.0</td>\n",
       "      <td>0.013599</td>\n",
       "      <td>...</td>\n",
       "      <td>0.8</td>\n",
       "      <td>3</td>\n",
       "      <td>0.5</td>\n",
       "      <td>10</td>\n",
       "      <td>mps</td>\n",
       "      <td>128</td>\n",
       "      <td>0.0001</td>\n",
       "      <td>4</td>\n",
       "      <td>TorchTrainer_ca0f8_00000</td>\n",
       "      <td>TorchTrainer_ca0f8_00000</td>\n",
       "    </tr>\n",
       "  </tbody>\n",
       "</table>\n",
       "<p>1 rows × 36 columns</p>\n",
       "</div>"
      ],
      "text/plain": [
       "                             run_id       experiment_id    status   \n",
       "0  159c5a13ceab43bda0a04a9b91caa14f  924140208947310253  FINISHED  \\\n",
       "\n",
       "                                        artifact_uri   \n",
       "0  file:///Users/ngkuissi/Dev/learning/Made-With-...  \\\n",
       "\n",
       "                        start_time                         end_time   \n",
       "0 2025-09-15 17:02:45.621000+00:00 2025-09-15 17:05:22.773000+00:00  \\\n",
       "\n",
       "   metrics.pid  metrics.lr  metrics.epoch  metrics.train_loss  ...   \n",
       "0      43506.0     0.00008            9.0            0.013599  ...  \\\n",
       "\n",
       "   params.train_loop_config/lr_factor  params.train_loop_config/lr_patience   \n",
       "0                                 0.8                                     3  \\\n",
       "\n",
       "   params.train_loop_config/dropout_p  params.train_loop_config/num_epochs   \n",
       "0                                 0.5                                   10  \\\n",
       "\n",
       "   params.train_loop_config/device  params.train_loop_config/batch_size   \n",
       "0                              mps                                  128  \\\n",
       "\n",
       "   params.train_loop_config/lr  params.train_loop_config/num_classes   \n",
       "0                       0.0001                                     4  \\\n",
       "\n",
       "            tags.trial_name       tags.mlflow.runName  \n",
       "0  TorchTrainer_ca0f8_00000  TorchTrainer_ca0f8_00000  \n",
       "\n",
       "[1 rows x 36 columns]"
      ]
     },
     "execution_count": 184,
     "metadata": {},
     "output_type": "execute_result"
    }
   ],
   "source": [
    "sorted_runs"
   ]
  },
  {
   "cell_type": "code",
   "execution_count": null,
   "id": "ba697576",
   "metadata": {},
   "outputs": [
    {
     "name": "stdout",
     "output_type": "stream",
     "text": [
      "/Users/ngkuissi/Dev/learning/Made-With-ML/venv/lib/python3.10/site-packages/mlflow/utils/requirements_utils.py:12: UserWarning: pkg_resources is deprecated as an API. See https://setuptools.pypa.io/en/latest/pkg_resources.html. The pkg_resources package is slated for removal as early as 2025-11-30. Refrain from using this package or pin to Setuptools<81.\n",
      "  import pkg_resources\n",
      "/Users/ngkuissi/Dev/learning/Made-With-ML/venv/lib/python3.10/site-packages/gunicorn/util.py:25: UserWarning: pkg_resources is deprecated as an API. See https://setuptools.pypa.io/en/latest/pkg_resources.html. The pkg_resources package is slated for removal as early as 2025-11-30. Refrain from using this package or pin to Setuptools<81.\n",
      "  import pkg_resources\n",
      "[2025-09-14 20:14:58 -0400] [22221] [INFO] Starting gunicorn 20.1.0\n",
      "[2025-09-14 20:14:58 -0400] [22221] [INFO] Listening at: http://0.0.0.0:8080 (22221)\n",
      "[2025-09-14 20:14:58 -0400] [22221] [INFO] Using worker: sync\n",
      "[2025-09-14 20:14:58 -0400] [22222] [INFO] Booting worker with pid: 22222\n",
      "[2025-09-14 20:14:58 -0400] [22223] [INFO] Booting worker with pid: 22223\n",
      "[2025-09-14 20:14:58 -0400] [22224] [INFO] Booting worker with pid: 22224\n",
      "[2025-09-14 20:14:59 -0400] [22225] [INFO] Booting worker with pid: 22225\n",
      "^C\n",
      "\n",
      "Aborted!\n",
      "[2025-09-14 20:26:17 -0400] [22225] [INFO] Worker exiting (pid: 22225)\n",
      "[2025-09-14 20:26:17 -0400] [22223] [INFO] Worker exiting (pid: 22223)\n",
      "[2025-09-14 20:26:17 -0400] [22222] [INFO] Worker exiting (pid: 22222)\n",
      "[2025-09-14 20:26:17 -0400] [22224] [INFO] Worker exiting (pid: 22224)\n"
     ]
    }
   ],
   "source": [
    "!mlflow ui --backend-store-uri file:/Users/ngkuissi/Dev/learning/Made-With-ML/notebooks/tmp/mlflow --port 5000"
   ]
  },
  {
   "cell_type": "code",
   "execution_count": 185,
   "id": "d33cff7d",
   "metadata": {},
   "outputs": [],
   "source": [
    "from ray.air import Result\n",
    "from urllib.parse import urlparse"
   ]
  },
  {
   "cell_type": "code",
   "execution_count": 186,
   "id": "6adc7b3f",
   "metadata": {},
   "outputs": [],
   "source": [
    "def best_checkpoint(run_id):\n",
    "    # get path from mlflow\n",
    "    artifact_dir = urlparse(mlflow.get_run(run_id).info.artifact_url).path\n",
    "    result = Result.from_path(artifact_dir)\n",
    "    return result.get_best_checkpoint[0][0]"
   ]
  },
  {
   "cell_type": "markdown",
   "id": "34869be8",
   "metadata": {},
   "source": [
    "# Tuning"
   ]
  },
  {
   "cell_type": "code",
   "execution_count": 188,
   "id": "849f60fc",
   "metadata": {},
   "outputs": [],
   "source": [
    "num_runs = 2"
   ]
  },
  {
   "cell_type": "code",
   "execution_count": 199,
   "id": "3ac03730",
   "metadata": {},
   "outputs": [],
   "source": [
    "from ray import tune\n",
    "from ray.tune import Tuner\n",
    "from ray.tune.schedulers import AsyncHyperBandScheduler\n",
    "from ray.tune.search import ConcurrencyLimiter\n",
    "from ray.tune.search.hyperopt import HyperOptSearch"
   ]
  },
  {
   "cell_type": "code",
   "execution_count": 190,
   "id": "b73746eb",
   "metadata": {},
   "outputs": [],
   "source": [
    "set_seed()"
   ]
  },
  {
   "cell_type": "code",
   "execution_count": 191,
   "id": "bbf4bbd2",
   "metadata": {},
   "outputs": [],
   "source": [
    "ds = load_data()\n",
    "train_ds, val_ds = stratify_split(ds, stratify=\"tag\", test_size=test_size)"
   ]
  },
  {
   "cell_type": "code",
   "execution_count": 192,
   "id": "714f4dac",
   "metadata": {},
   "outputs": [
    {
     "name": "stderr",
     "output_type": "stream",
     "text": [
      "2025-09-17 14:14:57,541\tINFO logging.py:295 -- Registered dataset logger for dataset dataset_158_0\n",
      "2025-09-17 14:14:57,668\tINFO streaming_executor.py:159 -- Starting execution of Dataset dataset_158_0. Full logs are in /tmp/ray/session_2025-09-15_12-30-08_614560_3457/logs/ray-data\n",
      "2025-09-17 14:14:57,669\tINFO streaming_executor.py:160 -- Execution plan of Dataset dataset_158_0: InputDataBuffer[Input] -> TaskPoolMapOperator[ReadCSV] -> AllToAllOperator[RandomShuffle] -> AllToAllOperator[Sort] -> AllToAllOperator[MapBatches(_add_split)->MapBatches(_filter_split)->RandomShuffle] -> AllToAllOperator[Aggregate] -> LimitOperator[limit=1]\n"
     ]
    },
    {
     "data": {
      "application/vnd.jupyter.widget-view+json": {
       "model_id": "e8c4496938654aca98ba3b2b70a9c215",
       "version_major": 2,
       "version_minor": 0
      },
      "text/plain": [
       "Running 0: 0.00 row [00:00, ? row/s]"
      ]
     },
     "metadata": {},
     "output_type": "display_data"
    },
    {
     "data": {
      "application/vnd.jupyter.widget-view+json": {
       "model_id": "2ddec1860ede4de7af33025484408333",
       "version_major": 2,
       "version_minor": 0
      },
      "text/plain": [
       "- ReadCSV->SplitBlocks(16) 1: 0.00 row [00:00, ? row/s]"
      ]
     },
     "metadata": {},
     "output_type": "display_data"
    },
    {
     "data": {
      "application/vnd.jupyter.widget-view+json": {
       "model_id": "50fd6dcff91340cda0258f2f8a155ba7",
       "version_major": 2,
       "version_minor": 0
      },
      "text/plain": [
       "- RandomShuffle 2: 0.00 row [00:00, ? row/s]"
      ]
     },
     "metadata": {},
     "output_type": "display_data"
    },
    {
     "data": {
      "application/vnd.jupyter.widget-view+json": {
       "model_id": "18187f2ebbe442dfadaf3234187573e3",
       "version_major": 2,
       "version_minor": 0
      },
      "text/plain": [
       "Shuffle Map 3:   0%|          | 0.00/1.00 [00:00<?, ? row/s]"
      ]
     },
     "metadata": {},
     "output_type": "display_data"
    },
    {
     "data": {
      "application/vnd.jupyter.widget-view+json": {
       "model_id": "fe11fac757b74038a5e8ef7fdea26293",
       "version_major": 2,
       "version_minor": 0
      },
      "text/plain": [
       "Shuffle Reduce 4:   0%|          | 0.00/1.00 [00:00<?, ? row/s]"
      ]
     },
     "metadata": {},
     "output_type": "display_data"
    },
    {
     "data": {
      "application/vnd.jupyter.widget-view+json": {
       "model_id": "e058e5f385df45f59850be45cbd5df22",
       "version_major": 2,
       "version_minor": 0
      },
      "text/plain": [
       "- Sort 5: 0.00 row [00:00, ? row/s]"
      ]
     },
     "metadata": {},
     "output_type": "display_data"
    },
    {
     "data": {
      "application/vnd.jupyter.widget-view+json": {
       "model_id": "9db271d26d464e989a9130fffee297f4",
       "version_major": 2,
       "version_minor": 0
      },
      "text/plain": [
       "Sort Sample 6:   0%|          | 0.00/1.00 [00:00<?, ? row/s]"
      ]
     },
     "metadata": {},
     "output_type": "display_data"
    },
    {
     "data": {
      "application/vnd.jupyter.widget-view+json": {
       "model_id": "af70a04692054a5387d7f5a2c9444404",
       "version_major": 2,
       "version_minor": 0
      },
      "text/plain": [
       "Shuffle Map 7:   0%|          | 0.00/1.00 [00:00<?, ? row/s]"
      ]
     },
     "metadata": {},
     "output_type": "display_data"
    },
    {
     "data": {
      "application/vnd.jupyter.widget-view+json": {
       "model_id": "b072b86a49d14c7fad1f5db88c97503c",
       "version_major": 2,
       "version_minor": 0
      },
      "text/plain": [
       "Shuffle Reduce 8:   0%|          | 0.00/1.00 [00:00<?, ? row/s]"
      ]
     },
     "metadata": {},
     "output_type": "display_data"
    },
    {
     "data": {
      "application/vnd.jupyter.widget-view+json": {
       "model_id": "db544341e8c24e1fba14e89868d3428c",
       "version_major": 2,
       "version_minor": 0
      },
      "text/plain": [
       "- MapBatches(_add_split)->MapBatches(_filter_split)->RandomShuffle 9: 0.00 row [00:00, ? row/s]"
      ]
     },
     "metadata": {},
     "output_type": "display_data"
    },
    {
     "data": {
      "application/vnd.jupyter.widget-view+json": {
       "model_id": "d694a5caed7644cf954e9787525b5f22",
       "version_major": 2,
       "version_minor": 0
      },
      "text/plain": [
       "Shuffle Map 10:   0%|          | 0.00/1.00 [00:00<?, ? row/s]"
      ]
     },
     "metadata": {},
     "output_type": "display_data"
    },
    {
     "data": {
      "application/vnd.jupyter.widget-view+json": {
       "model_id": "2a7c02f1401b4d5d96a91b99768db6c8",
       "version_major": 2,
       "version_minor": 0
      },
      "text/plain": [
       "Shuffle Reduce 11:   0%|          | 0.00/1.00 [00:00<?, ? row/s]"
      ]
     },
     "metadata": {},
     "output_type": "display_data"
    },
    {
     "data": {
      "application/vnd.jupyter.widget-view+json": {
       "model_id": "5d111bfafd054b96ae47de3a0052a8b5",
       "version_major": 2,
       "version_minor": 0
      },
      "text/plain": [
       "- Aggregate 12: 0.00 row [00:00, ? row/s]"
      ]
     },
     "metadata": {},
     "output_type": "display_data"
    },
    {
     "data": {
      "application/vnd.jupyter.widget-view+json": {
       "model_id": "33740018213c4d44b2f9fb38d8e31fc6",
       "version_major": 2,
       "version_minor": 0
      },
      "text/plain": [
       "Sort Sample 13:   0%|          | 0.00/1.00 [00:00<?, ? row/s]"
      ]
     },
     "metadata": {},
     "output_type": "display_data"
    },
    {
     "data": {
      "application/vnd.jupyter.widget-view+json": {
       "model_id": "17f67359afa645b1ad54a81b14af5dc1",
       "version_major": 2,
       "version_minor": 0
      },
      "text/plain": [
       "Shuffle Map 14:   0%|          | 0.00/1.00 [00:00<?, ? row/s]"
      ]
     },
     "metadata": {},
     "output_type": "display_data"
    },
    {
     "data": {
      "application/vnd.jupyter.widget-view+json": {
       "model_id": "bccffe501a954ea082e1f392f12c419d",
       "version_major": 2,
       "version_minor": 0
      },
      "text/plain": [
       "Shuffle Reduce 15:   0%|          | 0.00/1.00 [00:00<?, ? row/s]"
      ]
     },
     "metadata": {},
     "output_type": "display_data"
    },
    {
     "data": {
      "application/vnd.jupyter.widget-view+json": {
       "model_id": "defbdc04749743d8bd3b3b47121ffbc8",
       "version_major": 2,
       "version_minor": 0
      },
      "text/plain": [
       "- limit=1 16: 0.00 row [00:00, ? row/s]"
      ]
     },
     "metadata": {},
     "output_type": "display_data"
    },
    {
     "name": "stderr",
     "output_type": "stream",
     "text": [
      "2025-09-17 14:14:59,532\tWARNING streaming_executor_state.py:793 -- Operator produced a RefBundle with a different schema than the previous one. Previous schema: id: int64\n",
      "created_on: timestamp[s]\n",
      "title: string\n",
      "description: string\n",
      "tag: string, new schema: . This may lead to unexpected behavior.\n",
      "2025-09-17 14:15:00,290\tINFO streaming_executor.py:279 -- ✔️  Dataset dataset_158_0 execution finished in 2.61 seconds\n",
      "2025-09-17 14:15:00,454\tINFO logging.py:295 -- Registered dataset logger for dataset dataset_161_0\n",
      "2025-09-17 14:15:00,468\tINFO streaming_executor.py:159 -- Starting execution of Dataset dataset_161_0. Full logs are in /tmp/ray/session_2025-09-15_12-30-08_614560_3457/logs/ray-data\n",
      "2025-09-17 14:15:00,470\tINFO streaming_executor.py:160 -- Execution plan of Dataset dataset_161_0: InputDataBuffer[Input] -> TaskPoolMapOperator[ReadCSV] -> AllToAllOperator[RandomShuffle] -> AllToAllOperator[Sort] -> AllToAllOperator[MapBatches(_add_split)->MapBatches(_filter_split)->RandomShuffle] -> TaskPoolMapOperator[CustomPreprocessor]\n"
     ]
    },
    {
     "data": {
      "application/vnd.jupyter.widget-view+json": {
       "model_id": "b946899880c64c449bc0214d66753004",
       "version_major": 2,
       "version_minor": 0
      },
      "text/plain": [
       "Running 0: 0.00 row [00:00, ? row/s]"
      ]
     },
     "metadata": {},
     "output_type": "display_data"
    },
    {
     "data": {
      "application/vnd.jupyter.widget-view+json": {
       "model_id": "8000056a8d6b45deb9de5c5fa82ff155",
       "version_major": 2,
       "version_minor": 0
      },
      "text/plain": [
       "- ReadCSV->SplitBlocks(16) 1: 0.00 row [00:00, ? row/s]"
      ]
     },
     "metadata": {},
     "output_type": "display_data"
    },
    {
     "data": {
      "application/vnd.jupyter.widget-view+json": {
       "model_id": "bdb69b01627d41f5831deefc86177a30",
       "version_major": 2,
       "version_minor": 0
      },
      "text/plain": [
       "- RandomShuffle 2: 0.00 row [00:00, ? row/s]"
      ]
     },
     "metadata": {},
     "output_type": "display_data"
    },
    {
     "data": {
      "application/vnd.jupyter.widget-view+json": {
       "model_id": "b51f859ad56249b3a18c0bd9531ebaf0",
       "version_major": 2,
       "version_minor": 0
      },
      "text/plain": [
       "Shuffle Map 3:   0%|          | 0.00/1.00 [00:00<?, ? row/s]"
      ]
     },
     "metadata": {},
     "output_type": "display_data"
    },
    {
     "data": {
      "application/vnd.jupyter.widget-view+json": {
       "model_id": "bcac9e2886cb4d27a2a1252c98ac3445",
       "version_major": 2,
       "version_minor": 0
      },
      "text/plain": [
       "Shuffle Reduce 4:   0%|          | 0.00/1.00 [00:00<?, ? row/s]"
      ]
     },
     "metadata": {},
     "output_type": "display_data"
    },
    {
     "data": {
      "application/vnd.jupyter.widget-view+json": {
       "model_id": "6f2313733ec1487285de4eaff83c2363",
       "version_major": 2,
       "version_minor": 0
      },
      "text/plain": [
       "- Sort 5: 0.00 row [00:00, ? row/s]"
      ]
     },
     "metadata": {},
     "output_type": "display_data"
    },
    {
     "data": {
      "application/vnd.jupyter.widget-view+json": {
       "model_id": "1374704e188f481c95294becaac7ac38",
       "version_major": 2,
       "version_minor": 0
      },
      "text/plain": [
       "Sort Sample 6:   0%|          | 0.00/1.00 [00:00<?, ? row/s]"
      ]
     },
     "metadata": {},
     "output_type": "display_data"
    },
    {
     "data": {
      "application/vnd.jupyter.widget-view+json": {
       "model_id": "94f41cf3e0564307961296ea2cf63a59",
       "version_major": 2,
       "version_minor": 0
      },
      "text/plain": [
       "Shuffle Map 7:   0%|          | 0.00/1.00 [00:00<?, ? row/s]"
      ]
     },
     "metadata": {},
     "output_type": "display_data"
    },
    {
     "data": {
      "application/vnd.jupyter.widget-view+json": {
       "model_id": "4371bb3b73774d65ab6a63faf9f6c81c",
       "version_major": 2,
       "version_minor": 0
      },
      "text/plain": [
       "Shuffle Reduce 8:   0%|          | 0.00/1.00 [00:00<?, ? row/s]"
      ]
     },
     "metadata": {},
     "output_type": "display_data"
    },
    {
     "data": {
      "application/vnd.jupyter.widget-view+json": {
       "model_id": "5a3e065bff5a41f9a90d0ecccb952eed",
       "version_major": 2,
       "version_minor": 0
      },
      "text/plain": [
       "- MapBatches(_add_split)->MapBatches(_filter_split)->RandomShuffle 9: 0.00 row [00:00, ? row/s]"
      ]
     },
     "metadata": {},
     "output_type": "display_data"
    },
    {
     "data": {
      "application/vnd.jupyter.widget-view+json": {
       "model_id": "02ca9ef4ad3f426f8e38c32db4cb7adb",
       "version_major": 2,
       "version_minor": 0
      },
      "text/plain": [
       "Shuffle Map 10:   0%|          | 0.00/1.00 [00:00<?, ? row/s]"
      ]
     },
     "metadata": {},
     "output_type": "display_data"
    },
    {
     "data": {
      "application/vnd.jupyter.widget-view+json": {
       "model_id": "d228511b57de4e8ab2e9f18abddf96ac",
       "version_major": 2,
       "version_minor": 0
      },
      "text/plain": [
       "Shuffle Reduce 11:   0%|          | 0.00/1.00 [00:00<?, ? row/s]"
      ]
     },
     "metadata": {},
     "output_type": "display_data"
    },
    {
     "data": {
      "application/vnd.jupyter.widget-view+json": {
       "model_id": "aa2b8d743b444d8797daf870df2d2bb2",
       "version_major": 2,
       "version_minor": 0
      },
      "text/plain": [
       "- CustomPreprocessor 12: 0.00 row [00:00, ? row/s]"
      ]
     },
     "metadata": {},
     "output_type": "display_data"
    },
    {
     "name": "stderr",
     "output_type": "stream",
     "text": [
      "2025-09-17 14:15:02,696\tWARNING streaming_executor_state.py:793 -- Operator produced a RefBundle with a different schema than the previous one. Previous schema: id: int64\n",
      "created_on: timestamp[s]\n",
      "title: string\n",
      "description: string\n",
      "tag: string, new schema: . This may lead to unexpected behavior.\n",
      "2025-09-17 14:15:03,365\tWARNING streaming_executor_state.py:793 -- Operator produced a RefBundle with a different schema than the previous one. Previous schema: ids: extension<ray.data.arrow_tensor_v2<ArrowTensorTypeV2>>\n",
      "mask: extension<ray.data.arrow_tensor_v2<ArrowTensorTypeV2>>\n",
      "target: int64, new schema: ids: extension<ray.data.arrow_tensor_v2<ArrowTensorTypeV2>>\n",
      "mask: extension<ray.data.arrow_tensor_v2<ArrowTensorTypeV2>>\n",
      "target: int64. This may lead to unexpected behavior.\n",
      "2025-09-17 14:15:03,720\tINFO streaming_executor.py:279 -- ✔️  Dataset dataset_161_0 execution finished in 3.25 seconds\n",
      "2025-09-17 14:15:03,940\tINFO logging.py:295 -- Registered dataset logger for dataset dataset_163_0\n",
      "2025-09-17 14:15:03,950\tINFO streaming_executor.py:159 -- Starting execution of Dataset dataset_163_0. Full logs are in /tmp/ray/session_2025-09-15_12-30-08_614560_3457/logs/ray-data\n",
      "2025-09-17 14:15:03,952\tINFO streaming_executor.py:160 -- Execution plan of Dataset dataset_163_0: InputDataBuffer[Input] -> TaskPoolMapOperator[ReadCSV] -> AllToAllOperator[RandomShuffle] -> AllToAllOperator[Sort] -> AllToAllOperator[MapBatches(_add_split)->MapBatches(_filter_split)->RandomShuffle] -> TaskPoolMapOperator[CustomPreprocessor]\n"
     ]
    },
    {
     "data": {
      "application/vnd.jupyter.widget-view+json": {
       "model_id": "9a1c3b5b76d34b068bd8b7d9681c8d29",
       "version_major": 2,
       "version_minor": 0
      },
      "text/plain": [
       "Running 0: 0.00 row [00:00, ? row/s]"
      ]
     },
     "metadata": {},
     "output_type": "display_data"
    },
    {
     "data": {
      "application/vnd.jupyter.widget-view+json": {
       "model_id": "4718c2a22e304a859d696e2cc4e29926",
       "version_major": 2,
       "version_minor": 0
      },
      "text/plain": [
       "- ReadCSV->SplitBlocks(16) 1: 0.00 row [00:00, ? row/s]"
      ]
     },
     "metadata": {},
     "output_type": "display_data"
    },
    {
     "data": {
      "application/vnd.jupyter.widget-view+json": {
       "model_id": "52a4dacae7a842829cd3649c1e624c61",
       "version_major": 2,
       "version_minor": 0
      },
      "text/plain": [
       "- RandomShuffle 2: 0.00 row [00:00, ? row/s]"
      ]
     },
     "metadata": {},
     "output_type": "display_data"
    },
    {
     "data": {
      "application/vnd.jupyter.widget-view+json": {
       "model_id": "620cf70d4e5b4b70b91856f921b2914f",
       "version_major": 2,
       "version_minor": 0
      },
      "text/plain": [
       "Shuffle Map 3:   0%|          | 0.00/1.00 [00:00<?, ? row/s]"
      ]
     },
     "metadata": {},
     "output_type": "display_data"
    },
    {
     "data": {
      "application/vnd.jupyter.widget-view+json": {
       "model_id": "0f6ec7ff7e3a45c3b41c43ce13992b97",
       "version_major": 2,
       "version_minor": 0
      },
      "text/plain": [
       "Shuffle Reduce 4:   0%|          | 0.00/1.00 [00:00<?, ? row/s]"
      ]
     },
     "metadata": {},
     "output_type": "display_data"
    },
    {
     "data": {
      "application/vnd.jupyter.widget-view+json": {
       "model_id": "655272431da842b4ae3f0edc7277f7db",
       "version_major": 2,
       "version_minor": 0
      },
      "text/plain": [
       "- Sort 5: 0.00 row [00:00, ? row/s]"
      ]
     },
     "metadata": {},
     "output_type": "display_data"
    },
    {
     "data": {
      "application/vnd.jupyter.widget-view+json": {
       "model_id": "0c0179aa515342cab4f572d11674a708",
       "version_major": 2,
       "version_minor": 0
      },
      "text/plain": [
       "Sort Sample 6:   0%|          | 0.00/1.00 [00:00<?, ? row/s]"
      ]
     },
     "metadata": {},
     "output_type": "display_data"
    },
    {
     "data": {
      "application/vnd.jupyter.widget-view+json": {
       "model_id": "a3f96cada2854b5d9eeaa44208f1a532",
       "version_major": 2,
       "version_minor": 0
      },
      "text/plain": [
       "Shuffle Map 7:   0%|          | 0.00/1.00 [00:00<?, ? row/s]"
      ]
     },
     "metadata": {},
     "output_type": "display_data"
    },
    {
     "data": {
      "application/vnd.jupyter.widget-view+json": {
       "model_id": "bbee85a4160a4c93b2d6b4cb74e3c598",
       "version_major": 2,
       "version_minor": 0
      },
      "text/plain": [
       "Shuffle Reduce 8:   0%|          | 0.00/1.00 [00:00<?, ? row/s]"
      ]
     },
     "metadata": {},
     "output_type": "display_data"
    },
    {
     "data": {
      "application/vnd.jupyter.widget-view+json": {
       "model_id": "dd7a7819016b4c56bb55d66bdeb578de",
       "version_major": 2,
       "version_minor": 0
      },
      "text/plain": [
       "- MapBatches(_add_split)->MapBatches(_filter_split)->RandomShuffle 9: 0.00 row [00:00, ? row/s]"
      ]
     },
     "metadata": {},
     "output_type": "display_data"
    },
    {
     "data": {
      "application/vnd.jupyter.widget-view+json": {
       "model_id": "b5bedc162dad4feaaeb5f30cfa5f346c",
       "version_major": 2,
       "version_minor": 0
      },
      "text/plain": [
       "Shuffle Map 10:   0%|          | 0.00/1.00 [00:00<?, ? row/s]"
      ]
     },
     "metadata": {},
     "output_type": "display_data"
    },
    {
     "data": {
      "application/vnd.jupyter.widget-view+json": {
       "model_id": "5f72649282774d0bbe5b76508747a4c6",
       "version_major": 2,
       "version_minor": 0
      },
      "text/plain": [
       "Shuffle Reduce 11:   0%|          | 0.00/1.00 [00:00<?, ? row/s]"
      ]
     },
     "metadata": {},
     "output_type": "display_data"
    },
    {
     "data": {
      "application/vnd.jupyter.widget-view+json": {
       "model_id": "1ee24405b2fc4769a0e65033864a0f7f",
       "version_major": 2,
       "version_minor": 0
      },
      "text/plain": [
       "- CustomPreprocessor 12: 0.00 row [00:00, ? row/s]"
      ]
     },
     "metadata": {},
     "output_type": "display_data"
    },
    {
     "name": "stderr",
     "output_type": "stream",
     "text": [
      "2025-09-17 14:15:05,399\tWARNING streaming_executor_state.py:793 -- Operator produced a RefBundle with a different schema than the previous one. Previous schema: id: int64\n",
      "created_on: timestamp[s]\n",
      "title: string\n",
      "description: string\n",
      "tag: string, new schema: . This may lead to unexpected behavior.\n",
      "2025-09-17 14:15:05,849\tWARNING streaming_executor_state.py:793 -- Operator produced a RefBundle with a different schema than the previous one. Previous schema: ids: extension<ray.data.arrow_tensor_v2<ArrowTensorTypeV2>>\n",
      "mask: extension<ray.data.arrow_tensor_v2<ArrowTensorTypeV2>>\n",
      "target: int64, new schema: ids: extension<ray.data.arrow_tensor_v2<ArrowTensorTypeV2>>\n",
      "mask: extension<ray.data.arrow_tensor_v2<ArrowTensorTypeV2>>\n",
      "target: int64. This may lead to unexpected behavior.\n",
      "2025-09-17 14:15:06,038\tINFO streaming_executor.py:279 -- ✔️  Dataset dataset_163_0 execution finished in 2.09 seconds\n"
     ]
    }
   ],
   "source": [
    "preprocessor = CustomPreprocessor()\n",
    "train_ds = preprocessor.fit_transform(train_ds)\n",
    "val_ds = preprocessor.transform(val_ds)\n",
    "train_ds = train_ds.materialize()\n",
    "val_ds = val_ds.materialize()"
   ]
  },
  {
   "cell_type": "code",
   "execution_count": 193,
   "id": "f4d2024b",
   "metadata": {},
   "outputs": [
    {
     "name": "stderr",
     "output_type": "stream",
     "text": [
      "/Users/ngkuissi/Dev/learning/Made-With-ML/venv/lib/python3.10/site-packages/ray/train/base_trainer.py:584: RayDeprecationWarning: `ray.train.RunConfig(callbacks: List[ray.tune.Callback])` is deprecated. Ray Train no longer accepts Ray Tune callbacks, since the Ray Train execution backend is being separated from Ray Tune. See this issue for more context and migration options: https://github.com/ray-project/ray/issues/49454. Disable these warnings by setting the environment variable: RAY_TRAIN_ENABLE_V2_MIGRATION_WARNINGS=0\n",
      "  _log_deprecation_warning(CALLBACKS_DEPRECATION_MESSAGE)\n"
     ]
    }
   ],
   "source": [
    "trainer = TorchTrainer(\n",
    "    train_loop_per_worker=train_loop_per_worker,\n",
    "    train_loop_config=train_loop_config,\n",
    "    scaling_config=scaling_config,\n",
    "    run_config= run_config,\n",
    "    datasets= {\"train\": train_ds, \"val\": val_ds},\n",
    "    dataset_config=dataset_config,\n",
    "    #preprocessor=preprocessor   \n",
    ")"
   ]
  },
  {
   "cell_type": "code",
   "execution_count": 194,
   "id": "947d367c",
   "metadata": {},
   "outputs": [],
   "source": [
    "mlflow_callback = MLflowLoggerCallback(\n",
    "    mlflow.get_tracking_uri(),\n",
    "    experiment_name=experiment_name,\n",
    "    save_artifact=True\n",
    ")"
   ]
  },
  {
   "cell_type": "code",
   "execution_count": 195,
   "id": "23e128cc",
   "metadata": {},
   "outputs": [],
   "source": [
    "checkpoint_config = CheckpointConfig(num_to_keep=1, checkpoint_score_attribute=\"val_loss\", checkpoint_score_order=\"min\")"
   ]
  },
  {
   "cell_type": "code",
   "execution_count": 196,
   "id": "977053d7",
   "metadata": {},
   "outputs": [],
   "source": [
    "run_config = RunConfig(\n",
    "    checkpoint_config=checkpoint_config,\n",
    "    callbacks=[mlflow_callback]\n",
    ")"
   ]
  },
  {
   "cell_type": "markdown",
   "id": "de237aec",
   "metadata": {},
   "source": [
    "## search algorithm"
   ]
  },
  {
   "cell_type": "code",
   "execution_count": 200,
   "id": "07ba8c15",
   "metadata": {},
   "outputs": [],
   "source": [
    "initial_param = [{\"train_loop_config\": {\"dropout_p\": 0.5, \"lr\": 1e-4, \"lr_factor\": 0.8, \"lr_patience\": 3}}]\n",
    "search_algorithm = HyperOptSearch(points_to_evaluate=initial_param)\n",
    "search_algorithm = ConcurrencyLimiter(search_algorithm, max_concurrent=2)\n"
   ]
  },
  {
   "cell_type": "code",
   "execution_count": 204,
   "id": "3db99be3",
   "metadata": {},
   "outputs": [],
   "source": [
    "param_space = {\n",
    "    \"train_loop_config\": {\n",
    "        \"dropout_p\": tune.uniform(0.3, 0.9),\n",
    "        \"lr\": tune.loguniform(1e-5, 5e-4),\n",
    "        \"lr_factor\": tune.uniform(0.1, 0.9),\n",
    "        \"lr_patience\": tune.uniform(1, 10),\n",
    "    }\n",
    "}"
   ]
  },
  {
   "cell_type": "code",
   "execution_count": 201,
   "id": "ea507675",
   "metadata": {},
   "outputs": [],
   "source": [
    "scheduler = AsyncHyperBandScheduler(\n",
    "    max_t = train_loop_config['num_epochs'],\n",
    "    grace_period=5\n",
    ")"
   ]
  },
  {
   "cell_type": "code",
   "execution_count": 202,
   "id": "64da1645",
   "metadata": {},
   "outputs": [],
   "source": [
    "tune_config = tune.TuneConfig(\n",
    "    mode=\"min\",\n",
    "    metric=\"val_loss\",\n",
    "    search_alg=search_algorithm,\n",
    "    scheduler=scheduler,\n",
    "    num_samples=num_runs\n",
    ")"
   ]
  },
  {
   "cell_type": "code",
   "execution_count": 205,
   "id": "02f5e7bf",
   "metadata": {},
   "outputs": [
    {
     "name": "stderr",
     "output_type": "stream",
     "text": [
      "/Users/ngkuissi/Dev/learning/Made-With-ML/venv/lib/python3.10/site-packages/ray/tune/impl/tuner_internal.py:108: RayDeprecationWarning: The Ray Train + Ray Tune integration has been reworked. Passing a Trainer to the Tuner is deprecated and will be removed in a future release. See this issue for more context and migration options: https://github.com/ray-project/ray/issues/49454. Disable these warnings by setting the environment variable: RAY_TRAIN_ENABLE_V2_MIGRATION_WARNINGS=0\n",
      "  _log_deprecation_warning(\n",
      "2025-09-17 14:25:41,281\tINFO tuner_internal.py:427 -- A `RunConfig` was passed to both the `Tuner` and the `TorchTrainer`. The run config passed to the `Tuner` is the one that will be used.\n",
      "/Users/ngkuissi/Dev/learning/Made-With-ML/venv/lib/python3.10/site-packages/ray/tune/impl/tuner_internal.py:144: RayDeprecationWarning: The `RunConfig` class should be imported from `ray.tune` when passing it to the Tuner. Please update your imports. See this issue for more context and migration options: https://github.com/ray-project/ray/issues/49454. Disable these warnings by setting the environment variable: RAY_TRAIN_ENABLE_V2_MIGRATION_WARNINGS=0\n",
      "  _log_deprecation_warning(\n"
     ]
    }
   ],
   "source": [
    "tuner = Tuner(\n",
    "    trainable=trainer,\n",
    "    param_space=param_space,\n",
    "    tune_config=tune_config,\n",
    "    run_config = run_config\n",
    ")"
   ]
  },
  {
   "cell_type": "code",
   "execution_count": 206,
   "id": "9570dbce",
   "metadata": {},
   "outputs": [
    {
     "data": {
      "text/html": [
       "<div class=\"tuneStatus\">\n",
       "  <div style=\"display: flex;flex-direction: row\">\n",
       "    <div style=\"display: flex;flex-direction: column;\">\n",
       "      <h3>Tune Status</h3>\n",
       "      <table>\n",
       "<tbody>\n",
       "<tr><td>Current time:</td><td>2025-09-17 15:22:30</td></tr>\n",
       "<tr><td>Running for: </td><td>00:56:38.81        </td></tr>\n",
       "<tr><td>Memory:      </td><td>13.5/16.0 GiB      </td></tr>\n",
       "</tbody>\n",
       "</table>\n",
       "    </div>\n",
       "    <div class=\"vDivider\"></div>\n",
       "    <div class=\"systemInfo\">\n",
       "      <h3>System Info</h3>\n",
       "      Using AsyncHyperBand: num_stopped=0<br>Bracket: Iter 5.000: None<br>Logical resource usage: 8.0/8 CPUs, 0/0 GPUs\n",
       "    </div>\n",
       "    \n",
       "  </div>\n",
       "  <div class=\"hDivider\"></div>\n",
       "  <div class=\"trialStatus\">\n",
       "    <h3>Trial Status</h3>\n",
       "    <table>\n",
       "<thead>\n",
       "<tr><th>Trial name           </th><th>status  </th><th>loc            </th><th style=\"text-align: right;\">         train_loop_config/dr\n",
       "opout_p</th><th style=\"text-align: right;\">  train_loop_config/lr</th><th style=\"text-align: right;\">         train_loop_config/lr\n",
       "_factor</th><th style=\"text-align: right;\">        train_loop_config/lr\n",
       "_patience</th><th style=\"text-align: right;\">  iter</th><th style=\"text-align: right;\">  total time (s)</th><th style=\"text-align: right;\">  epoch</th><th style=\"text-align: right;\">         lr</th><th style=\"text-align: right;\">  train_loss</th></tr>\n",
       "</thead>\n",
       "<tbody>\n",
       "<tr><td>TorchTrainer_041ee198</td><td>RUNNING </td><td>127.0.0.1:64048</td><td style=\"text-align: right;\">0.5     </td><td style=\"text-align: right;\">           0.0001     </td><td style=\"text-align: right;\">0.8     </td><td style=\"text-align: right;\">3      </td><td style=\"text-align: right;\">     4</td><td style=\"text-align: right;\">         3219.05</td><td style=\"text-align: right;\">      3</td><td style=\"text-align: right;\">0.0001     </td><td style=\"text-align: right;\">    0.380443</td></tr>\n",
       "<tr><td>TorchTrainer_38be6225</td><td>RUNNING </td><td>127.0.0.1:64195</td><td style=\"text-align: right;\">0.415523</td><td style=\"text-align: right;\">           6.30269e-05</td><td style=\"text-align: right;\">0.397444</td><td style=\"text-align: right;\">2.50983</td><td style=\"text-align: right;\">     2</td><td style=\"text-align: right;\">         2554.54</td><td style=\"text-align: right;\">      1</td><td style=\"text-align: right;\">6.30269e-05</td><td style=\"text-align: right;\">    1.05583 </td></tr>\n",
       "</tbody>\n",
       "</table>\n",
       "  </div>\n",
       "</div>\n",
       "<style>\n",
       ".tuneStatus {\n",
       "  color: var(--jp-ui-font-color1);\n",
       "}\n",
       ".tuneStatus .systemInfo {\n",
       "  display: flex;\n",
       "  flex-direction: column;\n",
       "}\n",
       ".tuneStatus td {\n",
       "  white-space: nowrap;\n",
       "}\n",
       ".tuneStatus .trialStatus {\n",
       "  display: flex;\n",
       "  flex-direction: column;\n",
       "}\n",
       ".tuneStatus h3 {\n",
       "  font-weight: bold;\n",
       "}\n",
       ".tuneStatus .hDivider {\n",
       "  border-bottom-width: var(--jp-border-width);\n",
       "  border-bottom-color: var(--jp-border-color0);\n",
       "  border-bottom-style: solid;\n",
       "}\n",
       ".tuneStatus .vDivider {\n",
       "  border-left-width: var(--jp-border-width);\n",
       "  border-left-color: var(--jp-border-color0);\n",
       "  border-left-style: solid;\n",
       "  margin: 0.5em 1em 0.5em 1em;\n",
       "}\n",
       "</style>\n"
      ],
      "text/plain": [
       "<IPython.core.display.HTML object>"
      ]
     },
     "metadata": {},
     "output_type": "display_data"
    },
    {
     "data": {
      "application/vnd.jupyter.widget-view+json": {
       "model_id": "6f1ee94c73d44510b2c6f75b820dbc99",
       "version_major": 2,
       "version_minor": 0
      },
      "text/plain": [
       "(pid=64273) Running 0: 0.00 row [00:00, ? row/s]"
      ]
     },
     "metadata": {},
     "output_type": "display_data"
    },
    {
     "data": {
      "application/vnd.jupyter.widget-view+json": {
       "model_id": "6d45db8e174747e6b6b1bf89dc0100b3",
       "version_major": 2,
       "version_minor": 0
      },
      "text/plain": [
       "(pid=64273) - split(1, equal=True) 1: 0.00 row [00:00, ? row/s]"
      ]
     },
     "metadata": {},
     "output_type": "display_data"
    },
    {
     "data": {
      "application/vnd.jupyter.widget-view+json": {
       "model_id": "ed668335229e4ca0a11ab12665ab067d",
       "version_major": 2,
       "version_minor": 0
      },
      "text/plain": [
       "(pid=64389) Running 0: 0.00 row [00:00, ? row/s]"
      ]
     },
     "metadata": {},
     "output_type": "display_data"
    },
    {
     "data": {
      "application/vnd.jupyter.widget-view+json": {
       "model_id": "31c2daa8f4c34788a45a6a787cbbaba7",
       "version_major": 2,
       "version_minor": 0
      },
      "text/plain": [
       "(pid=64389) - split(1, equal=True) 1: 0.00 row [00:00, ? row/s]"
      ]
     },
     "metadata": {},
     "output_type": "display_data"
    },
    {
     "data": {
      "application/vnd.jupyter.widget-view+json": {
       "model_id": "a7564e3aa0a64935947b251a708f343a",
       "version_major": 2,
       "version_minor": 0
      },
      "text/plain": [
       "(pid=64274) Running 0: 0.00 row [00:00, ? row/s]"
      ]
     },
     "metadata": {},
     "output_type": "display_data"
    },
    {
     "data": {
      "application/vnd.jupyter.widget-view+json": {
       "model_id": "45c6a52e2168419eb75361fdfdb477b1",
       "version_major": 2,
       "version_minor": 0
      },
      "text/plain": [
       "(pid=64274) - split(1, equal=True) 1: 0.00 row [00:00, ? row/s]"
      ]
     },
     "metadata": {},
     "output_type": "display_data"
    },
    {
     "data": {
      "application/vnd.jupyter.widget-view+json": {
       "model_id": "dacea3b92d284bb3aa3663695771fbea",
       "version_major": 2,
       "version_minor": 0
      },
      "text/plain": [
       "(pid=64273) Running 0: 0.00 row [00:00, ? row/s]"
      ]
     },
     "metadata": {},
     "output_type": "display_data"
    },
    {
     "data": {
      "application/vnd.jupyter.widget-view+json": {
       "model_id": "f98ff2f6a3854380a56163f7646fc69c",
       "version_major": 2,
       "version_minor": 0
      },
      "text/plain": [
       "(pid=64273) - split(1, equal=True) 1: 0.00 row [00:00, ? row/s]"
      ]
     },
     "metadata": {},
     "output_type": "display_data"
    },
    {
     "name": "stderr",
     "output_type": "stream",
     "text": [
      "2025-09-17 14:26:32,978\tWARNING experiment_state.py:206 -- Experiment state snapshotting has been triggered multiple times in the last 5.0 seconds and may become a bottleneck. A snapshot is forced if `CheckpointConfig(num_to_keep)` is set, and a trial has checkpointed >= `num_to_keep` times since the last snapshot.\n",
      "You may want to consider increasing the `CheckpointConfig(num_to_keep)` or decreasing the frequency of saving checkpoints.\n",
      "You can suppress this warning by setting the environment variable TUNE_WARN_EXCESSIVE_EXPERIMENT_CHECKPOINT_SYNC_THRESHOLD_S to a smaller value than the current threshold (5.0). Set it to 0 to completely suppress this warning.\n"
     ]
    },
    {
     "data": {
      "application/vnd.jupyter.widget-view+json": {
       "model_id": "a760b89d8e8c4922bea5c0c53f37ee2d",
       "version_major": 2,
       "version_minor": 0
      },
      "text/plain": [
       "(pid=64390) Running 0: 0.00 row [00:00, ? row/s]"
      ]
     },
     "metadata": {},
     "output_type": "display_data"
    },
    {
     "data": {
      "application/vnd.jupyter.widget-view+json": {
       "model_id": "5956b5105ea94e65b011414be5d40725",
       "version_major": 2,
       "version_minor": 0
      },
      "text/plain": [
       "(pid=64390) - split(1, equal=True) 1: 0.00 row [00:00, ? row/s]"
      ]
     },
     "metadata": {},
     "output_type": "display_data"
    },
    {
     "data": {
      "application/vnd.jupyter.widget-view+json": {
       "model_id": "e52e4b32161c4824b55db694889f4120",
       "version_major": 2,
       "version_minor": 0
      },
      "text/plain": [
       "(pid=64389) Running 0: 0.00 row [00:00, ? row/s]"
      ]
     },
     "metadata": {},
     "output_type": "display_data"
    },
    {
     "data": {
      "application/vnd.jupyter.widget-view+json": {
       "model_id": "dc8b0b28577d4aa4b11c48f9484bc7c4",
       "version_major": 2,
       "version_minor": 0
      },
      "text/plain": [
       "(pid=64389) - split(1, equal=True) 1: 0.00 row [00:00, ? row/s]"
      ]
     },
     "metadata": {},
     "output_type": "display_data"
    },
    {
     "data": {
      "application/vnd.jupyter.widget-view+json": {
       "model_id": "6b53f128e2264a43830e70f177b880d0",
       "version_major": 2,
       "version_minor": 0
      },
      "text/plain": [
       "(pid=64274) Running 0: 0.00 row [00:00, ? row/s]"
      ]
     },
     "metadata": {},
     "output_type": "display_data"
    },
    {
     "data": {
      "application/vnd.jupyter.widget-view+json": {
       "model_id": "b4c79c6bdcdf4c508ff8b4fc2bdb39b7",
       "version_major": 2,
       "version_minor": 0
      },
      "text/plain": [
       "(pid=64274) - split(1, equal=True) 1: 0.00 row [00:00, ? row/s]"
      ]
     },
     "metadata": {},
     "output_type": "display_data"
    },
    {
     "data": {
      "application/vnd.jupyter.widget-view+json": {
       "model_id": "e77e7ac0576c4b14a77a90897faf624e",
       "version_major": 2,
       "version_minor": 0
      },
      "text/plain": [
       "(pid=64273) Running 0: 0.00 row [00:00, ? row/s]"
      ]
     },
     "metadata": {},
     "output_type": "display_data"
    },
    {
     "data": {
      "application/vnd.jupyter.widget-view+json": {
       "model_id": "f3220cd22ac54191a2a425b3cd1e866e",
       "version_major": 2,
       "version_minor": 0
      },
      "text/plain": [
       "(pid=64273) - split(1, equal=True) 1: 0.00 row [00:00, ? row/s]"
      ]
     },
     "metadata": {},
     "output_type": "display_data"
    },
    {
     "name": "stderr",
     "output_type": "stream",
     "text": [
      "2025-09-17 14:45:37,050\tWARNING experiment_state.py:206 -- Experiment state snapshotting has been triggered multiple times in the last 5.0 seconds and may become a bottleneck. A snapshot is forced if `CheckpointConfig(num_to_keep)` is set, and a trial has checkpointed >= `num_to_keep` times since the last snapshot.\n",
      "You may want to consider increasing the `CheckpointConfig(num_to_keep)` or decreasing the frequency of saving checkpoints.\n",
      "You can suppress this warning by setting the environment variable TUNE_WARN_EXCESSIVE_EXPERIMENT_CHECKPOINT_SYNC_THRESHOLD_S to a smaller value than the current threshold (5.0). Set it to 0 to completely suppress this warning.\n"
     ]
    },
    {
     "data": {
      "application/vnd.jupyter.widget-view+json": {
       "model_id": "ec6adc921b474d67ba6d3fecfac1f1e1",
       "version_major": 2,
       "version_minor": 0
      },
      "text/plain": [
       "(pid=64274) Running 0: 0.00 row [00:00, ? row/s]"
      ]
     },
     "metadata": {},
     "output_type": "display_data"
    },
    {
     "data": {
      "application/vnd.jupyter.widget-view+json": {
       "model_id": "da9ace572dab4e9498beb42ea80687dd",
       "version_major": 2,
       "version_minor": 0
      },
      "text/plain": [
       "(pid=64274) - split(1, equal=True) 1: 0.00 row [00:00, ? row/s]"
      ]
     },
     "metadata": {},
     "output_type": "display_data"
    },
    {
     "data": {
      "application/vnd.jupyter.widget-view+json": {
       "model_id": "6174ad9626df4a608fb18d0e6e655851",
       "version_major": 2,
       "version_minor": 0
      },
      "text/plain": [
       "(pid=64273) Running 0: 0.00 row [00:00, ? row/s]"
      ]
     },
     "metadata": {},
     "output_type": "display_data"
    },
    {
     "data": {
      "application/vnd.jupyter.widget-view+json": {
       "model_id": "b54503dec8944ae6b83432a51dc5e066",
       "version_major": 2,
       "version_minor": 0
      },
      "text/plain": [
       "(pid=64273) - split(1, equal=True) 1: 0.00 row [00:00, ? row/s]"
      ]
     },
     "metadata": {},
     "output_type": "display_data"
    },
    {
     "name": "stderr",
     "output_type": "stream",
     "text": [
      "2025-09-17 14:57:24,557\tWARNING experiment_state.py:206 -- Experiment state snapshotting has been triggered multiple times in the last 5.0 seconds and may become a bottleneck. A snapshot is forced if `CheckpointConfig(num_to_keep)` is set, and a trial has checkpointed >= `num_to_keep` times since the last snapshot.\n",
      "You may want to consider increasing the `CheckpointConfig(num_to_keep)` or decreasing the frequency of saving checkpoints.\n",
      "You can suppress this warning by setting the environment variable TUNE_WARN_EXCESSIVE_EXPERIMENT_CHECKPOINT_SYNC_THRESHOLD_S to a smaller value than the current threshold (5.0). Set it to 0 to completely suppress this warning.\n"
     ]
    },
    {
     "data": {
      "application/vnd.jupyter.widget-view+json": {
       "model_id": "c79ce1f3da794105a9b4913480503d4b",
       "version_major": 2,
       "version_minor": 0
      },
      "text/plain": [
       "(pid=64390) Running 0: 0.00 row [00:00, ? row/s]"
      ]
     },
     "metadata": {},
     "output_type": "display_data"
    },
    {
     "data": {
      "application/vnd.jupyter.widget-view+json": {
       "model_id": "ea6c7ff2e5b741da83197c5f67feab82",
       "version_major": 2,
       "version_minor": 0
      },
      "text/plain": [
       "(pid=64390) - split(1, equal=True) 1: 0.00 row [00:00, ? row/s]"
      ]
     },
     "metadata": {},
     "output_type": "display_data"
    },
    {
     "data": {
      "application/vnd.jupyter.widget-view+json": {
       "model_id": "f0dc238771984810bee99585b5ea5ffc",
       "version_major": 2,
       "version_minor": 0
      },
      "text/plain": [
       "(pid=64389) Running 0: 0.00 row [00:00, ? row/s]"
      ]
     },
     "metadata": {},
     "output_type": "display_data"
    },
    {
     "data": {
      "application/vnd.jupyter.widget-view+json": {
       "model_id": "af17c8feabfe499fbdb5425c1b98274a",
       "version_major": 2,
       "version_minor": 0
      },
      "text/plain": [
       "(pid=64389) - split(1, equal=True) 1: 0.00 row [00:00, ? row/s]"
      ]
     },
     "metadata": {},
     "output_type": "display_data"
    },
    {
     "data": {
      "application/vnd.jupyter.widget-view+json": {
       "model_id": "a644a5192f25456988fe21686db67a31",
       "version_major": 2,
       "version_minor": 0
      },
      "text/plain": [
       "(pid=64274) Running 0: 0.00 row [00:00, ? row/s]"
      ]
     },
     "metadata": {},
     "output_type": "display_data"
    },
    {
     "data": {
      "application/vnd.jupyter.widget-view+json": {
       "model_id": "bfcc1c5fd1bf495dbd1bd49a0c9dbac3",
       "version_major": 2,
       "version_minor": 0
      },
      "text/plain": [
       "(pid=64274) - split(1, equal=True) 1: 0.00 row [00:00, ? row/s]"
      ]
     },
     "metadata": {},
     "output_type": "display_data"
    },
    {
     "data": {
      "application/vnd.jupyter.widget-view+json": {
       "model_id": "d1154275e1a840b690bcb775ec896810",
       "version_major": 2,
       "version_minor": 0
      },
      "text/plain": [
       "(pid=64273) Running 0: 0.00 row [00:00, ? row/s]"
      ]
     },
     "metadata": {},
     "output_type": "display_data"
    },
    {
     "data": {
      "application/vnd.jupyter.widget-view+json": {
       "model_id": "6c666b27cb974403b31bc480587c0a8e",
       "version_major": 2,
       "version_minor": 0
      },
      "text/plain": [
       "(pid=64273) - split(1, equal=True) 1: 0.00 row [00:00, ? row/s]"
      ]
     },
     "metadata": {},
     "output_type": "display_data"
    },
    {
     "name": "stderr",
     "output_type": "stream",
     "text": [
      "2025-09-17 15:19:39,958\tWARNING experiment_state.py:206 -- Experiment state snapshotting has been triggered multiple times in the last 5.0 seconds and may become a bottleneck. A snapshot is forced if `CheckpointConfig(num_to_keep)` is set, and a trial has checkpointed >= `num_to_keep` times since the last snapshot.\n",
      "You may want to consider increasing the `CheckpointConfig(num_to_keep)` or decreasing the frequency of saving checkpoints.\n",
      "You can suppress this warning by setting the environment variable TUNE_WARN_EXCESSIVE_EXPERIMENT_CHECKPOINT_SYNC_THRESHOLD_S to a smaller value than the current threshold (5.0). Set it to 0 to completely suppress this warning.\n",
      "2025-09-17 15:22:29,745\tWARNING tune.py:219 -- Stop signal received (e.g. via SIGINT/Ctrl+C), ending Ray Tune run. This will try to checkpoint the experiment state one last time. Press CTRL+C (or send SIGINT/SIGKILL/SIGTERM) to skip. \n",
      "2025-09-17 15:22:30,641\tINFO tune.py:1009 -- Wrote the latest version of all result files and experiment state to '/Users/ngkuissi/ray_results/TorchTrainer_2025-09-17_14-25-41' in 0.8032s.\n",
      "2025-09-17 15:22:41,030\tINFO tune.py:1041 -- Total run time: 3409.25 seconds (3398.00 seconds for the tuning loop).\n",
      "2025-09-17 15:22:41,082\tWARNING tune.py:1056 -- Experiment has been interrupted, but the most recent state was saved.\n",
      "Resume experiment with: Tuner.restore(path=\"/Users/ngkuissi/ray_results/TorchTrainer_2025-09-17_14-25-41\", trainable=...)\n"
     ]
    }
   ],
   "source": [
    "results = tuner.fit()"
   ]
  },
  {
   "cell_type": "code",
   "execution_count": null,
   "id": "796bd8b7",
   "metadata": {},
   "outputs": [],
   "source": []
  },
  {
   "cell_type": "code",
   "execution_count": null,
   "id": "bbcfd765",
   "metadata": {},
   "outputs": [],
   "source": []
  },
  {
   "cell_type": "code",
   "execution_count": null,
   "id": "2479d1ff",
   "metadata": {},
   "outputs": [],
   "source": []
  },
  {
   "cell_type": "code",
   "execution_count": null,
   "id": "69479404",
   "metadata": {},
   "outputs": [],
   "source": []
  },
  {
   "cell_type": "code",
   "execution_count": null,
   "id": "02932641",
   "metadata": {},
   "outputs": [],
   "source": []
  },
  {
   "cell_type": "code",
   "execution_count": null,
   "id": "a06c552c",
   "metadata": {},
   "outputs": [],
   "source": []
  },
  {
   "cell_type": "code",
   "execution_count": null,
   "id": "b8943db3",
   "metadata": {},
   "outputs": [],
   "source": []
  },
  {
   "cell_type": "code",
   "execution_count": null,
   "id": "d5ac9fb1",
   "metadata": {},
   "outputs": [],
   "source": []
  },
  {
   "cell_type": "code",
   "execution_count": null,
   "id": "563ab5bd",
   "metadata": {},
   "outputs": [],
   "source": []
  },
  {
   "cell_type": "code",
   "execution_count": null,
   "id": "a7553fc7",
   "metadata": {},
   "outputs": [],
   "source": []
  },
  {
   "cell_type": "code",
   "execution_count": null,
   "id": "71c43269",
   "metadata": {},
   "outputs": [],
   "source": []
  },
  {
   "cell_type": "code",
   "execution_count": null,
   "id": "af3114d2",
   "metadata": {},
   "outputs": [],
   "source": []
  },
  {
   "cell_type": "code",
   "execution_count": null,
   "id": "93e18109",
   "metadata": {},
   "outputs": [],
   "source": []
  },
  {
   "cell_type": "code",
   "execution_count": null,
   "id": "2991b0f4",
   "metadata": {},
   "outputs": [],
   "source": []
  },
  {
   "cell_type": "markdown",
   "id": "eb55c393",
   "metadata": {},
   "source": []
  }
 ],
 "metadata": {
  "kernelspec": {
   "display_name": "venv",
   "language": "python",
   "name": "python3"
  },
  "language_info": {
   "codemirror_mode": {
    "name": "ipython",
    "version": 3
   },
   "file_extension": ".py",
   "mimetype": "text/x-python",
   "name": "python",
   "nbconvert_exporter": "python",
   "pygments_lexer": "ipython3",
   "version": "3.10.12"
  }
 },
 "nbformat": 4,
 "nbformat_minor": 5
}
